{
 "cells": [
  {
   "cell_type": "code",
   "execution_count": 4,
   "metadata": {},
   "outputs": [
    {
     "ename": "ToExpression::sntx",
     "evalue": "Invalid syntax in or before \"Import[/Users/fujiken/Desktop/S__7086086.jpg]\".\n                                     ^",
     "output_type": "error",
     "traceback": [
      "\u001b[0;31mToExpression::sntx: Invalid syntax in or before \"Import[/Users/fujiken/Desktop/S__7086086.jpg]\".\n                                                         ^\u001b[0m"
     ]
    },
    {
     "data": {
      "text/html": [
       "<div><img alt=\"Output\" src=\"data:image/png;base64,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\"></div>"
      ],
      "text/plain": [
       "$Failed"
      ]
     },
     "execution_count": 4,
     "metadata": {
      "text/html": [],
      "text/plain": []
     },
     "output_type": "execute_result"
    }
   ],
   "source": [
    "Import[/Users/fujiken/Desktop/S__7086086.jpg]"
   ]
  },
  {
   "cell_type": "code",
   "execution_count": 3,
   "metadata": {},
   "outputs": [
    {
     "data": {
      "text/html": [
       "<div><pre style=\"&#102;&#111;&#110;&#116;&#45;&#102;&#97;&#109;&#105;&#108;&#121;&#58;&#32;&#34;&#67;&#111;&#117;&#114;&#105;&#101;&#114;&#32;&#78;&#101;&#119;&#34;&#44;&#67;&#111;&#117;&#114;&#105;&#101;&#114;&#44;&#109;&#111;&#110;&#111;&#115;&#112;&#97;&#99;&#101;&#59;\">&#105;&#109;&#103;</pre></div>"
      ],
      "text/plain": [
       "img"
      ]
     },
     "execution_count": 3,
     "metadata": {
      "text/html": [],
      "text/plain": []
     },
     "output_type": "execute_result"
    }
   ],
   "source": [
    "img"
   ]
  },
  {
   "cell_type": "code",
   "execution_count": null,
   "metadata": {},
   "outputs": [],
   "source": []
  },
  {
   "cell_type": "code",
   "execution_count": null,
   "metadata": {},
   "outputs": [],
   "source": []
  }
 ],
 "metadata": {
  "kernelspec": {
   "display_name": "Wolfram Language 12",
   "language": "Wolfram Language",
   "name": "wolframlanguage12"
  },
  "language_info": {
   "codemirror_mode": "mathematica",
   "file_extension": ".m",
   "mimetype": "application/vnd.wolfram.m",
   "name": "Wolfram Language",
   "pygments_lexer": "mathematica",
   "version": "12.0"
  }
 },
 "nbformat": 4,
 "nbformat_minor": 4
}
