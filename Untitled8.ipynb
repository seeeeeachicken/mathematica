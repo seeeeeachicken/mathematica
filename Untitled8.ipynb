{
 "cells": [
  {
   "cell_type": "code",
   "execution_count": 95,
   "metadata": {},
   "outputs": [],
   "source": [
    "N1[L1_,L2_,X1_,X2_]:=Expand[L1^{i1}*L2^{i2}*X1^{j1}*X2^{j2}];\n",
    "N2[L1_,L2_,X1_,X2_]:=Expand[(L1^{i1}*X1^{j1}+L2^{i1}*X2^{j1})*(L1+L2)^{i2}*(X1+X2)^{j2}];\n",
    "Nlist[L1_,L2_,X1_,X2_]:={N1[L1,L2,X1,X2],N2[L1,L2,X1,X2]};\n",
    "\n",
    "N21[L1_,L2_,X1_,X2_]:=Expand[L1^{i1}*(L1+L2)^{i2}*X1^{j1}*(X1+X2)^{j2}];\n",
    "N22[L1_,L2_,X1_,X2_]:=Expand[L2^{i1}*(L1+L2)^{i2}*X2^{j1}*(X1+X2)^{j2}];"
   ]
  },
  {
   "cell_type": "code",
   "execution_count": 104,
   "metadata": {},
   "outputs": [
    {
     "data": {
      "text/html": [
       "<style>\n",
       "\t\t\t\t\t\t\t\t\t\t\t\t\t.grid-container {\n",
       "\t\t\t\t\t\t\t\t\t\t\t\t\t\tdisplay: inline-grid;\n",
       "\t\t\t\t\t\t\t\t\t\t\t\t\t\tgrid-template-columns: auto;\n",
       "\t\t\t\t\t\t\t\t\t\t\t\t\t}\n",
       "\t\t\t\t\t\t\t\t\t\t\t\t</style>\n",
       "\n",
       "\t\t\t\t\t\t\t\t\t\t\t\t<div><div class=\"grid-container\"><div class=\"grid-item\"><img alt=\"Output\" src=\"data:image/png;base64,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\"></div><div class=\"grid-item\"><img alt=\"Output\" src=\"data:image/png;base64,iVBORw0KGgoAAAANSUhEUgAAALsAAAAVCAIAAACR5AijAAAAhXpUWHRSYXcgcHJvZmlsZSB0eXBlIGV4aWYAAHjaVYvBDcMwDAP/mqIjyLJM2uMYiQNkg45fuu0n9yApgbT1vi97felp2dgxABc5csRU6P6juNciDXn+X9MfZGWgoRhTluEkhnJXkqKFN+LCAahYcIbnIV8gNQN3o86928QyPusLVffpbh/5eCey76LuBgAAAAlwSFlzAAALEwAACxMBAJqcGAAAADx0RVh0U29mdHdhcmUAQ3JlYXRlZCB3aXRoIHRoZSBXb2xmcmFtIExhbmd1YWdlIDogd3d3LndvbGZyYW0uY29tXKKmhQAAACF0RVh0Q3JlYXRpb24gVGltZQAyMDIwOjA2OjMwIDIyOjE4OjMzw1KGKwAABRhJREFUaIHtml0oe38cx7efmYdJhEiRSSZSyHMeVh6Hebqah7hQk3KBCyQJ5aGYkOdcKC4WaSiFi+2GGjGllhpGSx5WhI09cc7vYv7H+R8/8z3bWVb2utr3c77f9/u7d5/O+Z5BhmGYZMcOMH9+egNfsru729XVhQwNBoNarbaSuM1igyH8r2M0Gs3e3h5RG7IQGo3m4+Nj/NzR0ZGdnZ2amtrU1ES4+NnZWUZGBp1OJ0SZWH42BK1WK5FIIAhCFz865uLiorCwUCqVErIbSzg/P6+rqxsfH399fTVWysvLRSLRwcHB4uIiUiRKnE6nr6+v//ljW7dbWwgBgiChUFhUVKTVaj+q8H8MDAzs7e3BNoBOp5PL5UKhMCsrC11XKBQxMTFWEg8ODrZQmVhsJ4TJyUmRSIQMP3pKo9F4enp+1ZWA957l5eWgoKDPdYVCMTMzw2KxlpaW0HW1Wq1QKDCTqVQqnU4PDAxEF1UqVWVl5cjIiIWm/xQHBCSEp6cnLy+v8fFx47CxsTE2NtbEfkhEhIDXFFcInp6eLy8vyBDoVqxWq3t6ekBmQhCEeewZ2dnZEQqFYrH46uoKXXdycmpubv5W9v7+vrCwsKmpKSUlxXJT8wAMwd3dvb29vbOz8/HxUS6XT0xMDA4Omt6P5SGYYWo2QB3D4/Gqq6stsSkrK+Pz+QwGA1N3dHRMTk5eW1v7vIRMJpPJZONnNpstlUp5PF5qaurm5qaFphjx3t7ezMzM6+vrzMzM1dXVr9TAQ6ivr/fw8Ojv7+/s7MzJyWEymab3YyIENKZDwGuKATAEEgl1junu7j45Ofn8GIMgKC4uDvABubi4GBAQ8NXVhISE4eFhTPH5+ZnFYgHqE2WKF1whwDAsEAhcXFxcXFyOj49B9vNVCGKxuLS01EqmgOJ8Pn99fR0ZUpDWUSqVbm5un1vq9PQ0IiLCdIdagqurq8FggCDI1t5W0OANgclkvr29hYaGhoWFgcz/HAKfz5+enlapVDwej3BTXOJubm5KpRIZvnfM3Nzc7e2tn5/f5wX7+/tJSUnoyuHh4cPDAzIMCAgICQn51tgEDAZDJpMBhvsj4A2hr68vKipKKpWurKwUFxeDWGBC4HA4HA4H1ybBTXGJp6SkVFVV+fv7Z2dnk5COkcvlvr6+/1yg0+loNBq6cnNzg246zFUzcHZ21uv1FopYFVwhKBSK0dHRjY2Nra2tlpaWgoICCoVC+g4LQzDPFAQKhaLX65Ev+y7a3d3N5XLv7u68vLwwC6Kjo+fn5ysqKpAKi8UyYQBB0P39PTL08PAgk8k6nc54yWAwaLVaBwcHR0dHZI5MJgsPD7fkW5lhigtcIbS3t6elpaWnp0dFRU1PT09NTdXX18MwbNUQzDMFYXt7m81mV1ZWvo+RE81XJ1+9Xp+bmwt4+ML80kAikS4vL+VyOabI5XKRJRAE5efnA+oTZYoX8BCOjo4cHBwkEolxODQ05O3trVKprBqCeaaAYE6+33cMDMO1tbUymQyvEyACgWBiYsJK4gTya0PAdAzQ60lbW9vY2BjITDPg8/k1NTVWEicQewhGgDomMDCwpKTEGvY6na6hoYFKpVpDnFjsIRj56BgqlYr+8wEG5DdEYnFyckpMTLSGsjX4nSFoNBp0N390TF5eXmtrq0gk+old2bFF9Hr90tLSwsJCfHw8UvzomMjIyNnZWfQ7qp1fjsFgIJFIAoHA3d0dKZJh+//52sHDX74bnyUV8ITwAAAAAElFTkSuQmCC\"></div></div></div>"
      ],
      "text/plain": [
       "  i2 + j2      i2   i1      j2   j1\n",
       "{2        (-L1)   L1   (-X1)   X1  }\n",
       "      i2   i1      j2   j1\n",
       "{(-L1)   L1   (-X1)   X1  }"
      ]
     },
     "execution_count": 104,
     "metadata": {
      "text/html": [],
      "text/plain": []
     },
     "output_type": "execute_result"
    }
   ],
   "source": [
    "N1[L1,-2*L1,X1,-2*X1]\n",
    "N21[L1,-2*L1,X1,-2*X1]"
   ]
  },
  {
   "cell_type": "code",
   "execution_count": null,
   "metadata": {},
   "outputs": [],
   "source": []
  }
 ],
 "metadata": {
  "kernelspec": {
   "display_name": "Wolfram Language 12",
   "language": "Wolfram Language",
   "name": "wolframlanguage12"
  },
  "language_info": {
   "codemirror_mode": "mathematica",
   "file_extension": ".m",
   "mimetype": "application/vnd.wolfram.m",
   "name": "Wolfram Language",
   "pygments_lexer": "mathematica",
   "version": "12.0"
  }
 },
 "nbformat": 4,
 "nbformat_minor": 4
}
