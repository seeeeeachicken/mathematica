{
 "cells": [
  {
   "cell_type": "code",
   "execution_count": 168,
   "metadata": {},
   "outputs": [],
   "source": [
    "ExpandNCM[(h : NonCommutativeMultiply)[a___, b_Plus, c___]] := \n",
    " Distribute[h[a, b, c], Plus, h, Plus, ExpandNCM[h[##]] &]\n",
    "ExpandNCM[(h : NonCommutativeMultiply)[a___, b_Times, c___]] := \n",
    " Most[b] ExpandNCM[\n",
    "   h[a, Last[b], c]] (* last must be a noncommutative variable *)\n",
    "\n",
    "ExpandNCM[a_] := ExpandAll[a]\n",
    "ExpandNCM[Plus[a_, b__]] := ExpandNCM[a] + ExpandNCM[Plus[b]];\n",
    "ExpandNCM[Times[a_, b__]] := Expand[ExpandNCM[a] ExpandNCM[Times[b]]];\n",
    "\n",
    "Unprotect[NonCommutativeMultiply];\n",
    "ClearAll[NonCommutativeMultiply]; \n",
    "SetAttributes[NonCommutativeMultiply, OneIdentity];\n",
    "NonCommutativeMultiply[a_] := a;\n",
    "NonCommutativeMultiply[a___, x_?NumericQ, b___] := x a ** b;\n",
    "SetAttributes[NonCommutativeMultiply, Flat];\n",
    "NonCommutativeMultiply[a___, x^c_., x^d_., b___] := \n",
    "  a ** x^(c + d) ** b;\n",
    "NonCommutativeMultiply[a___, y^c_., y^d_., b___] := \n",
    "  a ** y^(c + d) ** b;\n",
    "  \n",
    "XYtoZ[Times[a_, b__]] := Expand[XYtoZ[a] XYtoZ[Times[b]]];\n",
    "XYtoZ[Plus[a_, b__]] := XYtoZ[a] + XYtoZ[Plus[b]];\n",
    "XYtoZ[NonCommutativeMultiply[x^a_., y^b_., c___]] := \n",
    "  Subscript[z, a + 1] ** XYtoZ[y^(b - 1) ** c];\n",
    "XYtoZ[NonCommutativeMultiply[y^b_., c___]] := \n",
    "  Subscript[z, 1] ** XYtoZ[y^(b - 1) ** c];\n",
    "XYtoZ[y^b_.] := Subscript[z, 1] ** XYtoZ[y^(b - 1)];\n",
    "XYtoZ[a_] := a;\n",
    "ZtoXY[a_] := a /. Subscript[z, p_] -> x^(p - 1) ** y;\n",
    "\n",
    "Harmonic[NonCommutativeMultiply[Subscript[z, p_], a__] | Subscript[z, \n",
    "    p_], NonCommutativeMultiply[Subscript[z, q_], b__] | Subscript[z, \n",
    "    q_]] := Subscript[z, p] ** (Harmonic[a, Subscript[z, q] ** b]) + \n",
    "   Subscript[z, q] ** (Harmonic[Subscript[z, p] ** a, b]) + \n",
    "   Subscript[z, p + q] ** (Harmonic[a, b]);\n",
    "Harmonic[a_] := a;\n",
    "Harmonic[] = 1;\n",
    "\n",
    "Shuffle[NonCommutativeMultiply[x_Symbol^a_., c___] | x_Symbol^a_., \n",
    "   NonCommutativeMultiply[y_Symbol^b_., d___] | y_Symbol^b_.] := \n",
    "  x ** (Shuffle[x^(a - 1) ** c, y^b ** d]) + \n",
    "   y ** (Shuffle[x^a ** c, y^(b - 1) ** d]);\n",
    "Shuffle[Times[x_Symbol^a_., c___] | x_Symbol^a_., \n",
    "    Times[y_Symbol^b_., d___] | y_Symbol^b_.] := d*c*Shuffle[x^a,y^b];\n",
    "\n",
    "Shuffle[a_] := a;\n",
    "Shuffle[a_?NumericQ, b_] := a b;\n",
    "Shuffle[a_, b_?NumericQ] := a b;\n",
    "Shuffle[] = 1;\n",
    "\n",
    "Regsha[Times[a_, b__]] := Expand[Regsha[a] Regsha[Times[b]]];\n",
    "Regsha[Plus[a_, b__]] := Regsha[a] + Regsha[Plus[b]];\n",
    "Regsha[NonCommutativeMultiply[y^b_., x^a_., c___]] := (-1)^b x ** \n",
    "    Shuffle[y^b, x^(a - 1) ** c];\n",
    "Regsha[a_] := a;"
   ]
  },
  {
   "cell_type": "code",
   "execution_count": 227,
   "metadata": {},
   "outputs": [
    {
     "data": {
      "text/html": [
       "<div><img alt=\"Output\" src=\"data:image/png;base64,iVBORw0KGgoAAAANSUhEUgAAAYQAAAAiCAIAAADQ7TnDAAAAzXpUWHRSYXcgcHJvZmlsZSB0eXBlIGV4aWYAAHjabU/bDQMhDPtnio6QFwmMw/Wo1A06fs2BWlHVErFjnCBSfz0f6TYgTMlyFK/uBFi1Kg2i0MRkpnrVadlSvPtJZApusPL3wvvyj90PnyzlZxGtRTpegFZbA2uRyvS5zf5YeWml7Isqbfi0/L83DfHsHIZqQhFeoUuCBHkWyuEPv7sjyH4K2R3cPQJjHiOhbQwOSI893ZMrjHN8QccRbWBFZS0YZa3QcjkG58BtvTLjO28bPFqgt6gCSgAAAAlwSFlzAAAWJQAAFiUBSVIk8AAAADx0RVh0U29mdHdhcmUAQ3JlYXRlZCB3aXRoIHRoZSBXb2xmcmFtIExhbmd1YWdlIDogd3d3LndvbGZyYW0uY29tXKKmhQAAACF0RVh0Q3JlYXRpb24gVGltZQAyMDIyOjAzOjE4IDE5OjIzOjQ41twI6QAABxZJREFUeJztnV1IU28cx39Ht9U4y52kWUFGtOUoL6JaEb1cSNArRZlEV+XWgkAqKXuBsIgKIfDCUojNIJBKyELCVdRFBSllhpHDol2EJsVy5cRNXW4+/4un1po6n6PH7fQ/v8+Vnuft+3zZ97ezc86UI4QAgiBIqklLtQAEQRAALEYIgsgELEYIgsgCLEYIgsgCLEYIgsgCLEYIgsgCLEYIgsgCLEYIgsgCLEYIgsgCLEYIgsgCLEYIgsgCLEYIgsiCNAAIh8OLFy8WBGHlypWDg4OxzW6322AwCIJw+vTpFCkck3v37gkJ2b1795QKyM/PFwRhw4YNo7b6/f45c+YIglBTUzOlMsSSct9kokEUMsnIP+ebuIwQQgghDQ0NtLmoqIj8JhQKLV26FABMJlNfXx+RGbW1tYmNsNlsoiZ89+5dd3c3e//bt2/ThV6+fDmytbKyEgB4nu/t7RUlY6pJuW9ToSEJSJ4RJfgmKiMQbSguLqbD7t+/T4+cOnUKANRqdXNzsygFQ0NDNpvt+vXrjP3v3r1bWFj4/ft3Uav09/d3jaC6upruwmKxBAIBURPm5ORUVVWx9w+HwwsXLgSAPXv2jGylr1G73c4+oUJ8k1xDcnwjkmaEKMM3URn5U4xCodCyZcsAYPbs2T6f7/Xr1+np6QBQVlbGvjZlaGgIAKxWK2P/M2fOAEBHR4fYheJoaWnR6XQAYDQavV6v2OETeHFUVVUBQHp6epz45uZm+vpoaWlhn005vkmrIWm+SZgRohjf2DPy5wK2RqOpra3V6XRer3f//v1WqzUSieTl5Z08eTLxmeFIVCqVRqOhHrHA8zwAsPcflU+fPm3bti0QCBgMhkePHmVlZU1mNkasVmtWVlYkErl69WrscafTCQAWi2XFihXssynHN2k1JM03CTMiCf+Eb+wZ+etuGi3VAOByudxud2ZmZk1NTVoa6x23tWvXHjhw4NmzZ4QQnud1Op3f73c4HOvWraPTxlJXV2exWCoqKr59+xbd5KtXr4qKinJzcyORiKgN+3y+zZs3e71enuddLpfJZBI1fMJotdojR44AgNPpDAQC9GAgEKCf7Q8dOsQyiQJ9k0RDSnybZEYk5F/xTURG4s6penp66JIAcOLECfaTsR8/fixYsIAOnD9/PgDMmDFj2rRpAKBSqYqLi+P6l5WVRVtnzpwJADk5OXT43LlzPR4P+9L9/f2rV6+mU7lcLvaBT548KY1Br9dv3Lgx9khPTw/Lxul7RUVFBT1CP8Pr9fpgMMgyXJm+TVJDCn2bcEYU6xtjRuKLUUFBQbRO8Tzf3t7Ovk9CyMePHysrK81mM53BZrPV19ePdTspGAw+fPjw6NGjtPO8efPKy8vb2tpErRgOh3fs2EFnqK6uFjXW4XDkxaDRaIxGY+yRL1++sMxz/PhxADCZTMPDw4SQNWvWAMDhw4fZlSjTt8looCTfNzKJjCjZN5aM/FWMrl27BgAcx925c4eWz9zcXJa391g6OzsNBkNGRgYA7Nu3b9z+9OmMjIwMnucn8MqInuadP39e7Ng4JnxBsaurS6PRAEBDQ4PH46F63G63qEkU6JskGpLsmyQZoSjKN5aM/ClGbW1tWq0Wfj9G0djYSO8UsAiNMjAwYLFY0tLSmpqarFYrAFy5ciVB/7q6OgDYunXrhw8ftFqt0WhkP1MlhFy8eJHu6uDBg+yjxmIydzfoZjdt2lRaWgoA69evFzVcgb5JoiHJvkmSkSjK8Y0ybkZ+FaNgMLhkyRIAMJvN0TJ/6dIlum2n08m4Hr1SVVJSQgjx+/3Z2dkqlaq1tXXUzp2dnTqdThCErq4uQkh5eTkAFBQUMK5148YNKi8vL6+3tzcwGoxTUSZTjN6/f89xHMdxer0eAG7evClquNJ8k0pDMn2TKiNRFOJblHEz8qsY2e12AFCr1W/evIm2DQ8Pb9myBQCmT5/+9u1blvXa29v37t07MDBAf338+PGxY8dCodConSORyIULF27duhX9tbCwcNQnNUfS2tqqVqshISqVimWqKJN87mPnzp103VmzZg0ODooaqyjfJNSQNN+IdBmJohDfYkmcESCEPHjwgPa4fPlyXLPP58vOzgYAs9lMrzzJhOiz+RKGyuFwjPXmwMKLFy/ouqLusCQZOfg2FRqmmqnIiBJ8iyNxRjiC/1FWIurr63ft2sVxnMfjMRqNqZaDILIjcUbwT4hIQ19fH/3i0vbt27ESIchIxs0IFiMJ+Pz5s91u7+jo4DiOfn8HQZBYWDKiSrKm/xN+vz8/P//nz59NTU300+7Zs2dXrVqVal0IIhdEZQSL0cR5/vz506dP6c88z587d66kpCS1khBEVojKCF7Anjjd3d2NjY1fv35dtGjR8uXLMzMzU60IQeSFqIxgMUIQRBbgBWwEQWTBf1DccVFoOT0AAAAAAElFTkSuQmCC\"></div>"
      ],
      "text/plain": [
       "x ** z + y ** z + z ** x + z ** y"
      ]
     },
     "execution_count": 227,
     "metadata": {
      "text/html": [],
      "text/plain": []
     },
     "output_type": "execute_result"
    }
   ],
   "source": [
    "Distribute[Shuffle[x+y,az]]\n"
   ]
  },
  {
   "cell_type": "code",
   "execution_count": 228,
   "metadata": {},
   "outputs": [
    {
     "data": {
      "text/html": [
       "<div><img alt=\"Output\" src=\"data:image/png;base64,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\"></div>"
      ],
      "text/plain": [
       "Shuffle[x + y, z]"
      ]
     },
     "execution_count": 228,
     "metadata": {
      "text/html": [],
      "text/plain": []
     },
     "output_type": "execute_result"
    }
   ],
   "source": [
    "Shuffle[x+y,z]"
   ]
  },
  {
   "cell_type": "code",
   "execution_count": null,
   "metadata": {},
   "outputs": [],
   "source": []
  }
 ],
 "metadata": {
  "kernelspec": {
   "display_name": "Wolfram Language 12",
   "language": "Wolfram Language",
   "name": "wolframlanguage12"
  },
  "language_info": {
   "codemirror_mode": "mathematica",
   "file_extension": ".m",
   "mimetype": "application/vnd.wolfram.m",
   "name": "Wolfram Language",
   "pygments_lexer": "mathematica",
   "version": "12.0"
  }
 },
 "nbformat": 4,
 "nbformat_minor": 4
}
