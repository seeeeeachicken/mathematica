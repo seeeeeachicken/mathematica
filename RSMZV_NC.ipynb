{
 "cells": [
  {
   "cell_type": "code",
   "execution_count": 291,
   "metadata": {},
   "outputs": [],
   "source": [
    "ExpandNCM[(h : NonCommutativeMultiply)[a___, b_Plus, c___]] := \n",
    " Distribute[h[a, b, c], Plus, h, Plus, ExpandNCM[h[##]] &]\n",
    "ExpandNCM[(h : NonCommutativeMultiply)[a___, b_Times, c___]] := \n",
    " Most[b] ExpandNCM[\n",
    "   h[a, Last[b], c]] (* last must be a noncommutative variable *)\n",
    "\n",
    "ExpandNCM[a_] := ExpandAll[a]\n",
    "ExpandNCM[Plus[a_, b__]] := ExpandNCM[a] + ExpandNCM[Plus[b]];\n",
    "ExpandNCM[Times[a_, b__]] := Expand[ExpandNCM[a] ExpandNCM[Times[b]]];\n",
    "\n",
    "Unprotect[NonCommutativeMultiply];\n",
    "ClearAll[NonCommutativeMultiply]; \n",
    "SetAttributes[NonCommutativeMultiply, OneIdentity];\n",
    "NonCommutativeMultiply[a_] := a;\n",
    "NonCommutativeMultiply[a___, x_?NumericQ, b___] := x a ** b;\n",
    "SetAttributes[NonCommutativeMultiply, Flat];\n",
    "NonCommutativeMultiply[a___, x^c_., x^d_., b___] := \n",
    "  a ** x^(c + d) ** b;\n",
    "NonCommutativeMultiply[a___, y^c_., y^d_., b___] := \n",
    "  a ** y^(c + d) ** b;\n",
    "  \n",
    "XYtoZ[Times[a_, b__]] := Expand[XYtoZ[a] XYtoZ[Times[b]]];\n",
    "XYtoZ[Plus[a_, b__]] := XYtoZ[a] + XYtoZ[Plus[b]];\n",
    "XYtoZ[NonCommutativeMultiply[x^a_., y^b_., c___]] := \n",
    "  Subscript[z, a + 1] ** XYtoZ[y^(b - 1) ** c];\n",
    "XYtoZ[NonCommutativeMultiply[y^b_., c___]] := \n",
    "  Subscript[z, 1] ** XYtoZ[y^(b - 1) ** c];\n",
    "XYtoZ[y^b_.] := Subscript[z, 1] ** XYtoZ[y^(b - 1)];\n",
    "XYtoZ[a_] := a;\n",
    "ZtoXY[a_] := a /. Subscript[z, p_] -> x^(p - 1) ** y;\n",
    "WtoXY[a_] := x^(a - 1) ** y;\n",
    "\n",
    "\n",
    "Harmonic[NonCommutativeMultiply[Subscript[z, p_], a__] | Subscript[z, \n",
    "    p_], NonCommutativeMultiply[Subscript[z, q_], b__] | Subscript[z, \n",
    "    q_]] := Subscript[z, p] ** (Harmonic[a, Subscript[z, q] ** b]) + \n",
    "   Subscript[z, q] ** (Harmonic[Subscript[z, p] ** a, b]) + \n",
    "   Subscript[z, p + q] ** (Harmonic[a, b]);\n",
    "Harmonic[a_] := a;\n",
    "Harmonic[] = 1;\n",
    "\n",
    "Wharmonic[NonCommutativeMultiply[Subscript[z, p_], a__] | Subscript[z, \n",
    "    p_], NonCommutativeMultiply[Subscript[z, q_], b__] | Subscript[z, \n",
    "    q_]] := Subscript[z, p] ** (Wharmonic[a, Subscript[z, q] ** b]) + \n",
    "   Subscript[z, q] ** (Wharmonic[Subscript[z, p] ** a, b]) + \n",
    "   Subscript[z, p + q] ** (Wharmonic[a, b]);\n",
    "Wharmonic[a_] := a;\n",
    "Wharmonic[] = 1;\n",
    "\n",
    "Shuffle[NonCommutativeMultiply[x_Symbol^a_., c___] | x_Symbol^a_., \n",
    "   NonCommutativeMultiply[y_Symbol^b_., d___] | y_Symbol^b_.] := \n",
    "  x ** (Shuffle[x^(a - 1) ** c, y^b ** d]) + \n",
    "   y ** (Shuffle[x^a ** c, y^(b - 1) ** d]);\n",
    "Shuffle[a_] := a;\n",
    "Shuffle[a_?NumericQ, b_] := a b;\n",
    "Shuffle[a_, b_?NumericQ] := a b;\n",
    "Shuffle[] = 1;\n",
    "\n",
    "Regsha[Times[a_, b__]] := Expand[Regsha[a] Regsha[Times[b]]];\n",
    "Regsha[Plus[a_, b__]] := Regsha[a] + Regsha[Plus[b]];\n",
    "Regsha[NonCommutativeMultiply[y^b_., x^a_., c___]] := (-1)^b x ** \n",
    "    Shuffle[y^b, x^(a - 1) ** c];\n",
    "Regsha[a_] := a;"
   ]
  },
  {
   "cell_type": "code",
   "execution_count": 247,
   "metadata": {},
   "outputs": [
    {
     "data": {
      "text/html": [
       "<div><img alt=\"Output\" src=\"data:image/png;base64,iVBORw0KGgoAAAANSUhEUgAAAGkAAAARCAIAAABRkRXBAAAAhXpUWHRSYXcgcHJvZmlsZSB0eXBlIGV4aWYAAHjaVYvBDcMwDAP/mqIjyLJM2uMYiQNkg45fuu0n9yApgbT1vi97felp2dgxABc5csRU6P6juNciDXn+X9MfZGWgoRhTluEkhnJXkqKFN+LCAahYcIbnIV8gNQN3o86928QyPusLVffpbh/5eCey76LuBgAAAAlwSFlzAAALEwAACxMBAJqcGAAAADx0RVh0U29mdHdhcmUAQ3JlYXRlZCB3aXRoIHRoZSBXb2xmcmFtIExhbmd1YWdlIDogd3d3LndvbGZyYW0uY29tXKKmhQAAACF0RVh0Q3JlYXRpb24gVGltZQAyMDIwOjA3OjE3IDIxOjA1OjI03emyBAAAArtJREFUWIXdmE9IKlEUxkd9tPAPlosWIqQggjVEaIybapu6cCOIFJKrZqHRQreCGxfhIhARDdxIENFGVFqEKNYmSAhMNAaJAiHRJgYJBCe9bzERj+fMS2qu8PxWcw5zzu98d+ZymREAAJDpEkVRcrlcIBDABglhAyYpgiA2Nja2trYWFxfv7+9h4wTT9N69vb1RFKVSqWKxWLvdDgaDUHFT9d5JpVKVSoUgSLVaRVEUNm6q1o7R6elps9m02+2wQb9gAyas4+PjVCqVTqcncVYAACwWy8HBARN7vd79/X1eWheLRZPJRNM0E5IkiaJos9n8eWeumS8uLlwuV7fb3dzcdDqdPwcx4jQCAMjn8zMzM7e3t+fn5zKZ7PHxEbCpXq8/Pz+P5guFAuv9/X5fqVSenJwwYTQaNZlMvHQef2ZecFxGECbe29tbWVnRaDSJRIILGQwGs9nsaH51dZWrJBQKra+vM9cYhh0dHfHVecyZ+cKxGvlYu3a7LRKJdDoda2UkEjGbzRaLZWdnB8OwUqnE5K1WK47jWq3W5/MZDIbhcPhX4cvLi1gsvru7q9frEomk2+3y1fnLmSdg5GPtdnd3MQyTSqVnZ2es1Gq1qlAolpeXW63WZ5Km6Wg0KhQK/X5/r9djLcRx3OPxBAIBt9vNb+cvZ4ZtBAEAZDIZiUTSaDQSicTs7OzT0xProIeHh9vb239uEIqilpaWrq+v9Xr9w8MDK7JWq83NzanV6qurK9Ybvtd5nJl5xLEaQUiSnJ+fj8fjTOxwONbW1kYrb25uBoPB6+srQRCfycFgUC6XAQCVSoXrcQEAzGbzP3bWNzqPOTNfOC4jyJjIb+v9/d1oNIbDYdgg2Bo1AnHtaJpOJpM2m02tVo+eEv+RuIxA/CbrdDq5XG5hYeHy8lImk8EDwRaXkan6jzJh/Qb+rNgBXF5u7QAAAABJRU5ErkJggg==\"></div>"
      ],
      "text/plain": [
       "           2\n",
       "x ** y ** x  ** y"
      ]
     },
     "execution_count": 247,
     "metadata": {
      "text/html": [],
      "text/plain": []
     },
     "output_type": "execute_result"
    }
   ],
   "source": [
    "ZtoXY[Subscript[z,2] ** Subscript[z,3]]"
   ]
  },
  {
   "cell_type": "code",
   "execution_count": 329,
   "metadata": {},
   "outputs": [
    {
     "data": {
      "text/html": [
       "<div><img alt=\"Output\" src=\"data:image/png;base64,iVBORw0KGgoAAAANSUhEUgAAAC0AAAARCAIAAADGwLIbAAAAhXpUWHRSYXcgcHJvZmlsZSB0eXBlIGV4aWYAAHjaVYvBDcMwDAP/mqIjyLJM2uMYiQNkg45fuu0n9yApgbT1vi97felp2dgxABc5csRU6P6juNciDXn+X9MfZGWgoRhTluEkhnJXkqKFN+LCAahYcIbnIV8gNQN3o86928QyPusLVffpbh/5eCey76LuBgAAAAlwSFlzAAALEwAACxMBAJqcGAAAADx0RVh0U29mdHdhcmUAQ3JlYXRlZCB3aXRoIHRoZSBXb2xmcmFtIExhbmd1YWdlIDogd3d3LndvbGZyYW0uY29tXKKmhQAAACF0RVh0Q3JlYXRpb24gVGltZQAyMDIwOjA3OjE3IDIxOjI3OjQxKxB65gAAAnhJREFUSInFlk9IKlEUxk1FUBPMwIUEGoiQQoTKiIO1nly4EYQQ1JUuRDdJtBHcKEGLQGaRgrh04c6kVQTlQkFB0FAoEaNF/kfbKE563mLC4j1HfOC8963mfPecub+55zL3bgAAg1rD4ZDL5XI4nCU5axFzyZjD4bDZbHq9PpVK0c3BAAoRBKFUKgEgm81arVaqtHWJTcXHZrOPjo5OTk76/f7Z2Rndy0HZl0aj8fLyYrfbt7e30+k03RyUfYnH4+fn5wAwHo93dnbo7gtjNpthGHZxcUHGbrfb6/UCQKvVQlHUbDajKBoKhdY13/39PYIgk8mEDLvdrkqlent7YwDA3d0dh8MpFou3t7cCgaDRaMzLer3eeDxe8t5qtfr+/r5wvoX5k8lEIpEkEgkyxHFcp9MBwFdfPB7PwcHB7u5uJBL5q+8LBAI3Nzd/+lqtlqokGAweHh6SzwiCRKPRb452u81isRQKxeoE4XAYw7Dj42O73Y4gyMPDA+kbjUaXyyWXy09PT9Vq9Ww2+62w2+3yeLxyuVytVvl8/sfHxzeH0+lEEGRzczOZTK6O8vT0JBKJ9vf3m83m3CQIAsdxJpPp8/lGo9HCQpfL5Xa7/X6/w+EgHQYApFIpPp9fq9UikYhQKHx9fV2Rw+l0Xl1dWa3Wn90cDAYqlSqXy+3t7dXr9YWFlUpla2tLJpNlMpkvjl6vJxaLr6+vydhisRgMhhU58vn8dDrt9/vPz89zczqdFgoFACiVSlTrAQAYhv3cBpT/D1r1+fmp0WguLy//GwdBELFYzGQyyWQycoeSWnbe0qFOp5NOp6VS6ePjo0AgmPsbsPT+8c/0Cyq1NJR4qNEhAAAAAElFTkSuQmCC\"></div>"
      ],
      "text/plain": [
       " 8\n",
       "x  ** y"
      ]
     },
     "execution_count": 329,
     "metadata": {
      "text/html": [],
      "text/plain": []
     },
     "output_type": "execute_result"
    }
   ],
   "source": [
    "WtoXY[2,7]"
   ]
  },
  {
   "cell_type": "code",
   "execution_count": null,
   "metadata": {},
   "outputs": [],
   "source": []
  }
 ],
 "metadata": {
  "kernelspec": {
   "display_name": "Wolfram Language 12",
   "language": "Wolfram Language",
   "name": "wolframlanguage12"
  },
  "language_info": {
   "codemirror_mode": "mathematica",
   "file_extension": ".m",
   "mimetype": "application/vnd.wolfram.m",
   "name": "Wolfram Language",
   "pygments_lexer": "mathematica",
   "version": "12.0"
  }
 },
 "nbformat": 4,
 "nbformat_minor": 4
}
