{
 "cells": [
  {
   "cell_type": "code",
   "execution_count": 30,
   "metadata": {},
   "outputs": [
    {
     "data": {
      "text/html": [
       "<div><img alt=\"Output\" src=\"data:image/png;base64,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\"></div>"
      ],
      "text/plain": [
       "             p            2                                                  2\n",
       "DSolve[{-(A t ) + (x y - z ) f[t] - (1 + (1 - t) (t x - y)) f'[t] + (1 - t) t  f''[t] == \n",
       " \n",
       ">     0, f[0] == 0}, f[t], t]"
      ]
     },
     "execution_count": 30,
     "metadata": {
      "text/html": [],
      "text/plain": []
     },
     "output_type": "execute_result"
    }
   ],
   "source": [
    "DSolve[{t^2*(1-t)*f''[t]-((1-t)*(t*x-y)+1)*f'[t]+(x*y-z^2)*f[t]-t^p*A==0,f[0]==0},f[t],t]"
   ]
  },
  {
   "cell_type": "code",
   "execution_count": 13,
   "metadata": {},
   "outputs": [],
   "source": [
    "d[t_]:=Sum[a[n]*t^n,{n,1,Infinity}]"
   ]
  },
  {
   "cell_type": "code",
   "execution_count": 19,
   "metadata": {},
   "outputs": [
    {
     "data": {
      "text/html": [
       "<div><img alt=\"Output\" src=\"data:image/png;base64,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\"></div>"
      ],
      "text/plain": [
       " 2                 -2 + n\n",
       "t  Sum[(-1 + n) n t       a[n], {n, 1, Infinity}] - \n",
       " \n",
       "     3                 -2 + n\n",
       ">   t  Sum[(-1 + n) n t       a[n], {n, 1, Infinity}] - \n",
       " \n",
       "           -1 + n                                      -1 + n\n",
       ">   Sum[n t       a[n], {n, 1, Infinity}] - t x Sum[n t       a[n], {n, 1, Infinity}] + \n",
       " \n",
       "     2          -1 + n\n",
       ">   t  x Sum[n t       a[n], {n, 1, Infinity}] + \n",
       " \n",
       "             -1 + n\n",
       ">   y Sum[n t       a[n], {n, 1, Infinity}] - \n",
       " \n",
       "               -1 + n                                    n\n",
       ">   t y Sum[n t       a[n], {n, 1, Infinity}] + x y Sum[t  a[n], {n, 1, Infinity}] - \n",
       " \n",
       "     2      n\n",
       ">   z  Sum[t  a[n], {n, 1, Infinity}]"
      ]
     },
     "execution_count": 19,
     "metadata": {
      "text/html": [],
      "text/plain": []
     },
     "output_type": "execute_result"
    }
   ],
   "source": [
    "Expand[t^2*(1-t)*d''[t]-((1-t)*(t*x-y)+1)*d'[t]+(x*y-z^2)*d[t]]"
   ]
  },
  {
   "cell_type": "code",
   "execution_count": 32,
   "metadata": {},
   "outputs": [
    {
     "data": {
      "text/html": [
       "<div><img alt=\"Output\" src=\"data:image/png;base64,iVBORw0KGgoAAAANSUhEUgAAAPAAAAApCAIAAACEBjMiAAAAhXpUWHRSYXcgcHJvZmlsZSB0eXBlIGV4aWYAAHjaVYvBDcMwDAP/mqIjyLJM2uMYiQNkg45fuu0n9yApgbT1vi97felp2dgxABc5csRU6P6juNciDXn+X9MfZGWgoRhTluEkhnJXkqKFN+LCAahYcIbnIV8gNQN3o86928QyPusLVffpbh/5eCey76LuBgAAAAlwSFlzAAALEwAACxMBAJqcGAAAADx0RVh0U29mdHdhcmUAQ3JlYXRlZCB3aXRoIHRoZSBXb2xmcmFtIExhbmd1YWdlIDogd3d3LndvbGZyYW0uY29tXKKmhQAAACF0RVh0Q3JlYXRpb24gVGltZQAyMDIwOjA1OjIzIDIxOjQ2OjA5hg7WJQAACd1JREFUeJztnFlME98Xx6eFWmQRqygEKVpsglb+ElEW2RPDbgJENAoqBEQSCAlCVMAlCvjAA8SgwRjDFkAKLggJosSISBP6AIKGIhSBAmWRBotQLaW2/T9MGPrrMjMtpWWZz1Pvved0Tr89vTP39M7gZDIZgIGxWcAbOgAMDF1ibOgADMDExER1dbWRkdGJEyfa2tpcXFxOnz5t6KAwdMNWnKErKioyMjJ8fX1LS0vv3r3L4XD4fL6hg8LQDVsxoQkEAo/HGxoaEgqFAoGAx+OZmJgYOigM3YDbgotCoVBYU1NjZWV19OjR169fh4aGHjp0yNBBYeiGrZjQGJsYFZccWIpjbFz+U+W4f/8+m82Oj48/deqUoQJaO6amprKysuAvl6VSaXx8vIeHh96iwtCa0tLS9+/fh4eHR0dHr/TKlmloaMjPz5dtWPh8vlQqhTGQSCShoaGDg4MwNs3NzWVlZTqObMOCKOl64OLFi2NjY1Bz5ZKjt7d3g5Zj2Wy2r69vdHQ0jUbr7+9XZ4bH4588eZKSkvLv3z91NmZmZmKxeG3C3EiglHQ9EBgY2NfXBzVXEloikWzbts0QIa0WW1vb58+fv337NjU1lU6nw1ja29vHxcXl5uaqM8ASGgSNpFwut6qqKi8v78qVK1+/ftVzhBDbtm2TSCRQczPUoc3Nze3s7AAA6O3tdXJygje+cOECh8Pp6OhQOWptbX3gwAGdR7jhUCfpw4cPodc8Hu/mzZt+fn4BAQFZWVkGiFIVaBOaxWJBr//+/dvQ0BAXF5ecnKz1gYeHhwsLCxU6BQLB2NiYFo4AANTW1nK53DNnziAeuqio6Pbt2wsLC8pD+/btCw0NVecoLwIMOtFHJWj0QURZQDBgkM7OTqhfXlLQpqenR97G09PTx8fn7NmzWlyWjI+PMxiM7u5uNMYMBoPBYKD5QxdVQgsEggcPHkDNycnJmpqaL1++fPv2DY27SlgsVkVFhUInkUi8ceOGFo5VVVUlJSV0Oh2HwyEe2tLS8t69e9euXdMoYAURYNCJPipBow8iygISicT/LUMmk8FOBUlBG1tbW3kbEDwej0Z2BcrLy5lM5tTUFKKlTCYbHR2l0+nqzqv/CQbNsQsKCmJjY6EmlUql0+lxcXFofJUZGhpydXVNTk4eGBig0Wg0Gu3kyZPgEIFA8PT0bGxs1MixpaXl0qVL8/PzQUFB58+fRxODj4+PtbX1q1ev0IetIAIMq9QHAIDg4OCWlpaIiAgSiXTu3Dk2mw32w+sD4wiiTkAjIyOHZaytrQFVkoI2hw8fhmzkUZnQ3d3dUVFRJBKJQqHk5OQIBAIFg4iICPnzobrgcThcTEyMj48PKu2gekdmZubIyIhyWUQqlbq6uir3FxQUeHl5aVFnEQgEra2tGRkZDg4Ora2tra2t7e3t0OifP39CQkK0cNSUpaWloKCgiYkJNMbqRIABUZ+PHz9yOByVQw4ODrt27Xr69GlzczONRktLS4OGYPSBd5TpWkBE7ty5c/36dSaT2dbWRiaTy8vL5UdzcnIUSqjwwdPp9KamJuWjvHz58sWLF1Bz5Y8VFou1f/9+5Yz/8ePHkSNHUP040GFmZubv7z84OGhubu7v768wampqKhaLpVIpHq949oB31BQCgVBUVJScnFxfX494xtS5CAAAsFgsc3NzlZoDAJCbm3v16lUAAHp6eurq6qB+GH3gHQFdC4hITk4OAAC/f//u7e09fvx4Y2Mj4ikOJnh1uLi45OfnR0VFgU1jYHm56u3trfJ77ezshC4JUNLd3T03Nwc1yWQylUpF7+7o6Mhms/WwYYhAIIjFYolEYmyMsC9cWYTVfEbQd2BgwMjISCAQqPQlkUjgCwqForAYgtcHxlHP9Pf3JyUlsVgsNzc3Ho+HpiisRfAUCsXCwiIrKys3N9cY/CKFQuHk5KS6+oBIJDIzM0P9KQAAAKanp2dmZqCmSndjY+OlpSWV7iYmJuqG4B01QigUJicnl5SUIGYzoEoENJ9RHaAvn8+fnp42NTXVVF54fRDRlYCIREZGBgcHf/jwgUAgFBYWarRi0Qhzc/O+vj5wYjIGAMDe3v7du3ehoaFhYWHK1seOHausrIyJiYF6RCKRTCYD57bFxUUcDkckEuVdQkJCEIOgUChDQ0MDAwOOjo58Ph/6aQIAwGazaTSaFo4akZKSkp2dbWtri8ZYWQSYz4hSn4WFBXd3d1dXV00jh9cHEV0JiMjo6Ki7uzuBQPj+/Xt1dfUabTr/+fPnyMhIbW0t2FyZnGg0GpfLBcvp8tBoNIX6q7e3N1SJ3L59+86dO7U4tfn5+YWFhTk5OZFIJLFYPDg4aGVlBQCATCaTSqUws6Y6R4149OiRs7Mz2oWzKhFgQKkPmUy2tLRU9ybqLusR9UFcD+hEQDRkZmZevnw5NTV19+7dAQEBPT09iC5alP+YTGZgYOBKG2bVCZGUlMRmszVc46JiZmZmfHxcLBZDPfX19cXFxVo4oufz58+xsbGaeq2dCBqBUh9EViMgeubm5qamplQOweSbStRVORT6UdWhs7OzHz9+rOlPBw179uyxs7OTn2/odHpCQoIWjiiZnJzMy8srLi5WZzAxMaFyQl07ETQCpT6IaC2gRlhaWtrY2KgbHR4eHh0dRfM+bDZ7YmICjSWqhLa3t4+MjERjuUpEIlFaWtra7ZFaWlpKTEwsLi42NTVVZ9PW1jYwMKDcrzcRYFhrffRJUFAQi8Vqb29HtJTJZE1NTTgcDs3KAe0PVA9lSwAAiETimm6uT09PT0lJOXjwIIwNzG47/YgAw1rro0/c3Nzc3NzQWOJwOPT7FDbDbjuUlJWV7d27F2bvEYh+SloYa8TKDI3H42F2vm90urq6Kisrq6qqpqen4S1nZ2f1ExKGTpBIJPK1kZWEplKpDAZjs97QPzs76+vr++zZMzTGCrvJMNYzDAYjPT0daq48xkAikYD7dxMSElBe3GBgGJD6+vq6ujpnZ+fMzEyoU/G5HAKBQCKRwBT8MTDWCbOzsxYWFgo1H+xBMyssLi5izwTb6GzFp4+qJD8/v6ury8jI6NatW4g3JmKsWzZ/QnO53E+fPnE4HA6Hk5qa6uzsrGwzPz/f0dHx5s2bvr6+4uLi9fCPIIZ2bP46tPLNyWKxmLXM+Pg4AAAMBsPDwyMzM1MoFOr8RkAMfbL5Z2hg+eZkqVQKJrRUKuVyueCQjY0NmUzG4/G/fv2iUqkmJiZCodCgwWKsis0/Q0NANyeLRKLeZcDM9vLyYjKZiYmJs7Ozm+a/5a3JlpihIcCE3rFjR0ZGhny/hYVFeHi4n5+fqampyod+YGwUsLLdCljZbhOAJTTGpmILXUNjbAX+D4s0P+JrVgpgAAAAAElFTkSuQmCC\"></div>"
      ],
      "text/plain": [
       "          2                 -2 + n\n",
       "{(1 - t) t  Sum[(-1 + n) n t       a[n], {n, 0, Infinity}]}"
      ]
     },
     "execution_count": 32,
     "metadata": {
      "text/html": [],
      "text/plain": []
     },
     "output_type": "execute_result"
    }
   ],
   "source": [
    "t^2*(1-t)*Sum[n*(n-1)*a[n]*t^{n-2},{n,0,Infinity}]"
   ]
  },
  {
   "cell_type": "code",
   "execution_count": 34,
   "metadata": {},
   "outputs": [
    {
     "data": {
      "text/html": [
       "<div><img alt=\"Output\" src=\"data:image/png;base64,iVBORw0KGgoAAAANSUhEUgAAAJEAAAARCAIAAABSCtmsAAAAhXpUWHRSYXcgcHJvZmlsZSB0eXBlIGV4aWYAAHjaVYvBDcMwDAP/mqIjyLJM2uMYiQNkg45fuu0n9yApgbT1vi97felp2dgxABc5csRU6P6juNciDXn+X9MfZGWgoRhTluEkhnJXkqKFN+LCAahYcIbnIV8gNQN3o86928QyPusLVffpbh/5eCey76LuBgAAAAlwSFlzAAALEwAACxMBAJqcGAAAADx0RVh0U29mdHdhcmUAQ3JlYXRlZCB3aXRoIHRoZSBXb2xmcmFtIExhbmd1YWdlIDogd3d3LndvbGZyYW0uY29tXKKmhQAAACF0RVh0Q3JlYXRpb24gVGltZQAyMDIwOjA1OjIzIDIxOjU0OjQ25bTviwAAA1tJREFUWIXtmEtIMlEUx69fU0EmTUVBMdGTwF4EigpZu8Bl0MMIglYFRW3aFrgRhKiNEeqyFhG0SIkgCAdq10YQE19EYQsZe8xiSpnE+RYDEnYb57szgyTffzWHe875/ZnD8cqoOI4DlSuaphsaGlQqVbmNyKk/5TaglGKx2MTExMLCwsDAQCQSKbcdOaWq1D1jGIamaYIgDg4OKIqy2WzldiSbKnbP6uvrCYIAAIRCoaGhoXLbkVMlZvbx8eH1epeWllZXV5EZ9/f3e3t7yOVSECcnJ09PT9PT04rSpQjl5XCCisfjVqt1eHh4bGxMOFNAPp9vZGQEuRwZcXR0NDk5+f7+rihaohBeTomZ8drd3UWbWSKR0Ov1BEHU1tZqtVqtVmsymb4m5PN5i8XicDj4cG1tbWNjQxbE5eUlAMBoNJrNZqvVWlQlnev3+w0GA8uyfPj8/Dw4OJhMJqU7L4lQdmYMw5Akubm52dPTQ5IkSZI3NzdFOVdXVzU1NYFA4OLiQqPRPDw8QFv5/X7okRgEVBK5LMu2t7cfHx/z4f7+vtFoFMMV7/wnhLIz4+XxeITXf319fXR0tLu72+12/5TjdDpvb2+REUpw7Xb7+Pg4/2wwGDwez78a4Eo5hyIwAEAgEKBpunDDdXR09PX1ibwOpdQWtL293dbW1tvbu7y8/BMiGo1WVVUxDIOGUIK7srJit9tDoRCGYXd3d/Pz89AOhRDBORSBAQBSqRRFUYU8tVotvqmYWgzDWJYVaLK1taXT6cLh8Onp6czMDBTx9vaWSqXq6urQEEpwm5ubFxcXXS5XU1PT7OysRqOBdiiECM7hCOHNzWazmUzG4XCYTKZMJpPNZhHWnyTJ6urqSCTCcdzr62vRqc/nU6vViUTC7XbjOP74+AhtIvzbKIyAShZuOBxubGzs6uoSeYkiOP+OKDEzvV7/dew4jiPYyufzU1NTGIa1tLTgOJ5OpwtHLy8vra2tLpeLD+fm5sxmM7TJ2dlZNBpFQEAlF5fjOIvF0t/fL4wTkBjnRQhR/0FkEUVRyWTy8/PzVyOKlMvldDrdzs6OxD4Czr8jKvZ7o9LK5XKHh4derzcYDAaDwe+XmXKIiv3eqLTS6fT5+XlnZ+f19bUSAxNA/N+z36e/knBnMCJqzo4AAAAASUVORK5CYII=\"></div>"
      ],
      "text/plain": [
       "            2\n",
       "-1 - t x + t  x + y - t y"
      ]
     },
     "execution_count": 34,
     "metadata": {
      "text/html": [],
      "text/plain": []
     },
     "output_type": "execute_result"
    }
   ],
   "source": [
    "Expand[-((1-t)*(t*x-y)+1)]"
   ]
  },
  {
   "cell_type": "code",
   "execution_count": 38,
   "metadata": {},
   "outputs": [
    {
     "data": {
      "text/html": [
       "<div><img alt=\"Output\" src=\"data:image/png;base64,iVBORw0KGgoAAAANSUhEUgAAAGAAAAARCAIAAACthD4LAAAAhXpUWHRSYXcgcHJvZmlsZSB0eXBlIGV4aWYAAHjaVYvBDcMwDAP/mqIjyLJM2uMYiQNkg45fuu0n9yApgbT1vi97felp2dgxABc5csRU6P6juNciDXn+X9MfZGWgoRhTluEkhnJXkqKFN+LCAahYcIbnIV8gNQN3o86928QyPusLVffpbh/5eCey76LuBgAAAAlwSFlzAAALEwAACxMBAJqcGAAAADx0RVh0U29mdHdhcmUAQ3JlYXRlZCB3aXRoIHRoZSBXb2xmcmFtIExhbmd1YWdlIDogd3d3LndvbGZyYW0uY29tXKKmhQAAACF0RVh0Q3JlYXRpb24gVGltZQAyMDIwOjA1OjI0IDE5OjIyOjIx5X0MnwAAAqNJREFUWIXtlz9IMnEYx8+8VBLhFkVBidJBlwg8RNDB0cEhIdLRySGpxdV2l1pcTp0cRBTFf+Ak3tBQSCQEioJIDYUkl4qiFnS/d5BXRE89f69QvPiZ7nfP7/l+v/fAMxwHAIBsWczOTwf47WwHtILtgFawgyDIYDBIp9MOh+P8/BxaqNFo3NzcQLc/PDxYrdb9/X2dTpdIJKB1lgMRcgdBkLe3t0gk8vj4+PT0BO1dLpdDoRBcb6/Xs9vtJpMpmUxaLBabzVapVKCTLAEmJPjL9fW1wWAA61Ov13Ecl8vlfD5fo9FoNBq9Xr+uyPf39+RZLpeHQqHpKk3TZrPZ6/WOjy6X6/LycrMhF1lsYED9fp8kSbfbfXh4SJIkSZK3t7cQOmO63S6Px7u/v595n8/neTxeqVTK5XIikej5+ZmxvVAoMJbYhGS02MCAxgQCgaOjI+j2CU6n02Aw0DQ9X7q4uDg+Pj44OPD7/YvafT5fsViEDjlvgbJZw1Kp1Ol0JkeFQqFSqdZaZJYKBEHEYrG7uzsOhzNfvbq6kslkSqXS6XQusqjValwut9/vQ4RktGA1oGaz+f7+PjkKhcL5OyiKfn19/YtCOBx2u93ZbFatVjOKeDwerVZbqVTi8fjp6SmjRbvdbjabe3t7ECGZLQAAo9FoOBx6vV69Xj8cDkejEdt9mIIkyd3d3Wq1CgD4+PhYtz0YDAoEgmg0SlEURVHtdnvmQiaTEQqF9Xrd7/djGPby8sKos3zFlodktEAAADiOT08Rw7B1Pw8AQNP0yckJiqJisRjDsFarxb739fV1ZqeUSuX0BYqiJBIJQRDj49nZmdFoZJRKpVK1Wg0i5CILDtjoz2qr1fr8/JRKpSjKanl/hLVCbnhA/x/bf7EVbAe0gj/PNEuWb3pk/AAAAABJRU5ErkJggg==\"></div>"
      ],
      "text/plain": [
       "1 - t - 2 x + t x"
      ]
     },
     "execution_count": 38,
     "metadata": {
      "text/html": [],
      "text/plain": []
     },
     "output_type": "execute_result"
    }
   ],
   "source": [
    "Expand[((1-t)*(1-x)-x)]"
   ]
  },
  {
   "cell_type": "code",
   "execution_count": 56,
   "metadata": {},
   "outputs": [
    {
     "data": {
      "text/html": [
       "<div><img alt=\"Output\" src=\"data:image/png;base64,iVBORw0KGgoAAAANSUhEUgAAAEMAAAAkCAIAAABdWRDGAAAAhXpUWHRSYXcgcHJvZmlsZSB0eXBlIGV4aWYAAHjaVYvBDcMwDAP/mqIjyLJM2uMYiQNkg45fuu0n9yApgbT1vi97felp2dgxABc5csRU6P6juNciDXn+X9MfZGWgoRhTluEkhnJXkqKFN+LCAahYcIbnIV8gNQN3o86928QyPusLVffpbh/5eCey76LuBgAAAAlwSFlzAAALEwAACxMBAJqcGAAAADx0RVh0U29mdHdhcmUAQ3JlYXRlZCB3aXRoIHRoZSBXb2xmcmFtIExhbmd1YWdlIDogd3d3LndvbGZyYW0uY29tXKKmhQAAACF0RVh0Q3JlYXRpb24gVGltZQAyMDIwOjA1OjI2IDE1OjEzOjE5/MJwkgAAA+1JREFUWIXdWUFI8n4Ynm0aqbFBGHaQaHiIYQVRUaAlBFF0MMhDBJHYbccORceIIIgiCKJTYBBFF02CCgIPCUaRQbHIYjuJjCYlFDrLte/gn9mn029NSf89J9+f7/PsfX5se3+vKnieB34FqspdQMkAlbsAEYTDYY/HQ1FUNBqdmZkxmUySaHxxIElyZWWltArBYBBF0aurq6Ojo5aWFok6xTrxer2tra2lVQgGg3a7Pf25oaEhlUpJ0ZF/d5EkOTY2RtM0wzAYhgEAAMNwIBAoicLHxwcAABRFgSAIgqAUNflO9Hr98vLy4eGh2+3e2NgAAACCxNV8Ph+Koo2NjdIVAoHA4ODg7e3t2tqaxHpErs3zvEKh+CdTo9FYrdbHx0etVmu1WgtkEgSh1WpznRRQ6O3tdblcIAhWV1f/s5I0/nIyPz//8PDgdDr7+/uFxevr61gsJoQGg8FoNEpUT3NDoRAIgm9vbxK5SqWyrq5OrVbnS9ja2jo5ObHZbOPj4yJOvF5vTU3Nzs5OFo2m6aenJyHUaDRfv4Ug6P39Pd8l09yXlxeaptVqdRY3n4LJZNrc3MynCQCA0+l0Op0TExMWi8VgMPy3Kjz7i4uLBEF8983j8/mUSuX9/T3P88/Pz6I56+vrFxcXxSiIYnt7+/j4WAgzPZ7jOJVKVWAnRNHX1zc8PGwymerr61EUjUajuTkGgwGG4WIURKFSqTiOE8Jie7xCoXC73QzDJJNJvV4v+vqy2WxFKkhBaU4rOp2u7Aq/5wT5G53E43HZ92hZAEFQPB4XwowTgiBy23Alo729/fT0VAghAAAYhpmdnTWbzbmHFL/ff3Z29qMF5oHFYjGbzV9Xmpqaamtr5+bmFhYWoPTtlEgkIpHI6OhoLt9sNmfxKwparfbu7o7jOAiCMj1+aGhIen+tBNA0PTk5KYSZ5wTDsHA4XMYN/i7Oz88HBgaEMOMEhmGWZctRkkywLIsgiBCWrJ/E4/GDgwOHw4HjuGwRiqJWV1flcUvmJBKJ7O7uBoPBm5sb2SIEQbhcLnnckjkxGo17e3sOh0MenSTJzs5OHMdDoRCGYRiG9fT0fEvhp5u6jJleIjLZVVVVqVSq+FoLQ8ZMnw8cx31t5RknRqPR7/c3NzcXIP/8TF8Afr9/enpaCDNO7HY7juOXl5dTU1NdXV2i5MIzfWHIm+lF4Xa79/f329ra/tqLrMb5+voai8VkdFyWZROJxNLSUnd3dyKRYFlWNK0kM300Gk0mk1mLxf6aKqCjo+PrtiEIIprm8XhCoVA+kc/Pz5GREQiCdDodgiAMw0gvQMFX3v8n8mb6SnQiD79x+v2/4w9S6dDOcHza7gAAAABJRU5ErkJggg==\"></div>"
      ],
      "text/plain": [
       "       p\n",
       " -t + t\n",
       "{-------}\n",
       " -1 + t"
      ]
     },
     "execution_count": 56,
     "metadata": {
      "text/html": [],
      "text/plain": []
     },
     "output_type": "execute_result"
    }
   ],
   "source": [
    "Sum[t^{m},{m,1,p-1}]"
   ]
  },
  {
   "cell_type": "code",
   "execution_count": 44,
   "metadata": {},
   "outputs": [
    {
     "data": {
      "text/html": [
       "<div><img alt=\"Output\" src=\"data:image/png;base64,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\"></div>"
      ],
      "text/plain": [
       "         2  t x - y       y\n",
       "(1 - t) t  (------- + ---------)\n",
       "               2      (1 - t) t\n",
       "              t"
      ]
     },
     "execution_count": 44,
     "metadata": {
      "text/html": [],
      "text/plain": []
     },
     "output_type": "execute_result"
    }
   ],
   "source": [
    "f=t^2*(1-t)*(y/(t*(1-t))+(t*x-y)/t^2)"
   ]
  },
  {
   "cell_type": "code",
   "execution_count": 50,
   "metadata": {},
   "outputs": [
    {
     "data": {
      "text/html": [
       "<div><img alt=\"Output\" src=\"data:image/png;base64,iVBORw0KGgoAAAANSUhEUgAAAH0AAAARCAIAAAB/1DRTAAAAhXpUWHRSYXcgcHJvZmlsZSB0eXBlIGV4aWYAAHjaVYvBDcMwDAP/mqIjyLJM2uMYiQNkg45fuu0n9yApgbT1vi97felp2dgxABc5csRU6P6juNciDXn+X9MfZGWgoRhTluEkhnJXkqKFN+LCAahYcIbnIV8gNQN3o86928QyPusLVffpbh/5eCey76LuBgAAAAlwSFlzAAALEwAACxMBAJqcGAAAADx0RVh0U29mdHdhcmUAQ3JlYXRlZCB3aXRoIHRoZSBXb2xmcmFtIExhbmd1YWdlIDogd3d3LndvbGZyYW0uY29tXKKmhQAAACF0RVh0Q3JlYXRpb24gVGltZQAyMDIwOjA1OjI1IDE2OjMzOjI5d/DRrwAAA6BJREFUWIXdmE9I8n4cx+fjssgkKwqKhdUisiICYwZZt8Bj0V+CrnaIungtqIMQBBEUMe1UEWEUlEUQhIM6FFEIoqIhUVggs+WKdVm2PQcj+rk5/zzP3I/nfdp338/383p/vnz/sMlYlgUkFUmSxcXFMplMWhs51i8J2be3t93d3aOjo01NTX6/X0InuZdMwvVOURRJkhAEra6u4jg+OzsrlZPcS8r1XlRUBEEQAAAej6elpUVCJ7nX17zf3d0tLi6KSkqGsNvtj4+P/f39otKz1vX1dV9fn0ajQRBkb2+PNyab2WNZlmVZh8PR2trKiilexObmZk9Pz/v7u6jorPX29gbD8NLS0s3NzdzcnFwu93q93LAsZg8IBoPt7e0QBOXn52u1Wq1W29HR8TOCYRij0Tg/Px9vTkxMTE1NZcRIhjg5OQEAQK/XGwyG4eHhhFF/znU6nQiC0DQdbz4/Pzc3N4dCoYySfH5+fj9DELS+vp5OaSk9ABRFYRhmNpvr6uowDMMw7Pz8PIF9enqqUChcLtfx8bFKpbq/v8/IejoIXv0hl6bpqqqq7e3teHNlZUWv1/NGOp3OlMlfX18VCsXl5eXPlylLS+bh65yx2WzCO2VycrKtra22ttZqtQr7S6aUCDG4Foulq6sr/owgiM1m4w1bXl6+uroSTmUymTo7OxmG4XYJl8brAUzzGpiZmamsrIRh2GQycXtdLhdJkt/N6urq+vr6zO4Zcbjj4+MWi8Xj8YAg6PV6R0ZGeDMEAgG5XE5RVDLnKIru7OxcXFxk8X3H6+Fr3kEQpGlaYPD09LROp/P5fLu7uwMDAwm94XAYx/HvplKp5GZIiRCDW1ZWNjY2hqJoaWnp4OCgSqXizRCNRsPhcGFhIa/zra0ts9l8eHjY2NjIa1K4NH4P8fWPYVheXp7f72dZ9uXlJWGnOBwOpVIZDAatVqtarX54eBDekrwSRvDqr3B9Pl9JSUlNTY3ApSJwzqytrRUUFNjtdoIgCIKIRqPcmJSlcT18zTvDML29vSAIlpeXq9XqSCTyPYYgiIqKChRF482hoSGDwZBWxf+VAIJXf4vLsqzRaGxoaBAI2N/fDwQC3PdPT08JBwsMw9ywdEpL8AD87MNxPBQKfXx8pFtQ5soBIkGxWEyn0y0sLIgNEiiN60HK/zNiKxaLbWxsHBwcuN1ut9vNPdwl9CDl/xmxFYlEjo6ONBrN2dmZJJMu4OFfXu//Z/0GH7quV0NA0poAAAAASUVORK5CYII=\"></div>"
      ],
      "text/plain": [
       "       2\n",
       "t x - t  x - y + 2 t y"
      ]
     },
     "execution_count": 50,
     "metadata": {
      "text/html": [],
      "text/plain": []
     },
     "output_type": "execute_result"
    }
   ],
   "source": [
    "Expand[Simplify[f]]"
   ]
  },
  {
   "cell_type": "code",
   "execution_count": 53,
   "metadata": {},
   "outputs": [
    {
     "data": {
      "text/html": [
       "<div><img alt=\"Output\" src=\"data:image/png;base64,iVBORw0KGgoAAAANSUhEUgAAAH8AAAARCAIAAAB7IeRuAAAAhXpUWHRSYXcgcHJvZmlsZSB0eXBlIGV4aWYAAHjaVYvBDcMwDAP/mqIjyLJM2uMYiQNkg45fuu0n9yApgbT1vi97felp2dgxABc5csRU6P6juNciDXn+X9MfZGWgoRhTluEkhnJXkqKFN+LCAahYcIbnIV8gNQN3o86928QyPusLVffpbh/5eCey76LuBgAAAAlwSFlzAAALEwAACxMBAJqcGAAAADx0RVh0U29mdHdhcmUAQ3JlYXRlZCB3aXRoIHRoZSBXb2xmcmFtIExhbmd1YWdlIDogd3d3LndvbGZyYW0uY29tXKKmhQAAACF0RVh0Q3JlYXRpb24gVGltZQAyMDIwOjA1OjI1IDIyOjU4OjUxFOueCwAAAuNJREFUWIXtWE9I8mAcfvt6S1CEVSglhakRSCBC4gblfccOKV6ETglJXupYR8FLXeqg3vLipUNGdIoN7OZBYaQoSCiCiOvfQdKG+n6HfcjH9+WcU+Yhn9N+2/t7nuf3bHsHm0IIgQnGhF/jNvCjMUl/nJikP070Sf/z8zMej+/t7R0cHEjWeH5+Pj8/l9w+EsjgQYJEn/QrlUosFkulUgzDSLaVyWSurq4kt48EMniQIoFE4OzsbGtrS8zKf1AoFGw22/LyskKhMJvNZrOZIIiBGDqdDkmSwWCQL30+n9/vH60HGSQoirLb7RzH8eXLy8vGxka5XB5N+hRFFYvF/8/X63Wapo+OjoxGI03TNE0/Pj4OxIAQenh4mJ2dTafT9/f3arW617JeEONBpITkMTmO0+l0sViMLy8vL3EcRwiNJv2Li4tkMtnraiQSsVgswhLCDIeHh1ar1WAwhMPhvm6leRAjMcyYgUDA4XDwx3a7PRKJIIQgACCdTn98fHT3opWVlbW1NZEbF9+bz+enp6fr9fpAveIZTk9Pl5aWTCbT/v5+LwZp/geSGGZMr9cbCASenp4ghJlMxu12AwAgAKBardZqte46lUolnpTvfX9/r1arSqXy214IIcdxwzCcnJxsbm5ms9nr6+vd3d1vGYT9C3sQKTHMmAsLCx6PJxQKzc/PO51OtVoNQL+vbrPZbDQawWCQIIhGo9FsNiW8kjRNz8zM5HI5hNDb29ugDLe3tyqVqlAohMNhDMNKpZKwZwkeREoMOWY2m52bm1tdXe1+Ffqkb7PZ/r6BGIZ9u+zm5iafz/ci6XQ6Ozs7EEKNRoNhGMuy4hleX1+1Wm0oFOJLl8u1vb0t7HlQD+Ilhh+TJMn19fVuOYXk+svGsuzX19fi4iKEUB7FsXgQkGi32ziOu93u4+Nj/ox86f9ktFqtaDQaj8cZhmEY5s+mP/nPIw9Ylr27u9Pr9YlEohs9mDz748VvzjAzCeT6GToAAAAASUVORK5CYII=\"></div>"
      ],
      "text/plain": [
       "-1 + t + x - t x + t y"
      ]
     },
     "execution_count": 53,
     "metadata": {
      "text/html": [],
      "text/plain": []
     },
     "output_type": "execute_result"
    }
   ],
   "source": [
    "Expand[(1-t)*(x-1)+y*t]"
   ]
  },
  {
   "cell_type": "code",
   "execution_count": null,
   "metadata": {},
   "outputs": [],
   "source": []
  }
 ],
 "metadata": {
  "kernelspec": {
   "display_name": "Wolfram Language 12",
   "language": "Wolfram Language",
   "name": "wolframlanguage12"
  },
  "language_info": {
   "codemirror_mode": "mathematica",
   "file_extension": ".m",
   "mimetype": "application/vnd.wolfram.m",
   "name": "Wolfram Language",
   "pygments_lexer": "mathematica",
   "version": "12.0"
  }
 },
 "nbformat": 4,
 "nbformat_minor": 4
}
