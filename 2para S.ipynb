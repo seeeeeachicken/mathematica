{
 "cells": [
  {
   "cell_type": "code",
   "execution_count": 1,
   "metadata": {},
   "outputs": [],
   "source": [
    "Psum[i1_,i2_,j1_,j2_]:=\n",
    "Expand[\n",
    "    (-1)^{i2+j2}*L1^{i1}*L2^{i2}*X1^{j1}*X2^{j2}\n",
    "    +(L1^{i1}*X1^{j1}+L2^{i1}*X2^{j1})*(L1+L2)^{i2}*(X1+X2)^{j2}\n",
    "];\n",
    "Secondsum[i1_,i2_,j1_,j2_]:=\n",
    "(L1^{i1}*X1^{j1}+L2^{i1}*X2^{j1})*(L1+L2)^{i2}*(X1+X2)^{j2};\n",
    "\n",
    "ZS2[k1_,k2_]:=\n",
    "(-1)^{k1}*Binomial[k1+k2,k1]*Subscript[Z,k1+k2];\n",
    "\n",
    "ZS3[k1_,k2_,k3_]:=\n",
    "If[Mod[k1+k2+k3,2]==0,afo,\n",
    "-1/2*((-1)^{k1}*Binomial[k1+k2+k3,k1]-(-1)^{k3}*Binomial[k1+k2+k3,k3])*Subscript[Z,k1+k2+k3]];\n",
    "\n",
    "ZS212[k1_,k2_]:=\n",
    "(-1)^{k1+k2}*2*(1-2^{-2*k1-2*k2})*(Binomial[2*k1+2*k2+1,2*k1+1]\n",
    "-Binomial[2*k1+2*k2+1,2*k2+1])*Subscript[Z,2*k1+2*k2+1];\n",
    "\n",
    "ZS121[k1_,k2_]:=\n",
    "(-1)^{k1}*Binomial[k1+k2+2,k2+1]*Subscript[Z,k1+k2+2];\n",
    "\n",
    "Result1=Simplify[\n",
    "    Psum[2,0,1,0]*(ZS[2,1,1,1]+ZS[1,2,1,1]+ZS[1,1,2,1])\n",
    "    +Psum[2,0,0,1]*ZS[1,1,1,2]\n",
    "    +Psum[1,1,1,0]*(ZS[2,1,1,1]+ZS[1,2,1,1])\n",
    "    +Psum[1,1,0,1]*(ZS[1,1,2,1]+ZS[1,1,1,2])\n",
    "    +Psum[0,2,1,0]*ZS[2,1,1,1]\n",
    "    +Psum[0,2,0,1]*(ZS[1,2,1,1]+ZS[1,1,2,1]+ZS[1,1,1,2])\n",
    "];\n",
    "\n",
    "Result2=Simplify[\n",
    "    Psum[2,0,1,0]*(ZS121[0,3]+ZS121[1,2]+ZS121[2,1])\n",
    "    +Psum[2,0,0,1]*ZS121[3,0]\n",
    "    +Psum[1,1,1,0]*(ZS121[0,3]+ZS121[1,2])\n",
    "    +Psum[1,1,0,1]*(ZS121[2,1]+ZS121[3,0])\n",
    "    +Psum[0,2,1,0]*ZS121[0,3]\n",
    "    +Psum[0,2,0,1]*(ZS121[1,2]+ZS121[2,1]+ZS121[3,0])\n",
    "];\n",
    "\n",
    "IndexSet[k_,r_]:=\n",
    "    Module[{\n",
    "        Ret={},\n",
    "        i\n",
    "    },\n",
    "    For[i=1,i<=r-1,i++,\n",
    "        Ret=Append[Ret,1]\n",
    "    ];\n",
    "    Ret=Append[Ret,k-r+1];\n",
    "    Return[Ret]\n",
    "];\n",
    "\n",
    "Result3=Simplify[\n",
    "    Psum[1,0,4,0]*(ZS[3,3,1]+ZS[2,4,1]+ZS[4,2,1]+ZS[1,5,1]+ZS[5,1,1])\n",
    "    +Psum[1,0,3,1]*(ZS[3,2,2]+ZS[2,3,2]+ZS[1,4,2]+ZS[4,1,2])\n",
    "    +Psum[1,0,2,2]*(ZS[2,2,3]+ZS[1,3,3]+ZS[3,1,3])\n",
    "    +Psum[1,0,1,3]*(ZS[2,1,4]+ZS[1,2,4])\n",
    "    +Psum[1,0,0,4]*(ZS[1,1,5])\n",
    "    +Psum[0,1,4,0]*(ZS[5,1,1])\n",
    "    +Psum[0,1,3,1]*(ZS[4,1,2]+ZS[4,2,1])\n",
    "    +Psum[0,1,2,2]*(ZS[3,1,3]+ZS[3,2,2]+ZS[3,3,1])\n",
    "    +Psum[0,1,1,3]*(ZS[2,4,1]+ZS[2,3,2]+ZS[2,2,3]+ZS[2,1,4])\n",
    "    +Psum[0,1,0,4]*(ZS[1,3,3]+ZS[1,2,4]+ZS[1,4,2]+ZS[1,1,5]+ZS[1,5,1])\n",
    "];\n",
    "\n",
    "Result4=Simplify[\n",
    "    Psum[1,0,4,0]*(ZS3[3,3,1]+ZS3[2,4,1]+ZS3[4,2,1]+ZS3[1,5,1]+ZS3[5,1,1])\n",
    "    +Psum[1,0,3,1]*(ZS3[3,2,2]+ZS3[2,3,2]+ZS3[1,4,2]+ZS3[4,1,2])\n",
    "    +Psum[1,0,2,2]*(ZS3[2,2,3]+ZS3[1,3,3]+ZS3[3,1,3])\n",
    "    +Psum[1,0,1,3]*(ZS3[2,1,4]+ZS3[1,2,4])\n",
    "    +Psum[1,0,0,4]*(ZS3[1,1,5])\n",
    "    +Psum[0,1,4,0]*(ZS3[5,1,1])\n",
    "    +Psum[0,1,3,1]*(ZS3[4,1,2]+ZS3[4,2,1])\n",
    "    +Psum[0,1,2,2]*(ZS3[3,1,3]+ZS3[3,2,2]+ZS3[3,3,1])\n",
    "    +Psum[0,1,1,3]*(ZS3[2,4,1]+ZS3[2,3,2]+ZS3[2,2,3]+ZS3[2,1,4])\n",
    "    +Psum[0,1,0,4]*(ZS3[1,3,3]+ZS3[1,2,4]+ZS3[1,4,2]+ZS3[1,1,5]+ZS3[1,5,1])\n",
    "];"
   ]
  },
  {
   "cell_type": "code",
   "execution_count": 12,
   "metadata": {},
   "outputs": [
    {
     "data": {
      "text/html": [
       "<style>\n",
       "\t\t\t\t\t\t\t\t\t\t\t\t\t.grid-container {\n",
       "\t\t\t\t\t\t\t\t\t\t\t\t\t\tdisplay: inline-grid;\n",
       "\t\t\t\t\t\t\t\t\t\t\t\t\t\tgrid-template-columns: auto;\n",
       "\t\t\t\t\t\t\t\t\t\t\t\t\t}\n",
       "\t\t\t\t\t\t\t\t\t\t\t\t</style>\n",
       "\n",
       "\t\t\t\t\t\t\t\t\t\t\t\t<div><div class=\"grid-container\"><div class=\"grid-item\"><pre style=\"&#102;&#111;&#110;&#116;&#45;&#102;&#97;&#109;&#105;&#108;&#121;&#58;&#32;&#34;&#67;&#111;&#117;&#114;&#105;&#101;&#114;&#32;&#78;&#101;&#119;&#34;&#44;&#67;&#111;&#117;&#114;&#105;&#101;&#114;&#44;&#109;&#111;&#110;&#111;&#115;&#112;&#97;&#99;&#101;&#59;\">&#123;&#48;&#125;</pre></div><div class=\"grid-item\"><pre style=\"&#102;&#111;&#110;&#116;&#45;&#102;&#97;&#109;&#105;&#108;&#121;&#58;&#32;&#34;&#67;&#111;&#117;&#114;&#105;&#101;&#114;&#32;&#78;&#101;&#119;&#34;&#44;&#67;&#111;&#117;&#114;&#105;&#101;&#114;&#44;&#109;&#111;&#110;&#111;&#115;&#112;&#97;&#99;&#101;&#59;\">&#123;&#48;&#125;</pre></div></div></div>"
      ],
      "text/plain": [
       "{0}\n",
       "{0}"
      ]
     },
     "execution_count": 12,
     "metadata": {
      "text/html": [],
      "text/plain": []
     },
     "output_type": "execute_result"
    }
   ],
   "source": [
    "Result4\n",
    "Result2"
   ]
  },
  {
   "cell_type": "code",
   "execution_count": 14,
   "metadata": {},
   "outputs": [
    {
     "data": {
      "text/html": [
       "<style>\n",
       "\t\t\t\t\t\t\t\t\t\t\t\t\t.grid-container {\n",
       "\t\t\t\t\t\t\t\t\t\t\t\t\t\tdisplay: inline-grid;\n",
       "\t\t\t\t\t\t\t\t\t\t\t\t\t\tgrid-template-columns: auto;\n",
       "\t\t\t\t\t\t\t\t\t\t\t\t\t}\n",
       "\t\t\t\t\t\t\t\t\t\t\t\t</style>\n",
       "\n",
       "\t\t\t\t\t\t\t\t\t\t\t\t<div><div class=\"grid-container\"><div class=\"grid-item\"><img alt=\"Output\" src=\"data:image/png;base64,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\"></div><div class=\"grid-item\"><img alt=\"Output\" src=\"data:image/png;base64,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\"></div></div></div>"
      ],
      "text/plain": [
       " -15 Z\n",
       "      5\n",
       "{------}\n",
       "   2\n",
       " -15 Z\n",
       "      5\n",
       "{------}\n",
       "   2"
      ]
     },
     "execution_count": 14,
     "metadata": {
      "text/html": [],
      "text/plain": []
     },
     "output_type": "execute_result"
    }
   ],
   "source": [
    "ZS212[2,0]\n",
    "ZS3[2,2,1]"
   ]
  },
  {
   "cell_type": "code",
   "execution_count": 16,
   "metadata": {},
   "outputs": [
    {
     "data": {
      "text/html": [
       "<div><img alt=\"Output\" src=\"data:image/png;base64,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\"></div>"
      ],
      "text/plain": [
       "        2        2\n",
       "{5 (2 L1  X1 + L2  X2) Z }\n",
       "                        5"
      ]
     },
     "execution_count": 16,
     "metadata": {
      "text/html": [],
      "text/plain": []
     },
     "output_type": "execute_result"
    }
   ],
   "source": [
    "Psum[2,0,1,0]*(ZS121[0,3]+ZS121[1,2]+ZS121[2,1])"
   ]
  },
  {
   "cell_type": "code",
   "execution_count": 15,
   "metadata": {},
   "outputs": [
    {
     "data": {
      "text/html": [
       "<div><pre style=\"&#102;&#111;&#110;&#116;&#45;&#102;&#97;&#109;&#105;&#108;&#121;&#58;&#32;&#34;&#67;&#111;&#117;&#114;&#105;&#101;&#114;&#32;&#78;&#101;&#119;&#34;&#44;&#67;&#111;&#117;&#114;&#105;&#101;&#114;&#44;&#109;&#111;&#110;&#111;&#115;&#112;&#97;&#99;&#101;&#59;\">&#51;&#46;&#50;&#49;&#55;&#55;&#55;</pre></div>"
      ],
      "text/plain": [
       "3.21777"
      ]
     },
     "execution_count": 15,
     "metadata": {
      "text/html": [],
      "text/plain": []
     },
     "output_type": "execute_result"
    }
   ],
   "source": [
    "N[6*1/Sqrt[3]*(1-1/9+1/25)]"
   ]
  },
  {
   "cell_type": "code",
   "execution_count": 38,
   "metadata": {},
   "outputs": [
    {
     "data": {
      "text/html": [
       "<style>\n",
       "\t\t\t\t\t\t\t\t\t\t\t\t\t.grid-container {\n",
       "\t\t\t\t\t\t\t\t\t\t\t\t\t\tdisplay: inline-grid;\n",
       "\t\t\t\t\t\t\t\t\t\t\t\t\t\tgrid-template-columns: auto;\n",
       "\t\t\t\t\t\t\t\t\t\t\t\t\t}\n",
       "\t\t\t\t\t\t\t\t\t\t\t\t</style>\n",
       "\n",
       "\t\t\t\t\t\t\t\t\t\t\t\t<div><div class=\"grid-container\"><div class=\"grid-item\"><img alt=\"Output\" src=\"data:image/png;base64,iVBORw0KGgoAAAANSUhEUgAAAGQAAAARCAIAAACkb55xAAAAhXpUWHRSYXcgcHJvZmlsZSB0eXBlIGV4aWYAAHjaVYvBDcMwDAP/mqIjyLJM2uMYiQNkg45fuu0n9yApgbT1vi97felp2dgxABc5csRU6P6juNciDXn+X9MfZGWgoRhTluEkhnJXkqKFN+LCAahYcIbnIV8gNQN3o86928QyPusLVffpbh/5eCey76LuBgAAAAlwSFlzAAALEwAACxMBAJqcGAAAADx0RVh0U29mdHdhcmUAQ3JlYXRlZCB3aXRoIHRoZSBXb2xmcmFtIExhbmd1YWdlIDogd3d3LndvbGZyYW0uY29tXKKmhQAAACF0RVh0Q3JlYXRpb24gVGltZQAyMDIwOjA3OjE4IDIxOjMxOjQ1xX2THgAAA0hJREFUWIXtmE1IKlEUx6fUQisIbBGEGRbRIqpF0i6sRRkUBUFB5LZVm9oUUZsSWgyEJEFIELWIPhCEPqgQBiIKSiaShKyxQFuI9UiUGlPH20Lf1Zxx5tqm98jf6p5z5z/3P4c75w6TBwDAcqCR/9MG/idyxcqCXLGy4EuxaJq+u7uDodlsrqqqYmvcbrfJZOrq6trZ2WHPBgIBuVy+tLQUD8fGxpqbm1GEKGSytLy83NraWllZ2dfXR1EUuiUeocPhiEajX24E/kKSpFartVqtMLO9va1QKACLjY2NwcHB0tJSg8HAngUALCwslJWV+f1+l8tVUFBAEASiUBBOS3t7e/X19bu7uycnJ1qttqGhAdESv3B1dbWzszMSicBMslhzc3MkSQo6g7S0tGR65nA4XFNTMzk5qdPpenp60IWCZLLEMEx8cHZ2hmHY+/s7oiV+4crKSuruEadusZKSku+9HWlIJBIcx4eGhjAMI0kyWzlBECqVSqlUokvy8xP9hKIohUIhlUoRLfELi4uLPz4+khfDUSwWQzcniEajYRimurq6rq4uW63D4fD5fN9YNBgMzszMjI+PZ2uJR8gwDBwninV+fm6z2Th75/eYn59vamp6fHy0WCzoqqurK4IgnE6nzWYjCILdqnmIRCIDAwMqlWp0dDQrSzxCtVq9trb28PAQDxOv4fPzc2FhoUgkQjfHg9vtXlxcPDw8PD4+npiY6O7uFovFwjIM83q9Pp/v9fXV6/XKZLKioiLEFaPR6PDwsMfjOT095VwrkyV+oVQqDYVCgUAgEcPuNT09TVFUWjetqKj4kwLDMLFYjKZpmqbVajWO4zRNh8PhtG6q0+k6OjoAAH6/Xy6XG41GAACKMI7RaLy4uOCc4rQUCoV6e3tra2tvb2/jybe3NxRLgsKtrS2z2QzDZLFmZ2fv7+9TL2V/DT09PcE9CRkZGUlV2e12kUgED9b4mR0MBgWFEIvF4nQ6Oac4LRkMhrTk1NQUiiVB4ebm5v7+Pkex9Hr9zc0Np8Vfy/r6+sHBAQyTxbq8vOzv77++vv4JV/8iVqu1ra3N4/HATB5I+UVjt9tfXl7a29vZDfIXcnR01NjYWF5eDjNfipWDn09pss7QKBa9NAAAAABJRU5ErkJggg==\"></div><div class=\"grid-item\"><img alt=\"Output\" src=\"data:image/png;base64,iVBORw0KGgoAAAANSUhEUgAAAI8AAAARCAIAAABrbWj3AAAAhXpUWHRSYXcgcHJvZmlsZSB0eXBlIGV4aWYAAHjaVYvBDcMwDAP/mqIjyLJM2uMYiQNkg45fuu0n9yApgbT1vi97felp2dgxABc5csRU6P6juNciDXn+X9MfZGWgoRhTluEkhnJXkqKFN+LCAahYcIbnIV8gNQN3o86928QyPusLVffpbh/5eCey76LuBgAAAAlwSFlzAAALEwAACxMBAJqcGAAAADx0RVh0U29mdHdhcmUAQ3JlYXRlZCB3aXRoIHRoZSBXb2xmcmFtIExhbmd1YWdlIDogd3d3LndvbGZyYW0uY29tXKKmhQAAACF0RVh0Q3JlYXRpb24gVGltZQAyMDIwOjA3OjE4IDIxOjMxOjQ1xX2THgAABDRJREFUWIXtmV8oe28cx/c1/zaUmjsNjVAkF5bciBsmhiKL7E7cSOGCRIRysdJYJClxIaZlYlqaTklWrDFZ2RxkU9b0y9pwtrOdnd/F/I7z3Tmb43xX399q76vn+Xyez7vn1afnPM/aLxRFGTFFieL+9gZi+oFi3YomxboVTfqtWxAEmc1m0nVGoxEbKxSKnJwc4hqLxbK8vFxXV7e9vU1vN6Gcl5aWKisrs7KympubQRDE4m9vbxaLhaI5huB0OjkczsLCQmDa399fVlYWEYQwzjQQjEajz+f7LYT+J71eLxAINBoNSpDL5Wpvb8emcrmcy+USl21sbIhEovT0dKlUSsxSEanz/v5+cXHx3t7e8fGxQCAoKSnBUjAMi0QiKs5BCLOzsxkZGQ6H4+7uLjExEQCASCGQOtNDWF1dra2t9Xq9WOSrW1NTU3q9nrRsYmJCrVZj01DdCqi8vDyy3UJRFEGQwOD09JTBYHx8fGCpubm53d3db52DEGAYzsvLGx4eFovFQqEwaPGfIIRypoewsrKCPz/x+EOWlpZGPI8oiqpUqvHxcRpfBlIBAMDj8bKzs6mXxMV9frFBEORyuSwWC0t1dXW1trY2NjaGKSciJCQkSCSSjo4OBoOh1+t/BhAWIZQzPYTU1FSPx/Nlgo38fj/pzkAQLCoq+hlNWBmNRrvdTqPQ5XKNjY0NDAzgg2w22+v1htp8QKQIVVVVCILk5uYWFhb+dCfhEcI400BAEAQbf3ZLq9XqdDrSG16n01VUVFCj+EYXFxcAAJhMJp1OBwAA/rL9Vl6vt62tjcfj9fb2BqUKCgpCPY4CIkWYmZkpLS19eHhQKpXUt0EFIZQzDQQ+n7+2tnZ/fx+Yfn4JX15ekpKSmEwmscDj8aSkpFDnCSObzWa3219fX202G5vNpm7r8/k6OzutVuvJyUl8fHxQNjk5GYbhMOVEBIvFMj8/r1arDw8Ph4aGGhoaiLb0EEI500NgsVhut9vpdH7OsRtsdHQUBEHiRXd5eTk4OIiPyOXyzMzMf3BCEMTv90MQBEEQn8+XSCQQBMEwTHpzymSys7Mz0hSps9vtbmpqys/Pv7m5CQTf39/xVUKhEP9wooIgFotrampQFHU4HBwORyaToSgaEQRSZ9oIW1tbCoUCm351a3Jy8vb2llgAw7BAIMBHiL9Fnp6esNOKqbu7m5RHqVSaTCbSFKmzVCoNCo6MjGAlfr+/vr6e1C0UwtXVFZPJxB7AgTe3y+X6c4RQzrQRNjc3VSoVNv3q1vT09PX1NWlNT0+P2WwmTf117ezsLC4ufrssShHW19cPDg6w6Ve3zs/PW1paDAYDsebx8bGvry/iu4yIRCKRx+P5dlk0Img0murqaqvVikUY+LTBYDg6OiJ1xH7t/6/kdru1Wi3FxVGHoFarn5+f8ZFfaOz/rejRv2EbpPqiiZOmAAAAAElFTkSuQmCC\"></div><div class=\"grid-item\"><img alt=\"Output\" src=\"data:image/png;base64,iVBORw0KGgoAAAANSUhEUgAAAI8AAAARCAIAAABrbWj3AAAAhXpUWHRSYXcgcHJvZmlsZSB0eXBlIGV4aWYAAHjaVYvBDcMwDAP/mqIjyLJM2uMYiQNkg45fuu0n9yApgbT1vi97felp2dgxABc5csRU6P6juNciDXn+X9MfZGWgoRhTluEkhnJXkqKFN+LCAahYcIbnIV8gNQN3o86928QyPusLVffpbh/5eCey76LuBgAAAAlwSFlzAAALEwAACxMBAJqcGAAAADx0RVh0U29mdHdhcmUAQ3JlYXRlZCB3aXRoIHRoZSBXb2xmcmFtIExhbmd1YWdlIDogd3d3LndvbGZyYW0uY29tXKKmhQAAACF0RVh0Q3JlYXRpb24gVGltZQAyMDIwOjA3OjE4IDIxOjMxOjQ1xX2THgAABDRJREFUWIXtmV8oe28cx/c1/zaUmjsNjVAkF5bciBsmhiKL7E7cSOGCRIRysdJYJClxIaZlYlqaTklWrDFZ2RxkU9b0y9pwtrOdnd/F/I7z3Tmb43xX399q76vn+Xyez7vn1afnPM/aLxRFGTFFieL+9gZi+oFi3YomxboVTfqtWxAEmc1m0nVGoxEbKxSKnJwc4hqLxbK8vFxXV7e9vU1vN6Gcl5aWKisrs7KympubQRDE4m9vbxaLhaI5huB0OjkczsLCQmDa399fVlYWEYQwzjQQjEajz+f7LYT+J71eLxAINBoNSpDL5Wpvb8emcrmcy+USl21sbIhEovT0dKlUSsxSEanz/v5+cXHx3t7e8fGxQCAoKSnBUjAMi0QiKs5BCLOzsxkZGQ6H4+7uLjExEQCASCGQOtNDWF1dra2t9Xq9WOSrW1NTU3q9nrRsYmJCrVZj01DdCqi8vDyy3UJRFEGQwOD09JTBYHx8fGCpubm53d3db52DEGAYzsvLGx4eFovFQqEwaPGfIIRypoewsrKCPz/x+EOWlpZGPI8oiqpUqvHxcRpfBlIBAMDj8bKzs6mXxMV9frFBEORyuSwWC0t1dXW1trY2NjaGKSciJCQkSCSSjo4OBoOh1+t/BhAWIZQzPYTU1FSPx/Nlgo38fj/pzkAQLCoq+hlNWBmNRrvdTqPQ5XKNjY0NDAzgg2w22+v1htp8QKQIVVVVCILk5uYWFhb+dCfhEcI400BAEAQbf3ZLq9XqdDrSG16n01VUVFCj+EYXFxcAAJhMJp1OBwAA/rL9Vl6vt62tjcfj9fb2BqUKCgpCPY4CIkWYmZkpLS19eHhQKpXUt0EFIZQzDQQ+n7+2tnZ/fx+Yfn4JX15ekpKSmEwmscDj8aSkpFDnCSObzWa3219fX202G5vNpm7r8/k6OzutVuvJyUl8fHxQNjk5GYbhMOVEBIvFMj8/r1arDw8Ph4aGGhoaiLb0EEI500NgsVhut9vpdH7OsRtsdHQUBEHiRXd5eTk4OIiPyOXyzMzMf3BCEMTv90MQBEEQn8+XSCQQBMEwTHpzymSys7Mz0hSps9vtbmpqys/Pv7m5CQTf39/xVUKhEP9wooIgFotrampQFHU4HBwORyaToSgaEQRSZ9oIW1tbCoUCm351a3Jy8vb2llgAw7BAIMBHiL9Fnp6esNOKqbu7m5RHqVSaTCbSFKmzVCoNCo6MjGAlfr+/vr6e1C0UwtXVFZPJxB7AgTe3y+X6c4RQzrQRNjc3VSoVNv3q1vT09PX1NWlNT0+P2WwmTf117ezsLC4ufrssShHW19cPDg6w6Ve3zs/PW1paDAYDsebx8bGvry/iu4yIRCKRx+P5dlk0Img0murqaqvVikUY+LTBYDg6OiJ1xH7t/6/kdru1Wi3FxVGHoFarn5+f8ZFfaOz/rejRv2EbpPqiiZOmAAAAAElFTkSuQmCC\"></div><div class=\"grid-item\"><img alt=\"Output\" src=\"data:image/png;base64,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\"></div></div></div>"
      ],
      "text/plain": [
       "{L1 X1 + L2 X2}\n",
       "{(L1 + L2) (X1 + X2)}\n",
       "{(L1 + L2) (X1 + X2)}\n",
       "{2 (L1 + L2) (X1 + X2)}"
      ]
     },
     "execution_count": 38,
     "metadata": {
      "text/html": [],
      "text/plain": []
     },
     "output_type": "execute_result"
    }
   ],
   "source": [
    "Secondsum[1,0,1,0]\n",
    "Secondsum[0,1,1,0]\n",
    "Secondsum[1,0,0,1]\n",
    "Secondsum[0,1,0,1]"
   ]
  },
  {
   "cell_type": "code",
   "execution_count": 51,
   "metadata": {},
   "outputs": [
    {
     "data": {
      "text/html": [
       "<style>\n",
       "\t\t\t\t\t\t\t\t\t\t\t\t\t.grid-container {\n",
       "\t\t\t\t\t\t\t\t\t\t\t\t\t\tdisplay: inline-grid;\n",
       "\t\t\t\t\t\t\t\t\t\t\t\t\t\tgrid-template-columns: auto;\n",
       "\t\t\t\t\t\t\t\t\t\t\t\t\t}\n",
       "\t\t\t\t\t\t\t\t\t\t\t\t</style>\n",
       "\n",
       "\t\t\t\t\t\t\t\t\t\t\t\t<div><div class=\"grid-container\"><div class=\"grid-item\"><img alt=\"Output\" src=\"data:image/png;base64,iVBORw0KGgoAAAANSUhEUgAAADIAAAARCAIAAAAQZWh+AAAAhXpUWHRSYXcgcHJvZmlsZSB0eXBlIGV4aWYAAHjaVYvBDcMwDAP/mqIjyLJM2uMYiQNkg45fuu0n9yApgbT1vi97felp2dgxABc5csRU6P6juNciDXn+X9MfZGWgoRhTluEkhnJXkqKFN+LCAahYcIbnIV8gNQN3o86928QyPusLVffpbh/5eCey76LuBgAAAAlwSFlzAAALEwAACxMBAJqcGAAAADx0RVh0U29mdHdhcmUAQ3JlYXRlZCB3aXRoIHRoZSBXb2xmcmFtIExhbmd1YWdlIDogd3d3LndvbGZyYW0uY29tXKKmhQAAACF0RVh0Q3JlYXRpb24gVGltZQAyMDIwOjA3OjE4IDIyOjAxOjQ5uoO/eAAAAt1JREFUSInNVk1LMlEUHj/wAwzaubI2EyRkFBEKhuCqgSICBVu4EMNNG6F2gUKI4Ka9C9E/oIuhoCDb9LVRREUXfi5yERSN4sA4o87cdzF1vTYqvfDG27O657nnnHvuee7cOzIAAPb7IP/fBUzGLy1L+RNJpQdDJpP9VYaxbvV6vWq1Ck2GYUiS9Hg8R0dHqFs0GrXZbAsLC/v7+/V6XZp0fX1djkClUgmCMKOIcrk8HA7HKPCJXC5HEEQ6nYZMrVZzuVwmk8lqtULy8vJyZWXl4uLi7u6OIIjV1VUgAcMwNE3TNP3+/r60tHRyciL1QZFIJLa3tweDAWRGZYVCoVwuJ405Pz9HywIA8DwvDp6ensSmTlsvGAziOD7DASIWi6EdUaJtm5ub+5bw8g/p6/W6wWDQarUT3YrFYiQSubm5meaAQqfTcRw3WgKOZssvBU3TgUDg+Ph44izP816v1+fz2Wy2bybkeX5kQDl2d3dRdWeICADo9/sEQdjt9okhAIBIJLK4uEjT9Be+WCxqNJpSqfSFbzQaDoej0WiMifj29qZWqxUKxXe2NRwO3W53q9V6eHhQKidcMZVK5ezsjCRJnU6H8p1Ox+fzWSwWaYhWq2VZttvtiuaHiHt7e0ajsdlsoq4cx7EsOxgMeJ5nWVbUnuM4p9OZz+dTqZQgCBRFMQyDRgmCcHh4uLOzs7GxQX1C7IHH4wmFQnq9XlrW/f291+tdW1sTzdFeVSoVGL8Gt7a2stks3M38/Hy73Y5GoyRJYhi2vLwsTp2enobDYRiVyWQeHx8xDEsmk5B8fX2Nx+PdbpeiqOfn56urKxzH1Wo1dAAAaDQaaI7Kksvl6LcgLiDdlt/v9/v9Uh7CbDaDSc//5uamXq/v9Xpi77/M9vv9sZcAHrpMJuNwOAqFwvTL5d/g4OCgXC6jTDqdttvtrVYLMhg6XSgUbm9vf7osKa6vr19eXlBGBn7l/9Yfi8mE6isUweMAAAAASUVORK5CYII=\"></div><div class=\"grid-item\"><img alt=\"Output\" src=\"data:image/png;base64,iVBORw0KGgoAAAANSUhEUgAAADsAAAARCAIAAADscEO0AAAAhXpUWHRSYXcgcHJvZmlsZSB0eXBlIGV4aWYAAHjaVYvBDcMwDAP/mqIjyLJM2uMYiQNkg45fuu0n9yApgbT1vi97felp2dgxABc5csRU6P6juNciDXn+X9MfZGWgoRhTluEkhnJXkqKFN+LCAahYcIbnIV8gNQN3o86928QyPusLVffpbh/5eCey76LuBgAAAAlwSFlzAAALEwAACxMBAJqcGAAAADx0RVh0U29mdHdhcmUAQ3JlYXRlZCB3aXRoIHRoZSBXb2xmcmFtIExhbmd1YWdlIDogd3d3LndvbGZyYW0uY29tXKKmhQAAACF0RVh0Q3JlYXRpb24gVGltZQAyMDIwOjA3OjE4IDIyOjAxOjQ5uoO/eAAAAv1JREFUSInVVk1IKlEUHkfRhgzctUoiLFpU0EISDKGV7gwKdeEiAjcRCLWLCiKCWdTeRSQug1oMBUUZD8RqMWJYDfQztMiFYk2Fg86Uzty30He76TRvWrwefat7vnPOPR9nzpkZHQAA+1HA/7eAL+PnKTZ8c73mIdTpdF+64UOPBUG4ubnRklYulymKmpiYmJqaQvlIJOJyuaxW6+joKMuyzYmDg4M4AqPRKMuySiGGYarV6gcK/EE6nfZ4PPF4HGjA7e2t3+/v7+93Op2Q3N3d7evr29nZSSQSHo9nYGCgObFcLvM8z/M8x3Hd3d2zs7PqhaLRqNvtrlQqkHlXvLy8nE6ntciFWFtbQxUDACRJqh1OTk5qj+Kz3MXFRZvNphIAsb6+jvbRgDa7ra1Ny0ioAMfrY8aybEdHB0EQimHn5+ckSR4eHn4WgMJsNr++vr6XgCf1efoSeJ5fWFiYmZlR9EqSNDk5GQqFXC6XxgslSYLnuuLT09NUKtXZ2YnGnZ2d/UKguEnNqFQqPp+vq6trenpaMWB1dfXx8ZEkyQb+4uKCIAiGYRp4u90ei8Xu7u5qZn0qHh4eTCaTXq9HQ/P5fKFQgGZra+tf5Var1WAwmM1mk8mkwaDw6ry+vl5aWqIoymw2o/zLy0soFHI4HM0pBEGIolgsFus2nOj5+XmWZTXunCiKgiCQJOlwOARBEEWxRnq93p6enqurK47jOI4rlUoNe+l0OsfHxzkEsizLsuz1eg8ODvx+/+XlZUOtzc3N7e1thc0zGo1A8z/G8PBwKpWCPbBYLM/Pz5FIhKIoDMN6e3trrrm5uZWVFZhF0/Tx8TGGYVtbW5AsFAobGxvFYvHp6en+/n5vb89ms5lMJhgAAGhpaYHmu2Icx9GVVAdN081kOBwOh8MqWUNDQ4pNsdvt7e3tgiBIkiSKYoP37e3tw3cRdpum6bGxsUwmo3Ew/gUCgQDDMCgTj8dHRkay2SxkMNSdyWSOjo6+SZ027O/v53I5lNGBn/Z//Bs2jfX9DqZu0gAAAABJRU5ErkJggg==\"></div></div></div>"
      ],
      "text/plain": [
       "{12 Z }\n",
       "     4\n",
       "{-12 Z }\n",
       "      4"
      ]
     },
     "execution_count": 51,
     "metadata": {
      "text/html": [],
      "text/plain": []
     },
     "output_type": "execute_result"
    }
   ],
   "source": [
    "3ZS121[2,0]\n",
    "2ZS121[1,1]"
   ]
  },
  {
   "cell_type": "markdown",
   "metadata": {},
   "source": [
    "1"
   ]
  },
  {
   "cell_type": "code",
   "execution_count": 14,
   "metadata": {},
   "outputs": [
    {
     "data": {
      "text/html": [
       "<div><img alt=\"Output\" src=\"data:image/png;base64,iVBORw0KGgoAAAANSUhEUgAAACoAAAARCAIAAAAkHKliAAAAhXpUWHRSYXcgcHJvZmlsZSB0eXBlIGV4aWYAAHjaVYvBDcMwDAP/mqIjyLJM2uMYiQNkg45fuu0n9yApgbT1vi97felp2dgxABc5csRU6P6juNciDXn+X9MfZGWgoRhTluEkhnJXkqKFN+LCAahYcIbnIV8gNQN3o86928QyPusLVffpbh/5eCey76LuBgAAAAlwSFlzAAALEwAACxMBAJqcGAAAADx0RVh0U29mdHdhcmUAQ3JlYXRlZCB3aXRoIHRoZSBXb2xmcmFtIExhbmd1YWdlIDogd3d3LndvbGZyYW0uY29tXKKmhQAAACF0RVh0Q3JlYXRpb24gVGltZQAyMDIwOjA3OjI0IDEyOjI5OjE3kmmc2QAAArxJREFUSInFVU1IMkEYHqXWFZJu7qGDVGtop8TCW+QpYcPLJkgnWbHbEhTe1EN28N41LEQ8iRAdEtNTPxfBPxSisIOBgqBBC/7v7nfYWqfd8uP7AZ/TPM/MvA/zvMOMgud5MD0op+g9ffuZf9ksb5xCofijCl9O3+12n56eRNrv9w8ODnAcX1lZ8Xq9o9FIstlkMikhIAjCcdwEs0qlIi3CfyKXy9lstnQ6LSrHx8dGo7FQKNzd3S0uLp6envJf0el0GIZhGKbVaun1+qOjI34izs/Pt7e3h8OhqIztg8FgLpeDV+/v79M0LYxpmj48PPypbiAQwHG80+lMtud5/uzsDD7hDByDRqOBg9nb2yMIwmAw2Gy2q6urWCz2baSlUikUCt3c3KjV6kl9BgAAMDc31+/3RTruvbxtq6urer3e7/cvLy/jOL6+vi4vx7IsRVEej2dzc/O33uKWMRFCeHh42NnZgbvCsqzJZPL5fBzHpVKppaUliqLkYYZCIZ1OxzCMRC+VSiiKlstliV6tVkmSrFarAv2wv7y8JEmS4zhx3fPzMwCg1WoJNJFIzM/PS2o9Pj6q1epUKiXR397eLBbL1taW3L5erxMEkc/nBfoRvt1uNxqNLy8vYioYhiEIcnFxwbLscDhMJpMLCwtwhhzHud1ugiDMZnP7E0JRl8sVDAYxDJMnf3t7S1HU2tqaQMdXD0EQHnpGNBpNNBqlafrk5GQ0GmEYFolE4ELZbPb+/h4AEI/HRbHZbIbD4ff393a7XavVrq+vcRxXqVRwr1EUFenYXqlUwncSAOBwOHZ3d+v1+uzsrFarlZzDYrHw331XGxsbGIZ1u12WZXu9nmR2MBh8eRnFrmSzWZIki8Wi/H79HZxOZ6VSgZV0Om21Wl9fX0UFwNPFYjGTyfwvezmSyWSj0YAVBT/V//4Xnk5BPIv9ki0AAAAASUVORK5CYII=\"></div>"
      ],
      "text/plain": [
       "{8 Z }\n",
       "    4"
      ]
     },
     "execution_count": 14,
     "metadata": {
      "text/html": [],
      "text/plain": []
     },
     "output_type": "execute_result"
    }
   ],
   "source": [
    "2ZS121[2,0]"
   ]
  },
  {
   "cell_type": "code",
   "execution_count": null,
   "metadata": {},
   "outputs": [],
   "source": []
  }
 ],
 "metadata": {
  "kernelspec": {
   "display_name": "Wolfram Language 12",
   "language": "Wolfram Language",
   "name": "wolframlanguage12"
  },
  "language_info": {
   "codemirror_mode": "mathematica",
   "file_extension": ".m",
   "mimetype": "application/vnd.wolfram.m",
   "name": "Wolfram Language",
   "pygments_lexer": "mathematica",
   "version": "12.0"
  }
 },
 "nbformat": 4,
 "nbformat_minor": 4
}
