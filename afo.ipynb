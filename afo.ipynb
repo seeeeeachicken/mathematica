{
 "cells": [
  {
   "cell_type": "code",
   "execution_count": 3,
   "metadata": {},
   "outputs": [],
   "source": [
    "test[n_]:=Pochhammer[l,n]-Pochhammer[-p+l,n]//Expand"
   ]
  },
  {
   "cell_type": "code",
   "execution_count": 5,
   "metadata": {},
   "outputs": [
    {
     "data": {
      "text/html": [
       "<div><pre style=\"&#102;&#111;&#110;&#116;&#45;&#102;&#97;&#109;&#105;&#108;&#121;&#58;&#32;&#34;&#67;&#111;&#117;&#114;&#105;&#101;&#114;&#32;&#78;&#101;&#119;&#34;&#44;&#67;&#111;&#117;&#114;&#105;&#101;&#114;&#44;&#109;&#111;&#110;&#111;&#115;&#112;&#97;&#99;&#101;&#59;\">&#123;&#48;&#44;&#32;&#48;&#44;&#32;&#48;&#44;&#32;&#48;&#44;&#32;&#48;&#44;&#32;&#48;&#44;&#32;&#48;&#44;&#32;&#48;&#44;&#32;&#48;&#44;&#32;&#48;&#44;&#32;&#48;&#44;&#32;&#48;&#44;&#32;&#48;&#44;&#32;&#48;&#44;&#32;&#48;&#44;&#32;&#48;&#44;&#32;&#48;&#44;&#32;&#48;&#44;&#32;&#48;&#44;&#32;&#48;&#44;&#32;&#48;&#44;&#32;&#48;&#44;&#32;&#48;&#44;&#32;&#48;&#44;&#32;&#48;&#44;&#32;&#48;&#44;&#32;&#48;&#44;&#32;&#48;&#44;&#32;&#48;&#44;&#32;&#10;&#32;&#10;&#62;&#32;&#32;&#32;&#48;&#44;&#32;&#48;&#44;&#32;&#48;&#44;&#32;&#48;&#44;&#32;&#48;&#44;&#32;&#48;&#44;&#32;&#48;&#44;&#32;&#48;&#44;&#32;&#48;&#44;&#32;&#48;&#44;&#32;&#48;&#44;&#32;&#48;&#44;&#32;&#48;&#44;&#32;&#48;&#44;&#32;&#48;&#44;&#32;&#48;&#44;&#32;&#48;&#44;&#32;&#48;&#44;&#32;&#48;&#44;&#32;&#48;&#44;&#32;&#48;&#44;&#32;&#48;&#44;&#32;&#48;&#44;&#32;&#48;&#44;&#32;&#48;&#44;&#32;&#48;&#44;&#32;&#48;&#44;&#32;&#48;&#44;&#32;&#10;&#32;&#10;&#62;&#32;&#32;&#32;&#48;&#44;&#32;&#48;&#44;&#32;&#48;&#44;&#32;&#48;&#44;&#32;&#48;&#44;&#32;&#48;&#44;&#32;&#48;&#44;&#32;&#48;&#44;&#32;&#48;&#44;&#32;&#48;&#44;&#32;&#48;&#44;&#32;&#48;&#44;&#32;&#48;&#44;&#32;&#48;&#44;&#32;&#48;&#44;&#32;&#48;&#44;&#32;&#48;&#44;&#32;&#48;&#44;&#32;&#48;&#44;&#32;&#48;&#44;&#32;&#48;&#44;&#32;&#48;&#44;&#32;&#48;&#44;&#32;&#48;&#44;&#32;&#48;&#44;&#32;&#48;&#44;&#32;&#48;&#44;&#32;&#48;&#44;&#32;&#10;&#32;&#10;&#62;&#32;&#32;&#32;&#48;&#44;&#32;&#48;&#44;&#32;&#48;&#44;&#32;&#48;&#44;&#32;&#48;&#44;&#32;&#48;&#44;&#32;&#48;&#44;&#32;&#48;&#44;&#32;&#48;&#44;&#32;&#48;&#44;&#32;&#48;&#44;&#32;&#48;&#44;&#32;&#48;&#44;&#32;&#48;&#44;&#32;&#48;&#44;&#32;&#48;&#44;&#32;&#48;&#44;&#32;&#48;&#44;&#32;&#48;&#44;&#32;&#48;&#44;&#32;&#48;&#44;&#32;&#48;&#44;&#32;&#48;&#44;&#32;&#48;&#44;&#32;&#48;&#44;&#32;&#48;&#44;&#32;&#48;&#44;&#32;&#48;&#44;&#32;&#10;&#32;&#10;&#62;&#32;&#32;&#32;&#48;&#44;&#32;&#48;&#44;&#32;&#48;&#44;&#32;&#48;&#44;&#32;&#48;&#44;&#32;&#48;&#44;&#32;&#48;&#44;&#32;&#48;&#44;&#32;&#48;&#44;&#32;&#48;&#44;&#32;&#48;&#44;&#32;&#48;&#44;&#32;&#48;&#44;&#32;&#48;&#44;&#32;&#48;&#44;&#32;&#48;&#44;&#32;&#48;&#44;&#32;&#48;&#44;&#32;&#48;&#44;&#32;&#48;&#44;&#32;&#48;&#44;&#32;&#48;&#44;&#32;&#48;&#44;&#32;&#48;&#44;&#32;&#48;&#44;&#32;&#48;&#44;&#32;&#48;&#44;&#32;&#48;&#44;&#32;&#10;&#32;&#10;&#62;&#32;&#32;&#32;&#48;&#44;&#32;&#48;&#44;&#32;&#48;&#44;&#32;&#48;&#44;&#32;&#48;&#44;&#32;&#48;&#44;&#32;&#48;&#44;&#32;&#48;&#44;&#32;&#48;&#44;&#32;&#48;&#44;&#32;&#48;&#44;&#32;&#48;&#44;&#32;&#48;&#44;&#32;&#48;&#44;&#32;&#48;&#44;&#32;&#48;&#44;&#32;&#48;&#44;&#32;&#48;&#44;&#32;&#48;&#44;&#32;&#48;&#44;&#32;&#48;&#44;&#32;&#48;&#44;&#32;&#48;&#44;&#32;&#48;&#44;&#32;&#48;&#44;&#32;&#48;&#44;&#32;&#48;&#44;&#32;&#48;&#44;&#32;&#10;&#32;&#10;&#62;&#32;&#32;&#32;&#48;&#44;&#32;&#48;&#44;&#32;&#48;&#44;&#32;&#48;&#44;&#32;&#48;&#44;&#32;&#48;&#44;&#32;&#48;&#44;&#32;&#48;&#44;&#32;&#48;&#44;&#32;&#48;&#44;&#32;&#48;&#44;&#32;&#48;&#44;&#32;&#48;&#44;&#32;&#48;&#44;&#32;&#48;&#44;&#32;&#48;&#44;&#32;&#48;&#44;&#32;&#48;&#44;&#32;&#48;&#44;&#32;&#48;&#44;&#32;&#48;&#44;&#32;&#48;&#44;&#32;&#48;&#44;&#32;&#48;&#44;&#32;&#48;&#44;&#32;&#48;&#44;&#32;&#48;&#44;&#32;&#48;&#44;&#32;&#10;&#32;&#10;&#62;&#32;&#32;&#32;&#48;&#44;&#32;&#48;&#44;&#32;&#48;&#125;</pre></div>"
      ],
      "text/plain": [
       "{0, 0, 0, 0, 0, 0, 0, 0, 0, 0, 0, 0, 0, 0, 0, 0, 0, 0, 0, 0, 0, 0, 0, 0, 0, 0, 0, 0, 0, \n",
       " \n",
       ">   0, 0, 0, 0, 0, 0, 0, 0, 0, 0, 0, 0, 0, 0, 0, 0, 0, 0, 0, 0, 0, 0, 0, 0, 0, 0, 0, 0, \n",
       " \n",
       ">   0, 0, 0, 0, 0, 0, 0, 0, 0, 0, 0, 0, 0, 0, 0, 0, 0, 0, 0, 0, 0, 0, 0, 0, 0, 0, 0, 0, \n",
       " \n",
       ">   0, 0, 0, 0, 0, 0, 0, 0, 0, 0, 0, 0, 0, 0, 0, 0, 0, 0, 0, 0, 0, 0, 0, 0, 0, 0, 0, 0, \n",
       " \n",
       ">   0, 0, 0, 0, 0, 0, 0, 0, 0, 0, 0, 0, 0, 0, 0, 0, 0, 0, 0, 0, 0, 0, 0, 0, 0, 0, 0, 0, \n",
       " \n",
       ">   0, 0, 0, 0, 0, 0, 0, 0, 0, 0, 0, 0, 0, 0, 0, 0, 0, 0, 0, 0, 0, 0, 0, 0, 0, 0, 0, 0, \n",
       " \n",
       ">   0, 0, 0, 0, 0, 0, 0, 0, 0, 0, 0, 0, 0, 0, 0, 0, 0, 0, 0, 0, 0, 0, 0, 0, 0, 0, 0, 0, \n",
       " \n",
       ">   0, 0, 0}"
      ]
     },
     "execution_count": 5,
     "metadata": {
      "text/html": [],
      "text/plain": []
     },
     "output_type": "execute_result"
    }
   ],
   "source": [
    "Table[Coefficient[test[n],p,0],{n,1,200}]"
   ]
  },
  {
   "cell_type": "code",
   "execution_count": 144,
   "metadata": {},
   "outputs": [
    {
     "data": {
      "text/html": [
       "<style>\n",
       "\t\t\t\t\t\t\t\t\t\t\t\t\t.grid-container {\n",
       "\t\t\t\t\t\t\t\t\t\t\t\t\t\tdisplay: inline-grid;\n",
       "\t\t\t\t\t\t\t\t\t\t\t\t\t\tgrid-template-columns: auto;\n",
       "\t\t\t\t\t\t\t\t\t\t\t\t\t}\n",
       "\t\t\t\t\t\t\t\t\t\t\t\t</style>\n",
       "\n",
       "\t\t\t\t\t\t\t\t\t\t\t\t<div><div class=\"grid-container\"><div class=\"grid-item\"><img alt=\"Output\" src=\"data:image/png;base64,iVBORw0KGgoAAAANSUhEUgAAAB4AAAARCAIAAABFBIsgAAAAhXpUWHRSYXcgcHJvZmlsZSB0eXBlIGV4aWYAAHjaVYvBDcMwDAP/mqIjyLJM2uMYiQNkg45fuu0n9yApgbT1vi97felp2dgxABc5csRU6P6juNciDXn+X9MfZGWgoRhTluEkhnJXkqKFN+LCAahYcIbnIV8gNQN3o86928QyPusLVffpbh/5eCey76LuBgAAAAlwSFlzAAALEwAACxMBAJqcGAAAADx0RVh0U29mdHdhcmUAQ3JlYXRlZCB3aXRoIHRoZSBXb2xmcmFtIExhbmd1YWdlIDogd3d3LndvbGZyYW0uY29tXKKmhQAAACF0RVh0Q3JlYXRpb24gVGltZQAyMDIwOjA2OjEzIDE4OjMwOjM4clB+QwAAAT9JREFUOI3tlLGKwjAYx78eQqGiOGStdCh9gg4FseBo6Ft06G5nx46FTr5CJ+kgOugjOHSwFHGQTCItxU6lVSQOvZPeDafH1eHgflP+Sb5fAl8IQymF1/D2Iu+fVTcAIMuy1WrleR7HcZPJpE714XBwXTcMw3a7XZcXAIB+YNt2r9ejv+ByuVRjo5b7BUEwHo9brVaappZlLZdLVVVrUGdZpuv6fD5HCBFCTNM8n8+maT6l9n0/TdN75HleFMV7nE6niqIghABAEITNZuM4DpRtfMjxeIyi6B6bzWZ1dbfbYYzL8Xa7JYQMBoN3dVEUZROu12ue5wzDsCxbLR4Oh98cLEnS6XQqPYZhYIzjOO52u0AplWW5urXT6fzoYSRJgjEejUb9fn+xWMxmM03T1us1PC59jv1+/2WGof8/3ydu5MRU+on66J4AAAAASUVORK5CYII=\"></div><div class=\"grid-item\"><img alt=\"Output\" src=\"data:image/png;base64,iVBORw0KGgoAAAANSUhEUgAAAB4AAAARCAIAAABFBIsgAAAAhXpUWHRSYXcgcHJvZmlsZSB0eXBlIGV4aWYAAHjaVYvBDcMwDAP/mqIjyLJM2uMYiQNkg45fuu0n9yApgbT1vi97felp2dgxABc5csRU6P6juNciDXn+X9MfZGWgoRhTluEkhnJXkqKFN+LCAahYcIbnIV8gNQN3o86928QyPusLVffpbh/5eCey76LuBgAAAAlwSFlzAAALEwAACxMBAJqcGAAAADx0RVh0U29mdHdhcmUAQ3JlYXRlZCB3aXRoIHRoZSBXb2xmcmFtIExhbmd1YWdlIDogd3d3LndvbGZyYW0uY29tXKKmhQAAACF0RVh0Q3JlYXRpb24gVGltZQAyMDIwOjA2OjEzIDE4OjMwOjM4clB+QwAAAYFJREFUOI3VlD2LwkAQQCdHgqBB1MZKq7TaiEgQBBshjZ0/wM5K7NL4F2ws7MTSUntBsDEpxJA02lgqfiAbiIrBLGMRLsjBHWK0uFftLLNvZxZ2GESEz/D1Ie+/VbMAcLlcRqPRYDAIBoOdTsePTtM0lmVTqRS4VW82m36/P5/PDcN4WbpcLqvV6nQ6HQ6HjUYDAAC/abVa+XweX6Verx+PR0SklBYKBURk/bTvYZomISQWix0Oh3a7XSqVwH1r/6iqmsvlVFWVZdmyrPF4/Kxa0zTTNL0wkUgIgvCYoChKuVzOZDKTycQwDEmSFEV5Sr3dbvf7vReGQqEfCbquN5tNd51Op8PhMCGEBQDbthHxdrtRSq/XK8MwgUDg8aQkSX9cjIiO43Ac54an04lSGo1GGUTMZrOz2cxLjUQihJBnunFZLBbdbpfjuPP5zPP8arWq1WrFYpHxP556vR7P85VKZbfb2badTCbd/Td89PV6LYoiAMTjcc8LAG+o+jc+OJ7uiBjtJrpSLWEAAAAASUVORK5CYII=\"></div><div class=\"grid-item\"><img alt=\"Output\" src=\"data:image/png;base64,iVBORw0KGgoAAAANSUhEUgAAACcAAAARCAIAAADR4iLSAAAAhXpUWHRSYXcgcHJvZmlsZSB0eXBlIGV4aWYAAHjaVYvBDcMwDAP/mqIjyLJM2uMYiQNkg45fuu0n9yApgbT1vi97felp2dgxABc5csRU6P6juNciDXn+X9MfZGWgoRhTluEkhnJXkqKFN+LCAahYcIbnIV8gNQN3o86928QyPusLVffpbh/5eCey76LuBgAAAAlwSFlzAAALEwAACxMBAJqcGAAAADx0RVh0U29mdHdhcmUAQ3JlYXRlZCB3aXRoIHRoZSBXb2xmcmFtIExhbmd1YWdlIDogd3d3LndvbGZyYW0uY29tXKKmhQAAACF0RVh0Q3JlYXRpb24gVGltZQAyMDIwOjA2OjEzIDE4OjMwOjM4clB+QwAAAYZJREFUOI3lVT2LwkAUfHsJBLMipg2IGPwJRouUVgmkTONfsM0fEFvtxNZOSy3sUlhZWymsnRDCYhPBIH4g7wo5kbucBs7ziptq2ZnZYfe93SWICC/H2+sj/1mqeJ/e7Xae5w2HQ1mWu93ui1KDIBgMBovFIpPJPCsSAAAToN1uG4aRRPkVpml2Op1yuUwprVarvu8j4nPqOplMVqtVLMUYazabrut6nsc5r9fr8PCEE2I+n6fT6Xw+H8u2Wi3HcQCg0WjUajVEFAFgNpttNpurKJfLFYvFhHkXL2NMEIQoimK9giBcBqqqHo/HMAxFAOCcr9frq4hSmnSPH94wDDnnsizf906nU0qpoigiAJim+Z3ucDgg4ul0Op/P+/2eECJJ0q3g4t1ut5VKRdf12EXG47Ft28vlstfr2bZNCHnQw6VS6dafzWZjZaPRiDEWS2maput6KpUCAMMwgiBAxEQ35yfQNK3f70dRxDm/Tj6nhx+CUnpb8l9/hy3LKhQKnyYJ/sX/+g7wfKaQVHi7+gAAAABJRU5ErkJggg==\"></div><div class=\"grid-item\"><img alt=\"Output\" src=\"data:image/png;base64,iVBORw0KGgoAAAANSUhEUgAAAB4AAAARCAIAAABFBIsgAAAAhXpUWHRSYXcgcHJvZmlsZSB0eXBlIGV4aWYAAHjaVYvBDcMwDAP/mqIjyLJM2uMYiQNkg45fuu0n9yApgbT1vi97felp2dgxABc5csRU6P6juNciDXn+X9MfZGWgoRhTluEkhnJXkqKFN+LCAahYcIbnIV8gNQN3o86928QyPusLVffpbh/5eCey76LuBgAAAAlwSFlzAAALEwAACxMBAJqcGAAAADx0RVh0U29mdHdhcmUAQ3JlYXRlZCB3aXRoIHRoZSBXb2xmcmFtIExhbmd1YWdlIDogd3d3LndvbGZyYW0uY29tXKKmhQAAACF0RVh0Q3JlYXRpb24gVGltZQAyMDIwOjA2OjEzIDE4OjMwOjM4clB+QwAAAS1JREFUOI3tlDGrgmAUho+XpgRxEhqiwf6BDYJtDYlztLvoEDQ15u5gq9Ta0iIIrv4IB+GbWlxUBEGX/KbOHaS43Lsk1YUL993ew8tzDufAYRAR3qOPN3H/LLoHAJfLJQxD3/f7/b7ruq9Ep2l6Op0IIRzHvYoLAIA37XY7RVGwu67Xq6qqtm23drVarddrROw9PxzDMJvNRtO0+XyeZdnxeIzjGNqFPK/ZbGaapq7rdV07jjMajR5FR1FUVdXdDofD8Xj8LWNZ1mAwEEXRMIy28hA6z/OiKO6WZdmfme12K0kSIcTzvMViAQCAiJTSpmls25ZluWkaSmnXSwZBwLLs+Xw+HA48zydJgoiAiJPJ5Gt/nuc7ccuyFARhv9+3drlcTqdTRGTw/z39FvoTRVsbUN2CsJ4AAAAASUVORK5CYII=\"></div><div class=\"grid-item\"><img alt=\"Output\" src=\"data:image/png;base64,iVBORw0KGgoAAAANSUhEUgAAAGAAAAARCAIAAACthD4LAAAAhXpUWHRSYXcgcHJvZmlsZSB0eXBlIGV4aWYAAHjaVYvBDcMwDAP/mqIjyLJM2uMYiQNkg45fuu0n9yApgbT1vi97felp2dgxABc5csRU6P6juNciDXn+X9MfZGWgoRhTluEkhnJXkqKFN+LCAahYcIbnIV8gNQN3o86928QyPusLVffpbh/5eCey76LuBgAAAAlwSFlzAAALEwAACxMBAJqcGAAAADx0RVh0U29mdHdhcmUAQ3JlYXRlZCB3aXRoIHRoZSBXb2xmcmFtIExhbmd1YWdlIDogd3d3LndvbGZyYW0uY29tXKKmhQAAACF0RVh0Q3JlYXRpb24gVGltZQAyMDIwOjA2OjEzIDE4OjMwOjM4clB+QwAAA6ZJREFUWIXtmE9IKl0UwK/5kGooKiIpinJsEQVRSBJYUrhJs6wIk0CojZtQIjcFtmvRokWQCyUIKioSJUmwTQgtcqI/SAqiEWWQMRjDFBpEoedbzPf5hVnvTa9Hb9FvdY73np9nLnPuYjgAgL55m5yvbuBv5/uAfsL3Af2EHITQ8fFxf39/dXW1WCx2OBxf3dLX4/P5AoEAE+fE43GNRtPR0bG1taVUKoeGhoLB4Nf294WEQqHR0VGv1+t0OsfHxxFCCACSyST8R2Vl5fLyMrBELpebzWaxWIxhmEwmu76+ZlWeSqW6urpmZ2eZdGxszGAwsO2B4fn5+WOFDAaDgaIoAEgmk1KpFADQy+X7+3sej3dwcJC12OPxRCKRrEs4jvP5fJvN5vV6GxoaVCoVW8Pu7i6Px/P5fG63u6Cg4K1t7xAIBPr6+rRabU9Pj9/vn5ubOzw8ZGWgaVqr1QJALBYzmUwzMzOQcUA6nU4ikaRSqaz1CwsLb/0ljuOrq6tMbLfbeTxeVsk7BgDQ6/VNTU0CgcBqtf7aE/3Pw8ODWCy+vb0FgMvLy4GBAaVSyVays7NjNpsJgpBKpc3NzTRNA8CP9PhZLBabzUYQBIfDyZhMn893d3cXDoe5XG4ikaiqqqqtrc3Yw+VymaCiouLp6Ymm6ZKSElaG6enp8vJyoVCo0+le3w6MIZ1mGBwOR2tra2lpKUKopqYmEAjMz8+zMiCECILo7e0ViUR7e3t+v18ulxME8e8Bra2tGY1Gl8tVV1f3ujmSJGOxGE3TJEnm5+djGPZ6T5r9/X0Mw4qLi9kaTCaTSCQKBoN2u31wcDBrD+k0w3B2dqZQKJg4FApFIpHOzk5WBoTQ6empyWRi4sbGxsLCQpqmEQAsLi7m5uZubm5SFEVRFPNqveb9ERseHo7H4ycnJ/X19RqNhq1he3sbw7Dz83Or1VpUVHR1dcVqOlZWVjY2NgDg8fFRKpWqVCq2hlQq1d3dnU7j8bhMJgMAFI1GM2ZKKBRmVTidznA4nHUJx/GWlpa8vDyEkEQiubm5YWWgKKqsrMxisTCpWq1ua2tj9XgURSkUiomJifb2drfb7XK5lErl0dHRrxuCwaDRaJycnNTr9VNTU2q12uPxQMYl/WFwHF9fX08kEiRJforwY1xcXHy4dmlpyWazAQBJki/fvh/o88Aw7P3r6U8jEAg+XBuNRkdGRhBCfD7/5e+fc0AKheJ3mvsbSF/PGXDg+3vQu/wD1xiZlVHM0wsAAAAASUVORK5CYII=\"></div></div></div>"
      ],
      "text/plain": [
       "1 - α\n",
       "1 - β\n",
       "-1 + p\n",
       "1 - x\n",
       "2 + p + x - α - β"
      ]
     },
     "execution_count": 145,
     "metadata": {
      "text/html": [],
      "text/plain": []
     },
     "output_type": "execute_result"
    }
   ],
   "source": [
    "\n",
    "a=B1-A1 \n",
    "b=B1-A2\n",
    "n=-A3\n",
    "c=B1\n",
    "d=B1+B2-A1-A2\n",
    "\n"
   ]
  },
  {
   "cell_type": "code",
   "execution_count": 1,
   "metadata": {},
   "outputs": [
    {
     "data": {
      "text/html": [
       "<div><img alt=\"Output\" src=\"data:image/png;base64,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\"></div>"
      ],
      "text/plain": [
       "1 + a + b - c - n"
      ]
     },
     "execution_count": 1,
     "metadata": {
      "text/html": [],
      "text/plain": []
     },
     "output_type": "execute_result"
    }
   ],
   "source": [
    "1-n+a+b-c"
   ]
  },
  {
   "cell_type": "code",
   "execution_count": 151,
   "metadata": {},
   "outputs": [
    {
     "data": {
      "text/html": [
       "<style>\n",
       "\t\t\t\t\t\t\t\t\t\t\t\t\t.grid-container {\n",
       "\t\t\t\t\t\t\t\t\t\t\t\t\t\tdisplay: inline-grid;\n",
       "\t\t\t\t\t\t\t\t\t\t\t\t\t\tgrid-template-columns: auto;\n",
       "\t\t\t\t\t\t\t\t\t\t\t\t\t}\n",
       "\t\t\t\t\t\t\t\t\t\t\t\t</style>\n",
       "\n",
       "\t\t\t\t\t\t\t\t\t\t\t\t<div><div class=\"grid-container\"><div class=\"grid-item\"><img alt=\"Output\" src=\"data:image/png;base64,iVBORw0KGgoAAAANSUhEUgAAAB4AAAARCAIAAABFBIsgAAAAhXpUWHRSYXcgcHJvZmlsZSB0eXBlIGV4aWYAAHjaVYvBDcMwDAP/mqIjyLJM2uMYiQNkg45fuu0n9yApgbT1vi97felp2dgxABc5csRU6P6juNciDXn+X9MfZGWgoRhTluEkhnJXkqKFN+LCAahYcIbnIV8gNQN3o86928QyPusLVffpbh/5eCey76LuBgAAAAlwSFlzAAALEwAACxMBAJqcGAAAADx0RVh0U29mdHdhcmUAQ3JlYXRlZCB3aXRoIHRoZSBXb2xmcmFtIExhbmd1YWdlIDogd3d3LndvbGZyYW0uY29tXKKmhQAAACF0RVh0Q3JlYXRpb24gVGltZQAyMDIwOjA2OjEzIDE4OjMwOjQxRM1QIAAAAT9JREFUOI3tlLGKwjAYx78eQqGiOGStdCh9gg4FseBo6Ft06G5nx46FTr5CJ+kgOugjOHSwFHGQTCItxU6lVSQOvZPeDafH1eHgflP+Sb5fAl8IQymF1/D2Iu+fVTcAIMuy1WrleR7HcZPJpE714XBwXTcMw3a7XZcXAIB+YNt2r9ejv+ByuVRjo5b7BUEwHo9brVaappZlLZdLVVVrUGdZpuv6fD5HCBFCTNM8n8+maT6l9n0/TdN75HleFMV7nE6niqIghABAEITNZuM4DpRtfMjxeIyi6B6bzWZ1dbfbYYzL8Xa7JYQMBoN3dVEUZROu12ue5wzDsCxbLR4Oh98cLEnS6XQqPYZhYIzjOO52u0AplWW5urXT6fzoYSRJgjEejUb9fn+xWMxmM03T1us1PC59jv1+/2WGof8/3ydu5MRU+on66J4AAAAASUVORK5CYII=\"></div><div class=\"grid-item\"><img alt=\"Output\" src=\"data:image/png;base64,iVBORw0KGgoAAAANSUhEUgAAAEoAAAARCAIAAAD1+60SAAAAhXpUWHRSYXcgcHJvZmlsZSB0eXBlIGV4aWYAAHjaVYvBDcMwDAP/mqIjyLJM2uMYiQNkg45fuu0n9yApgbT1vi97felp2dgxABc5csRU6P6juNciDXn+X9MfZGWgoRhTluEkhnJXkqKFN+LCAahYcIbnIV8gNQN3o86928QyPusLVffpbh/5eCey76LuBgAAAAlwSFlzAAALEwAACxMBAJqcGAAAADx0RVh0U29mdHdhcmUAQ3JlYXRlZCB3aXRoIHRoZSBXb2xmcmFtIExhbmd1YWdlIDogd3d3LndvbGZyYW0uY29tXKKmhQAAACF0RVh0Q3JlYXRpb24gVGltZQAyMDIwOjA2OjEzIDE4OjMwOjQy3cQBmgAAAqtJREFUSIntl09IKkEYwKcMITdFI4wEIVdPdRHUFKwg6NKyoYhECIInT0rgue4FCkIo7tUgRQylwIvhLQ8rISRIipQdkqUQAzWXEOcdFiJMzQ3D9+L9TvPNnx/ftzuzzE5ACMHvZXLcCfws/8v7l5kCALy+viaTyVgsxuPx/H7/uFMaJVMAgEqlEgqF8vm8QCAYdz4jZhIAoFAowuGwzWb7tgXDMJ/Pp9VqZ2ZmNjc3Hx8fWS2HEG5tbR0dHTGhw+HY29v7XibtdrtbzeDxePR6PexPKpUql8s9h1AUnZ+fj0Qi6XR6eXnZYDCwNVxeXnK53Gw2m0gk+Hx+v2kDyOVyRqPRarVub2/f3Ny43W6SJFmUd3x8TJJkzyEURU9OTph2NBrlcrmdToeVAULodDqVSqVMJiMIYqiCPtBsNldWVp6fnyGE9/f3JpMJx3EI4dQwbzybzb68vBQKBQ6H02g0pFKpQqHomsPhcJiGRCJ5e3ur1Wqzs7OsDAcHBwsLC3K53G6398vhPewynJ2d6XS6ubk5AMDi4mIul/N6vYD5tHwJRVFPT0+1Wo2iKB6PhyDIgMlXV1cIgohEIraG/f19lUqVz+ej0ajZbO6Zw3vYZSgWixiGMe3b29tyubyxsQEAABBCmqZbrdbh4aFOp2u1WjRN99wAgzenxWKp1+vX19dLS0u7u7tsDefn5wiClEolgiCEQuHDwwOrzRkMBkOhEFPL+vq6wWBgDABCqFarPz4JoVDYUxGPxwuFQr/yNBrN9PQ0AECv11cqFVaGarUqFosDgQAT7uzsrK6usiqvWq1iGOZyudbW1hKJxMXFBY7jmUwGfL10CFAUPT09bTQaFEWNRPg97u7uunqGOntDgiDI4GP508hksq6e0dw5MQz7rP4bmIC/+n/vDxWSQncL/W18AAAAAElFTkSuQmCC\"></div><div class=\"grid-item\"><img alt=\"Output\" src=\"data:image/png;base64,iVBORw0KGgoAAAANSUhEUgAAAB4AAAARCAIAAABFBIsgAAAAhXpUWHRSYXcgcHJvZmlsZSB0eXBlIGV4aWYAAHjaVYvBDcMwDAP/mqIjyLJM2uMYiQNkg45fuu0n9yApgbT1vi97felp2dgxABc5csRU6P6juNciDXn+X9MfZGWgoRhTluEkhnJXkqKFN+LCAahYcIbnIV8gNQN3o86928QyPusLVffpbh/5eCey76LuBgAAAAlwSFlzAAALEwAACxMBAJqcGAAAADx0RVh0U29mdHdhcmUAQ3JlYXRlZCB3aXRoIHRoZSBXb2xmcmFtIExhbmd1YWdlIDogd3d3LndvbGZyYW0uY29tXKKmhQAAACF0RVh0Q3JlYXRpb24gVGltZQAyMDIwOjA2OjEzIDE4OjMwOjQy3cQBmgAAAS1JREFUOI3tlDGrgmAUho+XpgRxEhqiwf6BDYJtDYlztLvoEDQ15u5gq9Ta0iIIrv4IB+GbWlxUBEGX/KbOHaS43Lsk1YUL993ew8tzDufAYRAR3qOPN3H/LLoHAJfLJQxD3/f7/b7ruq9Ep2l6Op0IIRzHvYoLAIA37XY7RVGwu67Xq6qqtm23drVarddrROw9PxzDMJvNRtO0+XyeZdnxeIzjGNqFPK/ZbGaapq7rdV07jjMajR5FR1FUVdXdDofD8Xj8LWNZ1mAwEEXRMIy28hA6z/OiKO6WZdmfme12K0kSIcTzvMViAQCAiJTSpmls25ZluWkaSmnXSwZBwLLs+Xw+HA48zydJgoiAiJPJ5Gt/nuc7ccuyFARhv9+3drlcTqdTRGTw/z39FvoTRVsbUN2CsJ4AAAAASUVORK5CYII=\"></div><div class=\"grid-item\"><img alt=\"Output\" src=\"data:image/png;base64,iVBORw0KGgoAAAANSUhEUgAAAB4AAAARCAIAAABFBIsgAAAAhXpUWHRSYXcgcHJvZmlsZSB0eXBlIGV4aWYAAHjaVYvBDcMwDAP/mqIjyLJM2uMYiQNkg45fuu0n9yApgbT1vi97felp2dgxABc5csRU6P6juNciDXn+X9MfZGWgoRhTluEkhnJXkqKFN+LCAahYcIbnIV8gNQN3o86928QyPusLVffpbh/5eCey76LuBgAAAAlwSFlzAAALEwAACxMBAJqcGAAAADx0RVh0U29mdHdhcmUAQ3JlYXRlZCB3aXRoIHRoZSBXb2xmcmFtIExhbmd1YWdlIDogd3d3LndvbGZyYW0uY29tXKKmhQAAACF0RVh0Q3JlYXRpb24gVGltZQAyMDIwOjA2OjEzIDE4OjMwOjQy3cQBmgAAAXFJREFUOI3VlL+KwkAQh2cvgpgV0VYQSfARTCxSWkVIaeMr2OYFJG3sxNZOy6RIl8LK2iqBtRMkLDYRDOIfZK6QO0TCnR6xuK9aZn58xewwBBHhPXy8yftv1TkAOBwOvu87jiOK4ng8zlIdRdFsNgvDsFQqZeUFAMAvhsOhpmn4J3RdH41GqqpSStvt9mazQcQXZj2fz9frdWqLMWZZlmmavu9zzvv9PtwG8iRBEBSLxXq9ntq1bbvb7QLAYDDo9XqI+JR6uVzudjvGmCAISZLUarVGo/GQEQTh9qhWq+fzOY7jp9Sc8+12G8cx51wURUrpD+HFYkEprVQqOQA4nU6IeLlcrtfr8XgkhOTz+fu0rusAsN/vW62WoiipRs/zDMNYrVaTycQwDEIIIGKz2bwPlcvl1DVwXZcxltqSZVlRlEKhAACapkVRhIiQGn0VWZan02mSJJzz7+ILG/IrlNL7b8jmhnQ6HUmSHooE33avPwEwuklvCAoK5QAAAABJRU5ErkJggg==\"></div></div></div>"
      ],
      "text/plain": [
       "1 - α\n",
       "1 + p + x - α\n",
       "1 - x\n",
       "1 + p"
      ]
     },
     "execution_count": 151,
     "metadata": {
      "text/html": [],
      "text/plain": []
     },
     "output_type": "execute_result"
    }
   ],
   "source": [
    "B1-A1\n",
    "B2-A1\n",
    "B1\n",
    "B2"
   ]
  },
  {
   "cell_type": "code",
   "execution_count": 167,
   "metadata": {},
   "outputs": [
    {
     "data": {
      "text/html": [
       "<style>\n",
       "\t\t\t\t\t\t\t\t\t\t\t\t\t.grid-container {\n",
       "\t\t\t\t\t\t\t\t\t\t\t\t\t\tdisplay: inline-grid;\n",
       "\t\t\t\t\t\t\t\t\t\t\t\t\t\tgrid-template-columns: auto;\n",
       "\t\t\t\t\t\t\t\t\t\t\t\t\t}\n",
       "\t\t\t\t\t\t\t\t\t\t\t\t</style>\n",
       "\n",
       "\t\t\t\t\t\t\t\t\t\t\t\t<div><div class=\"grid-container\"><div class=\"grid-item\"><img alt=\"Output\" src=\"data:image/png;base64,iVBORw0KGgoAAAANSUhEUgAAAF4AAAARCAIAAADbvoyAAAAAhXpUWHRSYXcgcHJvZmlsZSB0eXBlIGV4aWYAAHjaVYvBDcMwDAP/mqIjyLJM2uMYiQNkg45fuu0n9yApgbT1vi97felp2dgxABc5csRU6P6juNciDXn+X9MfZGWgoRhTluEkhnJXkqKFN+LCAahYcIbnIV8gNQN3o86928QyPusLVffpbh/5eCey76LuBgAAAAlwSFlzAAALEwAACxMBAJqcGAAAADx0RVh0U29mdHdhcmUAQ3JlYXRlZCB3aXRoIHRoZSBXb2xmcmFtIExhbmd1YWdlIDogd3d3LndvbGZyYW0uY29tXKKmhQAAACF0RVh0Q3JlYXRpb24gVGltZQAyMDIwOjA2OjEzIDE4OjM0OjQ3IsxiQgAAA6xJREFUWIXtmE9IMkEUwMfPkGopKiIpinLtEAVRSBJYUnhJs6wIk0Coi5dQIi8FduvQoUOQByUIKioSJUmwSwgdcqM/SAqLRpRBxmIsW2gQhc53WBBZ/2VBdeh3ejPz5sfzsW8OsiCE4I90/PvpAn4vf63JyF9rMpKjNefn58PDw/X19UKh0GazfU9NP4jH4/H5fHScrTWRSESlUvX09Ozt7cnl8rGxMRzHv6XCH8Dv909OTrrdbrvdPj09DQAAMCuxWCwR19bWrq+vMxKkUqnRaBQKhQiCSCSS+/v77EIG8Xi8r69vcXGRXk5NTel0urwMCd7f3z93kUan05EkCSGMxWJisRhCmKM1CZ6fnzkczsnJCWMfRVEul2uxWNxud0tLi0KhyLemw8NDDofj8XicTmdJSUkwGEyb5nK5Mh35fL6hoSG1Wj0wMOD1epeWlk5PT/MyUBSlVqshhOFw2GAwLCwswI+3RqPRiESieDzO2EdRdHNzk46tViuHw0nNyYlWq21ra+PxeGazOVPOyspK2h/88vIiFAofHx8hhLe3tyMjI3K5PC8DhPDg4MBoNGIYJhaL29vbKYqCEBYAADwez9PTU2Lq6urqGhsbk+fQZDJZLBYMw1gsVuqUstlsOqipqXl7e6MoqqKiInGaUw4AmJ+fr66u5vP5Go0m1U8bAoEAm82ORqMMg81m6+zsrKysBAA0NDT4fL7l5eW8DAAADMMGBwcFAsHR0ZHX65VKpRiGFQAACIIIh8OJPARBkq9tbW3p9XqHw9HU1JRadzLHx8cIgpSXlydvZpfTGAwGgUCA47jVah0dHWWc0gaKogiCKC4uZhiurq5kMhkd+/3+YDDY29ublwEAcHl5aTAY6Li1tbW0tJSiqBwDtbq6WlhYuLu7S5IkSZL0l5YMiqLj4+ORSOTi4qK5uVmlUmUXprK/v48gyPX1tdlsLisru7u7y2scNjY2dnZ2IISvr69isVihUORriMfj/f39iWUkEpFIJDD7WxMKhRgTxOfzGTkoinZ0dBQVFQEARCLRw8NDFmEqJElWVVWZTCZ6qVQqu7q60mba7fZAIJDWIJPJZmZmuru7nU6nw+GQy+VnZ2cfN+A4rtfrZ2dntVrt3NycUql0uVzw489wJlAU3d7ejkajBEF8UfUVbm5uPn13bW3NYrFACAmCSP7iCrK+Hh8FQZC0j8i3wePxPn03FApNTEwAALhcbvL+V1sjk8m+UtZvIPEAM2DBv/9rMvAfv2l1ubRwFBkAAAAASUVORK5CYII=\"></div><div class=\"grid-item\"><img alt=\"Output\" src=\"data:image/png;base64,iVBORw0KGgoAAAANSUhEUgAAACcAAAARCAIAAADR4iLSAAAAhXpUWHRSYXcgcHJvZmlsZSB0eXBlIGV4aWYAAHjaVYvBDcMwDAP/mqIjyLJM2uMYiQNkg45fuu0n9yApgbT1vi97felp2dgxABc5csRU6P6juNciDXn+X9MfZGWgoRhTluEkhnJXkqKFN+LCAahYcIbnIV8gNQN3o86928QyPusLVffpbh/5eCey76LuBgAAAAlwSFlzAAALEwAACxMBAJqcGAAAADx0RVh0U29mdHdhcmUAQ3JlYXRlZCB3aXRoIHRoZSBXb2xmcmFtIExhbmd1YWdlIDogd3d3LndvbGZyYW0uY29tXKKmhQAAACF0RVh0Q3JlYXRpb24gVGltZQAyMDIwOjA2OjEzIDE4OjM0OjQ3IsxiQgAAAZlJREFUOI3tVE2rAWEUPi5ZmJSFlIUyjR+glCxQlqYRSbOztSJlzQ9QFsrGbG1sKFGzkh8wFlOmZKRm7CYSC8pCHYspaXx1b9Gte5/Ve877fPSet44JEeHj+Pp85H/qn0xFxHg8Xq1W9TKfzxeLxZ/FnE4no/UTDIdDq9UqiiLP83a7XVXVu7TRaPToSpKkVCqVzWYTicRkMqnVaoIgvEhFxEKh4Pf7SZLkOO4Rp9FoCIJw2z8cDsFgcL1eI6KiKOl0mmEYRLQAgCiKu93u8nqPx+Pz+S5lpVJxu90UReVyudvR6VpZls1m836/N2i73W4oFHI6nQDg9XolSarX6wBgAQBN01ar1YVKEMS1b7lcDgQC0+m00+lkMhlDqq7dbreaptlsNoN2Pp/TNK2fZ7OZqqqxWOz1v/b7fYIgFosFx3EOh2O5XH5rwq1Wq91uI+LxeIxGo8lkUnd4lrrZbFwuV7PZ1EuWZcPh8F1mr9eTZfmuA03TpVIpEonwPD8YDBiGGY/HJnz/9lcUhSTJ684nUm/x+3bT+3AGSYLd8ROXzZ0AAAAASUVORK5CYII=\"></div><div class=\"grid-item\"><img alt=\"Output\" src=\"data:image/png;base64,iVBORw0KGgoAAAANSUhEUgAAACcAAAARCAIAAADR4iLSAAAAhXpUWHRSYXcgcHJvZmlsZSB0eXBlIGV4aWYAAHjaVYvBDcMwDAP/mqIjyLJM2uMYiQNkg45fuu0n9yApgbT1vi97felp2dgxABc5csRU6P6juNciDXn+X9MfZGWgoRhTluEkhnJXkqKFN+LCAahYcIbnIV8gNQN3o86928QyPusLVffpbh/5eCey76LuBgAAAAlwSFlzAAALEwAACxMBAJqcGAAAADx0RVh0U29mdHdhcmUAQ3JlYXRlZCB3aXRoIHRoZSBXb2xmcmFtIExhbmd1YWdlIDogd3d3LndvbGZyYW0uY29tXKKmhQAAACF0RVh0Q3JlYXRpb24gVGltZQAyMDIwOjA2OjEzIDE4OjM0OjQ3IsxiQgAAAYZJREFUOI3lVT2LwkAUfHsJBLMipg2IGPwJRouUVgmkTONfsM0fEFvtxNZOSy3sUlhZWymsnRDCYhPBIH4g7wo5kbucBs7ziptq2ZnZYfe93SWICC/H2+sj/1mqeJ/e7Xae5w2HQ1mWu93ui1KDIBgMBovFIpPJPCsSAAAToN1uG4aRRPkVpml2Op1yuUwprVarvu8j4nPqOplMVqtVLMUYazabrut6nsc5r9fr8PCEE2I+n6fT6Xw+H8u2Wi3HcQCg0WjUajVEFAFgNpttNpurKJfLFYvFhHkXL2NMEIQoimK9giBcBqqqHo/HMAxFAOCcr9frq4hSmnSPH94wDDnnsizf906nU0qpoigiAJim+Z3ucDgg4ul0Op/P+/2eECJJ0q3g4t1ut5VKRdf12EXG47Ft28vlstfr2bZNCHnQw6VS6dafzWZjZaPRiDEWS2maput6KpUCAMMwgiBAxEQ35yfQNK3f70dRxDm/Tj6nhx+CUnpb8l9/hy3LKhQKnyYJ/sX/+g7wfKaQVHi7+gAAAABJRU5ErkJggg==\"></div><div class=\"grid-item\"><img alt=\"Output\" src=\"data:image/png;base64,iVBORw0KGgoAAAANSUhEUgAAAFUAAAARCAIAAAAjXnd3AAAAhXpUWHRSYXcgcHJvZmlsZSB0eXBlIGV4aWYAAHjaVYvBDcMwDAP/mqIjyLJM2uMYiQNkg45fuu0n9yApgbT1vi97felp2dgxABc5csRU6P6juNciDXn+X9MfZGWgoRhTluEkhnJXkqKFN+LCAahYcIbnIV8gNQN3o86928QyPusLVffpbh/5eCey76LuBgAAAAlwSFlzAAALEwAACxMBAJqcGAAAADx0RVh0U29mdHdhcmUAQ3JlYXRlZCB3aXRoIHRoZSBXb2xmcmFtIExhbmd1YWdlIDogd3d3LndvbGZyYW0uY29tXKKmhQAAACF0RVh0Q3JlYXRpb24gVGltZQAyMDIwOjA2OjEzIDE4OjM0OjQ3IsxiQgAAAyRJREFUWIXtl01IKlEUx6/5GKpLYBFFUZTXFlGboBqEqSja1DBhRZQEQSsXRS1qW3sXBUEtlFYVJYnSh+Aq2vWBfQgKkhFlUDIUwxRaDkXet5AnMTO+14j1HvR+q3PO/Pmfc4Z7YUaFMQbfmKy/PcBf5v/+35ssAMDz8/PW1tbw8PDIyEh6LsfHxz09PRUVFSRJOp3OjE74uWQBAMLhsM1mOz099fl8aVhEIhGj0dja2rqxscEwzMDAQCAQyPScnwb+xezsLEVROC3e3t6ScVlZ2dLSkkjQ2dm5sLBAkiSEsL29/ebmRpF/PB7v6Ogwm82JdHR0dHx8PL1RX19f36eZ2T/J4+MjQRCHh4eiOkKouLjYbrfv7+/X1tYaDAalzjs7OwRBeL1et9udl5cXCoVkZbu7u6ke+f3+7u7uoaGhrq4un883MzPj8XgyvL/JZKIoKh6Pi+oIoZWVlUTscDgIgpBq/sjY2FhdXZ1Wq7Varak08/PzHo9HWn96eiJJ8v7+HmN8dXXV29vLMAzG+MdH7ojX6314eEim5eXlVVVVUpnFYrHb7QcHByqVSvpUrVYngtLS0peXF57nCwoKFLWYnp4uKSnR6XQmkynVkMFgUK1WR6NRkYPT6dTr9YWFhQCAyspKv98/NzcHAPjQ/izL3t3dJVMIoVSzuro6OTnpcrmqq6t/77a3twchzM/PV9piamqqvr4+EAg4HI6+vj7ZIXmeZ1k2NzdX5HB+fk7TdCI+OzsLhUJtbW0AAIAxFgQhFouZzWa9Xh+LxQRBUHoyFxcXs7Oz19fXOY7jOI7neZEAITQ4OBiJRE5OTmpqaoxGo9IW29vbEMKLiwur1arRaK6vr2Vlqc7/8vKyzWbDGAuC0NLSYjAYEg4AY9zQ0PD+VWk0GkWT3d7eig68TqcTaRBCjY2NOTk5AACKosLhsKIWHMcVFRVZLJZE2t/f39TUJKvc3NwMBoOyDjRNT0xMNDc3u91ul8vFMMzR0RGQSj8DhNDa2lo0GmVZ9ms6ynJ5eSmqfOj+ZwoIoezF/jK0Wq2o8kXf/zRNS3v/C6jw9/7//wlwFa/AQu//YwAAAABJRU5ErkJggg==\"></div><div class=\"grid-item\"><img alt=\"Output\" src=\"data:image/png;base64,iVBORw0KGgoAAAANSUhEUgAAADQAAAARCAIAAAAdexg5AAAAhXpUWHRSYXcgcHJvZmlsZSB0eXBlIGV4aWYAAHjaVYvBDcMwDAP/mqIjyLJM2uMYiQNkg45fuu0n9yApgbT1vi97felp2dgxABc5csRU6P6juNciDXn+X9MfZGWgoRhTluEkhnJXkqKFN+LCAahYcIbnIV8gNQN3o86928QyPusLVffpbh/5eCey76LuBgAAAAlwSFlzAAALEwAACxMBAJqcGAAAADx0RVh0U29mdHdhcmUAQ3JlYXRlZCB3aXRoIHRoZSBXb2xmcmFtIExhbmd1YWdlIDogd3d3LndvbGZyYW0uY29tXKKmhQAAACF0RVh0Q3JlYXRpb24gVGltZQAyMDIwOjA2OjEzIDE4OjM0OjQ4snN/0wAAAhxJREFUSIntlk3LKWEYx+85IzJTQlaKkHwCbyULWZlmFB/BxsJOvoG1UmRrodgQRTYWVjYsLEhmFl5K00Qa5SUvcZ+Fc57jGfLIozyL81td9zX/+99/7q57GgRCCH4qv94d4B7/wz2LCACw2WxqtVqxWMQwLJVKvTvSP0QAAJZlc7lcr9eTyWTvzvMZ+JdYLOZwOOBTeDyeZDJptVpxHHe73ZPJ5Dmfw+FwuXzNzNE0HY1GI5FIrVbjOC4UCt2U1ev18Xh881G32/X5fIFAwOv1djqdWCzWarVec3IGgyGTyZzrfD4vFotPp9O1LJFINJvN6/56vbZarbPZDEI4HA79fj9JkhBC0SMH0263F4vFx1Kj0RiNRoEGRdFzoVar9/s9z/NKpVLgQNM0iqKr1UrgUCgU7Ha7SqUCAOh0uk6nE4/HwflCfAnHcdPp9GOJ4/gdcaPRwHFcoVBcO/A8z3EchmECB4ZhCII41/1+fzQauVyuP+F2u915GI/H43a7RRBEIpFcbvZ4PF++QKVSoSiKYZh0Ok1RFIIg1w7L5dJms1ksFsFek8nE8/w5STAYJAhiNptptVoAITSbzZdSuVz+xMxZLBapVAoAcDgcLMvelJVKJZqmr/vz+ZwgiHA47HQ6q9VquVwmSfLThfgOBoMhm82uViuO4542GQwGgs5DM/cgOI7fH8f76PV6Qec13zmCIK6tvw8Cf/D/3G9G+rSkQwQIZgAAAABJRU5ErkJggg==\"></div></div></div>"
      ],
      "text/plain": [
       "-2 p - x + α + β\n",
       "-x + α\n",
       "-1 + p\n",
       "1 - 2 p - x + α\n",
       "1 - p + α"
      ]
     },
     "execution_count": 167,
     "metadata": {
      "text/html": [],
      "text/plain": []
     },
     "output_type": "execute_result"
    }
   ],
   "source": [
    "a2=1-(B1+B2-A1-A2-A3)\n",
    "b2=A1\n",
    "n2=-A3\n",
    "c2=1+A1-B2+A3\n",
    "1+A1-B1+A3"
   ]
  },
  {
   "cell_type": "code",
   "execution_count": 172,
   "metadata": {},
   "outputs": [
    {
     "data": {
      "text/html": [
       "<div><img alt=\"Output\" src=\"data:image/png;base64,iVBORw0KGgoAAAANSUhEUgAAAGAAAAARCAIAAACthD4LAAAAhXpUWHRSYXcgcHJvZmlsZSB0eXBlIGV4aWYAAHjaVYvBDcMwDAP/mqIjyLJM2uMYiQNkg45fuu0n9yApgbT1vi97felp2dgxABc5csRU6P6juNciDXn+X9MfZGWgoRhTluEkhnJXkqKFN+LCAahYcIbnIV8gNQN3o86928QyPusLVffpbh/5eCey76LuBgAAAAlwSFlzAAALEwAACxMBAJqcGAAAADx0RVh0U29mdHdhcmUAQ3JlYXRlZCB3aXRoIHRoZSBXb2xmcmFtIExhbmd1YWdlIDogd3d3LndvbGZyYW0uY29tXKKmhQAAACF0RVh0Q3JlYXRpb24gVGltZQAyMDIwOjA2OjEzIDE4OjM0OjUwpbPGoAAAA2BJREFUWIXtmEFIKlEUhm9PEXIoLCIpCHJqVRSFJYI1EG5ysowIiUCoTZtQojYF066Fi4Igidy0KEgQIymwRSG0yIGihkYQjSiDksGQCbSUorlvMbwQ0XKshy36VufMnPPz38Pcs5gSCCH4JTd/im3gp/M7oE/4HdAniAEAz8/PBwcHOzs7Uql0dXW12JaKD0VRYrG4paUF8F9QJBJxOBzn5+c0TRfbW5EJBoPj4+M+n8/tdk9NTQEAAPzH0tKSRqOBBaHT6Ww2m0qlQhBEq9Xe3d0Jauc4rre312q18unk5KTFYinMyevra2GNPBaLJRaLQQjf3t4wDIMQfs+AUBSVy+VOp9Pn8zU3NxsMBqEKh4eHEomEoiiPx1NWVhYOh7OWeb3eXK/8fv/g4KDJZOrv76dpenFx8eTkRJACy7ImkwlCGI1GCYJYWFiA3zigzc1NPna5XBKJhOM4oSJms7mtrU2hUNjt9lw1KysrWY/99PSkUqkeHh4ghDc3N0NDQ3q9XpAChHB/f99ms5EkiWFYe3s7y7IQQnE+N5OiqMfHx/e0rq6usbExo0YkEvFBbW3ty8sLy7KVlZWCFObn52tqahoaGiYmJnJ5CIVCIpEokUhkKGxvb6vV6qqqKgBAfX293+9fXl4WpAAAIElyYGBAqVQeHR3RNK3T6UiSzGtADMNEo9H3FEGQD4qPj48RBKmoqBCqQBCEUqkMBAIul2t4eDirB5ZlGYaRSqUZCpeXlziO83EwGAyHwz09PYIUAAAXFxcEQfBxa2treXk5y7IAQphKpZLJpNVqVavVyWQylUoJvR0oio6Ojsbj8bOzs6amppGREaEKu7u7CIJcXV3Z7XaZTHZ7e5u1LNcF2djYcDgc/FkwDDMYDEIVOI7r6+t7T+PxuFarhfwO6ujoSB+kTCYTejwURTs7O0tLSwEAGo0mEokIao/FYtXV1Wtra3xqNBq7urqyVrrd7lAolFUBx/Hp6enu7m6Px7O3t6fX609PT/NXCAQCMzMzs7OzZrN5bm7OaDR6vV6YvqS/AoqiW1tbiUSCYZhvESyM6+vrgnvX19edTieEkGGY9K8vrx2UJwiCfLye/jcKhaLg3vv7+7GxMQCAXC5Pf/49A8Jx/CvmfgLv6zmDEvj7P+hD/gIGF4/Ly2bEpQAAAABJRU5ErkJggg==\"></div>"
      ],
      "text/plain": [
       "1 - p - x + α + β"
      ]
     },
     "execution_count": 172,
     "metadata": {
      "text/html": [],
      "text/plain": []
     },
     "output_type": "execute_result"
    }
   ],
   "source": [
    "1-n2+a2+b2-c2"
   ]
  },
  {
   "cell_type": "code",
   "execution_count": 21,
   "metadata": {},
   "outputs": [
    {
     "data": {
      "text/html": [
       "<style>\n",
       "\t\t\t\t\t\t\t\t\t\t\t\t\t.grid-container {\n",
       "\t\t\t\t\t\t\t\t\t\t\t\t\t\tdisplay: inline-grid;\n",
       "\t\t\t\t\t\t\t\t\t\t\t\t\t\tgrid-template-columns: auto;\n",
       "\t\t\t\t\t\t\t\t\t\t\t\t\t}\n",
       "\t\t\t\t\t\t\t\t\t\t\t\t</style>\n",
       "\n",
       "\t\t\t\t\t\t\t\t\t\t\t\t<div><div class=\"grid-container\"><div class=\"grid-item\"><img alt=\"Output\" src=\"data:image/png;base64,iVBORw0KGgoAAAANSUhEUgAAAJEAAAARCAIAAABSCtmsAAAAhXpUWHRSYXcgcHJvZmlsZSB0eXBlIGV4aWYAAHjaVYvBDcMwDAP/mqIjyLJM2uMYiQNkg45fuu0n9yApgbT1vi97felp2dgxABc5csRU6P6juNciDXn+X9MfZGWgoRhTluEkhnJXkqKFN+LCAahYcIbnIV8gNQN3o86928QyPusLVffpbh/5eCey76LuBgAAAAlwSFlzAAALEwAACxMBAJqcGAAAADx0RVh0U29mdHdhcmUAQ3JlYXRlZCB3aXRoIHRoZSBXb2xmcmFtIExhbmd1YWdlIDogd3d3LndvbGZyYW0uY29tXKKmhQAAACF0RVh0Q3JlYXRpb24gVGltZQAyMDIwOjA2OjE4IDE2OjM1OjQyQsVxAgAAB1VJREFUWIXtmX9IU98bx8+9a8pcpNdQcmm2qZWV2NLUtJHkLxxaMyM1sfmHZpim2ChDE7M/QsogTEYlpIU6Ylbij4KQCu9qRKkZw5/VdM6NLLdoTF1u5/PH6Xvx6+Y+aX0+ER9ff537fp7znOee59xz7t0wCCFY4Y8C/90JrLBkVmr25/HLatbY2Hjp0iVrPT8/nyTJXzXKCgDVLCoqCsdxHMfXrFkTEREhk8mWEaivr+/58+fWekdHh0ql+tk0fykqlYokyZ6eHkoxGo0tLS2ZmZm5ubm/MTGbkCRJkqROp6MUHABgsVjOnz8/PT3d1dXl6el54MABi8Xy+5L8x6mrq5PL5RqNhlImJiaampq6u7v7+vp+Y2LWQAhHR0clEsmLFy8o8fveiOO4o6NjYGCgSCT6/Pnz2NgYAEAul4eFhTGZzICAgNbWVqrPmzdvYmNjXVxcNmzYcOrUqZmZGaTTaLSSkhIvL6/g4OB79+5R/h8/fhQIBARBHD58eGhoCIk9PT2HDh0iCILNZldUVBgMBgBASUlJTk4Oi8USCATl5eVubm5isRgAEBQUlJub6+rqevXq1cjIyE2bNr19+xbFaWtrCwwMdHJyCg4Oph70kZGRqKgotVqdkpLi6urq7e09Nzc3fy4EAgGfz6cufX19JRJJZmbmsmc2Pj6+srISXebl5RUUFCwpAp/Pr6mpCQ0NXb16dXR0tFqtRjqGYenp6Tweb77zwvOss7OTTqezWCyNRhMXF7dr1y65XH7kyJGkpKTe3l4AgEql2rt379q1azs7O+vq6vr7+798+YL6Njc3a7Xau3fv+vv7nzx5kop59uxZPp/f1NSkUChQDQAA9+/f53A4jx49qq+vr62tbW5uBgCo1eoHDx6IxeKOjg6FQpGVlVVdXQ0A6O/vV6vV+fn5hYWFqampBEEgf7lcnpycnJeX9/r1ax6Pt3//fpTM9PS0XC6PiYlxc3OTSqVisXjVqlVLmkSbPHnyZHR01FrHMEwkEpWVlfX29j58+PD27dtFRUVLijw4OHjhwgWRSPT48WOtVnvixAl73hDCyMjIgICA1NRUPz8/DMMqKyshhJcvX/b19TWbzRBCCGF0dHRubi6EsKyszN/ff25uDv4/Z86ciYyMRO13794BAIaHhyGEHA6npqYG6RcvXuRyufN76fV6kiQFAsHBgwchhEKhsLCwEEK4efPm3t5ekiQdHR0hhAwGQyaT9fX1+fn5QQiLiooyMjIghKmpqVlZWSjU7Oyss7Nze3s7hBBtcSKRCNqioqIC5baAqqqqiIgIm10Q1dXVL1++XMyan5+/Y8cONpt9/fp1O0FswuFw7ty5g9pSqdTBwcFisVBWiUSC7gvxffWxWCwul7tv377w8PBt27YBAEZGRgICAnD8+4PI5XLRczYwMLB7924ajWZdfhcXF9TYuHEjAIA6NgmCQA02m02JAwMDOTk5CoUiJCRkcnLSwcEB6SgyjUaj0WiUSCmUFUIIABgaGuru7q6vr0c+FotlcnKS6lJeXv536/tH6enp0ev1g4ODNBrNYDB4eXn5+vou8Dl37pyHh4ePj8+xY8eWMQQ1pSwWy2Qy6XQ6V1dXm57fS8Lj8U6fPp2dnY0KBgDw8PCYmJig/MbHx1ksFtI/fPiwjJwWkJSUtHPnTo1G09HRkZaWtrwgHh4eBQUFpv8xNzcnFAopK4ZhP58nQqvVjo2N6XQ61JiamrL2KS0tDQoKmpiYkEqlC0wajUav1//gWDKZjMlkUgvdmkW/zxITE1+9eiWRSAAAJEk2NzcLBAIAQHJy8tOnT8ViMYTQaDRWVFQolcofzGY+o6OjoaGhdDq9v7+/oaFhGREAACkpKTdv3nz27BkAwGQytbS0LC/O7OzszMzMt2/fzGbzzMzM7OzsAof4+HihUBgWFpaQkCAUCkNCQhY4tLa2NjQ0NDY2VlVVZWdno5c4hF6v9/Hx8fPzM5lMdnJoa2szGAzd3d23bt1KTEy0s+AWrRmXy71x48bx48ednJxiYmJKS0tRzXg8Xm1tbVlZGYPBIAiCJEkUHcMwaiNdgM3hi4uLjx496ubmlpSUFB4eTvVFzugSfTXaCZ6RkVFSUpKQkODu7k4QhFgsNhqNi41ohz179jAYjOLiYrlczmAw1q1bZ9PNy8vL2dnZWp+amsrKyqqqqkIbY2xsbHp6OmVlMpnbt2//9OkT9c5sk+HhYXd396CgIIIgrly5Yi9d+2ej2WxWKpUmk8naND4+/vXr16UetvPR6/UajeZnIiDMZrNKpTIajT/ov9g7yD+HUqkkCMLmNCI4HE5jY6PBYNBqtdZW2+8gi4HjuLe3t03T+vXr7ff9W5ydnW0u26WC47inp+eSurx//55Opy92a78WpVKZlpaWlpZGp9PtezKZTCaTuUAcGhpSq9VbtmyhlP/ib8RxcXEKhaKrq+vfGU6hUGRmZl67ds2OD5/PZ7PZ1jqEsL29HcOwrVu3UiIGV/4/+9P4CwINXuGoVBtXAAAAAElFTkSuQmCC\"></div><div class=\"grid-item\"><img alt=\"Output\" src=\"data:image/png;base64,iVBORw0KGgoAAAANSUhEUgAAAJAAAAARCAIAAAC9yLKSAAAAhXpUWHRSYXcgcHJvZmlsZSB0eXBlIGV4aWYAAHjaVYvBDcMwDAP/mqIjyLJM2uMYiQNkg45fuu0n9yApgbT1vi97felp2dgxABc5csRU6P6juNciDXn+X9MfZGWgoRhTluEkhnJXkqKFN+LCAahYcIbnIV8gNQN3o86928QyPusLVffpbh/5eCey76LuBgAAAAlwSFlzAAALEwAACxMBAJqcGAAAADx0RVh0U29mdHdhcmUAQ3JlYXRlZCB3aXRoIHRoZSBXb2xmcmFtIExhbmd1YWdlIDogd3d3LndvbGZyYW0uY29tXKKmhQAAACF0RVh0Q3JlYXRpb24gVGltZQAyMDIwOjA2OjE4IDE2OjM1OjQyQsVxAgAAA55JREFUWIXtmU9I+nwcx3V7EMskITCCYsKCAvFSKUVBh12MkOiSBB0SKiGjQ9IlCuwmZGQEYQRBh+gPSRkUHaJLRBKGdthBM0ijsGDpypqbNZ9DYGvN/D0/2mOC79P36+e9z176ls++ojCVSgkKyh8BuQYo6L+pEFieqRBYnokdGIqi6fXLy4vL5ert7R0cHPzZu8bj8XA4/IdmJpLH4+ns7IQgSKPROJ3O34Dkdrs7OjogCFKpVFNTU7wjpRh6enrq7u5Oby8uLvR6vUqlam5uTv2oKIrS6/V/4mQiPT4+wjBst9vPzs4mJydBEERRNLdINE3rdLqZmZnz8/OlpSUAANbW1nhF+hSYxWLZ399nOaanp/8uMJqmtVqt1Wp935pMpuHh4XR1dnbW5XJlbcJCent7S68rKyuXl5dzjsSUUqm02+28IgmYV6rV6q8dswZ2eHh4dXXFWTo4OBCJRF6vd29vTyqVMm3Pz89tbW1Z3wwnUiqVwnFcJBK53e7fgITj+PHxsclkKi8vj0QivCL9k56NwWBQqVT+xahFUbSkpASCoK8lBEGMRqPBYMBx3GazMT3FxcXJZJKmaQDIePD5Bml0dFStVms0mt+AtLq6OjQ09Pr6arPZ5HI5r0gfgXk8nqampkygnPJ6vbFYzO/3gyAYj8erqqqqq6tZnomJiYqKChiGBwYGWKWamppAIFBbW5upfyYkh8OxsbFxcnIiFAp/A5LRaOzv7z86Ourp6SFJcmxsjD+kj68SSZISiSQTKKcikUg4HI5Go++Lh4eHr57x8fH6+vrb29vNzU1WSSwWUxT1TX9OpJWVFbPZ7HQ6OT/WnCAJBAIAAFpbW/v6+nZ3d/lFSg9Hn89nNpuZ4zKRSBAEYbVaGxsbCYJIJBKcI3hubu709JSztLOzI5FIgsHgwsKCTCYLhULMqk6nSyaTnBdmQlpcXBSLxevr6xiGYRgWjUZzi3R5eYkgiM/no2n67u6urq7OYDDwivQRGEVRWq2WaW1oaGBGLZPJOO+3vb3t9/u/vo5hmFwudzgc79uurq6WlpZ0labp9vZ2zoaZkG5ublgzEIbh3CIRBDEyMlJWViaVSkEQRBDk/v6eV6RPx3qj0RgIBL4n/iltbW3Nz89nteUL0vX1dSwW+x+QPgUWCoWYPwJ4lV6vJ0kyq62AxEICLRZLesKUlpYWFRUpFIpvnro/IpIkFQoF5xmXpQISC0mYKvwfllf6F5P5wNC98x7uAAAAAElFTkSuQmCC\"></div></div></div>"
      ],
      "text/plain": [
       "Pochhammer[1 + x, p]\n",
       "(1 + x) (2 + x) (3 + x)"
      ]
     },
     "execution_count": 21,
     "metadata": {
      "text/html": [],
      "text/plain": []
     },
     "output_type": "execute_result"
    }
   ],
   "source": [
    "PH[p_]=Pochhammer[1+x,p]\n",
    "PH[3]"
   ]
  },
  {
   "cell_type": "code",
   "execution_count": 27,
   "metadata": {},
   "outputs": [
    {
     "data": {
      "text/html": [
       "<div>&#36;&#36;&#120;&#94;&#123;&#49;&#55;&#125;&#43;&#49;&#53;&#51;&#32;&#120;&#94;&#123;&#49;&#54;&#125;&#43;&#49;&#48;&#56;&#49;&#50;&#32;&#120;&#94;&#123;&#49;&#53;&#125;&#43;&#52;&#54;&#56;&#49;&#56;&#48;&#32;&#120;&#94;&#123;&#49;&#52;&#125;&#43;&#49;&#51;&#56;&#57;&#54;&#53;&#56;&#50;&#32;&#120;&#94;&#123;&#49;&#51;&#125;&#43;&#50;&#57;&#57;&#54;&#53;&#48;&#56;&#48;&#54;&#32;&#120;&#94;&#123;&#49;&#50;&#125;&#43;&#52;&#56;&#53;&#51;&#50;&#50;&#50;&#55;&#54;&#52;&#92;&#10;&#32;&#10;&#62;&#32;&#32;&#32;&#120;&#94;&#123;&#49;&#49;&#125;&#43;&#54;&#48;&#50;&#48;&#50;&#54;&#57;&#51;&#57;&#56;&#48;&#32;&#120;&#94;&#123;&#49;&#48;&#125;&#43;&#53;&#55;&#55;&#57;&#50;&#52;&#56;&#57;&#52;&#56;&#51;&#51;&#32;&#120;&#94;&#57;&#43;&#52;&#51;&#48;&#56;&#49;&#48;&#53;&#51;&#48;&#49;&#57;&#50;&#57;&#32;&#120;&#94;&#56;&#43;&#50;&#52;&#56;&#55;&#49;&#56;&#52;&#53;&#50;&#57;&#55;&#57;&#51;&#54;&#92;&#10;&#32;&#10;&#62;&#32;&#32;&#32;&#120;&#94;&#55;&#43;&#49;&#49;&#48;&#50;&#50;&#56;&#52;&#54;&#54;&#49;&#56;&#52;&#50;&#48;&#48;&#32;&#120;&#94;&#54;&#43;&#51;&#54;&#57;&#48;&#49;&#50;&#54;&#52;&#57;&#50;&#51;&#52;&#51;&#56;&#52;&#32;&#120;&#94;&#53;&#43;&#57;&#48;&#57;&#50;&#57;&#57;&#57;&#48;&#53;&#56;&#52;&#52;&#49;&#49;&#50;&#32;&#120;&#94;&#52;&#43;&#49;&#53;&#56;&#51;&#51;&#49;&#51;&#57;&#55;&#53;&#55;&#50;&#55;&#52;&#56;&#56;&#92;&#10;&#32;&#10;&#62;&#32;&#32;&#32;&#120;&#94;&#51;&#43;&#49;&#56;&#50;&#49;&#54;&#48;&#50;&#52;&#52;&#52;&#54;&#50;&#52;&#54;&#52;&#48;&#32;&#120;&#94;&#50;&#43;&#49;&#50;&#50;&#51;&#52;&#48;&#53;&#53;&#57;&#48;&#53;&#55;&#57;&#50;&#48;&#48;&#32;&#120;&#43;&#51;&#53;&#53;&#54;&#56;&#55;&#52;&#50;&#56;&#48;&#57;&#54;&#48;&#48;&#48;&#36;&#36;</div>"
      ],
      "text/plain": [
       "x^{17}+153 x^{16}+10812 x^{15}+468180 x^{14}+13896582 x^{13}+299650806 x^{12}+4853222764\\\n",
       " \n",
       ">   x^{11}+60202693980 x^{10}+577924894833 x^9+4308105301929 x^8+24871845297936\\\n",
       " \n",
       ">   x^7+110228466184200 x^6+369012649234384 x^5+909299905844112 x^4+1583313975727488\\\n",
       " \n",
       ">   x^3+1821602444624640 x^2+1223405590579200 x+355687428096000"
      ]
     },
     "execution_count": 27,
     "metadata": {
      "text/html": [],
      "text/plain": []
     },
     "output_type": "execute_result"
    }
   ],
   "source": [
    "TeXForm[Expand[PH[17]]]\n"
   ]
  },
  {
   "cell_type": "code",
   "execution_count": 29,
   "metadata": {},
   "outputs": [
    {
     "data": {
      "text/html": [
       "<div><pre style=\"&#102;&#111;&#110;&#116;&#45;&#102;&#97;&#109;&#105;&#108;&#121;&#58;&#32;&#34;&#67;&#111;&#117;&#114;&#105;&#101;&#114;&#32;&#78;&#101;&#119;&#34;&#44;&#67;&#111;&#117;&#114;&#105;&#101;&#114;&#44;&#109;&#111;&#110;&#111;&#115;&#112;&#97;&#99;&#101;&#59;\">&#48;</pre></div>"
      ],
      "text/plain": [
       "0"
      ]
     },
     "execution_count": 29,
     "metadata": {
      "text/html": [],
      "text/plain": []
     },
     "output_type": "execute_result"
    }
   ],
   "source": [
    "Mod[355687428096000,17]"
   ]
  },
  {
   "cell_type": "code",
   "execution_count": 37,
   "metadata": {},
   "outputs": [
    {
     "data": {
      "text/html": [
       "<div><pre style=\"&#102;&#111;&#110;&#116;&#45;&#102;&#97;&#109;&#105;&#108;&#121;&#58;&#32;&#34;&#67;&#111;&#117;&#114;&#105;&#101;&#114;&#32;&#78;&#101;&#119;&#34;&#44;&#67;&#111;&#117;&#114;&#105;&#101;&#114;&#44;&#109;&#111;&#110;&#111;&#115;&#112;&#97;&#99;&#101;&#59;\">&#50;&#52;</pre></div>"
      ],
      "text/plain": [
       "24"
      ]
     },
     "execution_count": 37,
     "metadata": {
      "text/html": [],
      "text/plain": []
     },
     "output_type": "execute_result"
    }
   ],
   "source": [
    "Pochhammer[1,13]/Pochhammer[1+4,13-4]"
   ]
  },
  {
   "cell_type": "code",
   "execution_count": 40,
   "metadata": {},
   "outputs": [
    {
     "data": {
      "text/html": [
       "<div><img alt=\"Output\" src=\"data:image/png;base64,iVBORw0KGgoAAAANSUhEUgAAAHYAAAARCAIAAACHNM+kAAAAhXpUWHRSYXcgcHJvZmlsZSB0eXBlIGV4aWYAAHjaVYvBDcMwDAP/mqIjyLJM2uMYiQNkg45fuu0n9yApgbT1vi97felp2dgxABc5csRU6P6juNciDXn+X9MfZGWgoRhTluEkhnJXkqKFN+LCAahYcIbnIV8gNQN3o86928QyPusLVffpbh/5eCey76LuBgAAAAlwSFlzAAALEwAACxMBAJqcGAAAADx0RVh0U29mdHdhcmUAQ3JlYXRlZCB3aXRoIHRoZSBXb2xmcmFtIExhbmd1YWdlIDogd3d3LndvbGZyYW0uY29tXKKmhQAAACF0RVh0Q3JlYXRpb24gVGltZQAyMDIwOjA2OjE5IDE3OjQ3OjMwshby+AAAA3NJREFUWIXtmD1I62wYht82ESFWLToIpVnERaWCoI1gVShKcFJ0CHQKCA46CJ3EpS5CsQQCgqI4KSjqYkZRWwdRcLCDHWwVKf5ALdgEiU1Q7PMN9ZyvlP4kPfkO5+B3b3ny5r7u98mbXxMAoO8qSZLq6+tNJpOxtqIo1tbW4jie3TQb6/63KBaL9ff3ezyetra26+tro2wfHh5cLhfLsu3t7cFgMFs0fc9VLMuyJEl2u315eTmZTM7PzxtiCwCpVKqxsXFjY+Py8pLneYQQboj1XyeLxWKxWBBCkUjE7XYbZWsymTKZzOzs7NnZ2erqarb4daM4OTlxu90kSQ4ODh4eHuq1TqfTgiCwLDs1NZVbv7+/X1tbGx4e3tvb+/UJFFPF4Xd2dh4fH8fHxw0MQxBEX1+f3W4XBOGrBADn5+cEQXAcFw6HV1ZWOI4Dnbq5uWEYxuFw9Pb25ta3trYYhrFarTzP6/XUqIrDb25uDg0Nvb29GRjm+flZFEUAuL29dTqd2SICAJqmvV7vrwM4jstrcVYURRVr8czMTGuOaJrWCy0bviDi4OAAIURRlMvlYhhGL7SY7enpqdPpHB0ddTgcu7u72ZEIAJqamo6PjwVB8Pv9R0dHxUyDwWA8Hi9BraDFkUgkFAqFQqFAIIAQWl9f14suG14jQi+3hG0qlfr4+Pi5idLpNEKoubmZpumxsbHq6uqFhYWCpktLSxcXFyUCVdDirJ6enmw2W4nFWAytPXxZhC6uLlscx3EMw6anp71eL0KI5/nFxcW5ubncW3g4HJYkKRqNYhgmyzJJki0tLUY9HxRFGRkZ6ezszC6HPJVGawlfFlFQWqas0RavqqoiSdJs/nq1oCjq5eUFAHK/eRKJRDKZFEUxkUgQBFFTU6MxaFkBAMuyqqpub2//zJCr0mgt4csiCqrslHXYAoDP52ttbb26uvr8/JyYmBgYGNB71aiqqiiK3+/v6elRFEVVVQDIZDKKoiiK0t3dHQgEFEV5f3/PO9Dn8zU0NESj0fcf0osuG14jogKuRlsEALIsezweDMPq6uo6OjpisVjBofv7+9FotOCurq6u3NNmtVoB4O7uLu90Tk5O5h4Vj8fzBpjNZr3o0uG1I3Rxddn++wEty/Lr66vNZiu15v9U/cnhv+k/it+pb/qn7Xfq/xb/5/oHGjHQAv74N4wAAAAASUVORK5CYII=\"></div>"
      ],
      "text/plain": [
       "              2    3\n",
       "6 + 11 z + 6 z  + z"
      ]
     },
     "execution_count": 40,
     "metadata": {
      "text/html": [],
      "text/plain": []
     },
     "output_type": "execute_result"
    }
   ],
   "source": [
    "Expand[Pochhammer[1+z,3]]"
   ]
  },
  {
   "cell_type": "code",
   "execution_count": 43,
   "metadata": {},
   "outputs": [
    {
     "data": {
      "text/html": [
       "<div><img alt=\"Output\" src=\"data:image/png;base64,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\"></div>"
      ],
      "text/plain": [
       "          2       4    6\n",
       "-36 + 49 z  - 14 z  + z"
      ]
     },
     "execution_count": 43,
     "metadata": {
      "text/html": [],
      "text/plain": []
     },
     "output_type": "execute_result"
    }
   ],
   "source": [
    "Expand[Product[z^2-i^2,{i,1,3}]]"
   ]
  },
  {
   "cell_type": "code",
   "execution_count": 1,
   "metadata": {},
   "outputs": [],
   "source": [
    "A=Matrix[{1,4,-1,1,1},{-2,2,3,2,2},{1,-2,1,2,-1},{3,2,2,1,1},{1,2,1,3,1}];"
   ]
  },
  {
   "cell_type": "code",
   "execution_count": 3,
   "metadata": {},
   "outputs": [
    {
     "ename": "DSolve::argmu",
     "evalue": "DSolve called with 1 argument; 3 or more arguments are expected.",
     "output_type": "error",
     "traceback": [
      "\u001b[0;31mDSolve::argmu: DSolve called with 1 argument; 3 or more arguments are expected.\u001b[0m"
     ]
    },
    {
     "data": {
      "text/html": [
       "<div><img alt=\"Output\" src=\"data:image/png;base64,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\"></div>"
      ],
      "text/plain": [
       "                 x\n",
       "DSolve[y + y' == -]\n",
       "                 y"
      ]
     },
     "execution_count": 3,
     "metadata": {
      "text/html": [],
      "text/plain": []
     },
     "output_type": "execute_result"
    }
   ],
   "source": [
    "DSolve[y'+y==x/y]"
   ]
  },
  {
   "cell_type": "code",
   "execution_count": 12,
   "metadata": {},
   "outputs": [
    {
     "data": {
      "text/html": [
       "<div><img alt=\"Output\" src=\"data:image/png;base64,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\"></div>"
      ],
      "text/plain": [
       "        2    3                       2        2        2      3\n",
       "60 + 8 a  + a  + (16 I) a b + (3 I) a  b - 8 b  - 3 a b  - I b  + a m + I b m"
      ]
     },
     "execution_count": 12,
     "metadata": {
      "text/html": [],
      "text/plain": []
     },
     "output_type": "execute_result"
    }
   ],
   "source": [
    "Collect[Expand[(a+I*b)^3+8*(a+I*b)^2+m*(a+I*b)+60],I]"
   ]
  },
  {
   "cell_type": "code",
   "execution_count": 13,
   "metadata": {},
   "outputs": [
    {
     "data": {
      "text/html": [
       "<div><img alt=\"Output\" src=\"data:image/png;base64,iVBORw0KGgoAAAANSUhEUgAAAG8AAAARCAIAAABcj2WGAAAAhXpUWHRSYXcgcHJvZmlsZSB0eXBlIGV4aWYAAHjaVYvBDcMwDAP/mqIjyLJM2uMYiQNkg45fuu0n9yApgbT1vi97felp2dgxABc5csRU6P6juNciDXn+X9MfZGWgoRhTluEkhnJXkqKFN+LCAahYcIbnIV8gNQN3o86928QyPusLVffpbh/5eCey76LuBgAAAAlwSFlzAAALEwAACxMBAJqcGAAAADx0RVh0U29mdHdhcmUAQ3JlYXRlZCB3aXRoIHRoZSBXb2xmcmFtIExhbmd1YWdlIDogd3d3LndvbGZyYW0uY29tXKKmhQAAACF0RVh0Q3JlYXRpb24gVGltZQAyMDIwOjA2OjIxIDE0OjU2OjEwviHixwAABChJREFUWIXtmE9IMlsYxvPz9oWpoBW1CZIyF7YKKwTdRAQuJCirRRBkgYFigdnOWlQLKS0iEIMscJNFLvofZW0CN4JmlpGZlYpaGYKL/D/zLeSad8ZR6SoXLj0rz+8975nHZ84ZB1EgCJb8qED69V8b+F/pJ81C6ifNQuofaYZCIZvNBp+ExP+9IpHI+Pg4mUymUCiTk5PxeLwYV8lHn5+fu7u7Q0NDfD4fUrq9vc1oDM6/0jSZTD09PS6XC9KDxAui+fn5s7MzrVa7sbGh1WqVSmUxrpKPPB7P5uam0Wi8vr6GlAwGA5vNhgeagYN/a3Z21mg0gjBBOAAALBZLKpUmhwKBYGxsDN6Vp3g8nlAoTH4WCoUikSj/3ouLi7a2tmg0mhz6/f6mpiaXy/VtMyAIyuVyBoMB52trazqdLif/lR4rHo+H3zQIR6FQYrF4enr66urq+PhYrVaLRKLst91msy0vL2csDQwMrK+vKxQKh8Oxv7/f29ubfal0MZlMt9ut1WqTQ41Gg8Phamtrv+cku3A4XCQSycm/0gQAIONCcN7R0TE6OsrlcgUCgUwmq6ury26FQqH4fL7FxUV4iUqlNjY2Tk1NNTQ0kMnklpaW7Eulq7S0VCAQKBSK5FCtVo+MjHzbSU4lEoncPLlF9Xo9m82OxWKQnYzE397e0Gg0hULJeF7sdvsFTAwGY2lpKX1aIpFobm6WSCQAAJyentbX1w8PD2c/iRD5/f7y8nKLxXJ3d4fFYoPB4PecpIR00h8fHzkczuPjY3b+VzLT9/f3srIyNBoNCR6JSyQSGo1mtVp3dnbgxzMQCDidTggEQdDn86UTh8NhMpl0Oh0Khers7JTJZFwuV6VSpSZ4vV4MBkMgEJD2S2Vl5eDgoFKprKio6Ovrgz+p8nSSUxgMJhwOB4PBHDwVs0Qisdvt8NsC53t7e1gs1m63r66uEgiEl5eX7DsIBMGVlZWJiQkIDAaDv3//lsvl8Xg8Go3yeDwqlZqqBgIBDAZTVVUViUSyrGy1WolEIolEury8zGkDyQkIguFwOBQKSaVSOp0eCoXC4XB6dWtrS6vVwrsg/CvNmZmZh4cHeAOEf3x8VFdXK5XK5LC/v5/JZGb/Avf392KxOGNpe3u7pqaGSCTi8XgymazX61OlaDTa2tpaUlJisViyr89isZCeOfk7gTyyCQRCelWj0RweHsK7IPwrzbm5uZubG3gDEi+UAABwu92vr6/w0vPzM5FITL0DZVQ8HqfRaAsLC0UzCIIgqFarj46OcvKvNA0GA4fDMZvNkAYkXmw9PT3R6XQ+n480IRaLqVSqrq4uEokE//0poHQ6XXt7O/xNFs5L0stms/n8/By+HBIvqg4ODpRKJQAASBM8Hk93d7dQKHQ6nUV1cnJy4vV68+Eo8Of/zcLpD+dkE8Xtr3EiAAAAAElFTkSuQmCC\"></div>"
      ],
      "text/plain": [
       "{{x -> 8, y -> 1}}"
      ]
     },
     "execution_count": 13,
     "metadata": {
      "text/html": [],
      "text/plain": []
     },
     "output_type": "execute_result"
    }
   ],
   "source": [
    "Solve[{2*x-y==15,3*x+2*y==26},{x,y}]"
   ]
  },
  {
   "cell_type": "code",
   "execution_count": 14,
   "metadata": {},
   "outputs": [
    {
     "data": {
      "text/html": [
       "<div><img alt=\"Output\" src=\"data:image/png;base64,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\"></div>"
      ],
      "text/plain": [
       "  3       -2     2\n",
       "------ - s   - -----\n",
       "-1 + s         1 + s"
      ]
     },
     "execution_count": 14,
     "metadata": {
      "text/html": [],
      "text/plain": []
     },
     "output_type": "execute_result"
    }
   ],
   "source": [
    "Apart[(s^3+4*s^2+1)/(s^2*(s^2-1))]"
   ]
  },
  {
   "cell_type": "code",
   "execution_count": 19,
   "metadata": {},
   "outputs": [
    {
     "data": {
      "text/html": [
       "<div><img alt=\"Output\" src=\"data:image/png;base64,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\"></div>"
      ],
      "text/plain": [
       "       3       7         3\n",
       "{{a -> -, b -> -, c -> -(-)}}\n",
       "       2       4         4"
      ]
     },
     "execution_count": 19,
     "metadata": {
      "text/html": [],
      "text/plain": []
     },
     "output_type": "execute_result"
    }
   ],
   "source": [
    "Solve[{b+c==1,a+b-c==4,-a+b-c==1},{a,b,c}]"
   ]
  },
  {
   "cell_type": "code",
   "execution_count": 20,
   "metadata": {},
   "outputs": [
    {
     "data": {
      "text/html": [
       "<div><img alt=\"Output\" src=\"data:image/png;base64,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\"></div>"
      ],
      "text/plain": [
       "                  2        2        2    2  2      3\n",
       "-3 + 5 x + a x + a  x - 2 x  - 2 a x  - a  x  + a x"
      ]
     },
     "execution_count": 20,
     "metadata": {
      "text/html": [],
      "text/plain": []
     },
     "output_type": "execute_result"
    }
   ],
   "source": [
    "Expand[(x-1)*(a*x^2-(a^2+a+2)*x+1+2)]"
   ]
  },
  {
   "cell_type": "code",
   "execution_count": 2,
   "metadata": {},
   "outputs": [
    {
     "data": {
      "text/html": [
       "<div><img alt=\"Output\" src=\"data:image/png;base64,iVBORw0KGgoAAAANSUhEUgAAABUAAAAiCAIAAAA/CgXUAAAAhXpUWHRSYXcgcHJvZmlsZSB0eXBlIGV4aWYAAHjaVYvBDcMwDAP/mqIjyLJM2uMYiQNkg45fuu0n9yApgbT1vi97felp2dgxABc5csRU6P6juNciDXn+X9MfZGWgoRhTluEkhnJXkqKFN+LCAahYcIbnIV8gNQN3o86928QyPusLVffpbh/5eCey76LuBgAAAAlwSFlzAAALEwAACxMBAJqcGAAAADx0RVh0U29mdHdhcmUAQ3JlYXRlZCB3aXRoIHRoZSBXb2xmcmFtIExhbmd1YWdlIDogd3d3LndvbGZyYW0uY29tXKKmhQAAACF0RVh0Q3JlYXRpb24gVGltZQAyMDIwOjA2OjI3IDA5OjExOjM1NEn7qgAAAgpJREFUSIntlM3LKVEYwOdFplkMUxYspmQspKGIUoMVW/kTxpqdjS0LCyGWFrJQE0sjf4B8RHYodkpNmk5JFuMjZuZduLnee3G5d3Vv97c65zznd07nOc85H7IsQ3+A4tra7XYsy0YikWg0ejtDkqRMJuNwOMxmM03THMfdRlXX1mq1qtVqs9lMo9HczkgkEo1Go1AoGAwGhmF4nsdx/HtY/ko+n/d6vdcuAACG4cFgID9ABT1lPp9jGGYymcrlsiAIoVCIIIj757/LcrkUBIGiqE6nwzCMzWabTqdv+Gq1GoKgVqtVrVZHo5HT6SyXy2/4BEEIgoCi6KXr8XjW6/V9/3g8Hg6H0+kkiuLhcDgejxAEuVwukiRTqdRmswEAsCxLUdSXHa6ZdLvdt+MYhl3GJ5OJ1WqFYRhBEJqmz+fzbf4/Xqw/AACCINeDXHnVf8Qv8vfP+9/qv9frdbvd1zW/3+/z+aD/+b/vD4fDcDhsNBrtdns2m322wM9fkiRJoVCoUCiMx+NKpaJQKOr1+qP/647/AyRJFovFt/3tdtvv92OxmF6v53n+bb9UKqlUKgiCcrmcJElv+7Isi6LYbrdxHE+n07/jX0gmkxRFPYreub/FYhEMBsfjsSzLAIBms2mxWN64v/1+H4/HdTodiqJKpTIQCAAAHu3/7P1wHIeiqFarfVI+f/v7+wRR+nhV+d5IBwAAAABJRU5ErkJggg==\"></div>"
      ],
      "text/plain": [
       "16\n",
       "--\n",
       "3"
      ]
     },
     "execution_count": 2,
     "metadata": {
      "text/html": [],
      "text/plain": []
     },
     "output_type": "execute_result"
    }
   ],
   "source": [
    "1/2+3*(16/9)+4*(-1/8)"
   ]
  },
  {
   "cell_type": "code",
   "execution_count": 5,
   "metadata": {},
   "outputs": [],
   "source": [
    "N1[L1_,L2_,X1_,X2_]:=Expand[L1^{i1}*L2^{i2}*X1^{j1}*X2^{j2}];\n",
    "N2[L1_,L2_,X1_,X2_]:=Expand[(L1^{i1}*X1^{j1}+L2^{i1}*X2^{j1})*(L1+L2)^{i2}*(X1+X2)^{j2}];\n",
    "Nlist[L1_,L2_,X1_,X2_]:={N1[L1,L2,X1,X2],N2[L1,L2,X1,X2]};"
   ]
  },
  {
   "cell_type": "code",
   "execution_count": 8,
   "metadata": {},
   "outputs": [
    {
     "data": {
      "text/html": [
       "<style>\n",
       "\t\t\t\t\t\t\t\t\t\t\t\t\t.grid-container {\n",
       "\t\t\t\t\t\t\t\t\t\t\t\t\t\tdisplay: inline-grid;\n",
       "\t\t\t\t\t\t\t\t\t\t\t\t\t\tgrid-template-columns: auto;\n",
       "\t\t\t\t\t\t\t\t\t\t\t\t\t}\n",
       "\t\t\t\t\t\t\t\t\t\t\t\t</style>\n",
       "\n",
       "\t\t\t\t\t\t\t\t\t\t\t\t<div><div class=\"grid-container\"><div class=\"grid-item\"><img alt=\"Output\" src=\"data:image/png;base64,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\"></div><div class=\"grid-item\"><img alt=\"Output\" src=\"data:image/png;base64,iVBORw0KGgoAAAANSUhEUgAAAOcAAAAVCAIAAAAyzG5lAAAAhXpUWHRSYXcgcHJvZmlsZSB0eXBlIGV4aWYAAHjaVYvBDcMwDAP/mqIjyLJM2uMYiQNkg45fuu0n9yApgbT1vi97felp2dgxABc5csRU6P6juNciDXn+X9MfZGWgoRhTluEkhnJXkqKFN+LCAahYcIbnIV8gNQN3o86928QyPusLVffpbh/5eCey76LuBgAAAAlwSFlzAAALEwAACxMBAJqcGAAAADx0RVh0U29mdHdhcmUAQ3JlYXRlZCB3aXRoIHRoZSBXb2xmcmFtIExhbmd1YWdlIDogd3d3LndvbGZyYW0uY29tXKKmhQAAACF0RVh0Q3JlYXRpb24gVGltZQAyMDIwOjA3OjAxIDE0OjE0OjM4WL8GeAAABl1JREFUaIHtm39IE28cx88a0zWRJCUoXZkRlgwqckWoLVaSNSXTqD/WX0UJ/VNGS8RiCYPAfrjIX2FKkjGScY0QtD/0H40loiJYYPOCZf0hOLSbu91du+uP63s+3S/Pffcr3Ouve57n836e5333uefunmkSTdNQggT/FBsi1/XHjx/v37/PFkmS9Pl8YZfEIRwXIUgSxqX5K2sxDBsdHV1V8+DBg6ysrM7OTukwtVqdmZnJHN+7d6+kpKSoqKimpia8kjgEdDE7O2swGHJycuRLEsZB44FAYHx8nKKov2T0f3z9+vXEiROdnZ30auA4brFYXrx4IRaAIEh1dXV1dbXNZmNqPn/+TNN0MBjcvn07SZJhkcQhfBfBYBDDsF27dsmXJIyDxpeXlxsbG41GI4ZhrHYlaxsbG0dHR2XO0mq1crL2yZMn7DGO4wiCDA4Onjx5EozxeDwHDx78P5I4R8wF5+IljEtIBI23trYODQ2xxZU3BAzD0tPTwWV4bGysoqJix44dOp3O4XCILfJ+v9/pdE5OTjqdzrGxMQiClEplTk6ORqMBw1AUNZlMNpstNIkE09PT7LHD4di5cyc/xuPxPH/+vLS0tLe3V7ATMWFbW1txcbFGozl79qzb7WbrfT6fx+PhBAu6AImQ8Z8/f27ZsqW5uZkp3rx589ChQ8yxtHEJYVwZT09P9/v9bFH0awxF0YsXL+r1ehiGjUbjhQsXPn36JBiZnJys1Wq3bdum1Wqzs7MFY7xeb3l5eU1NTWFhYWgSMXw+n9VqZYsURXHfgSAIgqCRkZHBwUGXy/Xjxw/BfgSFfX19zc3NZrO5p6cHx/HKykrQtdlslpiYIBEynpaWVl9fb7FYlpaWEARpaWl5+PAh0yRtXEwYz8YhCHivbWho+PLlC7gsB4NB9jgrK+vly5c0Tc/NzRkMhtzc3L179547d44N6O7u5qzqs7OzJSUlzPHRo0czMzOLiooKCwv7+/vFJG63m31eCEr4WCwWsPXNmzfZ2dliwYcPH25qahJsEhOyJ+HDhw8QBPn9frbJZrM5nU6+BDRutVoNBoNKpTIYDG/fvmUqQzhXfDjGCYLYvXt3bW3tpUuXysrKOMESxsWEIRgHL59M4zKvuN1u7+vrY4tSWcuytLSkVCpdLpdgaxhxuVzgnbAqFEUVFBSANWHPWpbu7m5OwPLycmlpqfzZhhG+cZqmYRhWqVQqlYr5rAGRMC4tpNdifK2XT76Ek7UKdtGdn59PTU0VXI9v375dUFCg0+nW+lyQj91ub29vR1H00aNH8lVutzs/Pz9ys2JBUfTu3bucrahNmzaRJElR1IYNEdz2FkTQuF6vDwaDe/bsycvLW1NvEkKZxkO4fGuSpKamzs/Pr5SZ5O3q6jp//rxgmre2tm7evFnwLow5r1+/bm9vB2sisdYSBHHq1Knjx4/z96GuX78ekzPDN07TtNls1ul0arUahmFOk/RaKyaMH+OLi4vl5eUDAwNM8c9aiyDI1q1b+Tne09Nz69atd+/erfX2jQ44jqvV6ogO8evXL5PJ9O3bt+HhYYVCwWlNSUkhCCKiExCEb9zj8Tx9+rS/v//9+/d37twxGo382QoiJowr4wqFgiAIdrn9s8I3NDTgOL6wsACGdnR0XLlypaura//+/V6vd3FxMWqzlMmBAwcmJiY4lRRFeQEoiqJpOhAIBAIBiqJIkgwEAiRJ8nvjC3Ecr6qqmpycdDgcTCu4/wJB0MzMzL59+yLoUAS+8fr6+uLi4mPHjpnN5oWFhba2NgiC5BgXFMab8eHh4bKyMpPJ9KfMLsKcr7Hv378nJSWBytzc3Kg9EWTCPMLAGv6u5NzcHIIgnMqrV69yuhIUNjU1cSrr6upYCUVRZ86ciYZPHhzjU1NTGzduHB8fZ4qPHz/OyMhAUXRV42LCeDMeyh5CPHPt2rWZmZmYDA3DcEtLS0yGpteZcU7WRvvjN+zU1dU9e/YsJkPb7fbLly/HZGhoHRuHIvqXitFBo9FUVFREf1wcx2/cuKFUKqM/NMO6NQ6BWatUKjlv3P8Ker0++oMmJycfOXIk+uOCrB/jGIaB98lK1p4+fbq2tnZoaCjKE0qQQAKCIHp7e1+9egX+yLWStVqttqOjw+v1xmJuCRIIw2zVwTCclpbGVibRif8bS/Cv8RsP+KWZohOGdwAAAABJRU5ErkJggg==\"></div></div></div>"
      ],
      "text/plain": [
       "        i1 + i2        j1 + j2\n",
       "{(L1 L2)        (X1 X2)       }\n",
       "  1 + i2 + j2        i1 + i2        j1 + j2\n",
       "{2            (L1 L2)        (X1 X2)       }"
      ]
     },
     "execution_count": 8,
     "metadata": {
      "text/html": [],
      "text/plain": []
     },
     "output_type": "execute_result"
    }
   ],
   "source": [
    "N1[L1*L2,L1*L2,X1*X2,X1*X2]\n",
    "N2[L1*L2,L1*L2,X1*X2,X1*X2]"
   ]
  },
  {
   "cell_type": "code",
   "execution_count": 10,
   "metadata": {},
   "outputs": [
    {
     "data": {
      "text/html": [
       "<style>\n",
       "\t\t\t\t\t\t\t\t\t\t\t\t\t.grid-container {\n",
       "\t\t\t\t\t\t\t\t\t\t\t\t\t\tdisplay: inline-grid;\n",
       "\t\t\t\t\t\t\t\t\t\t\t\t\t\tgrid-template-columns: auto;\n",
       "\t\t\t\t\t\t\t\t\t\t\t\t\t}\n",
       "\t\t\t\t\t\t\t\t\t\t\t\t</style>\n",
       "\n",
       "\t\t\t\t\t\t\t\t\t\t\t\t<div><div class=\"grid-container\"><div class=\"grid-item\"><img alt=\"Output\" src=\"data:image/png;base64,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\"></div><div class=\"grid-item\"><img alt=\"Output\" src=\"data:image/png;base64,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\"></div></div></div>"
      ],
      "text/plain": [
       "               i1 + i2 + j1 + j2     1 + i2 + j2              i1 + i2 + j1 + j2\n",
       "{{(L1 L2 X1 X2)                 }, {2            (L1 L2 X1 X2)                 }}\n",
       "     2          i1       2       i2          2    j1             2 j2\n",
       "{{(L1  L2 X1 X2)   (L1 L2  X1 X2)   (L1 L2 X1  X2)   (L1 L2 X1 X2 )  }, \n",
       " \n",
       "        2          i1          2    j1    2                 2       i2\n",
       ">   {(L1  L2 X1 X2)   (L1 L2 X1  X2)   (L1  L2 X1 X2 + L1 L2  X1 X2)   \n",
       " \n",
       "                2                 2 j2\n",
       ">      (L1 L2 X1  X2 + L1 L2 X1 X2 )   + \n",
       " \n",
       "            2       i1             2 j1    2                 2       i2\n",
       ">     (L1 L2  X1 X2)   (L1 L2 X1 X2 )   (L1  L2 X1 X2 + L1 L2  X1 X2)   \n",
       " \n",
       "                2                 2 j2\n",
       ">      (L1 L2 X1  X2 + L1 L2 X1 X2 )  }}"
      ]
     },
     "execution_count": 10,
     "metadata": {
      "text/html": [],
      "text/plain": []
     },
     "output_type": "execute_result"
    }
   ],
   "source": [
    "Nlist[L1*L2*X1*X2,L1*L2*X1*X2,L1*L2*X1*X2,L1*L2*X1*X2]\n",
    "Nlist[L1^2*L2*X1*X2,L1*L2^2*X1*X2,L1*L2*X1^2*X2,L1*L2*X1*X2^2]\n"
   ]
  },
  {
   "cell_type": "code",
   "execution_count": 12,
   "metadata": {},
   "outputs": [
    {
     "data": {
      "text/html": [
       "<style>\n",
       "\t\t\t\t\t\t\t\t\t\t\t\t\t.grid-container {\n",
       "\t\t\t\t\t\t\t\t\t\t\t\t\t\tdisplay: inline-grid;\n",
       "\t\t\t\t\t\t\t\t\t\t\t\t\t\tgrid-template-columns: auto;\n",
       "\t\t\t\t\t\t\t\t\t\t\t\t\t}\n",
       "\t\t\t\t\t\t\t\t\t\t\t\t</style>\n",
       "\n",
       "\t\t\t\t\t\t\t\t\t\t\t\t<div><div class=\"grid-container\"><div class=\"grid-item\"><img alt=\"Output\" src=\"data:image/png;base64,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\"></div><div class=\"grid-item\"><img alt=\"Output\" src=\"data:image/png;base64,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\"></div></div></div>"
      ],
      "text/plain": [
       "         i1 + i2        j1 + j2     1 + i2 + j2        i1 + i2        j1 + j2\n",
       "{{(L1 L2)        (X1 X2)       }, {2            (L1 L2)        (X1 X2)       }}\n",
       "   i1 + i2 + j1 + j2        i1 + i2        j1 + j2\n",
       "{{2                  (L1 L2)        (X1 X2)       }, \n",
       " \n",
       "      1 + i1 + 2 i2 + j1 + 2 j2        i1 + i2        j1 + j2\n",
       ">   {2                          (L1 L2)        (X1 X2)       }}"
      ]
     },
     "execution_count": 12,
     "metadata": {
      "text/html": [],
      "text/plain": []
     },
     "output_type": "execute_result"
    }
   ],
   "source": [
    "Nlist[L1*L2,L1*L2,X1*X2,X1*X2]\n",
    "Nlist[2*L1*L2,2*L1*L2,2*X1*X2,2*X1*X2]"
   ]
  },
  {
   "cell_type": "code",
   "execution_count": 14,
   "metadata": {},
   "outputs": [],
   "source": [
    "NX[L1_,L2_,X1_,X2_]:=Expand[L1^{i1}*L2^{i2}*X1^{j1}*X2^{j2}];\n",
    "NX1[L1_,L2_,X1_,X2_]:=Expand[L1^{i1}*(L1+L2)^{i2}*X1^{j1}*(X1+X2)^{j2}];\n",
    "NX2[L1_,L2_,X1_,X2_]:=Expand[L2^{i1}*(L1+L2)^{i2}*X2^{j1}*(X1+X2)^{j2}];"
   ]
  },
  {
   "cell_type": "code",
   "execution_count": 17,
   "metadata": {},
   "outputs": [
    {
     "data": {
      "text/html": [
       "<style>\n",
       "\t\t\t\t\t\t\t\t\t\t\t\t\t.grid-container {\n",
       "\t\t\t\t\t\t\t\t\t\t\t\t\t\tdisplay: inline-grid;\n",
       "\t\t\t\t\t\t\t\t\t\t\t\t\t\tgrid-template-columns: auto;\n",
       "\t\t\t\t\t\t\t\t\t\t\t\t\t}\n",
       "\t\t\t\t\t\t\t\t\t\t\t\t</style>\n",
       "\n",
       "\t\t\t\t\t\t\t\t\t\t\t\t<div><div class=\"grid-container\"><div class=\"grid-item\"><img alt=\"Output\" src=\"data:image/png;base64,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\"></div><div class=\"grid-item\"><img alt=\"Output\" src=\"data:image/png;base64,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\"></div></div></div>"
      ],
      "text/plain": [
       "  -i1 - i2 - j1 - j2          i2          i1          j2          j1\n",
       "{2                   (L1 - L2)   (L1 + L2)   (X1 - X2)   (X1 + X2)  }\n",
       "      i2   i1      j2   j1\n",
       "{(-L1)   L1   (-X1)   X1  }"
      ]
     },
     "execution_count": 17,
     "metadata": {
      "text/html": [],
      "text/plain": []
     },
     "output_type": "execute_result"
    }
   ],
   "source": [
    "NX[1/2*(L1+L2),1/2*(L1-L2),1/2*(X1+X2),1/2*(X1-X2)]\n",
    "NX1[L1,-2*L1,X1,-2*X1]"
   ]
  },
  {
   "cell_type": "code",
   "execution_count": 19,
   "metadata": {},
   "outputs": [
    {
     "data": {
      "text/html": [
       "<style>\n",
       "\t\t\t\t\t\t\t\t\t\t\t\t\t.grid-container {\n",
       "\t\t\t\t\t\t\t\t\t\t\t\t\t\tdisplay: inline-grid;\n",
       "\t\t\t\t\t\t\t\t\t\t\t\t\t\tgrid-template-columns: auto;\n",
       "\t\t\t\t\t\t\t\t\t\t\t\t\t}\n",
       "\t\t\t\t\t\t\t\t\t\t\t\t</style>\n",
       "\n",
       "\t\t\t\t\t\t\t\t\t\t\t\t<div><div class=\"grid-container\"><div class=\"grid-item\"><img alt=\"Output\" src=\"data:image/png;base64,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\"></div><div class=\"grid-item\"><img alt=\"Output\" src=\"data:image/png;base64,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\"></div><div class=\"grid-item\"><img alt=\"Output\" src=\"data:image/png;base64,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\"></div></div></div>"
      ],
      "text/plain": [
       "  i1 + i2 + j1 + j2        i1 + i2        j1 + j2\n",
       "{2                  (L1 L2)        (X1 X2)       }\n",
       "  i1 + 2 i2 + j1 + 2 j2        i1 + i2        j1 + j2\n",
       "{2                      (L1 L2)        (X1 X2)       }\n",
       "  i1 + 2 i2 + j1 + 2 j2        i1 + i2        j1 + j2\n",
       "{2                      (L1 L2)        (X1 X2)       }"
      ]
     },
     "execution_count": 19,
     "metadata": {
      "text/html": [],
      "text/plain": []
     },
     "output_type": "execute_result"
    }
   ],
   "source": [
    "NX[2*L1*L2,2*L1*L2,2*X1*X2,2*X1*X2]\n",
    "NX1[2*L1*L2,2*L1*L2,2*X1*X2,2*X1*X2]\n",
    "NX2[2*L1*L2,2*L1*L2,2*X1*X2,2*X1*X2]"
   ]
  },
  {
   "cell_type": "code",
   "execution_count": 22,
   "metadata": {},
   "outputs": [
    {
     "data": {
      "text/html": [
       "<div><img alt=\"Output\" src=\"data:image/png;base64,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\"></div>"
      ],
      "text/plain": [
       "       i2   i1      j2   j1     i2 + j2      i1      j1    i2 + j2   i1   j1\n",
       "{{(-L1)   L1   (-X1)   X1  }, {0        (-L1)   (-X1)   + 0        L1   X1  }}"
      ]
     },
     "execution_count": 22,
     "metadata": {
      "text/html": [],
      "text/plain": []
     },
     "output_type": "execute_result"
    }
   ],
   "source": [
    "Nlist[L1,-L1,X1,-X1]"
   ]
  },
  {
   "cell_type": "code",
   "execution_count": null,
   "metadata": {},
   "outputs": [],
   "source": []
  },
  {
   "cell_type": "code",
   "execution_count": null,
   "metadata": {},
   "outputs": [],
   "source": []
  }
 ],
 "metadata": {
  "kernelspec": {
   "display_name": "Wolfram Language 12",
   "language": "Wolfram Language",
   "name": "wolframlanguage12"
  },
  "language_info": {
   "codemirror_mode": "mathematica",
   "file_extension": ".m",
   "mimetype": "application/vnd.wolfram.m",
   "name": "Wolfram Language",
   "pygments_lexer": "mathematica",
   "version": "12.0"
  }
 },
 "nbformat": 4,
 "nbformat_minor": 4
}
