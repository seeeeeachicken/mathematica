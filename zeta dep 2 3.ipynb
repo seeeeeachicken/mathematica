{
 "cells": [
  {
   "cell_type": "code",
   "execution_count": 2,
   "metadata": {},
   "outputs": [],
   "source": [
    "ZA2[k1_,k2_]:=\n",
    "(-1)^(k1)*Binomial[k1+k2,k1]*Subscript[\\[Zeta],k1+k2];\n",
    "\n",
    "ZA3[k1_,k2_,k3_]:=\n",
    "If[Mod[k1+k2+k3,2]==0,afo,\n",
    "1/2*((-1)^{k1}*Binomial[k1+k2+k3,k1]\n",
    "-(-1)^{k3}*Binomial[k1+k2+k3,k1])*Subscript[Z,k1+k2+k3]];\n",
    "\n",
    "Subscript[\\[Zeta],\\[ScriptCapitalS]][k1_,k2_,k3_]:=\n",
    "If[Mod[k1+k2+k3,2]==0,afo,\n",
    "1/2*((-1)^{k1}*Binomial[k1+k2+k3,k1]\n",
    "-(-1)^{k3}*Binomial[k1+k2+k3,k1])*Subscript[\\[Zeta],k1+k2+k3]];\n",
    "\n",
    "ZA212[k1_,k2_]:=\n",
    "(-1)^{k1+k2}*2*(1-2^{-2*k1-2*k2})*(Binomial[2*k1+2*k2+1,2*k1+1]\n",
    "-Binomial[2*k1+2*k2+1,2*k2+1])*Subscript[Z,2*k1+2*k2+1];\n",
    "\n",
    "ZA121[k1_,k2_]:=\n",
    "(-1)^{k1}*Binomial[k1+k2+2,k2+1]*Subscript[Z,k1+k2+2];\n",
    "\n",
    "Psum[i1_,i2_,j1_,j2_]:=\n",
    "(-1)^{i2+j2}*L1^{i1}*L2^{i2}*X1^{j1}*X2^{j2}\n",
    "+\n",
    "(L1^{i1}*X1^{j1}+L2^{i2}*X2^{j1});"
   ]
  },
  {
   "cell_type": "code",
   "execution_count": 39,
   "metadata": {},
   "outputs": [
    {
     "data": {
      "text/html": [
       "<style>\n",
       "\t\t\t\t\t\t\t\t\t\t\t\t\t.grid-container {\n",
       "\t\t\t\t\t\t\t\t\t\t\t\t\t\tdisplay: inline-grid;\n",
       "\t\t\t\t\t\t\t\t\t\t\t\t\t\tgrid-template-columns: auto;\n",
       "\t\t\t\t\t\t\t\t\t\t\t\t\t}\n",
       "\t\t\t\t\t\t\t\t\t\t\t\t</style>\n",
       "\n",
       "\t\t\t\t\t\t\t\t\t\t\t\t<div><div class=\"grid-container\"><div class=\"grid-item\"><img alt=\"Output\" src=\"data:image/png;base64,iVBORw0KGgoAAAANSUhEUgAAADMAAAARCAIAAAD/pwNAAAAAhXpUWHRSYXcgcHJvZmlsZSB0eXBlIGV4aWYAAHjaVYvBDcMwDAP/mqIjyLJM2uMYiQNkg45fuu0n9yApgbT1vi97felp2dgxABc5csRU6P6juNciDXn+X9MfZGWgoRhTluEkhnJXkqKFN+LCAahYcIbnIV8gNQN3o86928QyPusLVffpbh/5eCey76LuBgAAAAlwSFlzAAALEwAACxMBAJqcGAAAADx0RVh0U29mdHdhcmUAQ3JlYXRlZCB3aXRoIHRoZSBXb2xmcmFtIExhbmd1YWdlIDogd3d3LndvbGZyYW0uY29tXKKmhQAAACF0RVh0Q3JlYXRpb24gVGltZQAyMDIwOjA0OjIwIDEzOjQ0OjI31jglZwAAAr5JREFUSInNVs9LKlEUHsdQBn9tWrirKATRTaAY+BJsE0S4SEXbCuEfMC0iRNA2Ltu0qva6EAwKAu1tghQERUGw1CCiH2oPqfDX2PW8ha/xOpr6HsTz251zv/k49zvnMJcHAMREgvzfBXyJya1s6pt0+4eEx+P9lUKPZ/V6/ebmZpzPgsHgDwyBQIBDWFxcJDEIBIJ2uz1EMJPJfHx84JmuZ8lkcnd3d3t7W6FQjKwsm80CwM7OTidUqVQcQjQaRQgRBMEwzNLSkslkIslhkxOPx2maPj09nZr6LAk+sbe3l0gkYDzQNO10Osdhut3uhYWFWq02knl0dBSJRNiw6xkASCSSkW51UKlUMpnM5uamUCg0mUwbGxsDael02ufzhcNhiqJGaorF4mazyYZdh4fPAQcKhWJ+fn5lZQUhZLPZDg8P+zkIIYfDsbW1ZTAYxpTtDMAfdKy7urpaX19vtVq4vYlE4ieGXC43sAtWq3V5ebk/7/P5ZmZm3t/f8eTs7Gxnafb39zn8QqFgNpsLhUJPN8vlslAo5PP5+A2en59LpRIbikSigRfVaDT9u3l9fe3xeE5OTsRiMZ6XSqWXl5cDdSiKajQab29vPZ4BgMvlyufzI+cUAG5vby0Wy93dHQDk8/m5uTmapnECQkiv11ssll8Y2u12o9GQyWRra2urq6vJZJIjGwgEgsEgG3Yr83q9X/WLg9fXV4fDQVHU9PQ0SZJ2u71areKEWCzWb0mpVAKAx8dHAAiFQnq9niPr9/vPzs7YsLubJEniqzEEUqn0+Pj44ODg4eFBLpf3d1mn08Ggh8LLy4tMJiMIQqlUMgzDOWUYpuc/wdYYj8fNZnMqlRrHtn9DJBLRarVWq1WtVofDYc6R0Wi8v79nMwR+nEqlLi4uvq8yAEAIFYtFhBAnf35+/vT0hGd4MKnvs9+PFa+rf1cx5AAAAABJRU5ErkJggg==\"></div><div class=\"grid-item\"><img alt=\"Output\" src=\"data:image/png;base64,iVBORw0KGgoAAAANSUhEUgAAABgAAAARCAIAAABIGvtnAAAAhXpUWHRSYXcgcHJvZmlsZSB0eXBlIGV4aWYAAHjaVYvBDcMwDAP/mqIjyLJM2uMYiQNkg45fuu0n9yApgbT1vi97felp2dgxABc5csRU6P6juNciDXn+X9MfZGWgoRhTluEkhnJXkqKFN+LCAahYcIbnIV8gNQN3o86928QyPusLVffpbh/5eCey76LuBgAAAAlwSFlzAAALEwAACxMBAJqcGAAAADx0RVh0U29mdHdhcmUAQ3JlYXRlZCB3aXRoIHRoZSBXb2xmcmFtIExhbmd1YWdlIDogd3d3LndvbGZyYW0uY29tXKKmhQAAACF0RVh0Q3JlYXRpb24gVGltZQAyMDIwOjA0OjIwIDEzOjQ0OjI31jglZwAAAcJJREFUOI3NVD2r6kAQ3ejVKETIFmJjIYiQ2krBxipB7NL6E2ytYiFa+CeUFFYWIqiIYBSrNEJkCxs1jRYSoggB8TPuK+Tl7gu3uIXFm2rPzHBm5szuUhhj8AnzfITl/ye6XC6r1cqBtm1LksRxXDKZbDabZOZyuXw+n/8w4b+maZogCIqiOJ5KpcJxnKqqvV4PQjgYDJyQLMs8zz8eD8fzTVSr1TRNw4RFIpFut/s+S5KUy+XIaKPRIKt6yNZCoZADLcsyDCOVSrVardlslk6n1+s1OQrDMLfb7QeNXq8XmXc4HAAAEMJSqVSv1yGEpmm6BLZt262Rqqr5fJ6c+XQ6AQAMwxiPxwih4XAYj8fJ0XRdF0VR1/U3/HrTmaZJ07TX63UKsCzLsuxiseB5HgDQ7/djsRjZTjAYvF6vlmW5t1YulzebDVmzWCxmMpnz+bzdbqPRqCzLZLTdbnc6nR/E9vv9rndXrVZ9Pl84HE4kEoIgFAoF170JBAIO/PqW3eMht/BWejqdHo9HmqYZhnEpfb/fKYpyi40xns/noigihPAvTFGUbDa72+0cDyDDCKHJZPIbotFotN/vSQ+FP/Qf/QHavM9vOVGC3QAAAABJRU5ErkJggg==\"></div><div class=\"grid-item\"><img alt=\"Output\" src=\"data:image/png;base64,iVBORw0KGgoAAAANSUhEUgAAADIAAAARCAIAAAAQZWh+AAAAhXpUWHRSYXcgcHJvZmlsZSB0eXBlIGV4aWYAAHjaVYvBDcMwDAP/mqIjyLJM2uMYiQNkg45fuu0n9yApgbT1vi97felp2dgxABc5csRU6P6juNciDXn+X9MfZGWgoRhTluEkhnJXkqKFN+LCAahYcIbnIV8gNQN3o86928QyPusLVffpbh/5eCey76LuBgAAAAlwSFlzAAALEwAACxMBAJqcGAAAADx0RVh0U29mdHdhcmUAQ3JlYXRlZCB3aXRoIHRoZSBXb2xmcmFtIExhbmd1YWdlIDogd3d3LndvbGZyYW0uY29tXKKmhQAAACF0RVh0Q3JlYXRpb24gVGltZQAyMDIwOjA0OjIwIDEzOjQ0OjI4Roc49gAAAxFJREFUSInNVrFL60AcTuJDLdZUMxUdtKCIIIJgaSFW6KIiLmodBREcdPEfKIKKmEEHd0V00SKCHQqCdZAOFSMpLXXQiEs1Ur0OtpDEanJvSN95JqW+N8jzm/J997vfffe733EhIYTEzwP1vw2Uxw+19es7klobgyTJf8rwqVqKotzc3CAqy3I4HJ6ampqbm8PDHh4eRkdHW1paBgYG0um0NWlPTw+Fobq6Wtf1Ciaurq7e39/L20okEmNjY5lMBimSJO3t7QmCkEqlkAghHBoaYhgmEol4vV6/3y/LsmmZeDxeKBQKhUIul2tvb5+fn6eoSt3C8/zIyMgnZ/APlpeXBUGAFqyvr7Msi+jZ2RlN07IsG7Sjo2N7e9s6y8DCwkJbWxsKroDNzc1oNIoohfurr6+vsCcDoih2d3frur6yspLNZj0ejyiKZSNTqRTHcVtbWzab7cu0drv99fUV0Y+Wr3z8CACAxsbGi4uLYDDodDoZhgEAWMM0TZuenp6Zmenv7/+btMYU9F2qVjwev7y8bG1t/XIywzD5fJ5l2d3d3UAg8PLywjCMNWxtbQ0AwHEcLrpcLp/P5/P5NjY2TPFut3tnZ+fu7s6gpWo9Pz/X1NRUVVV9acvlcqXTaZIkJycnCYIQBGF2dtYUc319vbi4GA6H7XY7rtM0HYvFyqa12Wyqqubz+RJHXRYMBm9vb/E2VFVVURSO47xer6IoqqpCCN/e3pqbm1dXVyGEoVCotrYWAIDP0jSNZdlAIJDDoOu6qqoOh2N4eHhwcDCRSJhaPhQKHR4eIvpha2lpSRRFPLS3txffUENDg6HHYjGn01lXV0fT9MHBgWmB8/NzazGenp4ghJIkQQiPjo7wq21gf38/Eokg+tHyFEXhd4EgCJ7nyxa8r69PkqT7+/umpibruXs8Hlju+QcAOBwOgiA6OzuLxaJptFgsfnoJkEGe58fHx5PJJPweRKNRt9s9MTHR1dV1cnJiGvL7/ZlMBikEPpxMJk9PT7/JFoRQ07RsNqtpmkk/Pj5+fHzEFRL+yP+t3wVtRg+7Q2xVAAAAAElFTkSuQmCC\"></div><div class=\"grid-item\"><img alt=\"Output\" src=\"data:image/png;base64,iVBORw0KGgoAAAANSUhEUgAAADMAAAARCAIAAAD/pwNAAAAAhXpUWHRSYXcgcHJvZmlsZSB0eXBlIGV4aWYAAHjaVYvBDcMwDAP/mqIjyLJM2uMYiQNkg45fuu0n9yApgbT1vi97felp2dgxABc5csRU6P6juNciDXn+X9MfZGWgoRhTluEkhnJXkqKFN+LCAahYcIbnIV8gNQN3o86928QyPusLVffpbh/5eCey76LuBgAAAAlwSFlzAAALEwAACxMBAJqcGAAAADx0RVh0U29mdHdhcmUAQ3JlYXRlZCB3aXRoIHRoZSBXb2xmcmFtIExhbmd1YWdlIDogd3d3LndvbGZyYW0uY29tXKKmhQAAACF0RVh0Q3JlYXRpb24gVGltZQAyMDIwOjA0OjIwIDEzOjQ0OjI4Roc49gAAAr5JREFUSInNVs9LKlEUHsdQBn9tWrirKATRTaAY+BJsE0S4SEXbCuEfMC0iRNA2Ltu0qva6EAwKAu1tghQERUGw1CCiH2oPqfDX2PW8ha/xOpr6HsTz251zv/k49zvnMJcHAMREgvzfBXyJya1s6pt0+4eEx+P9lUKPZ/V6/ebmZpzPgsHgDwyBQIBDWFxcJDEIBIJ2uz1EMJPJfHx84JmuZ8lkcnd3d3t7W6FQjKwsm80CwM7OTidUqVQcQjQaRQgRBMEwzNLSkslkIslhkxOPx2maPj09nZr6LAk+sbe3l0gkYDzQNO10Osdhut3uhYWFWq02knl0dBSJRNiw6xkASCSSkW51UKlUMpnM5uamUCg0mUwbGxsDael02ufzhcNhiqJGaorF4mazyYZdh4fPAQcKhWJ+fn5lZQUhZLPZDg8P+zkIIYfDsbW1ZTAYxpTtDMAfdKy7urpaX19vtVq4vYlE4ieGXC43sAtWq3V5ebk/7/P5ZmZm3t/f8eTs7Gxnafb39zn8QqFgNpsLhUJPN8vlslAo5PP5+A2en59LpRIbikSigRfVaDT9u3l9fe3xeE5OTsRiMZ6XSqWXl5cDdSiKajQab29vPZ4BgMvlyufzI+cUAG5vby0Wy93dHQDk8/m5uTmapnECQkiv11ssll8Y2u12o9GQyWRra2urq6vJZJIjGwgEgsEgG3Yr83q9X/WLg9fXV4fDQVHU9PQ0SZJ2u71areKEWCzWb0mpVAKAx8dHAAiFQnq9niPr9/vPzs7YsLubJEniqzEEUqn0+Pj44ODg4eFBLpf3d1mn08Ggh8LLy4tMJiMIQqlUMgzDOWUYpuc/wdYYj8fNZnMqlRrHtn9DJBLRarVWq1WtVofDYc6R0Wi8v79nMwR+nEqlLi4uvq8yAEAIFYtFhBAnf35+/vT0hGd4MKnvs9+PFa+rf1cx5AAAAABJRU5ErkJggg==\"></div><div class=\"grid-item\"><img alt=\"Output\" src=\"data:image/png;base64,iVBORw0KGgoAAAANSUhEUgAAADMAAAARCAIAAAD/pwNAAAAAhXpUWHRSYXcgcHJvZmlsZSB0eXBlIGV4aWYAAHjaVYvBDcMwDAP/mqIjyLJM2uMYiQNkg45fuu0n9yApgbT1vi97felp2dgxABc5csRU6P6juNciDXn+X9MfZGWgoRhTluEkhnJXkqKFN+LCAahYcIbnIV8gNQN3o86928QyPusLVffpbh/5eCey76LuBgAAAAlwSFlzAAALEwAACxMBAJqcGAAAADx0RVh0U29mdHdhcmUAQ3JlYXRlZCB3aXRoIHRoZSBXb2xmcmFtIExhbmd1YWdlIDogd3d3LndvbGZyYW0uY29tXKKmhQAAACF0RVh0Q3JlYXRpb24gVGltZQAyMDIwOjA0OjIwIDEzOjQ0OjI4Roc49gAAAr5JREFUSInNVs9LKlEUHsdQBn9tWrirKATRTaAY+BJsE0S4SEXbCuEfMC0iRNA2Ltu0qva6EAwKAu1tghQERUGw1CCiH2oPqfDX2PW8ha/xOpr6HsTz251zv/k49zvnMJcHAMREgvzfBXyJya1s6pt0+4eEx+P9lUKPZ/V6/ebmZpzPgsHgDwyBQIBDWFxcJDEIBIJ2uz1EMJPJfHx84JmuZ8lkcnd3d3t7W6FQjKwsm80CwM7OTidUqVQcQjQaRQgRBMEwzNLSkslkIslhkxOPx2maPj09nZr6LAk+sbe3l0gkYDzQNO10Osdhut3uhYWFWq02knl0dBSJRNiw6xkASCSSkW51UKlUMpnM5uamUCg0mUwbGxsDael02ufzhcNhiqJGaorF4mazyYZdh4fPAQcKhWJ+fn5lZQUhZLPZDg8P+zkIIYfDsbW1ZTAYxpTtDMAfdKy7urpaX19vtVq4vYlE4ieGXC43sAtWq3V5ebk/7/P5ZmZm3t/f8eTs7Gxnafb39zn8QqFgNpsLhUJPN8vlslAo5PP5+A2en59LpRIbikSigRfVaDT9u3l9fe3xeE5OTsRiMZ6XSqWXl5cDdSiKajQab29vPZ4BgMvlyufzI+cUAG5vby0Wy93dHQDk8/m5uTmapnECQkiv11ssll8Y2u12o9GQyWRra2urq6vJZJIjGwgEgsEgG3Yr83q9X/WLg9fXV4fDQVHU9PQ0SZJ2u71areKEWCzWb0mpVAKAx8dHAAiFQnq9niPr9/vPzs7YsLubJEniqzEEUqn0+Pj44ODg4eFBLpf3d1mn08Ggh8LLy4tMJiMIQqlUMgzDOWUYpuc/wdYYj8fNZnMqlRrHtn9DJBLRarVWq1WtVofDYc6R0Wi8v79nMwR+nEqlLi4uvq8yAEAIFYtFhBAnf35+/vT0hGd4MKnvs9+PFa+rf1cx5AAAAABJRU5ErkJggg==\"></div><div class=\"grid-item\"><img alt=\"Output\" src=\"data:image/png;base64,iVBORw0KGgoAAAANSUhEUgAAACoAAAARCAIAAAAkHKliAAAAhXpUWHRSYXcgcHJvZmlsZSB0eXBlIGV4aWYAAHjaVYvBDcMwDAP/mqIjyLJM2uMYiQNkg45fuu0n9yApgbT1vi97felp2dgxABc5csRU6P6juNciDXn+X9MfZGWgoRhTluEkhnJXkqKFN+LCAahYcIbnIV8gNQN3o86928QyPusLVffpbh/5eCey76LuBgAAAAlwSFlzAAALEwAACxMBAJqcGAAAADx0RVh0U29mdHdhcmUAQ3JlYXRlZCB3aXRoIHRoZSBXb2xmcmFtIExhbmd1YWdlIDogd3d3LndvbGZyYW0uY29tXKKmhQAAACF0RVh0Q3JlYXRpb24gVGltZQAyMDIwOjA0OjIwIDEzOjQ0OjI4Roc49gAAAptJREFUSInFVU1LMlEYHadQBk03LdppFELkJkgKfAtyE4S4SKXcCuIPGBcSIVgbl21aVftcCAoJwthK0EBQDIQ0FURS/HgJFT8auz7vQhqvY18vLjy7c+69z7nnuQ8zAgAgZgdyht6zt5+f5vDkwwkEgv+qMJa+2+1mMhmOer3ePxg8Hg/v8MbGBolBKBQOBoNvzFKp1Pv7O66M0icSiZOTE7vdrlQqh8rT0xMAOByOIV1fX+eVi0ajCCGCIFiW3d7e1uv1JPnda8ZiMZqm7+7u5uc/fOED5+fn8XgcMNA0bbPZ4BdwOp2rq6udTufHndfX16FQiKOj9ACwsLCAX/b19TWVSpnNZpFIpNfrDw8PP830+PjodrsZhqEo6pvoQ0gkkre3N46OejX5bEqlcmVlRavVIoSOjo6urq4myyGELBaL1Wrd3d390Zs7MiLDJkQiEZ1O1+/3v2qayWTa2dmZ1N1ut1wub7VauKhQKIbTenFxwdufy+UMBkMulxtrfq1WE4lEc3NzX115c3NzcvLT6bTL5fL7/RKJBNelUmk4HP60DkVRvV6v2WyOpQeA09PTbDbL0Xw+bzQaC4UCAGSz2eXlZZqm8RwIIY1GYzQa/2IYDAa9Xk8mkx0cHOzv7ycSCV56j8fj9Xo5OrI/Ozt7fn7maKPRsFgsFEUtLi6SJHl8fNxut/FCDw8Pk+Gq1SoAlEolAPD5fBqNhmd/e3sbCAQ4Opp8kiTxmZRKpTc3N5eXly8vL0tLS2KxmOe0tbUFn/2u6vW6TCYjCGJtbY1lWd4qy7JjX0buIrFYzGAwJJNJmA6hUEitVptMJpVKxTAMb2lvb69YLHIKgS8nk8n7+/sp7QEAIVSpVBBCPD0YDJbLZVwRwEz/9/8A80IMwRE1xp4AAAAASUVORK5CYII=\"></div></div></div>"
      ],
      "text/plain": [
       "{-5 Z }\n",
       "     5\n",
       "{0}\n",
       "{10 Z }\n",
       "     5\n",
       "{-5 Z }\n",
       "     5\n",
       "{-5 Z }\n",
       "     5\n",
       "{5 Z }\n",
       "    5"
      ]
     },
     "execution_count": 39,
     "metadata": {
      "text/html": [],
      "text/plain": []
     },
     "output_type": "execute_result"
    }
   ],
   "source": [
    "ZA2[1,4]\n",
    "ZA3[1,1,3]\n",
    "ZA3[2,1,2]+ZA3[2,2,1]\n",
    "ZA121[3,0]\n",
    "ZA121[1,2]+ZA121[0,3]\n",
    "ZA121[2,1]+ZA121[1,2]+ZA121[0,3]"
   ]
  },
  {
   "cell_type": "code",
   "execution_count": 59,
   "metadata": {},
   "outputs": [
    {
     "data": {
      "text/html": [
       "<style>\n",
       "\t\t\t\t\t\t\t\t\t\t\t\t\t.grid-container {\n",
       "\t\t\t\t\t\t\t\t\t\t\t\t\t\tdisplay: inline-grid;\n",
       "\t\t\t\t\t\t\t\t\t\t\t\t\t\tgrid-template-columns: auto;\n",
       "\t\t\t\t\t\t\t\t\t\t\t\t\t}\n",
       "\t\t\t\t\t\t\t\t\t\t\t\t</style>\n",
       "\n",
       "\t\t\t\t\t\t\t\t\t\t\t\t<div><div class=\"grid-container\"><div class=\"grid-item\"><img alt=\"Output\" src=\"data:image/png;base64,iVBORw0KGgoAAAANSUhEUgAAABgAAAARCAIAAABIGvtnAAAAhXpUWHRSYXcgcHJvZmlsZSB0eXBlIGV4aWYAAHjaVYvBDcMwDAP/mqIjyLJM2uMYiQNkg45fuu0n9yApgbT1vi97felp2dgxABc5csRU6P6juNciDXn+X9MfZGWgoRhTluEkhnJXkqKFN+LCAahYcIbnIV8gNQN3o86928QyPusLVffpbh/5eCey76LuBgAAAAlwSFlzAAALEwAACxMBAJqcGAAAADx0RVh0U29mdHdhcmUAQ3JlYXRlZCB3aXRoIHRoZSBXb2xmcmFtIExhbmd1YWdlIDogd3d3LndvbGZyYW0uY29tXKKmhQAAACF0RVh0Q3JlYXRpb24gVGltZQAyMDIwOjA0OjIwIDE5OjAxOjI4IKkxSgAAAcJJREFUOI3NVD2r6kAQ3ejVKETIFmJjIYiQ2krBxipB7NL6E2ytYiFa+CeUFFYWIqiIYBSrNEJkCxs1jRYSoggB8TPuK+Tl7gu3uIXFm2rPzHBm5szuUhhj8AnzfITl/ye6XC6r1cqBtm1LksRxXDKZbDabZOZyuXw+n/8w4b+maZogCIqiOJ5KpcJxnKqqvV4PQjgYDJyQLMs8zz8eD8fzTVSr1TRNw4RFIpFut/s+S5KUy+XIaKPRIKt6yNZCoZADLcsyDCOVSrVardlslk6n1+s1OQrDMLfb7QeNXq8XmXc4HAAAEMJSqVSv1yGEpmm6BLZt262Rqqr5fJ6c+XQ6AQAMwxiPxwih4XAYj8fJ0XRdF0VR1/U3/HrTmaZJ07TX63UKsCzLsuxiseB5HgDQ7/djsRjZTjAYvF6vlmW5t1YulzebDVmzWCxmMpnz+bzdbqPRqCzLZLTdbnc6nR/E9vv9rndXrVZ9Pl84HE4kEoIgFAoF170JBAIO/PqW3eMht/BWejqdHo9HmqYZhnEpfb/fKYpyi40xns/noigihPAvTFGUbDa72+0cDyDDCKHJZPIbotFotN/vSQ+FP/Qf/QHavM9vOVGC3QAAAABJRU5ErkJggg==\"></div><div class=\"grid-item\"><img alt=\"Output\" src=\"data:image/png;base64,iVBORw0KGgoAAAANSUhEUgAAABgAAAARCAIAAABIGvtnAAAAhXpUWHRSYXcgcHJvZmlsZSB0eXBlIGV4aWYAAHjaVYvBDcMwDAP/mqIjyLJM2uMYiQNkg45fuu0n9yApgbT1vi97felp2dgxABc5csRU6P6juNciDXn+X9MfZGWgoRhTluEkhnJXkqKFN+LCAahYcIbnIV8gNQN3o86928QyPusLVffpbh/5eCey76LuBgAAAAlwSFlzAAALEwAACxMBAJqcGAAAADx0RVh0U29mdHdhcmUAQ3JlYXRlZCB3aXRoIHRoZSBXb2xmcmFtIExhbmd1YWdlIDogd3d3LndvbGZyYW0uY29tXKKmhQAAACF0RVh0Q3JlYXRpb24gVGltZQAyMDIwOjA0OjIwIDE5OjAxOjI4IKkxSgAAAcJJREFUOI3NVD2r6kAQ3ejVKETIFmJjIYiQ2krBxipB7NL6E2ytYiFa+CeUFFYWIqiIYBSrNEJkCxs1jRYSoggB8TPuK+Tl7gu3uIXFm2rPzHBm5szuUhhj8AnzfITl/ye6XC6r1cqBtm1LksRxXDKZbDabZOZyuXw+n/8w4b+maZogCIqiOJ5KpcJxnKqqvV4PQjgYDJyQLMs8zz8eD8fzTVSr1TRNw4RFIpFut/s+S5KUy+XIaKPRIKt6yNZCoZADLcsyDCOVSrVardlslk6n1+s1OQrDMLfb7QeNXq8XmXc4HAAAEMJSqVSv1yGEpmm6BLZt262Rqqr5fJ6c+XQ6AQAMwxiPxwih4XAYj8fJ0XRdF0VR1/U3/HrTmaZJ07TX63UKsCzLsuxiseB5HgDQ7/djsRjZTjAYvF6vlmW5t1YulzebDVmzWCxmMpnz+bzdbqPRqCzLZLTdbnc6nR/E9vv9rndXrVZ9Pl84HE4kEoIgFAoF170JBAIO/PqW3eMht/BWejqdHo9HmqYZhnEpfb/fKYpyi40xns/noigihPAvTFGUbDa72+0cDyDDCKHJZPIbotFotN/vSQ+FP/Qf/QHavM9vOVGC3QAAAABJRU5ErkJggg==\"></div><div class=\"grid-item\"><img alt=\"Output\" src=\"data:image/png;base64,iVBORw0KGgoAAAANSUhEUgAAACoAAAARCAIAAAAkHKliAAAAhXpUWHRSYXcgcHJvZmlsZSB0eXBlIGV4aWYAAHjaVYvBDcMwDAP/mqIjyLJM2uMYiQNkg45fuu0n9yApgbT1vi97felp2dgxABc5csRU6P6juNciDXn+X9MfZGWgoRhTluEkhnJXkqKFN+LCAahYcIbnIV8gNQN3o86928QyPusLVffpbh/5eCey76LuBgAAAAlwSFlzAAALEwAACxMBAJqcGAAAADx0RVh0U29mdHdhcmUAQ3JlYXRlZCB3aXRoIHRoZSBXb2xmcmFtIExhbmd1YWdlIDogd3d3LndvbGZyYW0uY29tXKKmhQAAACF0RVh0Q3JlYXRpb24gVGltZQAyMDIwOjA0OjIwIDE5OjAxOjI5V64B3AAAArBJREFUSInFVc9LKlEUVhHRUEQetBDBTbYJkVy4UBTCRUFlwbRoW9BOcOGiTYSQgWKgf0AoubAf1MJNhBm0qAgEa8JERDcNFBOjhgNG5NzzFj7G64xK772F3+475577zTnfvXOlACAZHWQj1B69vPx/isXGSaXSv9qhp/vPz89yuczT+/v7paUlo9FoNpsjkYi4eHp6WoZBoVAghIaIPT8/t9ttYQcd5PP5ubm5bDbboQihxcXFaDRKkmQ8HpfJZEdHR9CLVqvFsizLsrVazWQy+f1+GIpEIjE7O/v9/c1HuvI7Ozv5fH5Q5dTUVCwWG5Td3t6emJhotVrD5QFgf3+f7xAA5PgYNBqNYFzNZrNQKKRSKYZhVldX+4706ekpFApdXl6qVKohk+9ArVZ/fX3xtCvf17bDw0Ov19tut/f29sbHx8ULOI5bX1/f2NhwuVx4vNFoaDQaubzP0eY4rks6Q7i7u1tYWMBd4cFx3PX1tcFg2N3dFWdDoZDRaGRZlo+8vLw4HA6PxzM5OXl1dSVYX61WCYKoVqsd+kc+nU4TBIEQGuRZIBCw2+2CYKlUUqlUmUwGDyKEGIYBgIODA5/PJyh5fX2dn59/eHjokQeAra2tSqWCf6bb7X58fEQI0TRttVrX1tbwjTiOczgcKysrNQydBt7f3zc3N51OZ7FYFMgfHx+fnZ3xtHvvFQoFYL8RvV5vsVjcbrdWq9Xr9TqdLhwO4xbmcrnb29vT09NfGBiGkUgkY2NjTqfTYDCk02mB8QCgVCqF3gNAMBgsFArisVMU9fHx0cePAaBputFoAEClUrHZbIJsMpk8Pz/naVc+l8sRBEGS5M+V+uLm5sZmsy0vL5vN5pOTEzyVzWZnZmYoiuojDwAkSYrP6r+hXq+L79HFxcXb2xsekcJI3/vfqJjZJVLKkbsAAAAASUVORK5CYII=\"></div><div class=\"grid-item\"><img alt=\"Output\" src=\"data:image/png;base64,iVBORw0KGgoAAAANSUhEUgAAADMAAAARCAIAAAD/pwNAAAAAhXpUWHRSYXcgcHJvZmlsZSB0eXBlIGV4aWYAAHjaVYvBDcMwDAP/mqIjyLJM2uMYiQNkg45fuu0n9yApgbT1vi97felp2dgxABc5csRU6P6juNciDXn+X9MfZGWgoRhTluEkhnJXkqKFN+LCAahYcIbnIV8gNQN3o86928QyPusLVffpbh/5eCey76LuBgAAAAlwSFlzAAALEwAACxMBAJqcGAAAADx0RVh0U29mdHdhcmUAQ3JlYXRlZCB3aXRoIHRoZSBXb2xmcmFtIExhbmd1YWdlIDogd3d3LndvbGZyYW0uY29tXKKmhQAAACF0RVh0Q3JlYXRpb24gVGltZQAyMDIwOjA0OjIwIDE5OjAxOjI5V64B3AAAAt9JREFUSInNVk1LKlEY1klMTYkQWojgxtyERC3ciIW5sEVqYIu2Ru3atQgkhKjASMgfIAUu+pBaGCiCemlREQhDExZUuslF+R0OqJEz713IHY8zlQb3cnt278d5eM7znnNm+ADA+5HA/reAT/FzlQn+ES/3kPD5/G8xtHlWq9UeHh66WXZ1dWWz2VQqlVar3d7e5jaMjo5iCIRCIU3TXxDe3t42Go22FPwBjuNTU1OxWAw6gaZpi8Wys7NDEMTu7i6GYYeHh6yearVKkiRJksVicWhoaHl5+WvOvb09s9n8/v7OZFrK1tfXcRzvKIuL4eFhr9f7WdXlcqnV6mq12pHH5/OhvghQ82QyWTejbKJSqSSTyf39/UKhMDc392HPzc2N2+2ORqNisbgjoVQqfXt7Y8KWsq/PARcHBwdLS0uNRsPj8QwODnIbKIqan59fXFwcHx9H8+VyWSaTCQQfXD6KolpB07rLy8vp6Wl0zACA4/gvBI+Pjyz/KYo6OztTKpWbm5vc6bjdbpVKRZIkk3l6etLr9VarVaPRxONxVn86nbbb7el0um2a+Xy+t7e3p6cH3cHLy0sul2PCvr4+1hYxDJuYmFhYWAiFQk6nEy3d39+vra0Fg0GpVMoklUplMBiUy+V+v//09HRychJdIhaL6/V6pVJp8wwAVldXU6lUx3Pa3JzJZLq+vqZpOpvNjo2NORwOlpd6vX52draIgKZpAMjlcisrKwaD4e7ujkV7dHR0cnLChK33TCgUQnffUIVCMTIyYjKZ+vv7FQrFwMDA1tYW2pBIJC4uLo6Pj+UICoUCj8eTSCQGg6FpHosWAEQiUVvcxMbGRjKZ7MYzBplM5vX1tfv+bDZbLpcBIJVK6XQ6VtXv94fDYSZsKUskEna7nSCIb4n7Fs7Pz3U63czMjFarDQQCaCkWixmNxkwm84EyACAIgntl/jpKpRLrEQCASCTy/PyMZvjwU//PfgNaE0ZADNKknwAAAABJRU5ErkJggg==\"></div></div></div>"
      ],
      "text/plain": [
       "{0}\n",
       "{0}\n",
       "{3 Z }\n",
       "    3\n",
       "{-3 Z }\n",
       "     3"
      ]
     },
     "execution_count": 59,
     "metadata": {
      "text/html": [],
      "text/plain": []
     },
     "output_type": "execute_result"
    }
   ],
   "source": [
    "ZA3[1,1,3]\n",
    "ZA3[3,1,1]\n",
    "\n",
    "ZA2[2,1]\n",
    "ZA2[1,2]"
   ]
  },
  {
   "cell_type": "code",
   "execution_count": 11,
   "metadata": {},
   "outputs": [
    {
     "data": {
      "text/html": [
       "<style>\n",
       "\t\t\t\t\t\t\t\t\t\t\t\t\t.grid-container {\n",
       "\t\t\t\t\t\t\t\t\t\t\t\t\t\tdisplay: inline-grid;\n",
       "\t\t\t\t\t\t\t\t\t\t\t\t\t\tgrid-template-columns: auto;\n",
       "\t\t\t\t\t\t\t\t\t\t\t\t\t}\n",
       "\t\t\t\t\t\t\t\t\t\t\t\t</style>\n",
       "\n",
       "\t\t\t\t\t\t\t\t\t\t\t\t<div><div class=\"grid-container\"><div class=\"grid-item\"><img alt=\"Output\" src=\"data:image/png;base64,iVBORw0KGgoAAAANSUhEUgAAADsAAAARCAIAAADscEO0AAAAhXpUWHRSYXcgcHJvZmlsZSB0eXBlIGV4aWYAAHjaVYvBDcMwDAP/mqIjyLJM2uMYiQNkg45fuu0n9yApgbT1vi97felp2dgxABc5csRU6P6juNciDXn+X9MfZGWgoRhTluEkhnJXkqKFN+LCAahYcIbnIV8gNQN3o86928QyPusLVffpbh/5eCey76LuBgAAAAlwSFlzAAALEwAACxMBAJqcGAAAADx0RVh0U29mdHdhcmUAQ3JlYXRlZCB3aXRoIHRoZSBXb2xmcmFtIExhbmd1YWdlIDogd3d3LndvbGZyYW0uY29tXKKmhQAAACF0RVh0Q3JlYXRpb24gVGltZQAyMDIwOjA3OjE4IDE1OjMzOjIzqo161gAAAytJREFUSInVVk1I40AYTeLSpljBiwhFLGiLXj0kCoLUiyAERCukXlSEevUgvYkggvRgzxXUggeRgkXEgyJ1D0L1EKmkWEXbIlhQiaRKBmz9mcwespumidvWw7r4TvPeN5Pvy5tvJsERQti3AvG/C/g0vl/FP744n7EJcRz/1BNKPM7n81dXV9UsOzk5GRwctNvtNE1HIhFdVBTFvr6+YDBoXNjR0UFoYDKZZFkukyiZTL6/v39c8enp6dDQUDabrVguAMDj8bhcrq2tLYZhWJY9Pz9Xowih0dHRWCx2fX1tXHt8fAwAAACIouh0OqempgiiXGdyHMcwTEnR6A/m5+fj8TiqDhBCddzU1LS2tqbShYUFmqbHxsZ8Pl+ZJ8zOzjocjufn54q5VlZWotGoSglt6XV1dRUNVqAaI0mSIAhtbW0KPTw8XFxc3NjYKN+diUTC7/evrq5aLJaKuaxW68vLSzG1OirfT3+Dz+ejKIqmaQzDBEEYGRlZWlpqaWkpswRCODEx4fV6e3p6qswCISwSxeqjoyOGYd7e3rTbEY/Hf2qQSqV0+xUMBuvr6y8uLhTa39/f3NwcCAQCgQBFUS6XS9stKvx+v91uBwDo9EQiQZLk2dmZTs9kMm63O5PJKPT37fbw8GA2m2tqarRvdn9/LwiCSmtra7XR9fX16enpnZ2d9vZ2RXE6nQ0NDTzPYxiWy+UAAKlUSufW5eXl3Nzc9va21WrV6k9PT16vt6ury2iwxWIpFAqSJJV4jBCamZlJp9MVz4GC5eVlkiTD4bAoiqIoPj4+6iaMj48bTx6EsLu7e3h4WNRAlmVZlgcGBvb391mWNXocDocjkYhKi18Qk8mEqvvHuL29nZycRAixLKsora2t6XRaOwfHceO1xXFcLBbDMGxzc1MVBUEIhUKSJOVyuZubm93dXYfDYTab1QkIIZIkVVqsmCAI7ZEsA5vNVvGYhkIho9jZ2fmhKRRFNTY25vN5CGGhUNBFX19fS24e1W2O49xuN8/zVTbGv4DH40kmk1olGo329vZms1lVwbRhnucPDg6+qLrqsLe3d3d3p1Vw9N3+j38BEpb/NPFiif0AAAAASUVORK5CYII=\"></div><div class=\"grid-item\"><img alt=\"Output\" src=\"data:image/png;base64,iVBORw0KGgoAAAANSUhEUgAAADIAAAARCAIAAAAQZWh+AAAAhXpUWHRSYXcgcHJvZmlsZSB0eXBlIGV4aWYAAHjaVYvBDcMwDAP/mqIjyLJM2uMYiQNkg45fuu0n9yApgbT1vi97felp2dgxABc5csRU6P6juNciDXn+X9MfZGWgoRhTluEkhnJXkqKFN+LCAahYcIbnIV8gNQN3o86928QyPusLVffpbh/5eCey76LuBgAAAAlwSFlzAAALEwAACxMBAJqcGAAAADx0RVh0U29mdHdhcmUAQ3JlYXRlZCB3aXRoIHRoZSBXb2xmcmFtIExhbmd1YWdlIDogd3d3LndvbGZyYW0uY29tXKKmhQAAACF0RVh0Q3JlYXRpb24gVGltZQAyMDIwOjA3OjE4IDE1OjMzOjIzqo161gAAAwxJREFUSInNVk1I40AYnaRLm0IFLyKIWNAWvXpIFASpl4IQEK2QelER6tWD9CaCCNKDPVeoFjyIFCwiHhSpF6F6iCgpVlFbBAsKkVTJgK0/yewhazpN3CwLK+s7zXvz975vvpmEQAiB7wfyfxv4HN/U1o+vWNRcGARB/NUKNdkql8tXV1c6PT4+HhwcdLvdDMOkUinDTEmS/H5/LBYzL9rZ2UlisNvtqqpamMjlcu/v75/bOj09HRoaKhaLGoUQBoNBn8+3ubnJsizHcefn5/pghNDo6Ggmk7m5uTFvc3R0BCGEEEqS5PV6p6amSNKqWnieZ1m2xhn6wPz8/MnJCcKgKIrebm5uXl1d1enCwgLDMGNjY+FwGP0es7OzHo/n+fnZYoyG5eXldDqtUxL3V1dXV5PJjxBlWRZFsb29XaMHBweLi4vr6+vWFZPNZiORyMrKitPptBimweVyvby8VLfWWxbHHw6HaZpmGAYAIIriyMjI0tJSa2urxTaKokxMTIRCod7e3j960qdUiZa0w8NDlmXf3t7M6Y3FYvX19RcXFxrt7+9vaWmJRqPRaJSmaZ/Phx+ujkgk4na7IYQGPZvNUhR1dnZm0AuFQiAQKBQKGv31QDw8PDgcDpvNZohgbW1tenp6e3u7o6NDU7xeb0NDgyAIAIBSqQQhvL6+Nsy6vLycm5vb2tpyuVy4/vT0FAqFuru7zalyOp2VSkWW5ZpsIYRmZmby+TweQTwepygqmUxKkiRJ0uPjoyHE8fFxc8kritLT0zM8PCxhUFVVVdWBgYG9vT2O48zZSiaTqVRKp9Xn1G63I+wZvLu7m5ycRAhxHKcpbW1t+XweD5EgCPPN53k+k8kAADY2NnRRFMVEIiHLcqlUur293dnZ8Xg8DocDryWKonRatUWSJH4XmpqarN9AAEAikTCLXV1d6LPPP03TjY2N5XJZUZRKpWLofX19rbnXet54ng8EAoIgmOv33yIYDOZyOVxJp9N9fX3FYlFXAN4tCML+/v5X2zJjd3f3/v4eVwj0Lf+3fgLGsXcvLHxmOwAAAABJRU5ErkJggg==\"></div></div></div>"
      ],
      "text/plain": [
       "{-24 Z }\n",
       "      4\n",
       "{24 Z }\n",
       "     4"
      ]
     },
     "execution_count": 11,
     "metadata": {
      "text/html": [],
      "text/plain": []
     },
     "output_type": "execute_result"
    }
   ],
   "source": [
    "4*ZA121[1,1]\n",
    "6*ZA121[2,0]"
   ]
  },
  {
   "cell_type": "code",
   "execution_count": 8,
   "metadata": {},
   "outputs": [
    {
     "data": {
      "text/html": [
       "<style>\n",
       "\t\t\t\t\t\t\t\t\t\t\t\t\t.grid-container {\n",
       "\t\t\t\t\t\t\t\t\t\t\t\t\t\tdisplay: inline-grid;\n",
       "\t\t\t\t\t\t\t\t\t\t\t\t\t\tgrid-template-columns: auto;\n",
       "\t\t\t\t\t\t\t\t\t\t\t\t\t}\n",
       "\t\t\t\t\t\t\t\t\t\t\t\t</style>\n",
       "\n",
       "\t\t\t\t\t\t\t\t\t\t\t\t<div><div class=\"grid-container\"><div class=\"grid-item\"><img alt=\"Output\" src=\"data:image/png;base64,iVBORw0KGgoAAAANSUhEUgAAADsAAAARCAIAAADscEO0AAAAhXpUWHRSYXcgcHJvZmlsZSB0eXBlIGV4aWYAAHjaVYvBDcMwDAP/mqIjyLJM2uMYiQNkg45fuu0n9yApgbT1vi97felp2dgxABc5csRU6P6juNciDXn+X9MfZGWgoRhTluEkhnJXkqKFN+LCAahYcIbnIV8gNQN3o86928QyPusLVffpbh/5eCey76LuBgAAAAlwSFlzAAALEwAACxMBAJqcGAAAADx0RVh0U29mdHdhcmUAQ3JlYXRlZCB3aXRoIHRoZSBXb2xmcmFtIExhbmd1YWdlIDogd3d3LndvbGZyYW0uY29tXKKmhQAAACF0RVh0Q3JlYXRpb24gVGltZQAyMDIwOjA5OjA2IDE5OjIzOjI064hPcgAAAzVJREFUSInVVr9L61AYTeJDLa2pZrH4A1EqIoogWFqICF1URAS1joIIDrp0c7EIKmIG/Q8UwUWLCHYoCNZBilSMJLTUQeNWjbamIC0ksZrcN/S9NE1rXoTHe3i2c+734/Dx3eTCAADoWwH53wa+jO/n+Mc/7le6hDAMf6lC0YwFQbi7uzOSxvN8IBCYmZlZWFhQ64+Pj+Pj4y0tLYODg/F4vDSxt7cXUaGyslKWZZ1GNzc3Hx8f5R3TND0xMZFIJIw4Zll2f3+foqhYLKaIAIDh4WEMw4LBoMvlcrvdPM9rEiORSDabzWaz6XS6vb3d6/UiiN5mkiQ5OjpaZBr8xtraGkVR4CvY2trCcVyh5+fnKIryPJ+nHR0du7u7n+UuLy/b7XYlWAfb29uhUEihiNp6TU2NkQF/BoZhenp6ZFleX19PJpNOp5NhmLKRsViMIIidnR2TyfTHshaL5e3tTaGFm6e/T0bAcVxdXd3V1ZXP57PZbBiGcRxXGiZJ0uzs7Nzc3MDAgMHKkiRpHUcikevr66WlJXUcTdOvr68KbW5uttvtOnUxDMtkMjiO7+3tjY2NXVxc1NfXl4Ztbm5yHEcQhFpsbW1tamqCIMjj8Xi9XvWRw+FYXFzs6upqa2srOH55eamqqqqoqFCHPj8/p1IphZrNZh27+a7xeByG4enpaQiCKIqan5/XxNze3q6srAQCAYvFotZRFA2Hw2XLmkwmURQzmcwvrmy0z+e7v783eOdEURQEgSAIl8slCIIoigCA9/f3xsbGjY0NAIDf76+uruY4Tp0lSRKO4x6PJ62CLMuiKFqt1pGRkaGhIZqmNb38fv/R0ZFCC45XV1cZhjHouK+vTz2G2travB4Oh202m9lsRlH08PBQk3V5eVk6wlQqBQBgWRYAcHx8rP745HFwcBAMBhVauHkIgqivpD5Ikiyr9/f3syz78PDQ0NCg2TEIgpxOJyj38OI4zmq1QhDU2dmZy+U0p7lcrui/qHgnSXJycjIajRoc819EKBRyOBxTU1Pd3d2np6eaI7fbnUgkFAVSH0ej0bOzs39ksxiSJCWTSUmSNPrJycnT05NagcF3ex//BC411fPr1XvGAAAAAElFTkSuQmCC\"></div><div class=\"grid-item\"><img alt=\"Output\" src=\"data:image/png;base64,iVBORw0KGgoAAAANSUhEUgAAADMAAAARCAIAAAD/pwNAAAAAhXpUWHRSYXcgcHJvZmlsZSB0eXBlIGV4aWYAAHjaVYvBDcMwDAP/mqIjyLJM2uMYiQNkg45fuu0n9yApgbT1vi97felp2dgxABc5csRU6P6juNciDXn+X9MfZGWgoRhTluEkhnJXkqKFN+LCAahYcIbnIV8gNQN3o86928QyPusLVffpbh/5eCey76LuBgAAAAlwSFlzAAALEwAACxMBAJqcGAAAADx0RVh0U29mdHdhcmUAQ3JlYXRlZCB3aXRoIHRoZSBXb2xmcmFtIExhbmd1YWdlIDogd3d3LndvbGZyYW0uY29tXKKmhQAAACF0RVh0Q3JlYXRpb24gVGltZQAyMDIwOjA5OjA2IDE5OjIzOjI1nI9/5AAAAr5JREFUSInNVs9LKlEUHsdQBn9tWrirKATRTaAY+BJsE0S4SEXbCuEfMC0iRNA2Ltu0qva6EAwKAu1tghQERUGw1CCiH2oPqfDX2PW8ha/xOpr6HsTz251zv/k49zvnMJcHAMREgvzfBXyJya1s6pt0+4eEx+P9lUKPZ/V6/ebmZpzPgsHgDwyBQIBDWFxcJDEIBIJ2uz1EMJPJfHx84JmuZ8lkcnd3d3t7W6FQjKwsm80CwM7OTidUqVQcQjQaRQgRBMEwzNLSkslkIslhkxOPx2maPj09nZr6LAk+sbe3l0gkYDzQNO10Osdhut3uhYWFWq02knl0dBSJRNiw6xkASCSSkW51UKlUMpnM5uamUCg0mUwbGxsDael02ufzhcNhiqJGaorF4mazyYZdh4fPAQcKhWJ+fn5lZQUhZLPZDg8P+zkIIYfDsbW1ZTAYxpTtDMAfdKy7urpaX19vtVq4vYlE4ieGXC43sAtWq3V5ebk/7/P5ZmZm3t/f8eTs7Gxnafb39zn8QqFgNpsLhUJPN8vlslAo5PP5+A2en59LpRIbikSigRfVaDT9u3l9fe3xeE5OTsRiMZ6XSqWXl5cDdSiKajQab29vPZ4BgMvlyufzI+cUAG5vby0Wy93dHQDk8/m5uTmapnECQkiv11ssll8Y2u12o9GQyWRra2urq6vJZJIjGwgEgsEgG3Yr83q9X/WLg9fXV4fDQVHU9PQ0SZJ2u71areKEWCzWb0mpVAKAx8dHAAiFQnq9niPr9/vPzs7YsLubJEniqzEEUqn0+Pj44ODg4eFBLpf3d1mn08Ggh8LLy4tMJiMIQqlUMgzDOWUYpuc/wdYYj8fNZnMqlRrHtn9DJBLRarVWq1WtVofDYc6R0Wi8v79nMwR+nEqlLi4uvq8yAEAIFYtFhBAnf35+/vT0hGd4MKnvs9+PFa+rf1cx5AAAAABJRU5ErkJggg==\"></div></div></div>"
      ],
      "text/plain": [
       "{-10 Z }\n",
       "      5\n",
       "{-5 Z }\n",
       "     5"
      ]
     },
     "execution_count": 8,
     "metadata": {
      "text/html": [],
      "text/plain": []
     },
     "output_type": "execute_result"
    }
   ],
   "source": [
    "-ZS[2,1,2]-ZS[2,2,1]\n",
    "6 ZS[1,1,3]+5 ZS[1,2,2]+4 ZS[1,3,1]+3 ZS[2,1,2]+2 ZS[2,2,1]"
   ]
  },
  {
   "cell_type": "code",
   "execution_count": 17,
   "metadata": {},
   "outputs": [
    {
     "data": {
      "text/html": [
       "<div><img alt=\"Output\" src=\"data:image/png;base64,iVBORw0KGgoAAAANSUhEUgAAADsAAAARCAIAAADscEO0AAAAhXpUWHRSYXcgcHJvZmlsZSB0eXBlIGV4aWYAAHjaVYvBDcMwDAP/mqIjyLJM2uMYiQNkg45fuu0n9yApgbT1vi97felp2dgxABc5csRU6P6juNciDXn+X9MfZGWgoRhTluEkhnJXkqKFN+LCAahYcIbnIV8gNQN3o86928QyPusLVffpbh/5eCey76LuBgAAAAlwSFlzAAALEwAACxMBAJqcGAAAADx0RVh0U29mdHdhcmUAQ3JlYXRlZCB3aXRoIHRoZSBXb2xmcmFtIExhbmd1YWdlIDogd3d3LndvbGZyYW0uY29tXKKmhQAAACF0RVh0Q3JlYXRpb24gVGltZQAyMDIwOjA5OjA2IDE5OjI2OjAw6Q0Z2wAAAzVJREFUSInVVr9L61AYTeJDLa2pZrH4A1EqIoogWFqICF1URAS1joIIDrp0c7EIKmIG/Q8UwUWLCHYoCNZBilSMJLTUQeNWjbamIC0ksZrcN/S9NE1rXoTHe3i2c+734/Dx3eTCAADoWwH53wa+jO/n+Mc/7le6hDAMf6lC0YwFQbi7uzOSxvN8IBCYmZlZWFhQ64+Pj+Pj4y0tLYODg/F4vDSxt7cXUaGyslKWZZ1GNzc3Hx8f5R3TND0xMZFIJIw4Zll2f3+foqhYLKaIAIDh4WEMw4LBoMvlcrvdPM9rEiORSDabzWaz6XS6vb3d6/UiiN5mkiQ5OjpaZBr8xtraGkVR4CvY2trCcVyh5+fnKIryPJ+nHR0du7u7n+UuLy/b7XYlWAfb29uhUEihiNp6TU2NkQF/BoZhenp6ZFleX19PJpNOp5NhmLKRsViMIIidnR2TyfTHshaL5e3tTaGFm6e/T0bAcVxdXd3V1ZXP57PZbBiGcRxXGiZJ0uzs7Nzc3MDAgMHKkiRpHUcikevr66WlJXUcTdOvr68KbW5uttvtOnUxDMtkMjiO7+3tjY2NXVxc1NfXl4Ztbm5yHEcQhFpsbW1tamqCIMjj8Xi9XvWRw+FYXFzs6upqa2srOH55eamqqqqoqFCHPj8/p1IphZrNZh27+a7xeByG4enpaQiCKIqan5/XxNze3q6srAQCAYvFotZRFA2Hw2XLmkwmURQzmcwvrmy0z+e7v783eOdEURQEgSAIl8slCIIoigCA9/f3xsbGjY0NAIDf76+uruY4Tp0lSRKO4x6PJ62CLMuiKFqt1pGRkaGhIZqmNb38fv/R0ZFCC45XV1cZhjHouK+vTz2G2travB4Oh202m9lsRlH08PBQk3V5eVk6wlQqBQBgWRYAcHx8rP745HFwcBAMBhVauHkIgqivpD5Ikiyr9/f3syz78PDQ0NCg2TEIgpxOJyj38OI4zmq1QhDU2dmZy+U0p7lcrui/qHgnSXJycjIajRoc819EKBRyOBxTU1Pd3d2np6eaI7fbnUgkFAVSH0ej0bOzs39ksxiSJCWTSUmSNPrJycnT05NagcF3ex//BC411fPr1XvGAAAAAElFTkSuQmCC\"></div>"
      ],
      "text/plain": [
       "{-10 Z }\n",
       "      5"
      ]
     },
     "execution_count": 17,
     "metadata": {
      "text/html": [],
      "text/plain": []
     },
     "output_type": "execute_result"
    }
   ],
   "source": [
    "-SubscriptBox[\"\\:03b6\", \"\\:f782\"][2,1,2]-SubscriptBox[\"\\:03b6\", \"\\:f782\"][2,2,1]"
   ]
  },
  {
   "cell_type": "code",
   "execution_count": 18,
   "metadata": {},
   "outputs": [
    {
     "data": {
      "text/html": [
       "<div><img alt=\"Output\" src=\"data:image/png;base64,iVBORw0KGgoAAAANSUhEUgAAADMAAAARCAIAAAD/pwNAAAAAhXpUWHRSYXcgcHJvZmlsZSB0eXBlIGV4aWYAAHjaVYvBDcMwDAP/mqIjyLJM2uMYiQNkg45fuu0n9yApgbT1vi97felp2dgxABc5csRU6P6juNciDXn+X9MfZGWgoRhTluEkhnJXkqKFN+LCAahYcIbnIV8gNQN3o86928QyPusLVffpbh/5eCey76LuBgAAAAlwSFlzAAALEwAACxMBAJqcGAAAADx0RVh0U29mdHdhcmUAQ3JlYXRlZCB3aXRoIHRoZSBXb2xmcmFtIExhbmd1YWdlIDogd3d3LndvbGZyYW0uY29tXKKmhQAAACF0RVh0Q3JlYXRpb24gVGltZQAyMDIwOjA5OjA2IDE5OjI2OjEyHhhJtgAAAr5JREFUSInNVs9LKlEUHsdQBn9tWrirKATRTaAY+BJsE0S4SEXbCuEfMC0iRNA2Ltu0qva6EAwKAu1tghQERUGw1CCiH2oPqfDX2PW8ha/xOpr6HsTz251zv/k49zvnMJcHAMREgvzfBXyJya1s6pt0+4eEx+P9lUKPZ/V6/ebmZpzPgsHgDwyBQIBDWFxcJDEIBIJ2uz1EMJPJfHx84JmuZ8lkcnd3d3t7W6FQjKwsm80CwM7OTidUqVQcQjQaRQgRBMEwzNLSkslkIslhkxOPx2maPj09nZr6LAk+sbe3l0gkYDzQNO10Osdhut3uhYWFWq02knl0dBSJRNiw6xkASCSSkW51UKlUMpnM5uamUCg0mUwbGxsDael02ufzhcNhiqJGaorF4mazyYZdh4fPAQcKhWJ+fn5lZQUhZLPZDg8P+zkIIYfDsbW1ZTAYxpTtDMAfdKy7urpaX19vtVq4vYlE4ieGXC43sAtWq3V5ebk/7/P5ZmZm3t/f8eTs7Gxnafb39zn8QqFgNpsLhUJPN8vlslAo5PP5+A2en59LpRIbikSigRfVaDT9u3l9fe3xeE5OTsRiMZ6XSqWXl5cDdSiKajQab29vPZ4BgMvlyufzI+cUAG5vby0Wy93dHQDk8/m5uTmapnECQkiv11ssll8Y2u12o9GQyWRra2urq6vJZJIjGwgEgsEgG3Yr83q9X/WLg9fXV4fDQVHU9PQ0SZJ2u71areKEWCzWb0mpVAKAx8dHAAiFQnq9niPr9/vPzs7YsLubJEniqzEEUqn0+Pj44ODg4eFBLpf3d1mn08Ggh8LLy4tMJiMIQqlUMgzDOWUYpuc/wdYYj8fNZnMqlRrHtn9DJBLRarVWq1WtVofDYc6R0Wi8v79nMwR+nEqlLi4uvq8yAEAIFYtFhBAnf35+/vT0hGd4MKnvs9+PFa+rf1cx5AAAAABJRU5ErkJggg==\"></div>"
      ],
      "text/plain": [
       "{-5 Z }\n",
       "     5"
      ]
     },
     "execution_count": 18,
     "metadata": {
      "text/html": [],
      "text/plain": []
     },
     "output_type": "execute_result"
    }
   ],
   "source": [
    "6 SubscriptBox[\"\\:03b6\", \"\\:f782\"][1,1,3]+5 SubscriptBox[\"\\:03b6\", \"\\:f782\"][1,2,2]+4 SubscriptBox[\"\\:03b6\", \"\\:f782\"][1,3,1]+3 SubscriptBox[\"\\:03b6\", \"\\:f782\"][2,1,2]+2 SubscriptBox[\"\\:03b6\", \"\\:f782\"][2,2,1]"
   ]
  },
  {
   "cell_type": "code",
   "execution_count": 19,
   "metadata": {},
   "outputs": [
    {
     "data": {
      "text/html": [
       "<div><img alt=\"Output\" src=\"data:image/png;base64,iVBORw0KGgoAAAANSUhEUgAAADsAAAARCAIAAADscEO0AAAAhXpUWHRSYXcgcHJvZmlsZSB0eXBlIGV4aWYAAHjaVYvBDcMwDAP/mqIjyLJM2uMYiQNkg45fuu0n9yApgbT1vi97felp2dgxABc5csRU6P6juNciDXn+X9MfZGWgoRhTluEkhnJXkqKFN+LCAahYcIbnIV8gNQN3o86928QyPusLVffpbh/5eCey76LuBgAAAAlwSFlzAAALEwAACxMBAJqcGAAAADx0RVh0U29mdHdhcmUAQ3JlYXRlZCB3aXRoIHRoZSBXb2xmcmFtIExhbmd1YWdlIDogd3d3LndvbGZyYW0uY29tXKKmhQAAACF0RVh0Q3JlYXRpb24gVGltZQAyMDIwOjA5OjA2IDE5OjMxOjM1Ev2vngAAAzNJREFUSInVVk1IKlEU1jEqaaxF0EILNwZClNimoocSLmpRTKCLtkUuolaFm4igMhBaFIgEIQUt0hZBPTKC7NGqpGJqwhZptsiFZQ2FE06RM+cthsZxJlLh/dC3mvud+93znXPPhZEDgOxbAfnfBorG93Nc8o/zSYdQLpcXdUJOj2majkQihchCoRCGYVqttrGxcW5ujudHRkZ+CJBMJkVCo9GICFBaWsqy7BeJLi8vM5lMDgUfwHG8q6srGAxCPrAs29PTMz8/TxDE8vIygiB+v58LNTU1ORyOnx+gaVqkTafTFEVRFEWSZH19/djY2Ne5VlZWOjs739/feSbreGZmBsfxvHalaGhoWFhY4L7r6uoKqRkAJicndTpdOp3Ou9Pr9QrPLBE2W6VSFTISHFKpVDgcXltbe3x87Ovr48inpyev17u4uKjRaIaGhvR6/afai4sLl8u1t7enVCrzJkJR9O3tjV9m5/jreZLC5/OZzWaPx+NwOGpqajiytbVVp9OZTKbj4+OWlpbb21upkGGYgYEBu91uMpkKzMUwTHbBtfrw8LC7u1s4LgCA4/gvAaLRqOi+GIY5ODiora2dnZ0VhSiKQlHU7XZLb9nlcmm1WoqieGZzc5N7qUajUaPRiPbHYjGr1RqLxXKm4uHhoaysTKFQCCu7u7sTPvaKigpR6QiCmM3mwcHBQCAwPj4uDKEoqtfrX15eRJKrq6upqamtrS0URXkSwzAMw2Qymd1ut9lsIolSqXx9fU2lUjk9BoCJiYnr6+u874Ar2mKxnJ+fsyx7f3/f3Nzc398PAEtLS06nk3tMPp8PQZCjoyPRnbS3t9tsNlIAlmW56NnZWW9vrzTd+vr6xsYGv8w6np6elt77p6BpenR0tLq6WqVSKRQKi8WSTCYB4PT0tK2trby8vKqqqrKy0uPxiIShUEg6o5wWAIaHh7e3t6Xp/H5/IBD4xLHT6QyHw4U45hGPx5+fn0UkSZI3NzeZTKaoowDAYDCQJCnlV1dXd3Z2+GXW8cnJidVqJQii2Ex/Cmq1WkoGg8GOjo54PM4zMmGYIIj9/f2/bq0Y7O7uJhIJISOH7/Z//BtgqlT5Wn9twAAAAABJRU5ErkJggg==\"></div>"
      ],
      "text/plain": [
       "{-35 Z }\n",
       "      7"
      ]
     },
     "execution_count": 19,
     "metadata": {
      "text/html": [],
      "text/plain": []
     },
     "output_type": "execute_result"
    }
   ],
   "source": [
    "-SubscriptBox[\"\\:03b6\", \"\\:f782\"][4,1,2]-SubscriptBox[\"\\:03b6\", \"\\:f782\"][4,2,1]\n"
   ]
  },
  {
   "cell_type": "code",
   "execution_count": 30,
   "metadata": {},
   "outputs": [
    {
     "data": {
      "text/html": [
       "<div><img alt=\"Output\" src=\"data:image/png;base64,iVBORw0KGgoAAAANSUhEUgAAADIAAAARCAIAAAAQZWh+AAAAhXpUWHRSYXcgcHJvZmlsZSB0eXBlIGV4aWYAAHjaVYvBDcMwDAP/mqIjyLJM2uMYiQNkg45fuu0n9yApgbT1vi97felp2dgxABc5csRU6P6juNciDXn+X9MfZGWgoRhTluEkhnJXkqKFN+LCAahYcIbnIV8gNQN3o86928QyPusLVffpbh/5eCey76LuBgAAAAlwSFlzAAALEwAACxMBAJqcGAAAADx0RVh0U29mdHdhcmUAQ3JlYXRlZCB3aXRoIHRoZSBXb2xmcmFtIExhbmd1YWdlIDogd3d3LndvbGZyYW0uY29tXKKmhQAAACF0RVh0Q3JlYXRpb24gVGltZQAyMDIwOjA5OjA2IDE5OjQ4OjIwtKT5ygAAAuRJREFUSIntVj9IMmEcvkuxBAOJmvpDiLWJEQQNOQU1JCjSgUHWO1SDQU5tQUMRDlFEQwpF6KIOgoJFQw4GqXjmYWRDRUJHBplFCd1J5dtg35vdqSXf8DV8z/Q+z+/P+/zeO947HEKI/T7U/GsDpfHfVjX4YothmLOzM0Sfn5+9Xi8AwGg08iszmczAwMDGxkaF7i8vL5FIJBgMVjaRSCReX19L26IoSqfT0TSNlFQq5XA4YrHY8fExpxGEcGxs7PDwMJlMltxpZmbG4/EQBBGLxdbW1sLhcAVbJEmq1epiZ5+2dnZ2lpaW+vv7kSKXy51OJwCA38hsNt/d3REEUW4nvV5vMBja2tqurq4eHx87Ozsr2AIAEAQRCASQIkQrCGF9fX2FYoSDg4Pl5WWSJBcWFsrlbG1tURQlEAhEIlFzc/O3PSUSSS6XK2Ern8//xNPt7e3IyIjFYpHJZOVyTk9PxWKxXC7/SUOEt7c3tP54iKFQKBqNtre3f1sMABAKhTRNr6ysJBIJkiTtdjsnZ39/f2hoiCN6vV6VSqVSqbq7u1taWjjRnp4em812eXlZoB+nlU6na2trBQLBt7Y6Ojqampri8TiGYff399ls9vz8nJNzdHSk1Wo5okaj0Wg0GIZNTk4ODw9zomKxmGXZp6enDw7/YG5u7uLiAhaBZVmGYcxmc29vL8MwLMvCrwAAzM7OQh7W19dNJlMymeSHKIrSarV83eVyud1uRD/fLZFIxPk+9vX1RaNRNI1UKn14eChOwHG8pqbEhTw9Pe3z+VZXV2mabmxstFqtOI4XQpubmxMTE/wSCGFdXd0XXsDi4uLJyQl/jmoRDAY9Hk8+ny9Qg8EQiURQVKlUZjIZfpXdbt/d3UX0c9bBwcH5+Xn+zVktlErl9fX16Ojo+Pj41NRUa2trV1cXiqbT6YaGBk6J3+/f3t5WKBQlTgtCGI/H/X7/3x9Ytdjb27u5uSlWcPgr/7feAaDHkvFn2WL1AAAAAElFTkSuQmCC\"></div>"
      ],
      "text/plain": [
       "{14 ζ }\n",
       "     7"
      ]
     },
     "execution_count": 30,
     "metadata": {
      "text/html": [],
      "text/plain": []
     },
     "output_type": "execute_result"
    }
   ],
   "source": [
    "12 SubscriptBox[\"\\:03b6\", \"\\:f782\"][1,1,5]+9 SubscriptBox[\"\\:03b6\", \"\\:f782\"][1,2,4]+8 SubscriptBox[\"\\:03b6\", \"\\:f782\"][1,3,3]+8 SubscriptBox[\"\\:03b6\", \"\\:f782\"][1,4,2]+8 SubscriptBox[\"\\:03b6\", \"\\:f782\"][1,5,1]+5 SubscriptBox[\"\\:03b6\", \"\\:f782\"][2,1,4]+4 SubscriptBox[\"\\:03b6\", \"\\:f782\"][2,2,3]+4 SubscriptBox[\"\\:03b6\", \"\\:f782\"][2,3,2]+4 SubscriptBox[\"\\:03b6\", \"\\:f782\"][2,4,1]+2 SubscriptBox[\"\\:03b6\", \"\\:f782\"][3,1,3]+2 SubscriptBox[\"\\:03b6\", \"\\:f782\"][3,2,2]+2 SubscriptBox[\"\\:03b6\", \"\\:f782\"][3,3,1]+SubscriptBox[\"\\:03b6\", \"\\:f782\"][4,1,2]+SubscriptBox[\"\\:03b6\", \"\\:f782\"][4,2,1]"
   ]
  },
  {
   "cell_type": "code",
   "execution_count": 31,
   "metadata": {},
   "outputs": [
    {
     "data": {
      "text/html": [
       "<div><img alt=\"Output\" src=\"data:image/png;base64,iVBORw0KGgoAAAANSUhEUgAAADsAAAARCAIAAADscEO0AAAAhXpUWHRSYXcgcHJvZmlsZSB0eXBlIGV4aWYAAHjaVYvBDcMwDAP/mqIjyLJM2uMYiQNkg45fuu0n9yApgbT1vi97felp2dgxABc5csRU6P6juNciDXn+X9MfZGWgoRhTluEkhnJXkqKFN+LCAahYcIbnIV8gNQN3o86928QyPusLVffpbh/5eCey76LuBgAAAAlwSFlzAAALEwAACxMBAJqcGAAAADx0RVh0U29mdHdhcmUAQ3JlYXRlZCB3aXRoIHRoZSBXb2xmcmFtIExhbmd1YWdlIDogd3d3LndvbGZyYW0uY29tXKKmhQAAACF0RVh0Q3JlYXRpb24gVGltZQAyMDIwOjA5OjA2IDE5OjQ4OjIzLa2ocAAAA1hJREFUSIntVk0sI2EYZmaDJlMOwsH4ufTQpEFwIdlEpIc6kCFNRCQkEj2IlkTiQJyoEwnSNE2kRRxMHUTTqDjURtIYUkxNlANKsj2gFKmfQafz7aFrOmZs6Saykexzmvd5vvd7n/f7yyQDAJK+FKB/bSBh/Hf8+XjlmKbpg4ODj6RtbGxgGFZQUFBYWDg8PMzxWq32Ow+BQOBPM4TDYbfbTRBE/EJ7e3sMw7yiwAtIkqyurnY6neA9sCxbW1s7OjpKUdTk5CQEQVarNSoVFRX19PTYX0DTtDhdp9MtLCxgGGYymRoaGtbX1+PUmpqaUqlU4XCYY2KOBwcHSZJ8164YCoVibGws+p2Xl/duz2trawiC6HS63t5elUoVDAbjjzebzfw5v/EXWyqVfuRIRBEKhbxe7+zs7OXlZWNjY5S8vr42m80mkwlF0fb2drlcLk60WCwejweG4ZSUFBRF3y2EIMjT0xMXxhyzLPtxu0lJSTiOa7VahmFGRkays7OjZHl5uUwmy8rKwnF8enp6d3c3Pz+fn7W/vy+RSGQyWUK1IpFILIguNUEQNTU1/OMCACBJ8gcPh4eHgv2KRCKrq6u5ublDQ0MC6fb2FkEQg8Eg4MfHx5eWlgSkzWaL3tSSkhIURQWqz+dTq9U+ny8a/n4rLi4uUlNTYRjmd3Z2dvaTh6urK0HrEARVVla2tbU5HA6BhCCIXC6/u7sT8Nvb2wqFQkBiGOZyuVwuV1lZmcViEagSieTx8TEUCr1aYwBAf3//0dFR/EvANa1UKnd2dliWPT8/Ly0tbW1tBQBMTEzo9fqHhwcAAI7jEASJ3wGDwdDV1XVyciKe1uPx1NXVifm5ubn5+XkujDkeGBgQ7/uboGm6u7s7MzNTKpXCMKxUKgOBAABga2uroqIiLS0tIyMjPT3daDSKc1mWtdvtnZ2d9fX1Go2GZVlO6ujoWFxcFKdYrVaHw/GGY71e7/V6P+KYg9/vv7m5EZDBYPD4+JhhGPF4giBsNhvnsrm52e12c2pxcfGbL93MzAz/6Mccb25uqtVqiqISMp0Q7u/vjUZjU1NTS0uLRqPp6+t7fn7m1JycHHGK0+msqqry+/1vOAYAUBS1srLyeY7/AsvLy6enp3wmGXy1/+NfablYG7jbAmYAAAAASUVORK5CYII=\"></div>"
      ],
      "text/plain": [
       "{-35 ζ }\n",
       "      7"
      ]
     },
     "execution_count": 31,
     "metadata": {
      "text/html": [],
      "text/plain": []
     },
     "output_type": "execute_result"
    }
   ],
   "source": [
    "-SubscriptBox[\"\\:03b6\", \"\\:f782\"][4,1,2]-SubscriptBox[\"\\:03b6\", \"\\:f782\"][4,2,1]"
   ]
  },
  {
   "cell_type": "code",
   "execution_count": 32,
   "metadata": {},
   "outputs": [
    {
     "data": {
      "text/html": [
       "<div><img alt=\"Output\" src=\"data:image/png;base64,iVBORw0KGgoAAAANSUhEUgAAADIAAAARCAIAAAAQZWh+AAAAhXpUWHRSYXcgcHJvZmlsZSB0eXBlIGV4aWYAAHjaVYvBDcMwDAP/mqIjyLJM2uMYiQNkg45fuu0n9yApgbT1vi97felp2dgxABc5csRU6P6juNciDXn+X9MfZGWgoRhTluEkhnJXkqKFN+LCAahYcIbnIV8gNQN3o86928QyPusLVffpbh/5eCey76LuBgAAAAlwSFlzAAALEwAACxMBAJqcGAAAADx0RVh0U29mdHdhcmUAQ3JlYXRlZCB3aXRoIHRoZSBXb2xmcmFtIExhbmd1YWdlIDogd3d3LndvbGZyYW0uY29tXKKmhQAAACF0RVh0Q3JlYXRpb24gVGltZQAyMDIwOjA5OjA2IDE5OjQ4OjI1xM4NRQAAAuRJREFUSIntVj9IMmEcvkuxBAOJmvpDiLWJEQQNOQU1JCjSgUHWO1SDQU5tQUMRDlFEQwpF6KIOgoJFQw4GqXjmYWRDRUJHBplFCd1J5dtg35vdqSXf8DV8z/Q+z+/P+/zeO947HEKI/T7U/GsDpfHfVjX4YothmLOzM0Sfn5+9Xi8AwGg08iszmczAwMDGxkaF7i8vL5FIJBgMVjaRSCReX19L26IoSqfT0TSNlFQq5XA4YrHY8fExpxGEcGxs7PDwMJlMltxpZmbG4/EQBBGLxdbW1sLhcAVbJEmq1epiZ5+2dnZ2lpaW+vv7kSKXy51OJwCA38hsNt/d3REEUW4nvV5vMBja2tqurq4eHx87Ozsr2AIAEAQRCASQIkQrCGF9fX2FYoSDg4Pl5WWSJBcWFsrlbG1tURQlEAhEIlFzc/O3PSUSSS6XK2Ern8//xNPt7e3IyIjFYpHJZOVyTk9PxWKxXC7/SUOEt7c3tP54iKFQKBqNtre3f1sMABAKhTRNr6ysJBIJkiTtdjsnZ39/f2hoiCN6vV6VSqVSqbq7u1taWjjRnp4em812eXlZoB+nlU6na2trBQLBt7Y6Ojqampri8TiGYff399ls9vz8nJNzdHSk1Wo5okaj0Wg0GIZNTk4ODw9zomKxmGXZp6enDw7/YG5u7uLiAhaBZVmGYcxmc29vL8MwLMvCrwAAzM7OQh7W19dNJlMymeSHKIrSarV83eVyud1uRD/fLZFIxPk+9vX1RaNRNI1UKn14eChOwHG8pqbEhTw9Pe3z+VZXV2mabmxstFqtOI4XQpubmxMTE/wSCGFdXd0XXsDi4uLJyQl/jmoRDAY9Hk8+ny9Qg8EQiURQVKlUZjIZfpXdbt/d3UX0c9bBwcH5+Xn+zVktlErl9fX16Ojo+Pj41NRUa2trV1cXiqbT6YaGBk6J3+/f3t5WKBQlTgtCGI/H/X7/3x9Ytdjb27u5uSlWcPgr/7feAaDHkvFn2WL1AAAAAElFTkSuQmCC\"></div>"
      ],
      "text/plain": [
       "{14 ζ }\n",
       "     7"
      ]
     },
     "execution_count": 32,
     "metadata": {
      "text/html": [],
      "text/plain": []
     },
     "output_type": "execute_result"
    }
   ],
   "source": [
    "12 SubscriptBox[\"\\:03b6\", \"\\:f782\"][1,1,5]+9 SubscriptBox[\"\\:03b6\", \"\\:f782\"][1,2,4]+8 SubscriptBox[\"\\:03b6\", \"\\:f782\"][1,3,3]+8 SubscriptBox[\"\\:03b6\", \"\\:f782\"][1,4,2]+8 SubscriptBox[\"\\:03b6\", \"\\:f782\"][1,5,1]+5 SubscriptBox[\"\\:03b6\", \"\\:f782\"][2,1,4]+4 SubscriptBox[\"\\:03b6\", \"\\:f782\"][2,2,3]+4 SubscriptBox[\"\\:03b6\", \"\\:f782\"][2,3,2]+4 SubscriptBox[\"\\:03b6\", \"\\:f782\"][2,4,1]+2 SubscriptBox[\"\\:03b6\", \"\\:f782\"][3,1,3]+2 SubscriptBox[\"\\:03b6\", \"\\:f782\"][3,2,2]+2 SubscriptBox[\"\\:03b6\", \"\\:f782\"][3,3,1]+SubscriptBox[\"\\:03b6\", \"\\:f782\"][4,1,2]+SubscriptBox[\"\\:03b6\", \"\\:f782\"][4,2,1]"
   ]
  },
  {
   "cell_type": "code",
   "execution_count": 33,
   "metadata": {},
   "outputs": [
    {
     "data": {
      "text/html": [
       "<div><img alt=\"Output\" src=\"data:image/png;base64,iVBORw0KGgoAAAANSUhEUgAAADsAAAARCAIAAADscEO0AAAAhXpUWHRSYXcgcHJvZmlsZSB0eXBlIGV4aWYAAHjaVYvBDcMwDAP/mqIjyLJM2uMYiQNkg45fuu0n9yApgbT1vi97felp2dgxABc5csRU6P6juNciDXn+X9MfZGWgoRhTluEkhnJXkqKFN+LCAahYcIbnIV8gNQN3o86928QyPusLVffpbh/5eCey76LuBgAAAAlwSFlzAAALEwAACxMBAJqcGAAAADx0RVh0U29mdHdhcmUAQ3JlYXRlZCB3aXRoIHRoZSBXb2xmcmFtIExhbmd1YWdlIDogd3d3LndvbGZyYW0uY29tXKKmhQAAACF0RVh0Q3JlYXRpb24gVGltZQAyMDIwOjA5OjA2IDE5OjUxOjMzdN7/CwAAAzVJREFUSInVVr9L61AYTeJDLa2pZrH4A1EqIoogWFqICF1URAS1joIIDrp0c7EIKmIG/Q8UwUWLCHYoCNZBilSMJLTUQeNWjbamIC0ksZrcN/S9NE1rXoTHe3i2c+734/Dx3eTCAADoWwH53wa+jO/n+Mc/7le6hDAMf6lC0YwFQbi7uzOSxvN8IBCYmZlZWFhQ64+Pj+Pj4y0tLYODg/F4vDSxt7cXUaGyslKWZZ1GNzc3Hx8f5R3TND0xMZFIJIw4Zll2f3+foqhYLKaIAIDh4WEMw4LBoMvlcrvdPM9rEiORSDabzWaz6XS6vb3d6/UiiN5mkiQ5OjpaZBr8xtraGkVR4CvY2trCcVyh5+fnKIryPJ+nHR0du7u7n+UuLy/b7XYlWAfb29uhUEihiNp6TU2NkQF/BoZhenp6ZFleX19PJpNOp5NhmLKRsViMIIidnR2TyfTHshaL5e3tTaGFm6e/T0bAcVxdXd3V1ZXP57PZbBiGcRxXGiZJ0uzs7Nzc3MDAgMHKkiRpHUcikevr66WlJXUcTdOvr68KbW5uttvtOnUxDMtkMjiO7+3tjY2NXVxc1NfXl4Ztbm5yHEcQhFpsbW1tamqCIMjj8Xi9XvWRw+FYXFzs6upqa2srOH55eamqqqqoqFCHPj8/p1IphZrNZh27+a7xeByG4enpaQiCKIqan5/XxNze3q6srAQCAYvFotZRFA2Hw2XLmkwmURQzmcwvrmy0z+e7v783eOdEURQEgSAIl8slCIIoigCA9/f3xsbGjY0NAIDf76+uruY4Tp0lSRKO4x6PJ62CLMuiKFqt1pGRkaGhIZqmNb38fv/R0ZFCC45XV1cZhjHouK+vTz2G2travB4Oh202m9lsRlH08PBQk3V5eVk6wlQqBQBgWRYAcHx8rP745HFwcBAMBhVauHkIgqivpD5Ikiyr9/f3syz78PDQ0NCg2TEIgpxOJyj38OI4zmq1QhDU2dmZy+U0p7lcrui/qHgnSXJycjIajRoc819EKBRyOBxTU1Pd3d2np6eaI7fbnUgkFAVSH0ej0bOzs39ksxiSJCWTSUmSNPrJycnT05NagcF3ex//BC411fPr1XvGAAAAAElFTkSuQmCC\"></div>"
      ],
      "text/plain": [
       "{-10 Z }\n",
       "      5"
      ]
     },
     "execution_count": 33,
     "metadata": {
      "text/html": [],
      "text/plain": []
     },
     "output_type": "execute_result"
    }
   ],
   "source": [
    "ZA2[3,2]"
   ]
  },
  {
   "cell_type": "code",
   "execution_count": 34,
   "metadata": {},
   "outputs": [
    {
     "data": {
      "text/html": [
       "<div><img alt=\"Output\" src=\"data:image/png;base64,iVBORw0KGgoAAAANSUhEUgAAADsAAAARCAIAAADscEO0AAAAhXpUWHRSYXcgcHJvZmlsZSB0eXBlIGV4aWYAAHjaVYvBDcMwDAP/mqIjyLJM2uMYiQNkg45fuu0n9yApgbT1vi97felp2dgxABc5csRU6P6juNciDXn+X9MfZGWgoRhTluEkhnJXkqKFN+LCAahYcIbnIV8gNQN3o86928QyPusLVffpbh/5eCey76LuBgAAAAlwSFlzAAALEwAACxMBAJqcGAAAADx0RVh0U29mdHdhcmUAQ3JlYXRlZCB3aXRoIHRoZSBXb2xmcmFtIExhbmd1YWdlIDogd3d3LndvbGZyYW0uY29tXKKmhQAAACF0RVh0Q3JlYXRpb24gVGltZQAyMDIwOjA5OjA2IDE5OjUxOjQ520qA0gAAAzVJREFUSInVVr9L61AYTeJDLa2pZrH4A1EqIoogWFqICF1URAS1joIIDrp0c7EIKmIG/Q8UwUWLCHYoCNZBilSMJLTUQeNWjbamIC0ksZrcN/S9NE1rXoTHe3i2c+734/Dx3eTCAADoWwH53wa+jO/n+Mc/7le6hDAMf6lC0YwFQbi7uzOSxvN8IBCYmZlZWFhQ64+Pj+Pj4y0tLYODg/F4vDSxt7cXUaGyslKWZZ1GNzc3Hx8f5R3TND0xMZFIJIw4Zll2f3+foqhYLKaIAIDh4WEMw4LBoMvlcrvdPM9rEiORSDabzWaz6XS6vb3d6/UiiN5mkiQ5OjpaZBr8xtraGkVR4CvY2trCcVyh5+fnKIryPJ+nHR0du7u7n+UuLy/b7XYlWAfb29uhUEihiNp6TU2NkQF/BoZhenp6ZFleX19PJpNOp5NhmLKRsViMIIidnR2TyfTHshaL5e3tTaGFm6e/T0bAcVxdXd3V1ZXP57PZbBiGcRxXGiZJ0uzs7Nzc3MDAgMHKkiRpHUcikevr66WlJXUcTdOvr68KbW5uttvtOnUxDMtkMjiO7+3tjY2NXVxc1NfXl4Ztbm5yHEcQhFpsbW1tamqCIMjj8Xi9XvWRw+FYXFzs6upqa2srOH55eamqqqqoqFCHPj8/p1IphZrNZh27+a7xeByG4enpaQiCKIqan5/XxNze3q6srAQCAYvFotZRFA2Hw2XLmkwmURQzmcwvrmy0z+e7v783eOdEURQEgSAIl8slCIIoigCA9/f3xsbGjY0NAIDf76+uruY4Tp0lSRKO4x6PJ62CLMuiKFqt1pGRkaGhIZqmNb38fv/R0ZFCC45XV1cZhjHouK+vTz2G2travB4Oh202m9lsRlH08PBQk3V5eVk6wlQqBQBgWRYAcHx8rP745HFwcBAMBhVauHkIgqivpD5Ikiyr9/f3syz78PDQ0NCg2TEIgpxOJyj38OI4zmq1QhDU2dmZy+U0p7lcrui/qHgnSXJycjIajRoc819EKBRyOBxTU1Pd3d2np6eaI7fbnUgkFAVSH0ej0bOzs39ksxiSJCWTSUmSNPrJycnT05NagcF3ex//BC411fPr1XvGAAAAAElFTkSuQmCC\"></div>"
      ],
      "text/plain": [
       "{-10 Z }\n",
       "      5"
      ]
     },
     "execution_count": 34,
     "metadata": {
      "text/html": [],
      "text/plain": []
     },
     "output_type": "execute_result"
    }
   ],
   "source": [
    "6 ZA2[1,4]+3 ZA2[2,3]+ZA2[3,2]"
   ]
  },
  {
   "cell_type": "code",
   "execution_count": 35,
   "metadata": {},
   "outputs": [
    {
     "data": {
      "text/html": [
       "<style>\n",
       "\t\t\t\t\t\t\t\t\t\t\t\t\t.grid-container {\n",
       "\t\t\t\t\t\t\t\t\t\t\t\t\t\tdisplay: inline-grid;\n",
       "\t\t\t\t\t\t\t\t\t\t\t\t\t\tgrid-template-columns: auto;\n",
       "\t\t\t\t\t\t\t\t\t\t\t\t\t}\n",
       "\t\t\t\t\t\t\t\t\t\t\t\t</style>\n",
       "\n",
       "\t\t\t\t\t\t\t\t\t\t\t\t<div><div class=\"grid-container\"><div class=\"grid-item\"><img alt=\"Output\" src=\"data:image/png;base64,iVBORw0KGgoAAAANSUhEUgAAADIAAAARCAIAAAAQZWh+AAAAhXpUWHRSYXcgcHJvZmlsZSB0eXBlIGV4aWYAAHjaVYvBDcMwDAP/mqIjyLJM2uMYiQNkg45fuu0n9yApgbT1vi97felp2dgxABc5csRU6P6juNciDXn+X9MfZGWgoRhTluEkhnJXkqKFN+LCAahYcIbnIV8gNQN3o86928QyPusLVffpbh/5eCey76LuBgAAAAlwSFlzAAALEwAACxMBAJqcGAAAADx0RVh0U29mdHdhcmUAQ3JlYXRlZCB3aXRoIHRoZSBXb2xmcmFtIExhbmd1YWdlIDogd3d3LndvbGZyYW0uY29tXKKmhQAAACF0RVh0Q3JlYXRpb24gVGltZQAyMDIwOjA5OjA2IDE5OjU1OjIylaBpiwAAA09JREFUSInNVjtL81AYTqtI66VoXUIVO6hkkVQHW8GidpGCWTQFxU3BScFJcCgdFLH/wDtecDBIkQ4F0YqI4C1iqXjD2EFqK5YExWBDL8n5hnzGNK2Fb5DPZ8rznPc95zlv3nMSFQAA+n1Q/28DufFLbRX+xKTZjaFSqf5phoxqcRx3f38v0fPz8+7ubqPRaDabPR6PpEciEVHv7Oy8urrKnrSpqUktQ1FRkSAIeUxcX1+n0+nctgKBQE9PTzgcFinLsn19fR0dHVtbWxiG9fb23tzcQBAEALDb7Xq93ufztbS02Gy2eDyuWOb4+JhlWZZlGYapr68fHR1Vq/N1C0mSGIZlOAOfmJycvLi4ADLwPC89V1dXr66uAgAODg50Ol08Hhd1BEGWl5fBN3C5XHV1dVJwHiwuLvr9fomq5f7KysoyKvm5xff391gshiAIBEEURaEoKgjC1NTUy8uLxWKhKCpnDS4vL91u99LSklarzVMqEaWlpYlEQqJfLZ/n9Y+NjTU3N5vNZgiCaJquqKg4OztzOp0wDOv1epqms1N4nh8cHBwaGmpra5Pr6XSa4zjF/qWULyIW7ejoCMOwVCqVXd6ZmZny8vLb21uRzs/Pt7e3JxKJtbW1t7e3gYGB8fHx7Cy32200GlmWlYsrKysmk8lutw8PDyviQ6EQjuOhUEikf215vV4cxwVBUESvr68XFxfv7e1Jyu7ubmVlZTKZFKnJZJqdnVVk3d3dabXanZ0ducgwDIqiHMcBAKR0CdFotKurKxAIZNgCADidzoeHB3nowsKCRqMhCIJhGIZhXl9fAQCpVKqqqmp6ehoAQBCERqOhaVqexfN8a2urw+FgZBAEYX9/3+FwjIyM9Pf3kySpsEUQhMfjkeiXrYmJCYqiJBqJRBR3YG1trTh0eHgIw3BJSYlOp9vc3FQscHJykt03sVjM6/WiKPr4+Hh6eoogiCJrY2PD5/NJ9Kvl1Wq1/CwYDIbvDoHVao1Go09PTwaDoaCgQDFqsVhArs9/Q0NDYWFhTU0NDMPZAclkMqMKkkGSJHEcDwaD4MfgcrkaGxutVuvc3Jxc9/v9NpstHA5LCiQfDgaD8u7+CXx8fGTfrtvb28/Pz3JFBX7l/9Yf4jYNwhaHR1gAAAAASUVORK5CYII=\"></div><div class=\"grid-item\"><img alt=\"Output\" src=\"data:image/png;base64,iVBORw0KGgoAAAANSUhEUgAAADsAAAARCAIAAADscEO0AAAAhXpUWHRSYXcgcHJvZmlsZSB0eXBlIGV4aWYAAHjaVYvBDcMwDAP/mqIjyLJM2uMYiQNkg45fuu0n9yApgbT1vi97felp2dgxABc5csRU6P6juNciDXn+X9MfZGWgoRhTluEkhnJXkqKFN+LCAahYcIbnIV8gNQN3o86928QyPusLVffpbh/5eCey76LuBgAAAAlwSFlzAAALEwAACxMBAJqcGAAAADx0RVh0U29mdHdhcmUAQ3JlYXRlZCB3aXRoIHRoZSBXb2xmcmFtIExhbmd1YWdlIDogd3d3LndvbGZyYW0uY29tXKKmhQAAACF0RVh0Q3JlYXRpb24gVGltZQAyMDIwOjA5OjA2IDE5OjU1OjIz4qdZHQAAAzRJREFUSInVVk1IMkEYXtellAw6RpQerOwgVofsUAie2kNQoafoFHQqEJIuUYJ18RTeKgqqQ5AHD2JBkH1BRCTWgoH0tx5CotjYgh00U9fpUN847qoVfPTRc5p5Zp55333mndlRQAiJXwXyfyfwbfy+jKkfjicvQoVC8a0Vijx+eXm5vr7+iuz09HRoaEin05nNZr/fj/ilpSWLxaLVagcHB1mWlQs7OztJDFVVVfl8vkKgWCyWy+WKKPgXDMPQNB0KheBnEARBr9d7vd6zszO3261UKmOxGIRwe3vbaDQGg8HDw0Oapk0mk1ybSqUAAAAAnudbWlqcTmflWGtra319fdlsFjGFjOfn5xmG+TTdd4iiiNqNjY0bGxsS/vj4mCCIVCpVbgWXy9Xc3FxhAsLq6iruI4WbXVtb+5WSIAiCJD/KSRAEjuMMBoOEZ1m2qalJrVaXlJ+fn3s8nr29vXITcGg0mtfX10Jo1KpcT+UwNTXV1dVlNptxEgAwOzs7OTlZUiKK4ujo6NjYmMViwflcLgcAKCcpdNAm9vf34+UCIWQY5g+Gm5sbyX4tLi7W1dVdXFzgZCaToWnaarVKVkPweDw6nQ4AgJPr6+vt7e00TY+Pj0vmx+Nxm80Wj8eLquLx8bG6ulqpVOJf9vDwwHEc6tbU1OCjm5ubTqczGAy2tbXhPo2MjCQSiaOjI4oqcXVeXV253e5AIKDRaBD59PS0sLAQDodVKlU2m5VI1Gp1Op0WBKHIYwjhzMwMy7KfHYMPrKysqFQqn8/H8zzP88/PzxDCdDo9MDDQ2tp6eXn5zieTSVwlimJPT4/dbucx5PP5g4MDu90+MTExPDwciUQksXw+n9/vR91CxnNzc/J9L4m7uzvJta/X6yGEXq9XYs/09DQuPDk5kbvOcVwgEDCZTLe3t+Fw2GAwSMJtbW3t7OygbmHjSJLEj2QFNDQ0lDymDofD4XBUEHZ3d8NSDy+j0UhRlFarra+vl0/IZDJFBqHcI5GIzWaLRqNfsfmfw+VydXR09Pb2Li8v43woFLJarYlEAjEEPhyNRvf3938oRxmSyaT8h7K7u3t/f48zCvjb3sdvLJCtnEzFKhwAAAAASUVORK5CYII=\"></div></div></div>"
      ],
      "text/plain": [
       "{20 Z }\n",
       "     6\n",
       "{-22 Z }\n",
       "      6"
      ]
     },
     "execution_count": 35,
     "metadata": {
      "text/html": [],
      "text/plain": []
     },
     "output_type": "execute_result"
    }
   ],
   "source": [
    "-ZA2[3,3]\n",
    "12 ZA2[1,5]+6 ZA2[2,4]+2 ZA2[3,3]"
   ]
  },
  {
   "cell_type": "code",
   "execution_count": 38,
   "metadata": {},
   "outputs": [
    {
     "data": {
      "text/html": [
       "<style>\n",
       "\t\t\t\t\t\t\t\t\t\t\t\t\t.grid-container {\n",
       "\t\t\t\t\t\t\t\t\t\t\t\t\t\tdisplay: inline-grid;\n",
       "\t\t\t\t\t\t\t\t\t\t\t\t\t\tgrid-template-columns: auto;\n",
       "\t\t\t\t\t\t\t\t\t\t\t\t\t}\n",
       "\t\t\t\t\t\t\t\t\t\t\t\t</style>\n",
       "\n",
       "\t\t\t\t\t\t\t\t\t\t\t\t<div><div class=\"grid-container\"><div class=\"grid-item\"><img alt=\"Output\" src=\"data:image/png;base64,iVBORw0KGgoAAAANSUhEUgAAADIAAAARCAIAAAAQZWh+AAAAhXpUWHRSYXcgcHJvZmlsZSB0eXBlIGV4aWYAAHjaVYvBDcMwDAP/mqIjyLJM2uMYiQNkg45fuu0n9yApgbT1vi97felp2dgxABc5csRU6P6juNciDXn+X9MfZGWgoRhTluEkhnJXkqKFN+LCAahYcIbnIV8gNQN3o86928QyPusLVffpbh/5eCey76LuBgAAAAlwSFlzAAALEwAACxMBAJqcGAAAADx0RVh0U29mdHdhcmUAQ3JlYXRlZCB3aXRoIHRoZSBXb2xmcmFtIExhbmd1YWdlIDogd3d3LndvbGZyYW0uY29tXKKmhQAAACF0RVh0Q3JlYXRpb24gVGltZQAyMDIwOjA5OjA2IDE5OjU2OjM2mWMzPQAAAxVJREFUSInNVU1IKlEUvupAGpO1ijbZRrQgasBAw5JaFRRubNfOaFXQwtq0ECwCN7WJAsnAXa4KoSDIVoJlE9YIRREGJSgYTNSkzjiN9y3GxptjPw9evL7VfN8958w359y5VwEhBL8Pyv9toDZ+qS3sJ4rKN4ZCofirCgq0RKFQSKVSBoNBpPl8/uDgYGdnp76+fn19XQqbnp4+Pz+X6Pb2dnNzM1qUIAiKoiSKYRjHcUrlh5O5uLgwGo0YVulR5ens7Gx+fn52dlaylU6nt7a2Li8vtVotWiUSiQwNDfX394u0ahUAcHR0JAgCAKBYLFosFrvd/oknAABJki6Xa3d3t+IMvmFxcTEej0MZlpeXrVYrqrS2tobDYXmkHG63W6/X5/P5LyP9fj9as/IREMKGhoZPvknC4+Oj3+8fGxubmZm5urr6KCyRSHi93s3NTY1G82VNHMc5jpNoxVapVPqOJwCAxWLR6/U2m+3k5MRsNt/f38tjBEFwOp2Tk5M2mw3VX19fGYapWVacexli06LR6OjoKM/z3xmiBIZhcBxfXV2VL3m93ra2NoZhUDEQCHR3dw8PD09NTVXFJ5NJh8ORTCZFWt5iDw8PdXV1KpXqmw0TgeN4e3v7y8tLlX59fe3xeEKhEI7jkkjT9MrKSiwWU6vVPM9XpWg0GpZln5+fRVoeot1u7+jouL29RUM5jmNZlud5QRBYlhVnv7GxsbS0VCgUAADBYDAejw8MDKBZpVJpYmJiZGTEZDLRb4AQJhIJg8EwNzc3Pj6OHh8iIpGI0+kkCKLMpTYuLCzc3Nygje3p6UEzm5qaIISnp6e9vb1qtbqxsVGr1a6trVWN4/j4WN7XbDYbCoW6urru7u5isZjRaKzKCgaDe3t7Eq2cW0qlEv0XAAAkScpfYDKZotEoTdNPT086nU4+d7PZDGtd/52dnRiG6XS6lpYWeUCxWHx3E0gGSZJ0OBwURdXc3f8EbrebIIi+vj6fz4fq4XB4cHAwlUpJCkCXKYo6PDz8OVsQwlwuJz9d9/f3M5kMqry7E38P/gDp/2O0Z4la9QAAAABJRU5ErkJggg==\"></div><div class=\"grid-item\"><img alt=\"Output\" src=\"data:image/png;base64,iVBORw0KGgoAAAANSUhEUgAAADsAAAARCAIAAADscEO0AAAAhXpUWHRSYXcgcHJvZmlsZSB0eXBlIGV4aWYAAHjaVYvBDcMwDAP/mqIjyLJM2uMYiQNkg45fuu0n9yApgbT1vi97felp2dgxABc5csRU6P6juNciDXn+X9MfZGWgoRhTluEkhnJXkqKFN+LCAahYcIbnIV8gNQN3o86928QyPusLVffpbh/5eCey76LuBgAAAAlwSFlzAAALEwAACxMBAJqcGAAAADx0RVh0U29mdHdhcmUAQ3JlYXRlZCB3aXRoIHRoZSBXb2xmcmFtIExhbmd1YWdlIDogd3d3LndvbGZyYW0uY29tXKKmhQAAACF0RVh0Q3JlYXRpb24gVGltZQAyMDIwOjA5OjA2IDE5OjU2OjM2mWMzPQAAAyFJREFUSInVVjtI81AUNrUkra3Q0Re6VBx8g6BQHxQEO7g1IDipIIgPEByVghUhi49JEQUddXDIoIipFRexBAIVA2osIipKSx2MJtE0uQ4/f3qb1Brhxx+/7Xz3nHu+fPdcchEAQN6vguV/C/g2fp9i6w/3Mw4hgiDf2iHDY1EULy8vzZQJgkCSZF9f3/DwsEaqqrq0tNTW1lZWVub1eo+OjoyFjY2NFggoiqqqmqMRy7KpVCqDAn/BMIzP5wuFQsAEOI7r6empra31eDwaeX5+3tHRQZIkwzD9/f0FBQU8z+sKBUHgeZ7n+WQyWVlZOTExkbvR+vp6V1eXLMsak1Y8MzPDMIwZuRrm5uZgxTBYlkUQ5O7u7rPaQCDgdrsFQfiyy9raGuyjFTa7sLDQzEjkxvX1Ncuys7OzOI6XlpZmzTk9PSUIgqIou93+5YZOp/Pt7U0L04pzz5N5DA0N7e/vFxcXLy4uZk1QFGVgYGBwcLC9vR3mU6mUKIpZXVMUJR38sfr4+Li7uxseFwAAwzBhCBzHmZyKl5eXhYUFDMPOzs6MqwRBVFRU6EZ8Y2Ojvr7e5/ONjIzo8mOxmN/vj8ViGVORSCQwDMvPz4e/7PHxMR6Pa6HD4TBps8PhGB8fX11dpSiquroaXrq4uJieniZJ0ul0auTT09P8/HwkErHZbLIs63az2+2SJD0/P2d4DACYmpq6urrKeQfSkCRJFEWCIFpaWkRRlCQJALC8vDw2NpZIJAAA4XAYRdHd3V24SlEUj8eD43gSgqqqh4eHOI6Pjo729vbSNK3rtbW1tb29rYVpxcFg0Hjun6GpqQm2weVyAQA4juvs7MQwzOVy2Wy2yclJXdXJyYnxQOLxOEmSdXV1Nzc3kUikqqpKV7W5ubmzs6OF6ZtnsVjgK5kbNE0bSbfbTVGULMv39/clJSUoiuoSmpubQbaHV01NjdVqLS8vLyoqMia8v79n/Bc17TRN+/3+aDRq0uZ/i0Ag0NDQ0NraurKyAvOhUMjr9d7e3mpMHrwcjUYPDg5+SKMBr6+vxh/K3t7ew8MDzCDgt72PPwDPabItMOoyVgAAAABJRU5ErkJggg==\"></div></div></div>"
      ],
      "text/plain": [
       "{15 Z }\n",
       "     6\n",
       "{-13 Z }\n",
       "      6"
      ]
     },
     "execution_count": 38,
     "metadata": {
      "text/html": [],
      "text/plain": []
     },
     "output_type": "execute_result"
    }
   ],
   "source": [
    "ZA2[2,4]\n",
    "8 ZA2[1,5]+4 ZA2[2,4]+2 ZA2[3,3]+ZA2[4,2]"
   ]
  },
  {
   "cell_type": "code",
   "execution_count": 71,
   "metadata": {},
   "outputs": [
    {
     "data": {
      "text/html": [
       "<div><img alt=\"Output\" src=\"data:image/png;base64,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\"></div>"
      ],
      "text/plain": [
       "{-8 ζ , -13 ζ , -22 ζ , -13 ζ , -8 ζ }\n",
       "     6       6       6       6      6"
      ]
     },
     "execution_count": 71,
     "metadata": {
      "text/html": [],
      "text/plain": []
     },
     "output_type": "execute_result"
    }
   ],
   "source": [
    "List[2 ZA2[1,5]+ZA2[2,4]+ZA2[3,3]+ZA2[4,2]+ZA2[5,1],\n",
    "8 ZA2[1,5]+4 ZA2[2,4]+2 ZA2[3,3]+ZA2[4,2],\n",
    "12 ZA2[1,5]+6 ZA2[2,4]+2 ZA2[3,3],\n",
    "8 ZA2[1,5]+4 ZA2[2,4]+2 ZA2[3,3]+ZA2[4,2],\n",
    "2 ZA2[1,5]+ZA2[2,4]+ZA2[3,3]+ZA2[4,2]+ZA2[5,1]]"
   ]
  },
  {
   "cell_type": "code",
   "execution_count": 72,
   "metadata": {},
   "outputs": [
    {
     "data": {
      "text/html": [
       "<style>\n",
       "\t\t\t\t\t\t\t\t\t\t\t\t\t.grid-container {\n",
       "\t\t\t\t\t\t\t\t\t\t\t\t\t\tdisplay: inline-grid;\n",
       "\t\t\t\t\t\t\t\t\t\t\t\t\t\tgrid-template-columns: auto;\n",
       "\t\t\t\t\t\t\t\t\t\t\t\t\t}\n",
       "\t\t\t\t\t\t\t\t\t\t\t\t</style>\n",
       "\n",
       "\t\t\t\t\t\t\t\t\t\t\t\t<div><div class=\"grid-container\"><div class=\"grid-item\"><img alt=\"Output\" src=\"data:image/png;base64,iVBORw0KGgoAAAANSUhEUgAAABoAAAARCAIAAABM7ytaAAAAhXpUWHRSYXcgcHJvZmlsZSB0eXBlIGV4aWYAAHjaVYvBDcMwDAP/mqIjyLJM2uMYiQNkg45fuu0n9yApgbT1vi97felp2dgxABc5csRU6P6juNciDXn+X9MfZGWgoRhTluEkhnJXkqKFN+LCAahYcIbnIV8gNQN3o86928QyPusLVffpbh/5eCey76LuBgAAAAlwSFlzAAALEwAACxMBAJqcGAAAADx0RVh0U29mdHdhcmUAQ3JlYXRlZCB3aXRoIHRoZSBXb2xmcmFtIExhbmd1YWdlIDogd3d3LndvbGZyYW0uY29tXKKmhQAAACF0RVh0Q3JlYXRpb24gVGltZQAyMDIwOjA5OjA2IDIyOjI1OjM5JcEOSwAAAf5JREFUOI3VVL/P8VAUbt8KkTRmIhIx1NYiDFYklehCWPwcxCQMxNA/wEjTVSIxmYvEYrFoqoPEr0gkEh2MXRCCpPcdmngF77t8lu/Zzr3Pec5zzrm5MAAA+hy+Pqj1v8gNh0Ofz2exWAKBwGAw+I19u91EUeR5/i85QRBCoRBFUb1eLxqNzufzV16xWOQ4LhaLTSYTlmUFQXivBwAgSbJUKoE/MRqNUBQtFAo0TZMkKcvyWxoMADAaje12+3g8rlYrt9vt9/tfq2azWZqmEQTRarVms/nX4Z1OJwiCbDYbSZKRSESn01Wr1aeay+Uyn8+/tXO73fb7/T2ErtcrgiC1Wk2NGYYxmUxPOSzL9vv9V61Wq0UQRDAYvBeDAABWq5VhGDXmeV6r1SqK8piWTqclSXrSkmUZx/Hz+QwAuF6v6uEXBEGZTKbRaCwWC0VRms2m1+uFYfhxIB6Pp16vb7fbx8PZbIZhWKVSSSQS0+n0Z7PH4zEejyMIYjAYcBxfr9dPRhRF6Xa7xWIxHA7ncjnVe6fTwXFckqTxeGy323+aVXE4HHa73euAeJ7nOO7efiqVEkURALDZbFwuFwDgcrlgGKbeau7mURRFUfR19QRBtFqtZDKp0Wh0Op3FYnE4HOpjoCjK6XSiKFoul1UyDP7tgzqdTjAM6/X6z8g94Rt6GtFReezvTQAAAABJRU5ErkJggg==\"></div><div class=\"grid-item\"><img alt=\"Output\" src=\"data:image/png;base64,iVBORw0KGgoAAAANSUhEUgAAACIAAAARCAIAAAA3y+mWAAAAhXpUWHRSYXcgcHJvZmlsZSB0eXBlIGV4aWYAAHjaVYvBDcMwDAP/mqIjyLJM2uMYiQNkg45fuu0n9yApgbT1vi97felp2dgxABc5csRU6P6juNciDXn+X9MfZGWgoRhTluEkhnJXkqKFN+LCAahYcIbnIV8gNQN3o86928QyPusLVffpbh/5eCey76LuBgAAAAlwSFlzAAALEwAACxMBAJqcGAAAADx0RVh0U29mdHdhcmUAQ3JlYXRlZCB3aXRoIHRoZSBXb2xmcmFtIExhbmd1YWdlIDogd3d3LndvbGZyYW0uY29tXKKmhQAAACF0RVh0Q3JlYXRpb24gVGltZQAyMDIwOjA5OjA2IDIyOjI1OjQwE1wgKAAAAlZJREFUOI3dlbFL61AYxW9r0URClAxdQgYlxExNK4rRUhGXZHDQWR07FDVLcfAP6GigSHVQIZtOVju4KDiIQoIadcimqEO31CElJiTmvqG8WtLqc9Hh/bb7nXO/AyeBG4EQgp8n+gsZ/11MDABg2/bJyUm5XO7t7d3c3Gxqy8vLt7e3zePBwUE8Hu+4xfM8Xdd935+YmPg0plqt7u3tGYaB43irdn5+LghCJpNpHENqA0mSpqenFUURRfHs7CwajfI83yEH/mV9fT2dTsMWKIo6PT2FX3JxcYFh2MrKytramiAIpml2tMW+KPT19XVnZ2dra4skyVwux7Jsu2d3d1fX9a6uru7ubpIkP1v11S/A8zxN05OTk5qmjY2Nvby8hAyGYaAoStP0wMBAKMP3fcuyvlVaE8uyMAzb2NgIzYvF4vHxcbtfURSO40RRXFpa+ndpTTAMY1m2Xq+H5tfX17Ozs6FhrVaTZVlVVQRBPM/7KM11XcdxPM97f393HMd1XQDA9vZ2oVB4e3sDAOzv79/c3ExNTYU2jo6OyrL89PTUOry/v2cYZnV1dX5+/u7u7qO0kZGRVl9/fz+E8Orqanx8HEGQvr4+HMdLpVJ7OUEQVCoVSZLm5uay2WwQBBDCo6OjRCLx/PysqurQ0FDDCdovt2Ka5uPjo+/77dLl5eXh4WFjNYRwcXFR0zQI4cPDw/DwMITQdV2GYb71bQiCIAiio8RxnKIoCwsLsVisp6eHoqhkMgkAGBwcnJmZSaVSGIbl8/mGOQJ/5iGwbTsSiaAo+rMxIf4AHh3XQ0I+9n0AAAAASUVORK5CYII=\"></div><div class=\"grid-item\"><img alt=\"Output\" src=\"data:image/png;base64,iVBORw0KGgoAAAANSUhEUgAAACIAAAARCAIAAAA3y+mWAAAAhXpUWHRSYXcgcHJvZmlsZSB0eXBlIGV4aWYAAHjaVYvBDcMwDAP/mqIjyLJM2uMYiQNkg45fuu0n9yApgbT1vi97felp2dgxABc5csRU6P6juNciDXn+X9MfZGWgoRhTluEkhnJXkqKFN+LCAahYcIbnIV8gNQN3o86928QyPusLVffpbh/5eCey76LuBgAAAAlwSFlzAAALEwAACxMBAJqcGAAAADx0RVh0U29mdHdhcmUAQ3JlYXRlZCB3aXRoIHRoZSBXb2xmcmFtIExhbmd1YWdlIDogd3d3LndvbGZyYW0uY29tXKKmhQAAACF0RVh0Q3JlYXRpb24gVGltZQAyMDIwOjA5OjA2IDIyOjI1OjQwE1wgKAAAArFJREFUOI3dVTFIMmEY/q6ktEzoXAQTwcLbzgozoaWWCnIRNEOyqTazQRqE1nAWF0GjlBaLyIImDYlQ8gpdxEUkFFzkjsjgpNR7/+HMX7xq6x/+Z/ue597n+e55Dw4DAPT7GPgHGf9lzNPTk9lsVqvVBoPh4uKiq1WrVZ5fXl7O5/M/uDSbTYqi0un0tzFvb28bGxuLi4uXl5cmk8lmsxUKBYQQAKyuruI4fnNzYzQal5aWWJYVzrtcrlgsZrVas9msz+d7eHj4OgcA2u02fGJiYiIcDgPA3d2dTCZjWZbnCYI4Pj4GAVKplFQq3d3d9Xg8KysrDMMInwEAEUJoYKCzoXq9XqvVCIJACBWLRZIkOY47PDzc3t6en58vFovCWx4dHeVyucHBwaGhIaVS+V1pot7D/v7+3NycwWBACNE0PT4+TlHUwcGBQqHAcZym6b7hQqEgkUimpqaEvq1Wq9FojI2NdXbTFQKBwNnZWSgUwjAMIYTjeL1eX1hYiEQiFovl9fUVx/E+r0Qisba2JswIh8N6vX59fd3pdHYovrvT09ORkZHb29tum/F4XC6Xf3x88EedThcIBPoa39raKpfLfSTDMCRJNhoNAOiOIwAIBoNisTgajTIMwzDMy8sLADSbTaVS6fV6ASAajYrFYpqm+xz9fv/e3t7z83MvmUwmLRaL0+m02+2Pj4+dmGq1yrfUxeTkJK/d398rFIrR0VGZTHZ+fi78fjiOu76+drlcZrN5Z2eH4zgAuLq6IkmyXC5nMhmCIP6+zQ/gOK5SqbRaLaGUTqdjsRhvDQAOh4OiKAAolUqzs7MA8P7+rtVqeVUkXGAvMAxTqVRfSjqd7uTkZHNzUyQSDQ8Pq1Sq6elphJBGozGZTDMzM1Kp1O12d3zgd34ELMtiGCaRSH43pg9/AAWtGPLhXwxlAAAAAElFTkSuQmCC\"></div><div class=\"grid-item\"><img alt=\"Output\" src=\"data:image/png;base64,iVBORw0KGgoAAAANSUhEUgAAACIAAAARCAIAAAA3y+mWAAAAhXpUWHRSYXcgcHJvZmlsZSB0eXBlIGV4aWYAAHjaVYvBDcMwDAP/mqIjyLJM2uMYiQNkg45fuu0n9yApgbT1vi97felp2dgxABc5csRU6P6juNciDXn+X9MfZGWgoRhTluEkhnJXkqKFN+LCAahYcIbnIV8gNQN3o86928QyPusLVffpbh/5eCey76LuBgAAAAlwSFlzAAALEwAACxMBAJqcGAAAADx0RVh0U29mdHdhcmUAQ3JlYXRlZCB3aXRoIHRoZSBXb2xmcmFtIExhbmd1YWdlIDogd3d3LndvbGZyYW0uY29tXKKmhQAAACF0RVh0Q3JlYXRpb24gVGltZQAyMDIwOjA5OjA2IDIyOjI1OjQwE1wgKAAAAlZJREFUOI3dlbFL61AYxW9r0URClAxdQgYlxExNK4rRUhGXZHDQWR07FDVLcfAP6GigSHVQIZtOVju4KDiIQoIadcimqEO31CElJiTmvqG8WtLqc9Hh/bb7nXO/AyeBG4EQgp8n+gsZ/11MDABg2/bJyUm5XO7t7d3c3Gxqy8vLt7e3zePBwUE8Hu+4xfM8Xdd935+YmPg0plqt7u3tGYaB43irdn5+LghCJpNpHENqA0mSpqenFUURRfHs7CwajfI83yEH/mV9fT2dTsMWKIo6PT2FX3JxcYFh2MrKytramiAIpml2tMW+KPT19XVnZ2dra4skyVwux7Jsu2d3d1fX9a6uru7ubpIkP1v11S/A8zxN05OTk5qmjY2Nvby8hAyGYaAoStP0wMBAKMP3fcuyvlVaE8uyMAzb2NgIzYvF4vHxcbtfURSO40RRXFpa+ndpTTAMY1m2Xq+H5tfX17Ozs6FhrVaTZVlVVQRBPM/7KM11XcdxPM97f393HMd1XQDA9vZ2oVB4e3sDAOzv79/c3ExNTYU2jo6OyrL89PTUOry/v2cYZnV1dX5+/u7u7qO0kZGRVl9/fz+E8Orqanx8HEGQvr4+HMdLpVJ7OUEQVCoVSZLm5uay2WwQBBDCo6OjRCLx/PysqurQ0FDDCdovt2Ka5uPjo+/77dLl5eXh4WFjNYRwcXFR0zQI4cPDw/DwMITQdV2GYb71bQiCIAiio8RxnKIoCwsLsVisp6eHoqhkMgkAGBwcnJmZSaVSGIbl8/mGOQJ/5iGwbTsSiaAo+rMxIf4AHh3XQ0I+9n0AAAAASUVORK5CYII=\"></div><div class=\"grid-item\"><img alt=\"Output\" src=\"data:image/png;base64,iVBORw0KGgoAAAANSUhEUgAAABoAAAARCAIAAABM7ytaAAAAhXpUWHRSYXcgcHJvZmlsZSB0eXBlIGV4aWYAAHjaVYvBDcMwDAP/mqIjyLJM2uMYiQNkg45fuu0n9yApgbT1vi97felp2dgxABc5csRU6P6juNciDXn+X9MfZGWgoRhTluEkhnJXkqKFN+LCAahYcIbnIV8gNQN3o86928QyPusLVffpbh/5eCey76LuBgAAAAlwSFlzAAALEwAACxMBAJqcGAAAADx0RVh0U29mdHdhcmUAQ3JlYXRlZCB3aXRoIHRoZSBXb2xmcmFtIExhbmd1YWdlIDogd3d3LndvbGZyYW0uY29tXKKmhQAAACF0RVh0Q3JlYXRpb24gVGltZQAyMDIwOjA5OjA2IDIyOjI1OjQwE1wgKAAAAf5JREFUOI3VVL/P8VAUbt8KkTRmIhIx1NYiDFYklehCWPwcxCQMxNA/wEjTVSIxmYvEYrFoqoPEr0gkEh2MXRCCpPcdmngF77t8lu/Zzr3Pec5zzrm5MAAA+hy+Pqj1v8gNh0Ofz2exWAKBwGAw+I19u91EUeR5/i85QRBCoRBFUb1eLxqNzufzV16xWOQ4LhaLTSYTlmUFQXivBwAgSbJUKoE/MRqNUBQtFAo0TZMkKcvyWxoMADAaje12+3g8rlYrt9vt9/tfq2azWZqmEQTRarVms/nX4Z1OJwiCbDYbSZKRSESn01Wr1aeay+Uyn8+/tXO73fb7/T2ErtcrgiC1Wk2NGYYxmUxPOSzL9vv9V61Wq0UQRDAYvBeDAABWq5VhGDXmeV6r1SqK8piWTqclSXrSkmUZx/Hz+QwAuF6v6uEXBEGZTKbRaCwWC0VRms2m1+uFYfhxIB6Pp16vb7fbx8PZbIZhWKVSSSQS0+n0Z7PH4zEejyMIYjAYcBxfr9dPRhRF6Xa7xWIxHA7ncjnVe6fTwXFckqTxeGy323+aVXE4HHa73euAeJ7nOO7efiqVEkURALDZbFwuFwDgcrlgGKbeau7mURRFUfR19QRBtFqtZDKp0Wh0Op3FYnE4HOpjoCjK6XSiKFoul1UyDP7tgzqdTjAM6/X6z8g94Rt6GtFReezvTQAAAABJRU5ErkJggg==\"></div></div></div>"
      ],
      "text/plain": [
       "6 ζ\n",
       "   6\n",
       "15 ζ\n",
       "    6\n",
       "20 ζ\n",
       "    6\n",
       "15 ζ\n",
       "    6\n",
       "6 ζ\n",
       "   6"
      ]
     },
     "execution_count": 72,
     "metadata": {
      "text/html": [],
      "text/plain": []
     },
     "output_type": "execute_result"
    }
   ],
   "source": [
    "-ZA2[1,5]\n",
    "ZA2[2,4]\n",
    "-ZA2[3,3]\n",
    "ZA2[4,2]\n",
    "-ZA2[5,1]"
   ]
  },
  {
   "cell_type": "code",
   "execution_count": 9,
   "metadata": {},
   "outputs": [
    {
     "data": {
      "text/html": [
       "<div><img alt=\"Output\" src=\"data:image/png;base64,iVBORw0KGgoAAAANSUhEUgAAACIAAAARCAIAAAA3y+mWAAAAhXpUWHRSYXcgcHJvZmlsZSB0eXBlIGV4aWYAAHjaVYvBDcMwDAP/mqIjyLJM2uMYiQNkg45fuu0n9yApgbT1vi97felp2dgxABc5csRU6P6juNciDXn+X9MfZGWgoRhTluEkhnJXkqKFN+LCAahYcIbnIV8gNQN3o86928QyPusLVffpbh/5eCey76LuBgAAAAlwSFlzAAALEwAACxMBAJqcGAAAADx0RVh0U29mdHdhcmUAQ3JlYXRlZCB3aXRoIHRoZSBXb2xmcmFtIExhbmd1YWdlIDogd3d3LndvbGZyYW0uY29tXKKmhQAAACF0RVh0Q3JlYXRpb24gVGltZQAyMDIwOjA5OjA3IDE4OjM5OjIyGYNDGQAAAoRJREFUOI3VVDFIMnEc/Sd3ER1ZimgggZdHWgk6KXRBy8EtF+jR3ODUENSgNBkotCmi0axDLQ1NDRHBGUg4abQUaB0HR6QUXGhYnt3vGy4i/Er6hj7oTY8/D957Px7/AQBAPw/Df/D4VTYXFxeRSISm6XA4LMvylzYvLy9ra2sURU1NTUWj0W63+082wWCw1WplMpnFxUWLxfK5CAASicT09PT5+XmxWCRJcnt7G76NSqWCYViz2ewvMyCEZFlmGMbr9dI0zXGcKIo9USqVytLSkslkIkkykUi0Wi2EULPZ9Pv9PM9rmub3+2dmZuLxuJ47nU5PTk4ajUaO4yRJemtTKBQIgtjZ2bm+vnY4HGdnZz1ZYrFYNBotlUqnp6cTExP5fB4AVFUVBCGZTA4NDQmCIAhCrVYDgFwuRxDE7u5uuVxmWdbj8aiqigCg0Wj4fD6z2YwQYhim0+l8WlxRlGKxGAwGeZ5/fzw5ORkdHf0oCwQCGxsbOq/X6xiGCYJg0DSNZVmO4+7v74+Pj29ublZWVnqOdnV1tbCw4HQ6t7a2ZFm+u7vrs4hareb1enVutVrtdnu1WkXVahUh9PDwoPsfHBz0pAMAt9u9vr6ut0ylUnNzc33azM7OJpNJnT8/PxMEcXh4aLDZbIODg/l8/vX1VVXVo6Mju93eE1CSpEAggOP45eXl3t5e/32HQqFsNiuKoqZpm5ubw8PDNE0jANjf37fZbCaTaWRkhKKovycQj8dxHLdYLC6Xa3V1dX5+/mObsbGxj+J2u728vIxhGEEQDoejUCgAwAAA6Hu7vb3FcdxqtX6a8fHxsd1uj4+P96/yjqenJ0VR3g/zZvPT+D1f53fwB7fwANQeX7KvAAAAAElFTkSuQmCC\"></div>"
      ],
      "text/plain": [
       "8 afo"
      ]
     },
     "execution_count": 9,
     "metadata": {
      "text/html": [],
      "text/plain": []
     },
     "output_type": "execute_result"
    }
   ],
   "source": [
    "3 SubscriptBox[\"\\:03b6\", \"\\:f782\"][1,1,2]+3 SubscriptBox[\"\\:03b6\", \"\\:f782\"][1,2,1]+2 SubscriptBox[\"\\:03b6\", \"\\:f782\"][2,1,1]"
   ]
  },
  {
   "cell_type": "code",
   "execution_count": 16,
   "metadata": {},
   "outputs": [
    {
     "data": {
      "text/html": [
       "<div><img alt=\"Output\" src=\"data:image/png;base64,iVBORw0KGgoAAAANSUhEUgAAADMAAAARCAIAAAD/pwNAAAAAhXpUWHRSYXcgcHJvZmlsZSB0eXBlIGV4aWYAAHjaVYvBDcMwDAP/mqIjyLJM2uMYiQNkg45fuu0n9yApgbT1vi97felp2dgxABc5csRU6P6juNciDXn+X9MfZGWgoRhTluEkhnJXkqKFN+LCAahYcIbnIV8gNQN3o86928QyPusLVffpbh/5eCey76LuBgAAAAlwSFlzAAALEwAACxMBAJqcGAAAADx0RVh0U29mdHdhcmUAQ3JlYXRlZCB3aXRoIHRoZSBXb2xmcmFtIExhbmd1YWdlIDogd3d3LndvbGZyYW0uY29tXKKmhQAAACF0RVh0Q3JlYXRpb24gVGltZQAyMDIwOjA5OjA3IDE4OjQyOjMyZbkpSQAAAr5JREFUSInNVs9LKlEUHsdQBn9tWrirKATRTaAY+BJsE0S4SEXbCuEfMC0iRNA2Ltu0qva6EAwKAu1tghQERUGw1CCiH2oPqfDX2PW8ha/xOpr6HsTz251zv/k49zvnMJcHAMREgvzfBXyJya1s6pt0+4eEx+P9lUKPZ/V6/ebmZpzPgsHgDwyBQIBDWFxcJDEIBIJ2uz1EMJPJfHx84JmuZ8lkcnd3d3t7W6FQjKwsm80CwM7OTidUqVQcQjQaRQgRBMEwzNLSkslkIslhkxOPx2maPj09nZr6LAk+sbe3l0gkYDzQNO10Osdhut3uhYWFWq02knl0dBSJRNiw6xkASCSSkW51UKlUMpnM5uamUCg0mUwbGxsDael02ufzhcNhiqJGaorF4mazyYZdh4fPAQcKhWJ+fn5lZQUhZLPZDg8P+zkIIYfDsbW1ZTAYxpTtDMAfdKy7urpaX19vtVq4vYlE4ieGXC43sAtWq3V5ebk/7/P5ZmZm3t/f8eTs7Gxnafb39zn8QqFgNpsLhUJPN8vlslAo5PP5+A2en59LpRIbikSigRfVaDT9u3l9fe3xeE5OTsRiMZ6XSqWXl5cDdSiKajQab29vPZ4BgMvlyufzI+cUAG5vby0Wy93dHQDk8/m5uTmapnECQkiv11ssll8Y2u12o9GQyWRra2urq6vJZJIjGwgEgsEgG3Yr83q9X/WLg9fXV4fDQVHU9PQ0SZJ2u71areKEWCzWb0mpVAKAx8dHAAiFQnq9niPr9/vPzs7YsLubJEniqzEEUqn0+Pj44ODg4eFBLpf3d1mn08Ggh8LLy4tMJiMIQqlUMgzDOWUYpuc/wdYYj8fNZnMqlRrHtn9DJBLRarVWq1WtVofDYc6R0Wi8v79nMwR+nEqlLi4uvq8yAEAIFYtFhBAnf35+/vT0hGd4MKnvs9+PFa+rf1cx5AAAAABJRU5ErkJggg==\"></div>"
      ],
      "text/plain": [
       "{-5 Z }\n",
       "     5"
      ]
     },
     "execution_count": 16,
     "metadata": {
      "text/html": [],
      "text/plain": []
     },
     "output_type": "execute_result"
    }
   ],
   "source": [
    "4 ZA121[3,0]+4 ZA121[2,1]+4 ZA121[1,2]+3 ZA121[0,3]"
   ]
  },
  {
   "cell_type": "code",
   "execution_count": null,
   "metadata": {},
   "outputs": [],
   "source": []
  }
 ],
 "metadata": {
  "kernelspec": {
   "display_name": "Wolfram Language 12",
   "language": "Wolfram Language",
   "name": "wolframlanguage12"
  },
  "language_info": {
   "codemirror_mode": "mathematica",
   "file_extension": ".m",
   "mimetype": "application/vnd.wolfram.m",
   "name": "Wolfram Language",
   "pygments_lexer": "mathematica",
   "version": "12.0"
  }
 },
 "nbformat": 4,
 "nbformat_minor": 4
}
