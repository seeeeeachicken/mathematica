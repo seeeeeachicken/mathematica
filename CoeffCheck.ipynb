{
 "cells": [
  {
   "cell_type": "code",
   "execution_count": 80,
   "metadata": {},
   "outputs": [],
   "source": [
    "F[n_]:=Sum[Subscript[a,k]*X^k,{k,1,n}];\n",
    "G[n_]:=Sum[Subscript[b,k]*X^k,{k,1,n}];\n",
    "H[n_]:=Sum[X^k,{k,1,n}]\n"
   ]
  },
  {
   "cell_type": "code",
   "execution_count": 109,
   "metadata": {},
   "outputs": [
    {
     "data": {
      "text/html": [
       "<div><pre style=\"&#102;&#111;&#110;&#116;&#45;&#102;&#97;&#109;&#105;&#108;&#121;&#58;&#32;&#34;&#67;&#111;&#117;&#114;&#105;&#101;&#114;&#32;&#78;&#101;&#119;&#34;&#44;&#67;&#111;&#117;&#114;&#105;&#101;&#114;&#44;&#109;&#111;&#110;&#111;&#115;&#112;&#97;&#99;&#101;&#59;\">&#48;</pre></div>"
      ],
      "text/plain": [
       "0"
      ]
     },
     "execution_count": 109,
     "metadata": {
      "text/html": [],
      "text/plain": []
     },
     "output_type": "execute_result"
    }
   ],
   "source": [
    "Coefficient[Collect[Expand[H[5]*F[5]*H[5],X],X],X,2]"
   ]
  },
  {
   "cell_type": "code",
   "execution_count": 128,
   "metadata": {},
   "outputs": [
    {
     "data": {
      "text/html": [
       "<div><img alt=\"Output\" src=\"data:image/png;base64,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\"></div>"
      ],
      "text/plain": [
       "a  b  + a  b  + a  b  + a  b  + a  b  + a  b  + a  b  + a  b  + a  b  + a  b  + a  b  + \n",
       " 5  1    4  2    5  2    3  3    4  3    5  3    2  4    3  4    4  4    5  4    1  5\n",
       " \n",
       ">   a  b  + a  b  + a  b  + a  b\n",
       "     2  5    3  5    4  5    5  5"
      ]
     },
     "execution_count": 128,
     "metadata": {
      "text/html": [],
      "text/plain": []
     },
     "output_type": "execute_result"
    }
   ],
   "source": [
    "Coefficient[Collect[Expand[Collect[Expand[G[5]*F[5],X],X]*H[5],X],X],X,11]"
   ]
  },
  {
   "cell_type": "code",
   "execution_count": 34,
   "metadata": {},
   "outputs": [],
   "source": [
    "S[n_]:=Sum[Subscript[a,k]*X^k,{k,1,n}]\n",
    "G[n_]:=Sum[X^k,{k,1,n}]"
   ]
  },
  {
   "cell_type": "code",
   "execution_count": 36,
   "metadata": {},
   "outputs": [
    {
     "data": {
      "text/html": [
       "<div><img alt=\"Output\" src=\"data:image/png;base64,iVBORw0KGgoAAAANSUhEUgAAAEkAAAARCAIAAAAezBYRAAAAhXpUWHRSYXcgcHJvZmlsZSB0eXBlIGV4aWYAAHjaVYvBDcMwDAP/mqIjyLJM2uMYiQNkg45fuu0n9yApgbT1vi97felp2dgxABc5csRU6P6juNciDXn+X9MfZGWgoRhTluEkhnJXkqKFN+LCAahYcIbnIV8gNQN3o86928QyPusLVffpbh/5eCey76LuBgAAAAlwSFlzAAALEwAACxMBAJqcGAAAADx0RVh0U29mdHdhcmUAQ3JlYXRlZCB3aXRoIHRoZSBXb2xmcmFtIExhbmd1YWdlIDogd3d3LndvbGZyYW0uY29tXKKmhQAAACF0RVh0Q3JlYXRpb24gVGltZQAyMDIwOjA1OjA5IDE4OjE4OjU0+a7NpgAAAlpJREFUSIntlz1o6lAUx4+fiERExEV0UDu0g0vBBEQXxcEtUUFcHKTFycVJcBMEd4Ui1KGUFhVEdBA7dREHFxfFDwTxA2wRjFCdBG+HvCePmkoLeUil/+nec/755Z57cxLCQwjBiYp/7AX8R/3W9jP1W9vPFB8Ams2mx+NRKBQ6nS4Wi61WK07QR8fyAaBYLOr1+mq1end3d3t7WygUvn6n5+fn0WjEmjo+Fv3Vcrms1WokSbpcLvRlJZPJRqNxwMCKpWl6u91yjl0sFpvNZjcVAkC32w0Gg+12G8fx+XwuFouZshOJRCqVisVigUBgf1OazeZyuez1egKBYLVaabXas7Ozfw2s2H6/f3V1hWHYcDgsFovn5+ecYCeTic/nUyqV3W735ubGZrMB80xSFHV5eTmbzSqVis/n21HC4fD19fVnB/7y8jIej2maZgaLxeKDgRWrVqsfHx8rlUooFMpms1xhNRpNqVQqlUrRaLRcLjNBIQCMRiOCIEQiUafTeXh4kEgkTE4sFotEos9qczqdAPD29kYQhMlk2jewYjEMwzAMAFqtFrO7nGB5PN52u41EIvV6PZ1OM04+AEQiEb/fr1KpKIoym818/jc+DFqtVi6Xs6YOYHO53HQ6dbvdHGKlUqnVamUO8I9115qz2Wy/ZePxeCaTOdDTh8WKvb+/dzgc6/WaQ+zr6ytN0wihwWCA4zgTBJZLEUIITadTu91uMBguLi6+9eY8rKenJwAgCMJisXi9Xq6wtVoNx3GSJI1GYz6fZ4I8dEL/ODRNy2QyoVDITE+qtg96B0BUfFNqIijjAAAAAElFTkSuQmCC\"></div>"
      ],
      "text/plain": [
       "a  + a  + a\n",
       " 1    2    3"
      ]
     },
     "execution_count": 36,
     "metadata": {
      "text/html": [],
      "text/plain": []
     },
     "output_type": "execute_result"
    }
   ],
   "source": [
    "Coefficient[Expand[G[10]*S[10]],X,4]"
   ]
  },
  {
   "cell_type": "code",
   "execution_count": null,
   "metadata": {},
   "outputs": [],
   "source": []
  }
 ],
 "metadata": {
  "kernelspec": {
   "display_name": "Wolfram Language 12",
   "language": "Wolfram Language",
   "name": "wolframlanguage12"
  },
  "language_info": {
   "codemirror_mode": "mathematica",
   "file_extension": ".m",
   "mimetype": "application/vnd.wolfram.m",
   "name": "Wolfram Language",
   "pygments_lexer": "mathematica",
   "version": "12.0"
  }
 },
 "nbformat": 4,
 "nbformat_minor": 4
}
