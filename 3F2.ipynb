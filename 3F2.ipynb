{
 "cells": [
  {
   "cell_type": "code",
   "execution_count": 129,
   "metadata": {},
   "outputs": [
    {
     "data": {
      "text/html": [
       "<style>\n",
       "\t\t\t\t\t\t\t\t\t\t\t\t\t.grid-container {\n",
       "\t\t\t\t\t\t\t\t\t\t\t\t\t\tdisplay: inline-grid;\n",
       "\t\t\t\t\t\t\t\t\t\t\t\t\t\tgrid-template-columns: auto;\n",
       "\t\t\t\t\t\t\t\t\t\t\t\t\t}\n",
       "\t\t\t\t\t\t\t\t\t\t\t\t</style>\n",
       "\n",
       "\t\t\t\t\t\t\t\t\t\t\t\t<div><div class=\"grid-container\"><div class=\"grid-item\"><img alt=\"Output\" src=\"data:image/png;base64,iVBORw0KGgoAAAANSUhEUgAAACcAAAARCAIAAADR4iLSAAAAhXpUWHRSYXcgcHJvZmlsZSB0eXBlIGV4aWYAAHjaVYvBDcMwDAP/mqIjyLJM2uMYiQNkg45fuu0n9yApgbT1vi97felp2dgxABc5csRU6P6juNciDXn+X9MfZGWgoRhTluEkhnJXkqKFN+LCAahYcIbnIV8gNQN3o86928QyPusLVffpbh/5eCey76LuBgAAAAlwSFlzAAALEwAACxMBAJqcGAAAADx0RVh0U29mdHdhcmUAQ3JlYXRlZCB3aXRoIHRoZSBXb2xmcmFtIExhbmd1YWdlIDogd3d3LndvbGZyYW0uY29tXKKmhQAAACF0RVh0Q3JlYXRpb24gVGltZQAyMDIwOjA2OjE0IDEzOjEwOjI48VBT4QAAAZlJREFUOI3tVE2rAWEUPi5ZmJSFlIUyjR+glCxQlqYRSbOztSJlzQ9QFsrGbG1sKFGzkh8wFlOmZKRm7CYSC8pCHYspaXx1b9Gte5/Ve877fPSet44JEeHj+Pp85H/qn0xFxHg8Xq1W9TKfzxeLxZ/FnE4no/UTDIdDq9UqiiLP83a7XVXVu7TRaPToSpKkVCqVzWYTicRkMqnVaoIgvEhFxEKh4Pf7SZLkOO4Rp9FoCIJw2z8cDsFgcL1eI6KiKOl0mmEYRLQAgCiKu93u8nqPx+Pz+S5lpVJxu90UReVyudvR6VpZls1m836/N2i73W4oFHI6nQDg9XolSarX6wBgAQBN01ar1YVKEMS1b7lcDgQC0+m00+lkMhlDqq7dbreaptlsNoN2Pp/TNK2fZ7OZqqqxWOz1v/b7fYIgFosFx3EOh2O5XH5rwq1Wq91uI+LxeIxGo8lkUnd4lrrZbFwuV7PZ1EuWZcPh8F1mr9eTZfmuA03TpVIpEonwPD8YDBiGGY/HJnz/9lcUhSTJ684nUm/x+3bT+3AGSYLd8ROXzZ0AAAAASUVORK5CYII=\"></div><div class=\"grid-item\"><img alt=\"Output\" src=\"data:image/png;base64,iVBORw0KGgoAAAANSUhEUgAAACcAAAARCAIAAADR4iLSAAAAhXpUWHRSYXcgcHJvZmlsZSB0eXBlIGV4aWYAAHjaVYvBDcMwDAP/mqIjyLJM2uMYiQNkg45fuu0n9yApgbT1vi97felp2dgxABc5csRU6P6juNciDXn+X9MfZGWgoRhTluEkhnJXkqKFN+LCAahYcIbnIV8gNQN3o86928QyPusLVffpbh/5eCey76LuBgAAAAlwSFlzAAALEwAACxMBAJqcGAAAADx0RVh0U29mdHdhcmUAQ3JlYXRlZCB3aXRoIHRoZSBXb2xmcmFtIExhbmd1YWdlIDogd3d3LndvbGZyYW0uY29tXKKmhQAAACF0RVh0Q3JlYXRpb24gVGltZQAyMDIwOjA2OjE0IDEzOjEwOjI48VBT4QAAAdlJREFUOI3tVCurKlEU3h4uFsdHE8MIMobBMChzimWKRRBsJrEJBnG6OGAxaBAELZP8A2IwaFGLQbAMahlBQS8oPpjZA2IwOOuGATkcH4cb9Jb7pfX4Pj5Ye+1lAgD0dny83/K/64sgSdJ0OjVi0xu2SZblUqn0+fmpqqqiKJVKBcFj6LoeDoeLxaKRptNpnuef8B+B53lFUQDgcrlwHAcAz1wBoNvtms1mSZLa7bbVal0ul3dp/X7/UQtjnEgkAGC/3wuCUCgUfnYFgEwm4/f7PR6PKIqPONVqdTQa3W11Op1arTYcDjmOCwQCGGMAMAGAJEmapl2fgSRJr9d7TQ+Hg8vloihqNpvd3RFN05rNps/no2n6mxYhlM/no9Eoy7IIoclkkkqlhsPhB0Jou93+/gJVVb/KBEFgWXaz2TQajVtXQ4sxNoJvWoTQeDxmGMaIGYax2WwY4x8m3Gq1LBbLfD4XRdHhcKxWq7+asK7rkUjkmh6Px1AoBAC/nmy8qqrJZLJcLlMURVFUr9eLx+ODweCWSZKk3W6/rcuyTNN0Nps9nU4EQSwWi1wuh179X+v1OkEQsVhst9udz2e3223UX3ub1ut1MBhECDmdzqsles9tusW/uf5/AAk9KJwW9WEHAAAAAElFTkSuQmCC\"></div><div class=\"grid-item\"><img alt=\"Output\" src=\"data:image/png;base64,iVBORw0KGgoAAAANSUhEUgAAACcAAAARCAIAAADR4iLSAAAAhXpUWHRSYXcgcHJvZmlsZSB0eXBlIGV4aWYAAHjaVYvBDcMwDAP/mqIjyLJM2uMYiQNkg45fuu0n9yApgbT1vi97felp2dgxABc5csRU6P6juNciDXn+X9MfZGWgoRhTluEkhnJXkqKFN+LCAahYcIbnIV8gNQN3o86928QyPusLVffpbh/5eCey76LuBgAAAAlwSFlzAAALEwAACxMBAJqcGAAAADx0RVh0U29mdHdhcmUAQ3JlYXRlZCB3aXRoIHRoZSBXb2xmcmFtIExhbmd1YWdlIDogd3d3LndvbGZyYW0uY29tXKKmhQAAACF0RVh0Q3JlYXRpb24gVGltZQAyMDIwOjA2OjE0IDEzOjEwOjI48VBT4QAAAYZJREFUOI3lVT2LwkAUfHsJBLMipg2IGPwJRouUVgmkTONfsM0fEFvtxNZOSy3sUlhZWymsnRDCYhPBIH4g7wo5kbucBs7ziptq2ZnZYfe93SWICC/H2+sj/1mqeJ/e7Xae5w2HQ1mWu93ui1KDIBgMBovFIpPJPCsSAAAToN1uG4aRRPkVpml2Op1yuUwprVarvu8j4nPqOplMVqtVLMUYazabrut6nsc5r9fr8PCEE2I+n6fT6Xw+H8u2Wi3HcQCg0WjUajVEFAFgNpttNpurKJfLFYvFhHkXL2NMEIQoimK9giBcBqqqHo/HMAxFAOCcr9frq4hSmnSPH94wDDnnsizf906nU0qpoigiAJim+Z3ucDgg4ul0Op/P+/2eECJJ0q3g4t1ut5VKRdf12EXG47Ft28vlstfr2bZNCHnQw6VS6dafzWZjZaPRiDEWS2maput6KpUCAMMwgiBAxEQ35yfQNK3f70dRxDm/Tj6nhx+CUnpb8l9/hy3LKhQKnyYJ/sX/+g7wfKaQVHi7+gAAAABJRU5ErkJggg==\"></div><div class=\"grid-item\"><img alt=\"Output\" src=\"data:image/png;base64,iVBORw0KGgoAAAANSUhEUgAAAB4AAAARCAIAAABFBIsgAAAAhXpUWHRSYXcgcHJvZmlsZSB0eXBlIGV4aWYAAHjaVYvBDcMwDAP/mqIjyLJM2uMYiQNkg45fuu0n9yApgbT1vi97felp2dgxABc5csRU6P6juNciDXn+X9MfZGWgoRhTluEkhnJXkqKFN+LCAahYcIbnIV8gNQN3o86928QyPusLVffpbh/5eCey76LuBgAAAAlwSFlzAAALEwAACxMBAJqcGAAAADx0RVh0U29mdHdhcmUAQ3JlYXRlZCB3aXRoIHRoZSBXb2xmcmFtIExhbmd1YWdlIDogd3d3LndvbGZyYW0uY29tXKKmhQAAACF0RVh0Q3JlYXRpb24gVGltZQAyMDIwOjA2OjE0IDEzOjEwOjI5hldjdwAAAS1JREFUOI3tlDGrgmAUho+XpgRxEhqiwf6BDYJtDYlztLvoEDQ15u5gq9Ta0iIIrv4IB+GbWlxUBEGX/KbOHaS43Lsk1YUL993ew8tzDufAYRAR3qOPN3H/LLoHAJfLJQxD3/f7/b7ruq9Ep2l6Op0IIRzHvYoLAIA37XY7RVGwu67Xq6qqtm23drVarddrROw9PxzDMJvNRtO0+XyeZdnxeIzjGNqFPK/ZbGaapq7rdV07jjMajR5FR1FUVdXdDofD8Xj8LWNZ1mAwEEXRMIy28hA6z/OiKO6WZdmfme12K0kSIcTzvMViAQCAiJTSpmls25ZluWkaSmnXSwZBwLLs+Xw+HA48zydJgoiAiJPJ5Gt/nuc7ccuyFARhv9+3drlcTqdTRGTw/z39FvoTRVsbUN2CsJ4AAAAASUVORK5CYII=\"></div><div class=\"grid-item\"><img alt=\"Output\" src=\"data:image/png;base64,iVBORw0KGgoAAAANSUhEUgAAAAgAAAARCAIAAABvtHqPAAAAhXpUWHRSYXcgcHJvZmlsZSB0eXBlIGV4aWYAAHjaVYvBDcMwDAP/mqIjyLJM2uMYiQNkg45fuu0n9yApgbT1vi97felp2dgxABc5csRU6P6juNciDXn+X9MfZGWgoRhTluEkhnJXkqKFN+LCAahYcIbnIV8gNQN3o86928QyPusLVffpbh/5eCey76LuBgAAAAlwSFlzAAALEwAACxMBAJqcGAAAADx0RVh0U29mdHdhcmUAQ3JlYXRlZCB3aXRoIHRoZSBXb2xmcmFtIExhbmd1YWdlIDogd3d3LndvbGZyYW0uY29tXKKmhQAAACF0RVh0Q3JlYXRpb24gVGltZQAyMDIwOjA2OjE0IDEzOjEwOjI5hldjdwAAAG9JREFUGJW9ULsJwCAUfC8EBAtxGDtntHUFSwdwD0dwBFFELlU+RUgRQq67HxzHAOgOy636yliJqNaaUooxSim996dRSgkh5JyVUmcFO5xz1tqDfrjqcW7vHcAYY87ZWmNmIQQBMMZcs1prAPzDiRt8Q0BMpqtnLwAAAABJRU5ErkJggg==\"></div><div class=\"grid-item\"><img alt=\"Output\" src=\"data:image/png;base64,iVBORw0KGgoAAAANSUhEUgAAAGAAAAARCAIAAACthD4LAAAAhXpUWHRSYXcgcHJvZmlsZSB0eXBlIGV4aWYAAHjaVYvBDcMwDAP/mqIjyLJM2uMYiQNkg45fuu0n9yApgbT1vi97felp2dgxABc5csRU6P6juNciDXn+X9MfZGWgoRhTluEkhnJXkqKFN+LCAahYcIbnIV8gNQN3o86928QyPusLVffpbh/5eCey76LuBgAAAAlwSFlzAAALEwAACxMBAJqcGAAAADx0RVh0U29mdHdhcmUAQ3JlYXRlZCB3aXRoIHRoZSBXb2xmcmFtIExhbmd1YWdlIDogd3d3LndvbGZyYW0uY29tXKKmhQAAACF0RVh0Q3JlYXRpb24gVGltZQAyMDIwOjA2OjE0IDEzOjEwOjI5hldjdwAAA2dJREFUWIXtmEFIKkEYgOc9RcilsIikIMitU1EUlgjWQnjJzTIiJAKhLl1CiboUbLcOHgqCJPLSoSBBjKTADoXQIReKWlpBNKIMShZj2UBLKdp5h+VFL8xc62GHvtP8uzPf/vMz8x/2F4QQ/PA+vwudwHfnp0Af8FOgD5ACAB4eHnZ3dzc3N+Vy+dLSUqFTKjwURUml0sbGRiCcoFgs5nK5Tk5OaJoudG4FJhwOj4yMBAIBr9c7Pj4OAADwL/Pz8zqdDuaFwWBwOBwajQZBEL1ef319LWo5z/NdXV12u10Ix8bGbDZbfpk8PT3lt1DAZrOxLAshfH5+xjAMQiiiQH6/PxqNZnyFoqhSqXS73YFAoKGhwWQyiTXs7e3JZDKKonw+X3Fx8XvTshAMBvv6+iwWS09PD03Tc3Nzh4eHogwcx1ksFghhPB4nCGJ2dhaKKtDi4uJ7n0RRdG1tTRh7PB6ZTMbzvCgDhNBqtTY3N6tUKqfTmcN2/uH+/l6j0dze3kIILy8v+/v7jUajWMnOzo7D4SBJEsOwlpYWjuMghNJcbiZFUXd3d5FIRCKRJJPJ6urqurq6N3MkEokwqKqqenx85DiurKxMlGFmZqaysrK2tnZ0dPS9HF7CN4aNjQ2tVlteXg4AqKmpCQaDCwsLogwAAJIke3t71Wr1/v4+TdMGg4EkyZwKxDBMPB7nOI5hGLlcjiBIlskHBwcIgpSWloo1EAShVqtDoZDH4xkYGMiYw0v4xnB2dobjuDAOh8PRaLSzs1OUAQBwenpKEIQwbmpqKikp4TgOQAjT6XQqlbLb7VqtNpVKpdPpjCcw+xUbGhpKJBLHx8f19fWDg4NiDVtbWwiCnJ+fO51OhUJxdXUl6nasrq66XC5hLxiGmUwmsQae57u7u1/CRCKh1+uh0INaW1tfF1KhUGRUeL3eSCSS8RWKom1tbUVFRQAAnU4Xi8VEGViWraioWF5eFkKz2dze3i5md5BlWRzHJyYmOjo6fD7f9va20Wg8OjrK3RAKhSYnJ6empqxW6/T0tNls9vv98HWT/gwoiq6vryeTSYZhvkSYHxcXF3mvXVlZcbvdEEKGYV6fvpx6UI4gCJK9Pf1vVCpV3mtvbm6Gh4cBAEql8vXzrykQjuOfSe478NKe3/AL/vwPysof+sOPy1LMP3cAAAAASUVORK5CYII=\"></div></div></div>"
      ],
      "text/plain": [
       "-x + α\n",
       "-x + β\n",
       "-1 + p\n",
       "1 - x\n",
       "1\n",
       "1 + p + x - α - β"
      ]
     },
     "execution_count": 129,
     "metadata": {
      "text/html": [],
      "text/plain": []
     },
     "output_type": "execute_result"
    }
   ],
   "source": [
    "a=\\[Alpha]-x\n",
    "b=\\[Beta]-x\n",
    "n=p-1\n",
    "d=1-x\n",
    "e=1\n",
    "s=d+e-a-b-c"
   ]
  },
  {
   "cell_type": "code",
   "execution_count": 115,
   "metadata": {},
   "outputs": [
    {
     "data": {
      "text/html": [
       "<style>\n",
       "\t\t\t\t\t\t\t\t\t\t\t\t\t.grid-container {\n",
       "\t\t\t\t\t\t\t\t\t\t\t\t\t\tdisplay: inline-grid;\n",
       "\t\t\t\t\t\t\t\t\t\t\t\t\t\tgrid-template-columns: auto;\n",
       "\t\t\t\t\t\t\t\t\t\t\t\t\t}\n",
       "\t\t\t\t\t\t\t\t\t\t\t\t</style>\n",
       "\n",
       "\t\t\t\t\t\t\t\t\t\t\t\t<div><div class=\"grid-container\"><div class=\"grid-item\"><img alt=\"Output\" src=\"data:image/png;base64,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\"></div><div class=\"grid-item\"><img alt=\"Output\" src=\"data:image/png;base64,iVBORw0KGgoAAAANSUhEUgAAAJAAAAARCAIAAAC9yLKSAAAAhXpUWHRSYXcgcHJvZmlsZSB0eXBlIGV4aWYAAHjaVYvBDcMwDAP/mqIjyLJM2uMYiQNkg45fuu0n9yApgbT1vi97felp2dgxABc5csRU6P6juNciDXn+X9MfZGWgoRhTluEkhnJXkqKFN+LCAahYcIbnIV8gNQN3o86928QyPusLVffpbh/5eCey76LuBgAAAAlwSFlzAAALEwAACxMBAJqcGAAAADx0RVh0U29mdHdhcmUAQ3JlYXRlZCB3aXRoIHRoZSBXb2xmcmFtIExhbmd1YWdlIDogd3d3LndvbGZyYW0uY29tXKKmhQAAACF0RVh0Q3JlYXRpb24gVGltZQAyMDIwOjA2OjEzIDE5OjAxOjQ1GsuCOAAABRpJREFUWIXtmU1IG1sUx8fmGY1Di4oYlH45diEVRQkJim1QXFht2rQiaSy4cJONGsSAKEYU68KFi0KzSKi0VGmrwdAQ27QLFbrQkfoRTDRoFI1oTFCGURMxRs19i+kbx3w147N95OFvdc859/7nPzm5lxsSBQCALokcrvzXBi6hx2XDIozLhkUYZxp2cHBgsVjIcGpq6unTp7du3eLxeBqN5sKf/bv1Iw6DwWAymaiZ+fn54+NjauYKdXZ5efn6+joROp1OsVhcWFj46dMngUDw7Nkzs9l8geZ+t35ksbCwUF1dPT4+rtVq6+vryfzk5KRAIDjTM/APL168mJmZARROTk7I8fXr19+9ewfOUlpaqlAoeDweDMPFxcUbGxuADr/U/yX/0oDX633w4EFXVxcR1tTUSKVSuh4Ijo6OzreQQCqVYhgGADg5OeHz+dRST0/P8PAwGZ42rKOjY2lpKaDc7u4uk8mcmJjwySMIwmaz1Wr1+Ph4ZmamUCg8n91g+gSjo6NWqzVgKUwDIRSGh4eZTKbBYNDr9VevXg02LQQmk+nJkydVVVWPHj0yGo3d3d0/fvygpYDjeFVVFQBga2tLLpd3dnZSq/39/V++fCHD04a1t7cHa5hEIikoKPB6vT55BEH6+vqI8eDgIJPJ9J8TDsH0CV69ehXsIwjTQAgFAEBdXV1OTk5aWppKpaLrfH9/n8fjbW9vAwBWV1fLy8sFAgFdka9fvyoUChRF+Xx+bm4ujuPUan9/v06nI8O/iIMRRdGpqamWlhb/41WpVKrVahRFo6Ki/KsMBoMYpKamejweHMcTExNpHd8h9A0Gw87OzuLiIoPBcLlcN27cuHPnDi0D4Si0trampKSkp6dLJBJ/e4QCGfooaDSavLy8pKQkCIJu375tMplevnxJSwGCIBRFHz9+zOFwvn//bjQaS0tLURQlq1wut7GxMTMzE0EQCIJ+Nmx7ezsmJoZ8eZL379/LZLKhoaGMjAz/l6EyNjYGw3BCQgKZsdvtLBYrPj4+xKrQ+g6HY2trC8dxh8MRFxcHwzAtA2EqyOVyDodjNpsHBwcrKioCeiBDHwWLxVJWVkaMFxYWrFZrUVERLQUIgmZnZ+VyOTHOzs6+du0ajuPki7BYLLfbvbe393M2udfkcvny8jJ1M75+/To2NnZgYADDMAzDfLYqAABBkOfPnzudzunp6bt374rFYrKE4ziLxUpKSjo8PAx2FPxSnyD0kRjMQJgKOp0OhuHl5WWVShUfH7+2thbMbUB6e3s/fvwIAHC73Xw+XygU0lXwer0PHz4kQ6fTWVxcTJ0wMDCg0WjIMOilw2az+ZxR6enpPg9DEITL5bJYLAiCCgoKNjc3yZLH4+FyuRAEmUymgEbD0SfQarWLi4sBSyEMhKOAYVhycrJSqSRCkUh07969gArBwDCsrKysoaHh/v37er1+aGhIIBBMTk6Gr2A2m2UyWVNTU11dXXNzs0gkGh0dpU4Ieuno7Oycm5ujZRdBkA8fPrhcLofD4V+1Wq0JCQkej4eW5gUa+GOsrKyce+2bN2/UajUAwOFwBNydvb29er2eDE9/OJeUlLS1tRmNRv9TPjQwDLPZbJ+k1WoVi8WVlZXR0dF0BS/EwJ8kLS3t3GttNlt+fj4EQWw2++bNmz7VkZGRt2/fZmVlnaaozZydnR0ZGQn/21FbW4uiaMDS58+flUrl+W75F2Lg/8G3b9/sdjs1EwUu/w+LKP4GiNl3N3ZsA68AAAAASUVORK5CYII=\"></div><div class=\"grid-item\"><img alt=\"Output\" src=\"data:image/png;base64,iVBORw0KGgoAAAANSUhEUgAAAIQAAAARCAIAAACTjZMAAAAAhXpUWHRSYXcgcHJvZmlsZSB0eXBlIGV4aWYAAHjaVYvBDcMwDAP/mqIjyLJM2uMYiQNkg45fuu0n9yApgbT1vi97felp2dgxABc5csRU6P6juNciDXn+X9MfZGWgoRhTluEkhnJXkqKFN+LCAahYcIbnIV8gNQN3o86928QyPusLVffpbh/5eCey76LuBgAAAAlwSFlzAAALEwAACxMBAJqcGAAAADx0RVh0U29mdHdhcmUAQ3JlYXRlZCB3aXRoIHRoZSBXb2xmcmFtIExhbmd1YWdlIDogd3d3LndvbGZyYW0uY29tXKKmhQAAACF0RVh0Q3JlYXRpb24gVGltZQAyMDIwOjA2OjEzIDE5OjAxOjQ1GsuCOAAABCZJREFUWIXtmV8oc38cx797/Ix1RqZlpYhNUkbK/0hJ0cZWlEIp5kKZpCYStTSXJhcuXIhyQSlFjRRTEludtbU/ao6sidnJ0pZ/Y9vZ97k4z+84fjzysN8eF15Xnz/nfD/vnffZd2cbA0IIvvka/PjbAr554tuML8S3GV+IZ2b4/X4Mw6j0/v5+bW2to6Ojp6cn6sIiLMBkMlmt1r8o4CWHh4ehUIheeTLDZDI1NTWdnZ1RlYuLi6WlJaPRaLFYIi7lPUREgN1u7+zsPDg4WF1d7e/vj76A34GiaENDwzM/4L+oVCqj0QhfoFarKyoqXtbfTzAY/MzpnxTQ19d3dXUFISQIoqqqKsoCRCLR9PR0SUkJgiA1NTXn5+f07uzs7Pb2NpX+oLuSkJAQWfNtNltjY6NMJpNKpVarVa1Woyga2RFv4/P5vF5vcnKyx+NRKpW1tbXRnA4AODo6UqlUAwMDW1tbOI7L5XJ6l81mPz4+Uuk/VBQOhyOr4/7+vqura319ncvlOp1OhUIRCAQUCkVkp7yNXq8vLS3V6/VDQ0M3Nzc7OzvRnE4yMTHR3NwMABgbG2tra4MQMhgMqksQBBX/MkOn0xkMhpGRkT8aYzKZfD4flaalpWVlZVHpyspKWVkZl8sFAGRkZFit1qmpqQ+9nA8KAADodDqpVFpYWLi7u2uxWEQikU6ni6YAAEBMTAwZpKamBgIB8p1KVoqLiwcHB3Nzc/l8PqDM8Hg8cXFx1GnvBMfxy8tLKkUQhN7FMEwsFpOx3W53Op3V1dX0A9xuN4vFSkpK+qOh7xcAADCbzaOjo2Scn5+fmJjo9Xo5HE7UBNDZ399HEISaDgBgsVgPDw/X19dk+ssMqVSKoqjD4RAIBNShj4+PEMJgMEgQxMPDA4PBiIuLo68uEonemJ2dne31esl1uru7xWKxx+NJT08nuz6fTyAQIAjicrmYTOarK3xSAIQwFArFxsaS6e3tLUEQ1LWIggASjUYjkUgwDJufn5dIJPQ9am9vTyaTFRQUkOnTZwaTyYTPf6eqrKw0GAxkTN5B5MV9J/X19e3t7SiKoig6PDxMEIRcLlcqlUVFRQAABEGEQiGKohiGCYXCV1f4pAC73Z6TkzM8PHx3d8dms09OTuj7cBQEkBwfH6ekpPj9/oqKisnJSXoLQhgfH/8sJxkfH7fZbB97gHsDh8Pxu5bT6eRwOIFAIOJDSebm5paXlyGEOI6fnp5GXwCEkM/nLy4u3t7e4jj+sruwsLCxsUGlT4+2dXV1SqUy4t9uMjMzX607nc6WlpbW1lZqG4k4LpervLwcAMDj8ajtMZoCKBAE4fF4/ylqtdr5+fm8vLynEt0os9ms1Wr/v9uEjkajmZmZCYfD0Rn3twT09vbqdLpXW5ubm263m15hwO//M74MPwERW0HIpKbXJwAAAABJRU5ErkJggg==\"></div><div class=\"grid-item\"><img alt=\"Output\" src=\"data:image/png;base64,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\"></div></div></div>"
      ],
      "text/plain": [
       "{1 + p, 1 + 2 p + x - α - β}\n",
       "{2 p, 2 + p + x - α - β}\n",
       "{1 - α, 1 - β, 1 - p}\n",
       "{1 - x, 2 + p + x - α - β}"
      ]
     },
     "execution_count": 115,
     "metadata": {
      "text/html": [],
      "text/plain": []
     },
     "output_type": "execute_result"
    }
   ],
   "source": [
    "{e,s}\n",
    "{e-c,s+c}\n",
    "\n",
    "U={d-a,d-b,c}\n",
    "L={d,s+c}"
   ]
  },
  {
   "cell_type": "code",
   "execution_count": 108,
   "metadata": {},
   "outputs": [
    {
     "data": {
      "text/html": [
       "<div><img alt=\"Output\" src=\"data:image/png;base64,iVBORw0KGgoAAAANSUhEUgAAAGAAAAARCAIAAACthD4LAAAAhXpUWHRSYXcgcHJvZmlsZSB0eXBlIGV4aWYAAHjaVYvBDcMwDAP/mqIjyLJM2uMYiQNkg45fuu0n9yApgbT1vi97felp2dgxABc5csRU6P6juNciDXn+X9MfZGWgoRhTluEkhnJXkqKFN+LCAahYcIbnIV8gNQN3o86928QyPusLVffpbh/5eCey76LuBgAAAAlwSFlzAAALEwAACxMBAJqcGAAAADx0RVh0U29mdHdhcmUAQ3JlYXRlZCB3aXRoIHRoZSBXb2xmcmFtIExhbmd1YWdlIDogd3d3LndvbGZyYW0uY29tXKKmhQAAACF0RVh0Q3JlYXRpb24gVGltZQAyMDIwOjA2OjEzIDE4OjU4OjEy6kcokAAAA99JREFUWIXtmE1IMlsYx08pwttg9EVSFOXUKikqS4LKyNmkWRMRFpFQYLUQXdimwnYtilwIudBNiwIDMYgi24QQYUYhloJY9GH0gRk2hkZfNOddePF2y3zf6d5L76Lf6nnOec6f/zzMeQYmCUIIvvmY5K828Kfz3aBf8N2gX5AMANja2sJxvKCgoLS0dGpq6qstfT1Op9PtdkfjJJIkcRwXCAQCgcDhcMhkMqPR2NnZ+bUWvwqv1zs5OVlVVXVzcxMMBrVaLYD/hMPhaLVaSBGhUKjT6Xg8HoIgGIadn59TOk6SZFNT08TERDSVy+VKpZKqhyjPz8+fOxhFqVQGg0EI4cvLC5/PhxD+1aDb21ubzSaXy1kslt/vp6qLoiiLxTKZTJubmxwOB8fxuGVWq9Xn88XdWltbYzAYTqfTYrEwmcyPyhLgdrvb2tqkUmlLS4vL5dJoNNvb25QUCIKQSqUQwkAgoFarx8fHYaxBer2eTqcDADQaDUmSVM2hKDo3NxeNzWYzg8GIKzI9PZ3AtEKhKC8vZ7PZBoOBqoG7uzsej3d9fQ0hPDk5aW9vF4vFVEVWV1d1Op3dbufz+RUVFQRBQAjp0bs3ODjY39+/sbHR09Pz+Pg4Ojr6+mY6nc5QKBRL8/Pzi4uL39xeGo0WDXJzc5+engiCyMjIeKOwv79Po9EikUhchbGxsZycnKKiooGBgffTIbGHhYWFmpqarKwsAEBhYaHb7dZqtZQUAAB2u721tZXL5a6vr7tcLqFQaLfb6bHt5OTkhoYGmUy2srLypkF+vz8QCMRSBEHeP0AMm82GIEh6evp7BYIg/H5/SkpKXAW1Ws3lcj0ej9ls7ujoeLOb2MPBwYFIJIrGXq/X5/M1NjZSUgAA7O3tqdXqaFxWVpaamkoQBDg6OsIwbHd3lyTJq6urysrKvr4+qi8niqLd3d3hcNjhcJSUlHR1dcUtS3DFlpaWEAQ5PDw0GAxpaWmnp6eUDMzOzs7Pz0MIHx4e+Hw+juNUFUiSbG5ujqXhcBjDMAghuL+/V6lUmZmZTCaTRqNhGBYIBChJQwhRFK2urv7x4wcAoLa29vLyMm7Z4uLi/v7++/VgMJidna3X66OpRCKpq6ujZCAYDIpEIpVKVV9fb7FYlpeXxWLxzs7O7yt4PJ6hoaHh4WGFQjEyMiKRSKxWK4wNaQjh2dlZKBSiZCsGiqJGozESiXziC/gfcnx8/OmzMzMzJpMJQuj3+1+/fX/PoLy8vA/nyu+BIEji8fR/w2azP3324uKit7cXAMBisV6v0+OXU0QkEv0bc38CsfH8hiT4/T8oIT8BGLqYApg+UEsAAAAASUVORK5CYII=\"></div>"
      ],
      "text/plain": [
       "3 - p + x - α - β"
      ]
     },
     "execution_count": 108,
     "metadata": {
      "text/html": [],
      "text/plain": []
     },
     "output_type": "execute_result"
    }
   ],
   "source": [
    "1+Part[U,3]+Part[U,1]+Part[U,2]-Part[L,1]"
   ]
  },
  {
   "cell_type": "code",
   "execution_count": 135,
   "metadata": {},
   "outputs": [
    {
     "data": {
      "text/html": [
       "<style>\n",
       "\t\t\t\t\t\t\t\t\t\t\t\t\t.grid-container {\n",
       "\t\t\t\t\t\t\t\t\t\t\t\t\t\tdisplay: inline-grid;\n",
       "\t\t\t\t\t\t\t\t\t\t\t\t\t\tgrid-template-columns: auto;\n",
       "\t\t\t\t\t\t\t\t\t\t\t\t\t}\n",
       "\t\t\t\t\t\t\t\t\t\t\t\t</style>\n",
       "\n",
       "\t\t\t\t\t\t\t\t\t\t\t\t<div><div class=\"grid-container\"><div class=\"grid-item\"><img alt=\"Output\" src=\"data:image/png;base64,iVBORw0KGgoAAAANSUhEUgAAAG8AAAARCAIAAABcj2WGAAAAhXpUWHRSYXcgcHJvZmlsZSB0eXBlIGV4aWYAAHjaVYvBDcMwDAP/mqIjyLJM2uMYiQNkg45fuu0n9yApgbT1vi97felp2dgxABc5csRU6P6juNciDXn+X9MfZGWgoRhTluEkhnJXkqKFN+LCAahYcIbnIV8gNQN3o86928QyPusLVffpbh/5eCey76LuBgAAAAlwSFlzAAALEwAACxMBAJqcGAAAADx0RVh0U29mdHdhcmUAQ3JlYXRlZCB3aXRoIHRoZSBXb2xmcmFtIExhbmd1YWdlIDogd3d3LndvbGZyYW0uY29tXKKmhQAAACF0RVh0Q3JlYXRpb24gVGltZQAyMDIwOjA2OjE0IDEzOjEwOjMyCJ6LvgAAA4VJREFUWIXtmEtIKmEYhmeOh8RUMJCoRRecaNOioCyhC1iLapAWFa27kIJBi4w25aYLtCho2aKVELUoKGSEwmjRosWEoqORBjZgpWThdMF0SucspsYpL2hNnsPBZzXf//9+3/u+wj8wIEVRQB6O+PW3BfxX5NPkknyaXPIhzefnZ7fbzZShUGh3d3dwcFCr1eZc2D8hID1Op/P19ZW9Ek/TarX29vZ6vV5m5fr6emNjw2Kx2O323Glk8dcFpAdFUZVK9SFQ6p25uTmLxUIlsLy83NzcnLieOS8vL9/5+ZcFxGKxrq6uxcVFuhwbGxsfH/+ahlQW1tbWzGYzU/5mxyoWi7n99xwOh16vF4vFBEEsLCzs7++3tbXJ5XJupxweHspksoqKik/rIAhOTk7CMNzZ2enz+QwGA4Zh2TZPb0EkEkUiEeZwPM1YLPYlLykJhUIjIyMIgkilUhzHdTodSZI6nY7bKQAAOJ1OkUiUmCYAAB0dHRqNZmho6P7+fmlpKemZNGRiIRqNMs9vaR4fH5+cnExPT2c1zGq1EgTBlGVlZVVVVUy5vb2tUCikUikAAJWVlRiGraysZNU/QwEul4vH4z09PX0SQKPX60tLSyEIUqvVnFuQy+VTU1M1NTUymQxg0gwEAnw+n8fjZWXG7/ff3NwwpVAoZO+63W4Yhunns7MzHMeVSiX7gM/nEwgEEokkq6GJAoLBoN/vLyws/CSAZmZmpr6+/vT0dGtrq7+/n1sLAoEgHA4/PDzQ5VuaPT09KIp6PB4IgpijkUiEvoCj0Wg4HAZBkM/ns3t1d3ensVpdXR0MBuk+Go0GhuFAIFBeXk7vEgQBQZBQKLy6uiooKEjaIUMBj4+PTU1NSa9jo9G4vr5us9kODg5GR0cbGxsZAd+3AADA0dHR8PBwXV3dW828j2ZnZ8/Pz9kvrIaGBnZriUSS1Xvw7u4OhuGJiYnW1laTyWQ0GlUqFYqi9C5JkrR/DMNSdchQwM7OjsvlSiqguLh4dXWVLgcGBlpaWji0QFHU5uYmgiBMGU9zfn7e4XBkNSwTPB5Pqi0cx4uKikiS5Hwot6SxYDAYTCYTU8bTRFG0r6/PZrP9rLR3Li4uFAqFVqvNzbifwGw2K5VKr9fLrIAU64uc3W6/vb1tb29Pc5VwBYIgl5eXarUaBMEcjPsJ9vb2amtrS0pKmJUPaeb5Jn8A1+MuvY73T6sAAAAASUVORK5CYII=\"></div><div class=\"grid-item\"><img alt=\"Output\" src=\"data:image/png;base64,iVBORw0KGgoAAAANSUhEUgAAAEMAAAARCAIAAAAJ7obYAAAAhXpUWHRSYXcgcHJvZmlsZSB0eXBlIGV4aWYAAHjaVYvBDcMwDAP/mqIjyLJM2uMYiQNkg45fuu0n9yApgbT1vi97felp2dgxABc5csRU6P6juNciDXn+X9MfZGWgoRhTluEkhnJXkqKFN+LCAahYcIbnIV8gNQN3o86928QyPusLVffpbh/5eCey76LuBgAAAAlwSFlzAAALEwAACxMBAJqcGAAAADx0RVh0U29mdHdhcmUAQ3JlYXRlZCB3aXRoIHRoZSBXb2xmcmFtIExhbmd1YWdlIDogd3d3LndvbGZyYW0uY29tXKKmhQAAACF0RVh0Q3JlYXRpb24gVGltZQAyMDIwOjA2OjE0IDEzOjEwOjMyCJ6LvgAAApVJREFUSIntVz1I61AUTuqzRVpBHAoOKjRCBxdLGxHqUhyqIh0sONuCFiJ0ki5tF1066J7BSSi11EWq4BAnB4dIQgwuCi28YKIUJTpoEk3yhviu0dpo+/p+kPdN+c6597vfOck9EFjXdehLwPa3DbQN/yv59/CqkoeHh7OzM0Dv7+93dnbm5+cxDPvjxj4wcHp6+vT0ZI68VELT9OzsLMdxIMLzfKFQoCjq5OTktzpuBAsDJEnOzMy8Kkb/idXVVYqi9Dqsr68Hg8H6+IfQNG1ycjKXyxl0aWkpmUy2oNPIwMbGBkEQgH4zl9Td3d3GjsIwvLy8PD09HQ6HBUHY3NxkWbaN+i6XS5ZlQF8q0TStjccYmJiYSCQSsVjs9vZ2bW1tcHCwvfqqqoLn50qOjo6Oj4/T6XRTQjRNi6IIaH9//9DQ0Js12Wy2r68PQZDFxcVWDb8PFEVTqdTw8LDH44HAja/Vag6Ho6Ojoymty8vL7ybc3NzUr8lkMn6/n+f57e3tNylBEMyNaBZdXV2SJN3d3Rn0+Z1EIhGSJCuVCoIgYKksy7quPz4+qqoqSRIMww6Hw6w1NTVlfVi5XM7n8wzDHBwcLCwsjI6ODgwMGClRFBEEcTqdFxcXdrv93e3WBg4PD+Px+MjIyDMHd39lZeX8/Nw8HAKBgFm3p6enqZlzfX3tdrtxHDfo3Nzc+Pg4yCqKgqIoBEEsyzZSsDawtbW1t7f3zuyy2WzmUQBBEEmS1i23Rm9v79XVFaDFYtGc7ezsLJVKPp/P6/U2UrA2oCgKDMMvHNREkmQ0GmUYpqnGt4xqtTo2NoZhWGvbCYIIhUIcx4EIZE4bH/QvGfw0dnd3cRzXNK217fv7+4IgmCOw/lX+T34AuiSsH3pqhg8AAAAASUVORK5CYII=\"></div><div class=\"grid-item\"><img alt=\"Output\" src=\"data:image/png;base64,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\"></div><div class=\"grid-item\"><img alt=\"Output\" src=\"data:image/png;base64,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\"></div></div></div>"
      ],
      "text/plain": [
       "{1 - α, 1 + x - α}\n",
       "{1 - x, 1}\n",
       "{-p - x + α + β, -x + α, 1 - p}\n",
       "{1 - p - x + α, 2 + 2 x - α - β}"
      ]
     },
     "execution_count": 135,
     "metadata": {
      "text/html": [],
      "text/plain": []
     },
     "output_type": "execute_result"
    }
   ],
   "source": [
    "{d-a,e-a}\n",
    "{d,e}\n",
    "\n",
    "{1-s,a,-n}\n",
    "{1+a-e-n,1+s-d-n}"
   ]
  },
  {
   "cell_type": "code",
   "execution_count": 156,
   "metadata": {},
   "outputs": [],
   "source": [
    "yp[n_]:=Product[y+i,{i,0,n}]"
   ]
  },
  {
   "cell_type": "code",
   "execution_count": 163,
   "metadata": {},
   "outputs": [
    {
     "data": {
      "text/html": [
       "<div><img alt=\"Output\" src=\"data:image/png;base64,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\"></div>"
      ],
      "text/plain": [
       "           2       3       4    5\n",
       "24 y + 50 y  + 35 y  + 10 y  + y"
      ]
     },
     "execution_count": 163,
     "metadata": {
      "text/html": [],
      "text/plain": []
     },
     "output_type": "execute_result"
    }
   ],
   "source": [
    "Expand[yp[4]]"
   ]
  },
  {
   "cell_type": "code",
   "execution_count": null,
   "metadata": {},
   "outputs": [],
   "source": []
  }
 ],
 "metadata": {
  "kernelspec": {
   "display_name": "Wolfram Language 12",
   "language": "Wolfram Language",
   "name": "wolframlanguage12"
  },
  "language_info": {
   "codemirror_mode": "mathematica",
   "file_extension": ".m",
   "mimetype": "application/vnd.wolfram.m",
   "name": "Wolfram Language",
   "pygments_lexer": "mathematica",
   "version": "12.0"
  }
 },
 "nbformat": 4,
 "nbformat_minor": 4
}
