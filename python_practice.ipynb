{
 "cells": [
  {
   "cell_type": "code",
   "execution_count": 1,
   "metadata": {},
   "outputs": [
    {
     "name": "stdout",
     "output_type": "stream",
     "text": [
      "Hello world\n"
     ]
    }
   ],
   "source": [
    "print(\"Hello world\")"
   ]
  },
  {
   "cell_type": "code",
   "execution_count": 6,
   "metadata": {},
   "outputs": [
    {
     "name": "stdout",
     "output_type": "stream",
     "text": [
      "ねこ\n",
      "n\n",
      "10\n"
     ]
    }
   ],
   "source": [
    "# 変数nに「ねこ」を代入してください\n",
    "n=\"ねこ\"\n",
    "\n",
    "# 変数nを出力してください\n",
    "print(n)\n",
    "\n",
    "# 「n」という文字列を出力してください\n",
    "print(\"n\")\n",
    "\n",
    "# 変数nに3 + 7という数式を代入してください\n",
    "n=3+7\n",
    "\n",
    "# 変数nを出力してください\n",
    "\n",
    "print(n)"
   ]
  },
  {
   "cell_type": "code",
   "execution_count": 9,
   "metadata": {},
   "outputs": [
    {
     "name": "stdout",
     "output_type": "stream",
     "text": [
      "ねこ\n",
      "いぬ\n",
      "14\n",
      "70\n"
     ]
    }
   ],
   "source": [
    "m = \"ねこ\"\n",
    "print(m)\n",
    "\n",
    "# 変数mに「いぬ」を上書きして、出力してください\n",
    "m = \"いぬ\"\n",
    "print(m)\n",
    "\n",
    "\n",
    "n = 14\n",
    "print(n)\n",
    "\n",
    "# 変数nに5をかけて、上書きしてください\n",
    "n*=5\n",
    "\n",
    "print(n)"
   ]
  },
  {
   "cell_type": "code",
   "execution_count": 11,
   "metadata": {},
   "outputs": [
    {
     "name": "stdout",
     "output_type": "stream",
     "text": [
      "とても大きい数字。\n"
     ]
    }
   ],
   "source": [
    "n = 16\n",
    "\n",
    "# ifを用いて変数nが15より大きい場合「とても大きい数字。」と出力してください\n",
    "if n>15:\n",
    "    print(\"とても大きい数字。\")"
   ]
  },
  {
   "cell_type": "code",
   "execution_count": 5,
   "metadata": {},
   "outputs": [
    {
     "data": {
      "text/plain": [
       "5"
      ]
     },
     "execution_count": 5,
     "metadata": {},
     "output_type": "execute_result"
    }
   ],
   "source": [
    "vege = \"potato\"\n",
    "n = [4, 5, 2, 7, 6]\n",
    "\n",
    "# 変数vegeのオブジェクトの長さを出力してください\n",
    "len(n)\n",
    "\n",
    "# 変数nのオブジェクトの長さを出力してください\n"
   ]
  },
  {
   "cell_type": "code",
   "execution_count": 16,
   "metadata": {},
   "outputs": [
    {
     "name": "stdout",
     "output_type": "stream",
     "text": [
      "elephant ELEPHANT\n",
      "2\n"
     ]
    }
   ],
   "source": [
    "animal=\"elephant\"\n",
    "\n",
    "animal_big=animal.upper()\n",
    "\n",
    "print(animal,animal_big)\n",
    "\n",
    "print(animal.count(\"e\"))"
   ]
  },
  {
   "cell_type": "raw",
   "metadata": {},
   "source": []
  },
  {
   "cell_type": "code",
   "execution_count": null,
   "metadata": {},
   "outputs": [],
   "source": []
  },
  {
   "cell_type": "code",
   "execution_count": 39,
   "metadata": {},
   "outputs": [],
   "source": [
    "del introduce"
   ]
  },
  {
   "cell_type": "code",
   "execution_count": 46,
   "metadata": {},
   "outputs": [],
   "source": [
    "# 関数introduceを作ってください\n",
    "def introduce(n,age):\n",
    "    print(n+\"です。\"+str(age)+\"歳です。\")"
   ]
  },
  {
   "cell_type": "code",
   "execution_count": 47,
   "metadata": {},
   "outputs": [
    {
     "name": "stdout",
     "output_type": "stream",
     "text": [
      "aです。2歳です。\n"
     ]
    }
   ],
   "source": [
    "introduce(\"a\",2)"
   ]
  },
  {
   "cell_type": "code",
   "execution_count": 55,
   "metadata": {},
   "outputs": [],
   "source": [
    "def smzv(a=\"\\mathbf{k}\"):\n",
    "    print(\"\\zeta_\\mathcal{S}(\"+a+\")\")"
   ]
  },
  {
   "cell_type": "code",
   "execution_count": 59,
   "metadata": {},
   "outputs": [
    {
     "name": "stdout",
     "output_type": "stream",
     "text": [
      "\\zeta_\\mathcal{S}(k_1,\\ldots,k_r)\n",
      "\\zeta_\\mathcal{S}(\\mathbf{k})\n"
     ]
    }
   ],
   "source": [
    "smzv(\"k_1,\\ldots,k_r\")\n",
    "smzv()"
   ]
  },
  {
   "cell_type": "code",
   "execution_count": 79,
   "metadata": {},
   "outputs": [],
   "source": [
    "def beta(a=\"a_1\",b=\"a_n\"):\n",
    "    print(\"I_\\beta(0';\"+a+\",\\ldots,\"+b+\";0')\")\n",
    "            "
   ]
  },
  {
   "cell_type": "code",
   "execution_count": 78,
   "metadata": {},
   "outputs": [
    {
     "name": "stdout",
     "output_type": "stream",
     "text": [
      "Ieta(0';a,\\ldots,a;0')\n"
     ]
    }
   ],
   "source": [
    "beta(\"a\",\"a\")"
   ]
  },
  {
   "cell_type": "code",
   "execution_count": null,
   "metadata": {},
   "outputs": [],
   "source": []
  }
 ],
 "metadata": {
  "kernelspec": {
   "display_name": "Python 3",
   "language": "python",
   "name": "python3"
  },
  "language_info": {
   "codemirror_mode": {
    "name": "ipython",
    "version": 3
   },
   "file_extension": ".py",
   "mimetype": "text/x-python",
   "name": "python",
   "nbconvert_exporter": "python",
   "pygments_lexer": "ipython3",
   "version": "3.7.6"
  }
 },
 "nbformat": 4,
 "nbformat_minor": 4
}
