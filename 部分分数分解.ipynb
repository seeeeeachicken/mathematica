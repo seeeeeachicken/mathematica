{
 "cells": [
  {
   "cell_type": "code",
   "execution_count": 9,
   "metadata": {},
   "outputs": [
    {
     "data": {
      "text/html": [
       "<style>\n",
       "\t\t\t\t\t\t\t\t\t\t\t\t\t.grid-container {\n",
       "\t\t\t\t\t\t\t\t\t\t\t\t\t\tdisplay: inline-grid;\n",
       "\t\t\t\t\t\t\t\t\t\t\t\t\t\tgrid-template-columns: auto;\n",
       "\t\t\t\t\t\t\t\t\t\t\t\t\t}\n",
       "\t\t\t\t\t\t\t\t\t\t\t\t</style>\n",
       "\n",
       "\t\t\t\t\t\t\t\t\t\t\t\t<div><div class=\"grid-container\"><div class=\"grid-item\"><img alt=\"Output\" src=\"data:image/png;base64,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\"></div><div class=\"grid-item\"><img alt=\"Output\" src=\"data:image/png;base64,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\"></div></div></div>"
      ],
      "text/plain": [
       "              2            2      2\n",
       "x + y - Sqrt[x  - 2 x y + y  + 4 z ]\n",
       "------------------------------------\n",
       "                 2\n",
       "              2            2      2\n",
       "x + y + Sqrt[x  - 2 x y + y  + 4 z ]\n",
       "------------------------------------\n",
       "                 2"
      ]
     },
     "execution_count": 9,
     "metadata": {
      "text/html": [],
      "text/plain": []
     },
     "output_type": "execute_result"
    }
   ],
   "source": [
    "a=(x + y - Sqrt[x^2 - 2 x y + y^2 + 4 z^2])/2 \n",
    "b=(x + y + Sqrt[x^2 - 2 x y + y^2 + 4 z^2])/2"
   ]
  },
  {
   "cell_type": "code",
   "execution_count": 100,
   "metadata": {},
   "outputs": [],
   "source": [
    "S[n_]:=((n-1)!*Product[i-x,{i,1,n-1}])/(Product[(i-a)*(i-b),{i,1,n}])"
   ]
  },
  {
   "cell_type": "code",
   "execution_count": 114,
   "metadata": {},
   "outputs": [
    {
     "data": {
      "text/html": [
       "<style>\n",
       "\t\t\t\t\t\t\t\t\t\t\t\t\t.grid-container {\n",
       "\t\t\t\t\t\t\t\t\t\t\t\t\t\tdisplay: inline-grid;\n",
       "\t\t\t\t\t\t\t\t\t\t\t\t\t\tgrid-template-columns: auto;\n",
       "\t\t\t\t\t\t\t\t\t\t\t\t\t}\n",
       "\t\t\t\t\t\t\t\t\t\t\t\t</style>\n",
       "\n",
       "\t\t\t\t\t\t\t\t\t\t\t\t<div><div class=\"grid-container\"><div class=\"grid-item\"><img alt=\"Output\" src=\"data:image/png;base64,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\"></div><div class=\"grid-item\"><img alt=\"Output\" src=\"data:image/png;base64,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\"></div></div></div>"
      ],
      "text/plain": [
       "                                           1\n",
       "---------------------------------------------------------------------------------------\n",
       "                    2            2      2                       2            2      2\n",
       "     -x - y - Sqrt[x  - 2 x y + y  + 4 z ]       -x - y + Sqrt[x  - 2 x y + y  + 4 z ]\n",
       "(1 + -------------------------------------) (1 + -------------------------------------)\n",
       "                       2                                           2\n",
       "          1                     1                        1\n",
       "{--------------------, --------------------, -(---------------------)}\n",
       "                    2                     2                        2\n",
       " 1 - x - y + x y - z   1 - x - y + x y - z     -1 + x + y - x y + z"
      ]
     },
     "execution_count": 114,
     "metadata": {
      "text/html": [],
      "text/plain": []
     },
     "output_type": "execute_result"
    }
   ],
   "source": [
    "S[1]\n",
    "Apart[S[1],{x,y,z}]"
   ]
  },
  {
   "cell_type": "code",
   "execution_count": 37,
   "metadata": {},
   "outputs": [
    {
     "data": {
      "text/html": [
       "<div><img alt=\"Output\" src=\"data:image/png;base64,iVBORw0KGgoAAAANSUhEUgAAAHYAAAAjCAIAAADOhmkCAAAAhXpUWHRSYXcgcHJvZmlsZSB0eXBlIGV4aWYAAHjaVYvBDcMwDAP/mqIjyLJM2uMYiQNkg45fuu0n9yApgbT1vi97felp2dgxABc5csRU6P6juNciDXn+X9MfZGWgoRhTluEkhnJXkqKFN+LCAahYcIbnIV8gNQN3o86928QyPusLVffpbh/5eCey76LuBgAAAAlwSFlzAAALEwAACxMBAJqcGAAAADx0RVh0U29mdHdhcmUAQ3JlYXRlZCB3aXRoIHRoZSBXb2xmcmFtIExhbmd1YWdlIDogd3d3LndvbGZyYW0uY29tXKKmhQAAACF0RVh0Q3JlYXRpb24gVGltZQAyMDIwOjA1OjMxIDE4OjU0OjA1xr02+AAAA+ZJREFUaIHtmU1IMlsYx49alNqHgRshayMYRUSQWVYgFZm0adX0AeWiCFy0SAgiWrhp11ZaBkEfi0kT2tTChUEFRiBoOLVRKEwIhZFp/MjzLuYyyKjTdO87Y17mtzvPOc/x518dj6MEQghE+KSu2gJcIQji+vra7XYrFAqXy1VtnR9QMxG/vb2dnJyEw+GWlpZqu/wMabUFuKLT6U5PT202W7VFfkzNRFy7iBHzjhgx74gR807NnCgymQyEMJfLfX19kSQpkUgaGhqqLcUJSa389DAYDIFAgB6qVKpkMllFH+7UTMS1i3gt5h0xYt4RI+YdMWLeESPmnX/OxTc3N36/v7oq/zPGxsZGR0eBeGgTAPFCwTtixLwjRsw75SMOhUJcmgmCuLi4sNlsdrv9Xxvk83m1Wj0+Pl5cTKfTsViM4w6C2U5NTUmlUplMplar5+fnU6kUJ1tYAo7jCwsLpfVSnp+fEQTp7e0dGRnhsr4sV1dXer1eLpcnEgm6mM1mEQTh0i6k7cTExO7uLkEQd3d3Go3G4XBwsS3zLt7f319ZWeHyqv6V/9NQFJ2bmzOZTB6Phy7W19ebTCav1/ttu8C2EolELpcbjca+vj6SJLnYMiOGEF5eXloslv/iwcDn80Wj0bJThULB7XZbrVar1YqiaPHU6urqwcEB+84C2wIAnp6ejo+P7XZ7OBxeW1uj6yy2zFvyLy8vPT09f8WVJhQKNTU1dXZ2lk75/f58Pj84ONja2rq9vZ1MJtva2qgphUKRy+UKhYJUWvE7WWBbAMDj42MqlQoGgxqN5uPjg66z2DIjDgQCw8PDpZvSQ61Wq9PpOOpSvZFIRCaTpdPp0l4URT8/P4eGhgAAuVzO6/UWf+r1ej2GYV1dXZX2F9gWALC4uOh0OgEAe3t7y8vLsViMzrSSLTPiTCajVCqLK/F4PJFI0EPGLDtUbzKZjMfjCoWC0QshPD8/dzgcRqMRAHB4eIiiaHHEjY2N2WyWZX8hbRmYzeadnZ3X11etVstuy4y4v7//6OhoaWmJrlit1koP8+3/aVQvjuNGo9FgMDDa7+/v39/fNzc3qYtDXV3d7OwsjuPNzc3UAgzDuru7WZ6nkLYU1Pnh4eHB6XR2dHS0t7fTUxVtGSeMbDY7PT3N8RAzMDBQvJVKpSq7zOPxRCKR0vrW1pbZbKaHJEkqlcqzszNqWCgUZmZm2AWEtIUQTk5O0r0WiyUYDNJTLLZlzsXr6+sYhnH05g+32+1yub5d9vtty0QcjUY3NjZ4VvoeBEGojzY7v9+2TMQQQp/Px6MOB0iSvL295bj4l9uK94t5R7zTxjt/AN0kEcsoa3CqAAAAAElFTkSuQmCC\"></div>"
      ],
      "text/plain": [
       "        1\n",
       "-----------------\n",
       "(-1 + A) (-1 + B)"
      ]
     },
     "execution_count": 37,
     "metadata": {
      "text/html": [],
      "text/plain": []
     },
     "output_type": "execute_result"
    }
   ],
   "source": [
    "Apart[1/((1-A)*(1-B))]"
   ]
  },
  {
   "cell_type": "code",
   "execution_count": 79,
   "metadata": {},
   "outputs": [],
   "source": [
    "T[n_]:=((n-1)!*Product[i-x,{i,1,n-1}])/(Product[(i-x+z)*(i-x-z),{i,1,n}])"
   ]
  },
  {
   "cell_type": "code",
   "execution_count": 82,
   "metadata": {},
   "outputs": [
    {
     "data": {
      "text/html": [
       "<style>\n",
       "\t\t\t\t\t\t\t\t\t\t\t\t\t.grid-container {\n",
       "\t\t\t\t\t\t\t\t\t\t\t\t\t\tdisplay: inline-grid;\n",
       "\t\t\t\t\t\t\t\t\t\t\t\t\t\tgrid-template-columns: auto;\n",
       "\t\t\t\t\t\t\t\t\t\t\t\t\t}\n",
       "\t\t\t\t\t\t\t\t\t\t\t\t</style>\n",
       "\n",
       "\t\t\t\t\t\t\t\t\t\t\t\t<div><div class=\"grid-container\"><div class=\"grid-item\"><img alt=\"Output\" src=\"data:image/png;base64,iVBORw0KGgoAAAANSUhEUgAAAJAAAAAjCAIAAAD0ehQ0AAAAhXpUWHRSYXcgcHJvZmlsZSB0eXBlIGV4aWYAAHjaVYvBDcMwDAP/mqIjyLJM2uMYiQNkg45fuu0n9yApgbT1vi97felp2dgxABc5csRU6P6juNciDXn+X9MfZGWgoRhTluEkhnJXkqKFN+LCAahYcIbnIV8gNQN3o86928QyPusLVffpbh/5eCey76LuBgAAAAlwSFlzAAALEwAACxMBAJqcGAAAADx0RVh0U29mdHdhcmUAQ3JlYXRlZCB3aXRoIHRoZSBXb2xmcmFtIExhbmd1YWdlIDogd3d3LndvbGZyYW0uY29tXKKmhQAAACF0RVh0Q3JlYXRpb24gVGltZQAyMDIwOjA1OjMxIDIwOjM4OjU5yoqNCgAAA5tJREFUaIHtmj1I61AYhtP2ajX1JzgIDmLBgnKdRAv+1MmlRcRFdHAwIlgQUVFwUnQRFO0kFAX3OgjVDi6KHXSSYkVsIaVD61CKIFWITdJgzh3qDb0x1qQ3vbkJ55l6znfy8b68p2nSxAAAQCDa4YfaAhQmm82en5/7/X4URb1er9pylEdvgaVSKZ/PF41G6+rq1NZSFoxqC1AYm812dHSE47jaQsqF3gLTPTAwjQED0xgwMI2ht6tEhmEAACzLvr+/0zRtMBjMZrPaopTEoLMbZ7vdHgqF+CGGYZlMRkU9iqO3wHQP/A3TGDAwjQED0xgwMI0BA9MYH/dh19fXV1dX6kqBFGFgYMDhcCDwsl5zwFOixoCBaQwYmMYQDywSifCfs9ns6ekpjuOzs7P/SpVUSJJ8fHyUuFgfpkQCI0lyc3OTH+bfkri9vb2/vy+LwL/AbDavrKxIWakbUyKBeTyeyclJfviXb0kAAFwu1/b2dn44Nze3sLAgt8ni4uLPApxOZ36+oqKir68vEAh820E/psCfcBxnt9vBJzweT39//+d5KVxcXFRWVobD4bOzs9ra2kQiIbfDw8NDMBgMBoM7OzsIghweHvKlt7c3l8tV/HAVTV1eXn5VKs2U8AFmPB7v6OiQu1mKMzg46Ha7p6amXl9fd3d3W1pa5HbIS0qlUhMTE0tLS9PT03wJRVGWZTmOMxq/vIBS0VQkEqmpqRGtlmZKGFgoFOrt7ZUlPRwOv7y88MPm5mabzSZYs7a21tTU1NraOjMzU1oHiqJGRkY6Ozvz+7GQtra2WCzW3t7+lUIVTREEYTKZSJJUypQwMIZhLBaLdGMIgqTT6aenJ34oevjq6mpXV1c0Gj0+Ph4dHZXbAQCA4zhN0z6f7/Omq6qqyuVyRRSqaCqTyaTTaRRFFTMlOEXe3d0tLy8XztA0TVHU1tZWT08PRVE0TUs+z38QCAQsFks8Hj84OMAwLJlMyu2wvr7e0NBAEETuN4XV4eFhlmWLHK6iqb29vZubG9FSaaaEgeVyOafTWTjT3d1dGDCGYTJsAfD8/NzY2Li/v58fjo2NORwOWR0SiYRgkxmNRr7KcdzQ0FDxDiqaOjk5IQhCQVPCwAAAbrc7FovJMqAifr/f6/V+u0w3pkQCSyaT8/PzZZakGOPj4/lX24qjG1OmjY0NwXezvr6+urraarWK/OL9ZzAMY7Vapdwn6MYUfB6mMeC/9RrjF42m/9K2KJ8tAAAAAElFTkSuQmCC\"></div><div class=\"grid-item\"><img alt=\"Output\" src=\"data:image/png;base64,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\"></div></div></div>"
      ],
      "text/plain": [
       "           1\n",
       "-----------------------\n",
       "(1 - x - z) (1 - x + z)\n",
       "       1                  1\n",
       "---------------- - ----------------\n",
       "2 (-1 + x - z) z   2 z (-1 + x + z)"
      ]
     },
     "execution_count": 82,
     "metadata": {
      "text/html": [],
      "text/plain": []
     },
     "output_type": "execute_result"
    }
   ],
   "source": [
    "T[1]\n",
    "Apart[T[1],x]"
   ]
  },
  {
   "cell_type": "code",
   "execution_count": null,
   "metadata": {},
   "outputs": [],
   "source": []
  },
  {
   "cell_type": "code",
   "execution_count": null,
   "metadata": {},
   "outputs": [],
   "source": []
  }
 ],
 "metadata": {
  "kernelspec": {
   "display_name": "Wolfram Language 12",
   "language": "Wolfram Language",
   "name": "wolframlanguage12"
  },
  "language_info": {
   "codemirror_mode": "mathematica",
   "file_extension": ".m",
   "mimetype": "application/vnd.wolfram.m",
   "name": "Wolfram Language",
   "pygments_lexer": "mathematica",
   "version": "12.0"
  }
 },
 "nbformat": 4,
 "nbformat_minor": 4
}
