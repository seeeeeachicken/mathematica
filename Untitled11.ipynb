{
 "cells": [
  {
   "cell_type": "code",
   "execution_count": 55,
   "metadata": {},
   "outputs": [],
   "source": [
    "Needs[\"Combinatorica`\"]\n",
    "\n",
    "NonAdmIndex[n_]:=\n",
    "Module[{list,reverselist,symmetriclist,lastlist},\n",
    "list=Partitions[n];\n",
    "reverselist=Table[Reverse[list[[i]]],{i,1,Length[list]}];\n",
    "symmetriclist=Flatten[Table[Permute[list[[i]],AlternatingGroup[Length[list[[i]]]]],{i,1,Length[list]}],1];\n",
    "lastlist=Join[list,reverselist,symmetriclist]//Union;\n",
    "lastlist\n",
    "];\n",
    "\n",
    "IndexWtDep[k_,r_]:=Select[NonAdmIndex[k],Length[#]==r&];\n",
    "\n",
    "ParaFirst[i1_,i2_,j1_,j2_]:=\n",
    "(-1)^(i2+j2+1)*Subscript[\\[Lambda],1]^i1*Subscript[\\[Lambda],2]^i2*Subscript[\\[Xi],1]^j1*Subscript[\\[Xi],2]^j2;\n",
    "\n",
    "ParaSecond[i1_,i2_,j1_,j2_]:=\n",
    "(Subscript[\\[Lambda],1]^i1 Subscript[\\[Xi],1]^j1+Subscript[\\[Lambda],2]^i1 Subscript[\\[Xi],2]^j1)*(Subscript[\\[Lambda],1]+Subscript[\\[Lambda],2])^i2*( Subscript[\\[Xi],1]+ Subscript[\\[Xi],2])^j2;\n",
    "\n",
    "Z[list_]:=\n",
    "Sum[Apply[Subscript[\\[Zeta],\\[ScriptCapitalS]],list[[i]]],{i,1,Length[list]}];\n",
    "\n",
    "ZS121[k1_,k2_]:=\n",
    "(-1)^{k1}*Binomial[k1+k2+2,k2+1]*Subscript[Z,k1+k2+2];\n",
    "\n",
    "WhoseIndex[list_]:=Apply[List,Z[list]];\n",
    "\n",
    "FirstKamano[list_]:=\n",
    "Module[{i1,i2,j1,j2,p,i,j,afo},\n",
    "i1=list[[1]];\n",
    "i2=list[[2]];\n",
    "j1=list[[3]];\n",
    "j2=list[[4]];\n",
    "p=ParaFirst[i1,i2,j1,j2];\n",
    "i=IndexWtDep[i1+j1+1,i1+1];\n",
    "j=IndexWtDep[i2+j2+1,i2+1];\n",
    "afo=Table[i[[m]]~Join~j[[n]],{m,1,Length[i]},{n,1,Length[j]}];\n",
    "p*Z[Flatten[afo,1]]//Expand\n",
    "];\n",
    "\n",
    "SecondKamano[list_]:=\n",
    "Module[{i1,i2,j1,j2,p,i,j,afo},\n",
    "i1=list[[1]];\n",
    "i2=list[[2]];\n",
    "j1=list[[3]];\n",
    "j2=list[[4]];\n",
    "p=ParaSecond[i1,i2,j1,j2];\n",
    "i=IndexWtDep[i1+j1+1,i1+1];\n",
    "j=IndexWtDep[i2+j2+1,i2+1];\n",
    "afo=Table[i[[m]]~Join~j[[n]],{m,1,Length[i]},{n,1,Length[j]}];\n",
    "p*Z[Flatten[afo,1]]//Expand\n",
    "];\n",
    "\n",
    "\n",
    "c[z_,i1_,i2_,j1_,j2_]:=Coefficient[z,Subscript[\\[Lambda],1]^i1*Subscript[\\[Lambda],2]^i2*Subscript[\\[Xi],1]^j1*Subscript[\\[Xi],2]^j2];\n",
    "\n",
    "FirstKamanoSum[k_,r_]:=\n",
    "Module[{l},\n",
    "l=Flatten[Table[{i1,k-i1,j1,r-j1},{i1,0,k},{j1,0,r}],1];\n",
    "Map[FirstKamano,l]//Total\n",
    "];\n",
    "\n",
    "SecondKamanoSum[k_,r_]:=\n",
    "Module[{l},\n",
    "l=Flatten[Table[{i1,k-i1,j1,r-j1},{i1,0,k},{j1,0,r}],1];\n",
    "Map[SecondKamano,l]//Total\n",
    "];\n",
    "\n",
    "\n",
    "KamanoSum[k_,r_]:=\n",
    "SecondKamanoSum[k,r]-FirstKamanoSum[k,r]\n",
    "\n",
    "Kamanolist[k_,r_]:=\n",
    "{KamanoSum[k,r],FirstKamanoSum[k,r],SecondKamanoSum[k,r]};"
   ]
  },
  {
   "cell_type": "code",
   "execution_count": 70,
   "metadata": {},
   "outputs": [
    {
     "data": {
      "text/html": [
       "<style>\n",
       "\t\t\t\t\t\t\t\t\t\t\t\t\t.grid-container {\n",
       "\t\t\t\t\t\t\t\t\t\t\t\t\t\tdisplay: inline-grid;\n",
       "\t\t\t\t\t\t\t\t\t\t\t\t\t\tgrid-template-columns: auto;\n",
       "\t\t\t\t\t\t\t\t\t\t\t\t\t}\n",
       "\t\t\t\t\t\t\t\t\t\t\t\t</style>\n",
       "\n",
       "\t\t\t\t\t\t\t\t\t\t\t\t<div><div class=\"grid-container\"><div class=\"grid-item\"><img alt=\"Output\" src=\"data:image/png;base64,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\"></div><div class=\"grid-item\"><img alt=\"Output\" src=\"data:image/png;base64,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\"></div><div class=\"grid-item\"><img alt=\"Output\" src=\"data:image/png;base64,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\"></div><div class=\"grid-item\"><img alt=\"Output\" src=\"data:image/png;base64,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\"></div></div></div>"
      ],
      "text/plain": [
       "{3 λ  ξ  ζ [1, 1, 2] + 3 λ  ξ  ζ [1, 1, 2] + 2 λ  ξ  ζ [1, 1, 2] + 4 λ  ξ  ζ [1, 1, 2] + \n",
       "    1  1                 2  1                 1  2                 2  2  \n",
       " \n",
       ">    4 λ  ξ  ζ [1, 2, 1] + 2 λ  ξ  ζ [1, 2, 1] + 2 λ  ξ  ζ [1, 2, 1] + \n",
       "        1  1                 2  1                 1  2  \n",
       " \n",
       ">    4 λ  ξ  ζ [1, 2, 1] + 3 λ  ξ  ζ [2, 1, 1] + λ  ξ  ζ [2, 1, 1] + 2 λ  ξ  ζ [2, 1, 1]\\\n",
       "        2  2                 1  1               1  2                 2  2  \n",
       " \n",
       ">    , λ  ξ  ζ [1, 1, 2] - λ  ξ  ζ [1, 1, 2] - λ  ξ  ζ [1, 2, 1] - λ  ξ  ζ [1, 2, 1] - \n",
       "        1  2               2  2               1  1               2  2  \n",
       " \n",
       ">    λ  ξ  ζ [2, 1, 1] + λ  ξ  ζ [2, 1, 1], \n",
       "      1  1               2  1  \n",
       " \n",
       ">   3 λ  ξ  ζ [1, 1, 2] + 3 λ  ξ  ζ [1, 1, 2] + 3 λ  ξ  ζ [1, 1, 2] + \n",
       "       1  1                 2  1                 1  2  \n",
       " \n",
       ">    3 λ  ξ  ζ [1, 1, 2] + 3 λ  ξ  ζ [1, 2, 1] + 2 λ  ξ  ζ [1, 2, 1] + \n",
       "        2  2                 1  1                 2  1  \n",
       " \n",
       ">    2 λ  ξ  ζ [1, 2, 1] + 3 λ  ξ  ζ [1, 2, 1] + 2 λ  ξ  ζ [2, 1, 1] + \n",
       "        1  2                 2  2                 1  1  \n",
       " \n",
       ">    λ  ξ  ζ [2, 1, 1] + λ  ξ  ζ [2, 1, 1] + 2 λ  ξ  ζ [2, 1, 1]}\n",
       "      2  1               1  2                 2  2  \n",
       "3 λ  ξ  ζ [1, 1, 2] + 3 λ  ξ  ζ [1, 1, 2] + 2 λ  ξ  ζ [1, 1, 2] + 4 λ  ξ  ζ [1, 1, 2] + \n",
       "   1  1                 2  1                 1  2                 2  2  \n",
       " \n",
       ">   4 λ  ξ  ζ [1, 2, 1] + 2 λ  ξ  ζ [1, 2, 1] + 2 λ  ξ  ζ [1, 2, 1] + \n",
       "       1  1                 2  1                 1  2  \n",
       " \n",
       ">   4 λ  ξ  ζ [1, 2, 1] + 3 λ  ξ  ζ [2, 1, 1] + λ  ξ  ζ [2, 1, 1] + 2 λ  ξ  ζ [2, 1, 1]\n",
       "       2  2                 1  1               1  2                 2  2  \n",
       "λ  ξ  ζ [1, 1, 2] - λ  ξ  ζ [1, 1, 2] - λ  ξ  ζ [1, 2, 1] - λ  ξ  ζ [1, 2, 1] - \n",
       " 1  2               2  2               1  1               2  2  \n",
       " \n",
       ">   λ  ξ  ζ [2, 1, 1] + λ  ξ  ζ [2, 1, 1]\n",
       "     1  1               2  1  \n",
       "3 λ  ξ  ζ [1, 1, 2] + 3 λ  ξ  ζ [1, 1, 2] + 3 λ  ξ  ζ [1, 1, 2] + 3 λ  ξ  ζ [1, 1, 2] + \n",
       "   1  1                 2  1                 1  2                 2  2  \n",
       " \n",
       ">   3 λ  ξ  ζ [1, 2, 1] + 2 λ  ξ  ζ [1, 2, 1] + 2 λ  ξ  ζ [1, 2, 1] + \n",
       "       1  1                 2  1                 1  2  \n",
       " \n",
       ">   3 λ  ξ  ζ [1, 2, 1] + 2 λ  ξ  ζ [2, 1, 1] + λ  ξ  ζ [2, 1, 1] + λ  ξ  ζ [2, 1, 1] + \n",
       "       2  2                 1  1               2  1               1  2  \n",
       " \n",
       ">   2 λ  ξ  ζ [2, 1, 1]\n",
       "       2  2  "
      ]
     },
     "execution_count": 70,
     "metadata": {
      "text/html": [],
      "text/plain": []
     },
     "output_type": "execute_result"
    }
   ],
   "source": [
    "data=Kamanolist[1,1]\n",
    "data[[1]]\n",
    "data[[2]]\n",
    "data[[3]]"
   ]
  },
  {
   "cell_type": "code",
   "execution_count": 1,
   "metadata": {},
   "outputs": [
    {
     "data": {
      "text/html": [
       "<div><pre style=\"&#102;&#111;&#110;&#116;&#45;&#102;&#97;&#109;&#105;&#108;&#121;&#58;&#32;&#34;&#67;&#111;&#117;&#114;&#105;&#101;&#114;&#32;&#78;&#101;&#119;&#34;&#44;&#67;&#111;&#117;&#114;&#105;&#101;&#114;&#44;&#109;&#111;&#110;&#111;&#115;&#112;&#97;&#99;&#101;&#59;\">&#49;</pre></div>"
      ],
      "text/plain": [
       "1"
      ]
     },
     "execution_count": 1,
     "metadata": {
      "text/html": [],
      "text/plain": []
     },
     "output_type": "execute_result"
    }
   ],
   "source": []
  },
  {
   "cell_type": "code",
   "execution_count": null,
   "metadata": {},
   "outputs": [],
   "source": []
  }
 ],
 "metadata": {
  "kernelspec": {
   "display_name": "Wolfram Language 12",
   "language": "Wolfram Language",
   "name": "wolframlanguage12"
  },
  "language_info": {
   "codemirror_mode": "mathematica",
   "file_extension": ".m",
   "mimetype": "application/vnd.wolfram.m",
   "name": "Wolfram Language",
   "pygments_lexer": "mathematica",
   "version": "12.0"
  }
 },
 "nbformat": 4,
 "nbformat_minor": 4
}
