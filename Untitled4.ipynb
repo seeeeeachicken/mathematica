{
 "cells": [
  {
   "cell_type": "code",
   "execution_count": 4,
   "metadata": {},
   "outputs": [],
   "source": [
    "MZ1[k_]:=Sum[1/m^k,{m,1,M-1}];\n",
    "\n",
    "MZ2[k1_,k2_]:=\n",
    "Sum[Sum[1/(m1^{k1}*(m1+m2)^{k2}),{m2,m1,M-1}],{m1,1,M-1}];"
   ]
  },
  {
   "cell_type": "code",
   "execution_count": 6,
   "metadata": {},
   "outputs": [
    {
     "data": {
      "text/html": [
       "<div><img alt=\"Output\" src=\"data:image/png;base64,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\"></div>"
      ],
      "text/plain": [
       "                                  PolyGamma[1, 2 m1] - PolyGamma[1, M + m1]\n",
       "{-HarmonicNumber[-1 + M, 3] + Sum[-----------------------------------------, \n",
       "                                                     m1\n",
       " \n",
       ">     {m1, 1, -1 + M}]}"
      ]
     },
     "execution_count": 6,
     "metadata": {
      "text/html": [],
      "text/plain": []
     },
     "output_type": "execute_result"
    }
   ],
   "source": [
    "MZ2[1,2]-MZ1[3]"
   ]
  },
  {
   "cell_type": "code",
   "execution_count": 2,
   "metadata": {},
   "outputs": [
    {
     "data": {
      "text/html": [
       "<div><pre style=\"&#102;&#111;&#110;&#116;&#45;&#102;&#97;&#109;&#105;&#108;&#121;&#58;&#32;&#34;&#67;&#111;&#117;&#114;&#105;&#101;&#114;&#32;&#78;&#101;&#119;&#34;&#44;&#67;&#111;&#117;&#114;&#105;&#101;&#114;&#44;&#109;&#111;&#110;&#111;&#115;&#112;&#97;&#99;&#101;&#59;\">&#52;&#52;&#48;</pre></div>"
      ],
      "text/plain": [
       "440"
      ]
     },
     "execution_count": 2,
     "metadata": {
      "text/html": [],
      "text/plain": []
     },
     "output_type": "execute_result"
    }
   ],
   "source": [
    "\\!\\(\n",
    "\\*UnderoverscriptBox[\\(\\[Sum]\\), \\(i = 1\\), \\(10\\)]\\(i \\((i + 1)\\)\\)\\)"
   ]
  },
  {
   "cell_type": "code",
   "execution_count": null,
   "metadata": {},
   "outputs": [],
   "source": []
  },
  {
   "cell_type": "code",
   "execution_count": null,
   "metadata": {},
   "outputs": [],
   "source": []
  }
 ],
 "metadata": {
  "kernelspec": {
   "display_name": "Wolfram Language 12",
   "language": "Wolfram Language",
   "name": "wolframlanguage12"
  },
  "language_info": {
   "codemirror_mode": "mathematica",
   "file_extension": ".m",
   "mimetype": "application/vnd.wolfram.m",
   "name": "Wolfram Language",
   "pygments_lexer": "mathematica",
   "version": "12.0"
  }
 },
 "nbformat": 4,
 "nbformat_minor": 4
}
