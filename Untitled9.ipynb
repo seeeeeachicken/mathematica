{
 "cells": [
  {
   "cell_type": "code",
   "execution_count": 19,
   "metadata": {},
   "outputs": [
    {
     "data": {
      "text/html": [
       "<style>\n",
       "\t\t\t\t\t\t\t\t\t\t\t\t\t.grid-container {\n",
       "\t\t\t\t\t\t\t\t\t\t\t\t\t\tdisplay: inline-grid;\n",
       "\t\t\t\t\t\t\t\t\t\t\t\t\t\tgrid-template-columns: auto;\n",
       "\t\t\t\t\t\t\t\t\t\t\t\t\t}\n",
       "\t\t\t\t\t\t\t\t\t\t\t\t</style>\n",
       "\n",
       "\t\t\t\t\t\t\t\t\t\t\t\t<div><div class=\"grid-container\"><div class=\"grid-item\"><pre style=\"&#102;&#111;&#110;&#116;&#45;&#102;&#97;&#109;&#105;&#108;&#121;&#58;&#32;&#34;&#67;&#111;&#117;&#114;&#105;&#101;&#114;&#32;&#78;&#101;&#119;&#34;&#44;&#67;&#111;&#117;&#114;&#105;&#101;&#114;&#44;&#109;&#111;&#110;&#111;&#115;&#112;&#97;&#99;&#101;&#59;\">&#123;&#123;&#49;&#44;&#32;&#50;&#125;&#44;&#32;&#123;&#45;&#49;&#44;&#32;&#48;&#125;&#125;</pre></div><div class=\"grid-item\"><pre style=\"&#102;&#111;&#110;&#116;&#45;&#102;&#97;&#109;&#105;&#108;&#121;&#58;&#32;&#34;&#67;&#111;&#117;&#114;&#105;&#101;&#114;&#32;&#78;&#101;&#119;&#34;&#44;&#67;&#111;&#117;&#114;&#105;&#101;&#114;&#44;&#109;&#111;&#110;&#111;&#115;&#112;&#97;&#99;&#101;&#59;\">&#123;&#123;&#45;&#49;&#44;&#32;&#53;&#125;&#44;&#32;&#123;&#50;&#44;&#32;&#49;&#125;&#125;</pre></div></div></div>"
      ],
      "text/plain": [
       "{{1, 2}, {-1, 0}}\n",
       "{{-1, 5}, {2, 1}}"
      ]
     },
     "execution_count": 19,
     "metadata": {
      "text/html": [],
      "text/plain": []
     },
     "output_type": "execute_result"
    }
   ],
   "source": [
    "A={{1,2},{-1,0}}\n",
    "B={{-1,5},{2,1}}"
   ]
  },
  {
   "cell_type": "code",
   "execution_count": 55,
   "metadata": {},
   "outputs": [
    {
     "data": {
      "text/html": [
       "<style>\n",
       "\t\t\t\t\t\t\t\t\t\t\t\t\t.grid-container {\n",
       "\t\t\t\t\t\t\t\t\t\t\t\t\t\tdisplay: inline-grid;\n",
       "\t\t\t\t\t\t\t\t\t\t\t\t\t\tgrid-template-columns: auto;\n",
       "\t\t\t\t\t\t\t\t\t\t\t\t\t}\n",
       "\t\t\t\t\t\t\t\t\t\t\t\t</style>\n",
       "\n",
       "\t\t\t\t\t\t\t\t\t\t\t\t<div><div class=\"grid-container\"><div class=\"grid-item\"><img alt=\"Output\" src=\"data:image/png;base64,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\"></div><div class=\"grid-item\"><img alt=\"Output\" src=\"data:image/png;base64,iVBORw0KGgoAAAANSUhEUgAAADgAAAAgCAIAAADIYSy/AAAAhXpUWHRSYXcgcHJvZmlsZSB0eXBlIGV4aWYAAHjaVYvBDcMwDAP/mqIjyLJM2uMYiQNkg45fuu0n9yApgbT1vi97felp2dgxABc5csRU6P6juNciDXn+X9MfZGWgoRhTluEkhnJXkqKFN+LCAahYcIbnIV8gNQN3o86928QyPusLVffpbh/5eCey76LuBgAAAAlwSFlzAAALEwAACxMBAJqcGAAAADx0RVh0U29mdHdhcmUAQ3JlYXRlZCB3aXRoIHRoZSBXb2xmcmFtIExhbmd1YWdlIDogd3d3LndvbGZyYW0uY29tXKKmhQAAACF0RVh0Q3JlYXRpb24gVGltZQAyMDIwOjA3OjAyIDIwOjI4OjQ19c6xmQAABEpJREFUWIXVmEtIKm8YxsexULt4LQIpCTSjpFpkEYEpFkSBLqIw4dAikqAIapG1aC9BpSsTgjYttKACwSC6EEZgbcqiiKiMjBDLVNTGSzpnEX8dp9HKzjn1f1bzPj7v8OOb189vxMEwDLwni8WiUqmOjo7IZHJPT8/o6Oi7LUjd3Nz8+vUL6YAgaDabP3UTAE7WycnJxcUF0onFYhKJRK1WW63W+fl5EAQNBgP8GQUCASNCFRUVcrk8TX5zc9PlcqFMNOjExITH40lzFx6Pp9FoPgWKlF6v53K5Pp8vTcZoNM7OzqJMNKhSqcRs9nq9e3t7g4ODRUVFDocjM8pIJMJisZaWltLHPB6PSCRKB2qz2bRaLWazTqfLysoCAGBqaioWi2UGajAYSktLX15e3k3W1dU5nU6kAyLndW1trb6+HnOU+/v7Q6HQzs6ORqNRqVSf+x78J5PJ1Nraisfj300KhcL9/X2kkwS6vb1dXV2dqhkEQaFQ2NfXZzKZMgM1m82NjY0fSYpEooODg5SgPp8vOzsb1XN9fd3S0mK1WmEYdjqdRqOxvLw8A8poNGq321ks1kfCAoHAarVig/p8vvz8/Lc9TCazpqamubmZQqEwmUwajTY5OZkB6MPDQywWKyws/EiYTCbjcLgkKz6tx8fHw8PDaQbcbren37n+rKRSKbLMihPf3t6mfy7FxcUZLGTGgpN/MpMePYPB+Jco6QWCYDQaTZTxKwiCSCTSdyBhi0qlPj09xcsEaDAY/FGgdDodGxSCICKR+B1I2KLRaNigeDwevSN8q1A7egKUwWBAEPTPeVIqGAzS6fR4mdieGAxGIBDA7Hl+ft7Y2FhdXc3JydFqtV8kWF5eVqvV8XJoaEgmk72NQRCE3IWSQF0uF+at7+/v9Xr92dkZmUz+IiUAAOfn5zAMj4+Pv5Y8Hg8zFg6HU67o4+MjZg+HwzEYDDMzMysrK18HdbvdVVVVEokkfSwSiYBgYjKTQO/u7r7O8a7cbvfp6alcLicQCFKptKOjAzOG+sIkkCkUisPh+LuMAAAAAJfLZbPZYrE4Go3KZLK5uTnMGAo0saI4HM7v9/8pmsPDQ4/HEy9LSko4HM7r9djY2OuFQqEIhUILCwsKhQLVHg6HI5EINigAADAM+/3+vLy8r4M6HA6n0xkvc3NzMWN8Pn9xcfGtb7FYKisrU4LW1taazeb29nZUWygUgmE4EolEo9FgMIjD4QgEQnrQtrY2TN9msymVyunpaRaLdXV1pdPpMGd0a2uroaEhyUKe+dbX10dGRt4eDfl8PrKFSqVmfMr0er29vb0kEqmgoAAEwe7u7kAg8DYmEAhQr/ZJoMFgsKmpKWOIjwuCoMvLS7/fj/mp3+8Xi8UoM+mdiUAglJWVIWfrL4lIJLLZ7FSDu7u729nZiTJBVD0wMIA8s3yLQBDs6upCmTj4A3+S/QShV/TH6n8D+hu7FlcGz4MjMgAAAABJRU5ErkJggg==\"></div><div class=\"grid-item\"><img alt=\"Output\" src=\"data:image/png;base64,iVBORw0KGgoAAAANSUhEUgAAAEEAAAAgCAIAAADCPYLtAAAAhXpUWHRSYXcgcHJvZmlsZSB0eXBlIGV4aWYAAHjaVYvBDcMwDAP/mqIjyLJM2uMYiQNkg45fuu0n9yApgbT1vi97felp2dgxABc5csRU6P6juNciDXn+X9MfZGWgoRhTluEkhnJXkqKFN+LCAahYcIbnIV8gNQN3o86928QyPusLVffpbh/5eCey76LuBgAAAAlwSFlzAAALEwAACxMBAJqcGAAAADx0RVh0U29mdHdhcmUAQ3JlYXRlZCB3aXRoIHRoZSBXb2xmcmFtIExhbmd1YWdlIDogd3d3LndvbGZyYW0uY29tXKKmhQAAACF0RVh0Q3JlYXRpb24gVGltZQAyMDIwOjA3OjAyIDIwOjI4OjQ19c6xmQAABFtJREFUWIXdmE1IMl0Ux0fNNBQzpY2oRBl9LFwlBpFZQS2UilKKFiFEEbbKahNRFAjVIlpl0UJaSBZFpCgUWIsWGS0qDBe1SCJDpCk/BmcYUd9FLzqOZmP19jy9v9Xc4zlnzv/e68y5AyS+zMnJSXNzM5/Pb21tPTo6+kqqi4uLrq4uoVAokUh2d3cJRpGBdG5ubu7u7gDCOJ1OhUKhVCqtVqtKpXK5XMRjcYTD4b6+Prlcvr+/r1Qqe3t73W43zsfhcLy8vOAjcZqmp6cDgQDxmWtvb9fpdMT9cxOLxZLXfD5/c3MT52CxWAwGA86IXwcURYuLi4lP3tXVlUKhsFgsi4uLDocj/9lPg0z+t55QKOT3+6uqqnAOMplse3sbH4YVdH9/v7q6SnzaIpEIAADl5eXt7e3d3d00Gk2v1+c59dkZHh5uaGiIx+OZP0kkEr/fj7UUYPXY7XapVJo5PZeXl4FAIDkUCAQikQgAgIKCAgqFMjo6qtPpAABYWVlZWlqamprKPdnvZUuytra2s7NzdnZGIpEyw5uams7Pz5VKZdKSpuH4+HhoaCgzzOfz+f3+5JDBYLxdUKlUgUCQ3ABSqRQEwUQikfXeH2Z7w2QyjY+PW63W6urqrOFyuRynIW0vtbW15bvos7OzNTU1LpcrFosNDg42NTXlmwHLxsYGnU7f3t4GQRAEwdfX10yfYDDY0dGBtaQ0hEKhnp6efO8KQVB/fz+FQmGxWGKx+Pb29hOlv+H1enELWFFRkdWzs7MTO0ztJY/HIxAIcuyBrDAYDJPJtL6+HgqFeDxevuFYeDxePB4n4plIJLDDlIaHhwehUPi52zOZTCaT+bnYT4DTkHo/hMNhLpf7Y3V8BTKZHIvFUsPkFQzDRUVFf6KkvGGz2diOI6UBQZDfooHD4WTXAMMwnU7/EyXlTUlJSXYNFAol97vp74FKpWKHKQ1cLheG4R+v5zMgCMLhcJLDNA0IghBJEYlEDg4ONBqNVqv9xsomJyfVajURTxiGsY/Q1PuBy+WCIEgkxdPT09bWltvtZrFY+Rb6Hkaj0WAwlJaWEnFGUfTddXh+fiaSQiQSmc1mjUaTZ53v4nK5JiYm5ufnCfpHo9Fkowng1uHx8fG7yiIOBEFqtVqv1xPvEnD/25Sa4uJin8/3ndURY2hoSCwWj4yMEA95VwOJRIIg6NtKI4bRaDSbzTU1NcvLy3t7e8FgcHl5OcupHwOKotFoFGtJOwO99dI/2b0VFhYODAx4PB4AALxeL4qi19fXKIrmCHE6nbW1tWkmbCM+Nzdns9k+bPQRBIFheGFhob6+HoZhBEE+fWbAYrPZysrKPnSbmZmx2+1YS5qGw8PDsbGxD7PU1dVhZ4HNZudbblYIamhsbHw78SZJ04AgiEwm+5aC/iMgCGppacEZ074v0Wi0yspK7IH9b+P09FSlUuGM+G9kWq0292Phz0ImkzP7EVIi/Vz3G8Gvw2/k/6DhH/forC4nc1lQAAAAAElFTkSuQmCC\"></div><div class=\"grid-item\"><img alt=\"Output\" src=\"data:image/png;base64,iVBORw0KGgoAAAANSUhEUgAAAEEAAAAgCAIAAADCPYLtAAAAhXpUWHRSYXcgcHJvZmlsZSB0eXBlIGV4aWYAAHjaVYvBDcMwDAP/mqIjyLJM2uMYiQNkg45fuu0n9yApgbT1vi97felp2dgxABc5csRU6P6juNciDXn+X9MfZGWgoRhTluEkhnJXkqKFN+LCAahYcIbnIV8gNQN3o86928QyPusLVffpbh/5eCey76LuBgAAAAlwSFlzAAALEwAACxMBAJqcGAAAADx0RVh0U29mdHdhcmUAQ3JlYXRlZCB3aXRoIHRoZSBXb2xmcmFtIExhbmd1YWdlIDogd3d3LndvbGZyYW0uY29tXKKmhQAAACF0RVh0Q3JlYXRpb24gVGltZQAyMDIwOjA3OjAyIDIwOjI4OjQ19c6xmQAAA6VJREFUWIXdWL1L61AUN/FJKwqJ7Sa2CiqKgwjaWhBrcRCU4gcquulqxUHEzT/ARRwVdOkgUrH4BYJDHXTwo6Ig4qJDEZVQSa1t6r2mxLzhPZqbq6ZN4qv6flPO4ZzD+d17z01+yRH1IZFIrK+vDw0NjYyMaKsQDAa7u7utVqvNZltdXdVQgcyR4+Li4urqKidj3N/fLy8vn56enp+fZ56VQjweHxwcdLlca2trbrd7YGDg8vJSIT4QCEQiEdyLcZqamopGo2pXYmZmpqmpScMSiqIoCELquaSkxOv1KgRvbm7Ozc1hTnwfeJ6nKErDimoGSf7tIRaLhcPhqqoqhWCn0+nz+fAKqBEKhcrKyj61QxWYnJy02Wx2u10hhqKoRCLx8PCAOn+hxvb2dmNj49vMs7OzaDSaMi0WS0VFhb6GcczPz6+srBwcHBAEoRzZ0tJydHTkdrtTHtk+7O7u1tbWvk1jGOYGwTtTpQ9LS0sTExN+v7+6ujptsMvlOj4+lrnQ4Whra1M7kRBCAMD09LTD4QAAQAjVVlhYWDAajT6fj2VZlmUfHx+V45+enjo7O1GPxCEWi/X29qrtoKGhAV0RmqZVpd/d3WGHp7y8PG1WV1cXakrzEAqFLBaL2mMQDAbVpqAoLi5+fX1VmyWKImpK83Bzc2O1WvU0lDV8yCEej5vN5qz3owUkSQqCIJmpJwBAfn7+V7SkGjRNo3ejxAFC+FM4mEym9zkAAIxG41e0pBpFRUXvc8jNzU37jvwmyMvLQ02Jg9lsBgBkvR8tgBCaTKaUKeMAIVRb7vn5eWNjY3h42OPx6G/u5OSkp6entLTUbrf7/f6PwgAA6BWql4NODYQicz3E8zy6D9K3xvX19ezsrKovhRT0aCAUGeqh0dFR1JTtw+3trc611IkM9RA2txIHiqIYhvl3/amCsh7COEjffARBcBz3bs7naqC01ZT1EM/zyWQS9ch0nCiKHMcVFhZiaQzDhMPhlFlQUKCZQNpqf/TQ1tbWR3ro8PCwpqYG9cg41NfX7+3tdXR0YGnt7e0fNfTy8iKKYjKZFAQBQkgQhMFgUOagUG1xcXFsbMzr9dbV1UUiEZIkaZrGYgKBgMPhkLnQAd/Z2RkfH1d1k+jUQCgy1EPNzc0sy6IeGQcIodPp1NxEFsBxXGtrK+aU/RMwGAyVlZXoYf1u2N/f7+vrw5z4PzKPx/Ppvy0+ESRJ9vf3Y05ClOu6nwh8H34i/gcOvwG2xAWCSNgu7gAAAABJRU5ErkJggg==\"></div><div class=\"grid-item\"><img alt=\"Output\" src=\"data:image/png;base64,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\"></div><div class=\"grid-item\"><img alt=\"Output\" src=\"data:image/png;base64,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\"></div></div></div>"
      ],
      "text/plain": [
       "8     2\n",
       "\n",
       "-10   -2\n",
       "3    7\n",
       "\n",
       "1    -5\n",
       "-6   -2\n",
       "\n",
       "1    4\n",
       "-1   2\n",
       "\n",
       "-1   -2\n",
       "2    9\n",
       "\n",
       "0    -7\n",
       "-7   0\n",
       "\n",
       "0    2"
      ]
     },
     "execution_count": 55,
     "metadata": {
      "text/html": [],
      "text/plain": []
     },
     "output_type": "execute_result"
    }
   ],
   "source": [
    "3*(2*A)-2*B//MatrixForm\n",
    "A.B//MatrixForm\n",
    "B.A//MatrixForm\n",
    "A.A//MatrixForm\n",
    "A.(A+B)//MatrixForm\n",
    "(A+B).A//MatrixForm"
   ]
  },
  {
   "cell_type": "code",
   "execution_count": 61,
   "metadata": {},
   "outputs": [
    {
     "data": {
      "text/html": [
       "<div><pre style=\"&#102;&#111;&#110;&#116;&#45;&#102;&#97;&#109;&#105;&#108;&#121;&#58;&#32;&#34;&#67;&#111;&#117;&#114;&#105;&#101;&#114;&#32;&#78;&#101;&#119;&#34;&#44;&#67;&#111;&#117;&#114;&#105;&#101;&#114;&#44;&#109;&#111;&#110;&#111;&#115;&#112;&#97;&#99;&#101;&#59;\">&#75;&#105;&#108;&#108;&#91;&#123;&#123;&#49;&#44;&#32;&#50;&#125;&#44;&#32;&#123;&#45;&#49;&#44;&#32;&#48;&#125;&#125;&#44;&#32;&#123;&#123;&#45;&#49;&#44;&#32;&#53;&#125;&#44;&#32;&#123;&#50;&#44;&#32;&#49;&#125;&#125;&#93;</pre></div>"
      ],
      "text/plain": [
       "Kill[{{1, 2}, {-1, 0}}, {{-1, 5}, {2, 1}}]"
      ]
     },
     "execution_count": 61,
     "metadata": {
      "text/html": [],
      "text/plain": []
     },
     "output_type": "execute_result"
    }
   ],
   "source": [
    "Kill[A,B]"
   ]
  },
  {
   "cell_type": "code",
   "execution_count": 80,
   "metadata": {},
   "outputs": [
    {
     "data": {
      "text/html": [
       "<style>\n",
       "\t\t\t\t\t\t\t\t\t\t\t\t\t.grid-container {\n",
       "\t\t\t\t\t\t\t\t\t\t\t\t\t\tdisplay: inline-grid;\n",
       "\t\t\t\t\t\t\t\t\t\t\t\t\t\tgrid-template-columns: auto;\n",
       "\t\t\t\t\t\t\t\t\t\t\t\t\t}\n",
       "\t\t\t\t\t\t\t\t\t\t\t\t</style>\n",
       "\n",
       "\t\t\t\t\t\t\t\t\t\t\t\t<div><div class=\"grid-container\"><div class=\"grid-item\"><pre style=\"&#102;&#111;&#110;&#116;&#45;&#102;&#97;&#109;&#105;&#108;&#121;&#58;&#32;&#34;&#67;&#111;&#117;&#114;&#105;&#101;&#114;&#32;&#78;&#101;&#119;&#34;&#44;&#67;&#111;&#117;&#114;&#105;&#101;&#114;&#44;&#109;&#111;&#110;&#111;&#115;&#112;&#97;&#99;&#101;&#59;\">&#123;&#123;&#51;&#44;&#32;&#49;&#125;&#44;&#32;&#123;&#51;&#44;&#32;&#49;&#125;&#125;</pre></div><div class=\"grid-item\"><pre style=\"&#102;&#111;&#110;&#116;&#45;&#102;&#97;&#109;&#105;&#108;&#121;&#58;&#32;&#34;&#67;&#111;&#117;&#114;&#105;&#101;&#114;&#32;&#78;&#101;&#119;&#34;&#44;&#67;&#111;&#117;&#114;&#105;&#101;&#114;&#44;&#109;&#111;&#110;&#111;&#115;&#112;&#97;&#99;&#101;&#59;\">&#123;&#123;&#49;&#44;&#32;&#49;&#125;&#44;&#32;&#123;&#51;&#44;&#32;&#45;&#49;&#125;&#125;</pre></div><div class=\"grid-item\"><pre style=\"&#102;&#111;&#110;&#116;&#45;&#102;&#97;&#109;&#105;&#108;&#121;&#58;&#32;&#34;&#67;&#111;&#117;&#114;&#105;&#101;&#114;&#32;&#78;&#101;&#119;&#34;&#44;&#67;&#111;&#117;&#114;&#105;&#101;&#114;&#44;&#109;&#111;&#110;&#111;&#115;&#112;&#97;&#99;&#101;&#59;\">&#123;&#123;&#49;&#44;&#32;&#50;&#125;&#44;&#32;&#123;&#51;&#44;&#32;&#48;&#125;&#125;</pre></div></div></div>"
      ],
      "text/plain": [
       "{{3, 1}, {3, 1}}\n",
       "{{1, 1}, {3, -1}}\n",
       "{{1, 2}, {3, 0}}"
      ]
     },
     "execution_count": 80,
     "metadata": {
      "text/html": [],
      "text/plain": []
     },
     "output_type": "execute_result"
    }
   ],
   "source": [
    "a={{3,1},{3,1}}\n",
    "b={{1,1},{3,-1}}\n",
    "c={{1,2},{3,0}}"
   ]
  },
  {
   "cell_type": "code",
   "execution_count": 92,
   "metadata": {},
   "outputs": [
    {
     "data": {
      "text/html": [
       "<style>\n",
       "\t\t\t\t\t\t\t\t\t\t\t\t\t.grid-container {\n",
       "\t\t\t\t\t\t\t\t\t\t\t\t\t\tdisplay: inline-grid;\n",
       "\t\t\t\t\t\t\t\t\t\t\t\t\t\tgrid-template-columns: auto;\n",
       "\t\t\t\t\t\t\t\t\t\t\t\t\t}\n",
       "\t\t\t\t\t\t\t\t\t\t\t\t</style>\n",
       "\n",
       "\t\t\t\t\t\t\t\t\t\t\t\t<div><div class=\"grid-container\"><div class=\"grid-item\"><pre style=\"&#102;&#111;&#110;&#116;&#45;&#102;&#97;&#109;&#105;&#108;&#121;&#58;&#32;&#34;&#67;&#111;&#117;&#114;&#105;&#101;&#114;&#32;&#78;&#101;&#119;&#34;&#44;&#67;&#111;&#117;&#114;&#105;&#101;&#114;&#44;&#109;&#111;&#110;&#111;&#115;&#112;&#97;&#99;&#101;&#59;\">&#123;&#123;&#54;&#44;&#32;&#50;&#125;&#44;&#32;&#123;&#54;&#44;&#32;&#50;&#125;&#125;</pre></div><div class=\"grid-item\"><pre style=\"&#102;&#111;&#110;&#116;&#45;&#102;&#97;&#109;&#105;&#108;&#121;&#58;&#32;&#34;&#67;&#111;&#117;&#114;&#105;&#101;&#114;&#32;&#78;&#101;&#119;&#34;&#44;&#67;&#111;&#117;&#114;&#105;&#101;&#114;&#44;&#109;&#111;&#110;&#111;&#115;&#112;&#97;&#99;&#101;&#59;\">&#123;&#123;&#52;&#44;&#32;&#50;&#125;&#44;&#32;&#123;&#48;&#44;&#32;&#54;&#125;&#125;</pre></div></div></div>"
      ],
      "text/plain": [
       "{{6, 2}, {6, 2}}\n",
       "{{4, 2}, {0, 6}}"
      ]
     },
     "execution_count": 92,
     "metadata": {
      "text/html": [],
      "text/plain": []
     },
     "output_type": "execute_result"
    }
   ],
   "source": [
    "X=a.b\n",
    "Y=b.c"
   ]
  },
  {
   "cell_type": "code",
   "execution_count": 98,
   "metadata": {},
   "outputs": [
    {
     "data": {
      "text/html": [
       "<style>\n",
       "\t\t\t\t\t\t\t\t\t\t\t\t\t.grid-container {\n",
       "\t\t\t\t\t\t\t\t\t\t\t\t\t\tdisplay: inline-grid;\n",
       "\t\t\t\t\t\t\t\t\t\t\t\t\t\tgrid-template-columns: auto;\n",
       "\t\t\t\t\t\t\t\t\t\t\t\t\t}\n",
       "\t\t\t\t\t\t\t\t\t\t\t\t</style>\n",
       "\n",
       "\t\t\t\t\t\t\t\t\t\t\t\t<div><div class=\"grid-container\"><div class=\"grid-item\"><img alt=\"Output\" src=\"data:image/png;base64,iVBORw0KGgoAAAANSUhEUgAAAD8AAAAgCAIAAAAqvTfGAAAAhXpUWHRSYXcgcHJvZmlsZSB0eXBlIGV4aWYAAHjaVYvBDcMwDAP/mqIjyLJM2uMYiQNkg45fuu0n9yApgbT1vi97felp2dgxABc5csRU6P6juNciDXn+X9MfZGWgoRhTluEkhnJXkqKFN+LCAahYcIbnIV8gNQN3o86928QyPusLVffpbh/5eCey76LuBgAAAAlwSFlzAAALEwAACxMBAJqcGAAAADx0RVh0U29mdHdhcmUAQ3JlYXRlZCB3aXRoIHRoZSBXb2xmcmFtIExhbmd1YWdlIDogd3d3LndvbGZyYW0uY29tXKKmhQAAACF0RVh0Q3JlYXRpb24gVGltZQAyMDIwOjA3OjAyIDIwOjMzOjE0Fd/b+wAAA1VJREFUWIXVmD9L81AUxpOoqCCkNnOLCC6iXRQRJLF0crJCqy6CrlYHdXAQ/Qiii9QvUMRB8T8I6lBF1EG0bjaDqIgoFjFpcpMY7zv0JbmJfU3SvqT1mXIeOOf8epubmxMM2lA2m93Y2BgeHh4dHUX9eDxO07TP5wuHw+l02uVSEELMFN/c3Nze3prMdDo9ODjY2tra1dWlmTs7Oy0tLdvb28lksqenJxAI2OlXcKmDg4O3tzcL+tnZ2ff397yN5+fn0ZYQQlVVcxenp6cYhgmCYOcHFFZqa2srHo+bTAIzSpZlkiQxeyKIv+ksy/p8vtraWpuJBZRiGGZ1ddWchQZ3d3cNDQ1OG3McNzc3NzU15TTRUSmSJLPZ7OvrK2oa6Pf29jo6Ohz1UxRlYGCgsbFxfHy8AFxHpbq7u8/Pz1HHQH90dBQIBOz3+/z8HBoaenh4WF9fr6ysLIDYUalgMHhxcYE6BnqO46qqqr6nSZIEAFAURVVVAIAkSTkzGo1eXV2tra19fX1lMhlBECwpiylF0/T19bXB0vbvx8dHJBLJ+4hob29HUzweD4RwcXHRVH1mZsbyaVNkqXA4jIY6fSqVmpiYsGxfWvX29qKhfufc39/7/X7Lv760ghCioU7PcRxFUa7zOBNBEKqq6qF2JYpiMceNO/J4PJlMRgt1egBA+dN7vd789KIo1tTUlALJgerr6/PTV1RU4DheCiQHMh1HOj1FUaIous7jTAAAr9erhQZ6AEDeHEEQNjc3R0ZGYrEY6i8vLzMM4/f7+/r6WJa1077IUqIoog9GW/RPT08rKyuXl5epVEozd3d3l5aWpqenE4mEJEmRSMQOfZGlZFlG114/a1mWXVhY+OGcK+10ktPY2Fj+s5aiqMfHRzvrp8nN6SQn087U6UmSfH5+LqCxO9NJTv+kx3Gc53mn/dycTmRZVhQFdQxzAISQ5/m6ujqb/bSR4uTk5H9NJz+UOjs7a25uRh3DdNLW1pZMJr+nlcl0cnh42NnZabDQLby/vz85Ofl9p5fJdELTtOmTjoEeAMAwjCVBScTzfCgUMpmGO6e6urqpqenl5cXyBnBfx8fH0WjUZJq/RsViMfQlrnxEEER/f7/JxKFx1vpdMq/979Lvpv8DGa2QU5cuRzsAAAAASUVORK5CYII=\"></div><div class=\"grid-item\"><img alt=\"Output\" src=\"data:image/png;base64,iVBORw0KGgoAAAANSUhEUgAAAD8AAAAgCAIAAAAqvTfGAAAAhXpUWHRSYXcgcHJvZmlsZSB0eXBlIGV4aWYAAHjaVYvBDcMwDAP/mqIjyLJM2uMYiQNkg45fuu0n9yApgbT1vi97felp2dgxABc5csRU6P6juNciDXn+X9MfZGWgoRhTluEkhnJXkqKFN+LCAahYcIbnIV8gNQN3o86928QyPusLVffpbh/5eCey76LuBgAAAAlwSFlzAAALEwAACxMBAJqcGAAAADx0RVh0U29mdHdhcmUAQ3JlYXRlZCB3aXRoIHRoZSBXb2xmcmFtIExhbmd1YWdlIDogd3d3LndvbGZyYW0uY29tXKKmhQAAACF0RVh0Q3JlYXRpb24gVGltZQAyMDIwOjA3OjAyIDIwOjMzOjE0Fd/b+wAAA1VJREFUWIXVmD9L81AUxpOoqCCkNnOLCC6iXRQRJLF0crJCqy6CrlYHdXAQ/Qiii9QvUMRB8T8I6lBF1EG0bjaDqIgoFjFpcpMY7zv0JbmJfU3SvqT1mXIeOOf8epubmxMM2lA2m93Y2BgeHh4dHUX9eDxO07TP5wuHw+l02uVSEELMFN/c3Nze3prMdDo9ODjY2tra1dWlmTs7Oy0tLdvb28lksqenJxAI2OlXcKmDg4O3tzcL+tnZ2ff397yN5+fn0ZYQQlVVcxenp6cYhgmCYOcHFFZqa2srHo+bTAIzSpZlkiQxeyKIv+ksy/p8vtraWpuJBZRiGGZ1ddWchQZ3d3cNDQ1OG3McNzc3NzU15TTRUSmSJLPZ7OvrK2oa6Pf29jo6Ohz1UxRlYGCgsbFxfHy8AFxHpbq7u8/Pz1HHQH90dBQIBOz3+/z8HBoaenh4WF9fr6ysLIDYUalgMHhxcYE6BnqO46qqqr6nSZIEAFAURVVVAIAkSTkzGo1eXV2tra19fX1lMhlBECwpiylF0/T19bXB0vbvx8dHJBLJ+4hob29HUzweD4RwcXHRVH1mZsbyaVNkqXA4jIY6fSqVmpiYsGxfWvX29qKhfufc39/7/X7Lv760ghCioU7PcRxFUa7zOBNBEKqq6qF2JYpiMceNO/J4PJlMRgt1egBA+dN7vd789KIo1tTUlALJgerr6/PTV1RU4DheCiQHMh1HOj1FUaIous7jTAAAr9erhQZ6AEDeHEEQNjc3R0ZGYrEY6i8vLzMM4/f7+/r6WJa1077IUqIoog9GW/RPT08rKyuXl5epVEozd3d3l5aWpqenE4mEJEmRSMQOfZGlZFlG114/a1mWXVhY+OGcK+10ktPY2Fj+s5aiqMfHRzvrp8nN6SQn087U6UmSfH5+LqCxO9NJTv+kx3Gc53mn/dycTmRZVhQFdQxzAISQ5/m6ujqb/bSR4uTk5H9NJz+UOjs7a25uRh3DdNLW1pZMJr+nlcl0cnh42NnZabDQLby/vz85Ofl9p5fJdELTtOmTjoEeAMAwjCVBScTzfCgUMpmGO6e6urqpqenl5cXyBnBfx8fH0WjUZJq/RsViMfQlrnxEEER/f7/JxKFx1vpdMq/979Lvpv8DGa2QU5cuRzsAAAAASUVORK5CYII=\"></div></div></div>"
      ],
      "text/plain": [
       "12   12\n",
       "\n",
       "12   12\n",
       "12   12\n",
       "\n",
       "12   12"
      ]
     },
     "execution_count": 98,
     "metadata": {
      "text/html": [],
      "text/plain": []
     },
     "output_type": "execute_result"
    }
   ],
   "source": [
    "X.c//MatrixForm\n",
    "a.Y//MatrixForm"
   ]
  },
  {
   "cell_type": "code",
   "execution_count": 100,
   "metadata": {},
   "outputs": [
    {
     "data": {
      "text/html": [
       "<div><pre style=\"&#102;&#111;&#110;&#116;&#45;&#102;&#97;&#109;&#105;&#108;&#121;&#58;&#32;&#34;&#67;&#111;&#117;&#114;&#105;&#101;&#114;&#32;&#78;&#101;&#119;&#34;&#44;&#67;&#111;&#117;&#114;&#105;&#101;&#114;&#44;&#109;&#111;&#110;&#111;&#115;&#112;&#97;&#99;&#101;&#59;\">&#75;&#105;&#108;&#108;&#91;&#123;&#123;&#51;&#44;&#32;&#49;&#125;&#44;&#32;&#123;&#51;&#44;&#32;&#49;&#125;&#125;&#44;&#32;&#123;&#123;&#49;&#44;&#32;&#49;&#125;&#44;&#32;&#123;&#51;&#44;&#32;&#45;&#49;&#125;&#125;&#44;&#32;&#123;&#123;&#49;&#44;&#32;&#50;&#125;&#44;&#32;&#123;&#51;&#44;&#32;&#48;&#125;&#125;&#44;&#32;&#123;&#123;&#54;&#44;&#32;&#50;&#125;&#44;&#32;&#123;&#54;&#44;&#32;&#50;&#125;&#125;&#44;&#32;&#10;&#32;&#10;&#62;&#32;&#32;&#32;&#123;&#123;&#52;&#44;&#32;&#50;&#125;&#44;&#32;&#123;&#48;&#44;&#32;&#54;&#125;&#125;&#93;</pre></div>"
      ],
      "text/plain": [
       "Kill[{{3, 1}, {3, 1}}, {{1, 1}, {3, -1}}, {{1, 2}, {3, 0}}, {{6, 2}, {6, 2}}, \n",
       " \n",
       ">   {{4, 2}, {0, 6}}]"
      ]
     },
     "execution_count": 100,
     "metadata": {
      "text/html": [],
      "text/plain": []
     },
     "output_type": "execute_result"
    }
   ],
   "source": [
    "Kill[a,b,c,X,Y]"
   ]
  },
  {
   "cell_type": "code",
   "execution_count": 101,
   "metadata": {},
   "outputs": [
    {
     "data": {
      "text/html": [
       "<style>\n",
       "\t\t\t\t\t\t\t\t\t\t\t\t\t.grid-container {\n",
       "\t\t\t\t\t\t\t\t\t\t\t\t\t\tdisplay: inline-grid;\n",
       "\t\t\t\t\t\t\t\t\t\t\t\t\t\tgrid-template-columns: auto;\n",
       "\t\t\t\t\t\t\t\t\t\t\t\t\t}\n",
       "\t\t\t\t\t\t\t\t\t\t\t\t</style>\n",
       "\n",
       "\t\t\t\t\t\t\t\t\t\t\t\t<div><div class=\"grid-container\"><div class=\"grid-item\"><pre style=\"&#102;&#111;&#110;&#116;&#45;&#102;&#97;&#109;&#105;&#108;&#121;&#58;&#32;&#34;&#67;&#111;&#117;&#114;&#105;&#101;&#114;&#32;&#78;&#101;&#119;&#34;&#44;&#67;&#111;&#117;&#114;&#105;&#101;&#114;&#44;&#109;&#111;&#110;&#111;&#115;&#112;&#97;&#99;&#101;&#59;\">&#123;&#50;&#44;&#32;&#48;&#44;&#32;&#49;&#125;</pre></div><div class=\"grid-item\"><pre style=\"&#102;&#111;&#110;&#116;&#45;&#102;&#97;&#109;&#105;&#108;&#121;&#58;&#32;&#34;&#67;&#111;&#117;&#114;&#105;&#101;&#114;&#32;&#78;&#101;&#119;&#34;&#44;&#67;&#111;&#117;&#114;&#105;&#101;&#114;&#44;&#109;&#111;&#110;&#111;&#115;&#112;&#97;&#99;&#101;&#59;\">&#123;&#48;&#44;&#32;&#49;&#44;&#32;&#49;&#125;</pre></div><div class=\"grid-item\"><pre style=\"&#102;&#111;&#110;&#116;&#45;&#102;&#97;&#109;&#105;&#108;&#121;&#58;&#32;&#34;&#67;&#111;&#117;&#114;&#105;&#101;&#114;&#32;&#78;&#101;&#119;&#34;&#44;&#67;&#111;&#117;&#114;&#105;&#101;&#114;&#44;&#109;&#111;&#110;&#111;&#115;&#112;&#97;&#99;&#101;&#59;\">&#123;&#50;&#44;&#32;&#45;&#51;&#44;&#32;&#45;&#49;&#125;</pre></div></div></div>"
      ],
      "text/plain": [
       "{2, 0, 1}\n",
       "{0, 1, 1}\n",
       "{2, -3, -1}"
      ]
     },
     "execution_count": 101,
     "metadata": {
      "text/html": [],
      "text/plain": []
     },
     "output_type": "execute_result"
    }
   ],
   "source": [
    "a={2,0,1}\n",
    "b={0,1,1}\n",
    "c={2,-3,-1}"
   ]
  },
  {
   "cell_type": "code",
   "execution_count": 105,
   "metadata": {},
   "outputs": [
    {
     "data": {
      "text/html": [
       "<style>\n",
       "\t\t\t\t\t\t\t\t\t\t\t\t\t.grid-container {\n",
       "\t\t\t\t\t\t\t\t\t\t\t\t\t\tdisplay: inline-grid;\n",
       "\t\t\t\t\t\t\t\t\t\t\t\t\t\tgrid-template-columns: auto;\n",
       "\t\t\t\t\t\t\t\t\t\t\t\t\t}\n",
       "\t\t\t\t\t\t\t\t\t\t\t\t</style>\n",
       "\n",
       "\t\t\t\t\t\t\t\t\t\t\t\t<div><div class=\"grid-container\"><div class=\"grid-item\"><pre style=\"&#102;&#111;&#110;&#116;&#45;&#102;&#97;&#109;&#105;&#108;&#121;&#58;&#32;&#34;&#67;&#111;&#117;&#114;&#105;&#101;&#114;&#32;&#78;&#101;&#119;&#34;&#44;&#67;&#111;&#117;&#114;&#105;&#101;&#114;&#44;&#109;&#111;&#110;&#111;&#115;&#112;&#97;&#99;&#101;&#59;\">&#123;&#48;&#44;&#32;&#48;&#44;&#32;&#48;&#125;</pre></div><div class=\"grid-item\"><pre style=\"&#102;&#111;&#110;&#116;&#45;&#102;&#97;&#109;&#105;&#108;&#121;&#58;&#32;&#34;&#67;&#111;&#117;&#114;&#105;&#101;&#114;&#32;&#78;&#101;&#119;&#34;&#44;&#67;&#111;&#117;&#114;&#105;&#101;&#114;&#44;&#109;&#111;&#110;&#111;&#115;&#112;&#97;&#99;&#101;&#59;\">&#123;&#45;&#49;&#44;&#32;&#45;&#50;&#44;&#32;&#50;&#125;</pre></div><div class=\"grid-item\"><pre style=\"&#102;&#111;&#110;&#116;&#45;&#102;&#97;&#109;&#105;&#108;&#121;&#58;&#32;&#34;&#67;&#111;&#117;&#114;&#105;&#101;&#114;&#32;&#78;&#101;&#119;&#34;&#44;&#67;&#111;&#117;&#114;&#105;&#101;&#114;&#44;&#109;&#111;&#110;&#111;&#115;&#112;&#97;&#99;&#101;&#59;\">&#123;&#49;&#44;&#32;&#50;&#44;&#32;&#45;&#50;&#125;</pre></div><div class=\"grid-item\"><pre style=\"&#102;&#111;&#110;&#116;&#45;&#102;&#97;&#109;&#105;&#108;&#121;&#58;&#32;&#34;&#67;&#111;&#117;&#114;&#105;&#101;&#114;&#32;&#78;&#101;&#119;&#34;&#44;&#67;&#111;&#117;&#114;&#105;&#101;&#114;&#44;&#109;&#111;&#110;&#111;&#115;&#112;&#97;&#99;&#101;&#59;\">&#123;&#50;&#44;&#32;&#50;&#44;&#32;&#45;&#50;&#125;</pre></div><div class=\"grid-item\"><pre style=\"&#102;&#111;&#110;&#116;&#45;&#102;&#97;&#109;&#105;&#108;&#121;&#58;&#32;&#34;&#67;&#111;&#117;&#114;&#105;&#101;&#114;&#32;&#78;&#101;&#119;&#34;&#44;&#67;&#111;&#117;&#114;&#105;&#101;&#114;&#44;&#109;&#111;&#110;&#111;&#115;&#112;&#97;&#99;&#101;&#59;\">&#123;&#45;&#50;&#44;&#32;&#54;&#44;&#32;&#52;&#125;</pre></div><div class=\"grid-item\"><pre style=\"&#102;&#111;&#110;&#116;&#45;&#102;&#97;&#109;&#105;&#108;&#121;&#58;&#32;&#34;&#67;&#111;&#117;&#114;&#105;&#101;&#114;&#32;&#78;&#101;&#119;&#34;&#44;&#67;&#111;&#117;&#114;&#105;&#101;&#114;&#44;&#109;&#111;&#110;&#111;&#115;&#112;&#97;&#99;&#101;&#59;\">&#123;&#56;&#44;&#32;&#51;&#44;&#32;&#55;&#125;</pre></div></div></div>"
      ],
      "text/plain": [
       "{0, 0, 0}\n",
       "{-1, -2, 2}\n",
       "{1, 2, -2}\n",
       "{2, 2, -2}\n",
       "{-2, 6, 4}\n",
       "{8, 3, 7}"
      ]
     },
     "execution_count": 105,
     "metadata": {
      "text/html": [],
      "text/plain": []
     },
     "output_type": "execute_result"
    }
   ],
   "source": [
    "Cross[a,a]\n",
    "Cross[a,b]\n",
    "Cross[b,a]\n",
    "Cross[b,c]\n",
    "Cross[a,Cross[b,c]]\n",
    "Cross[Cross[a,b],c]"
   ]
  },
  {
   "cell_type": "code",
   "execution_count": 122,
   "metadata": {},
   "outputs": [],
   "source": [
    "F[x_,y_]:=ArcSin[x*Sqrt[1-y^2]+y*Sqrt[1-x^2]]-ArcSin[x]-ArcSin[y]"
   ]
  },
  {
   "cell_type": "code",
   "execution_count": 120,
   "metadata": {},
   "outputs": [
    {
     "data": {
      "text/html": [
       "<div><img alt=\"Output\" src=\"data:image/png;base64,iVBORw0KGgoAAAANSUhEUgAAABEAAAARCAIAAAC0D9CtAAAAhXpUWHRSYXcgcHJvZmlsZSB0eXBlIGV4aWYAAHjaVYvBDcMwDAP/mqIjyLJM2uMYiQNkg45fuu0n9yApgbT1vi97felp2dgxABc5csRU6P6juNciDXn+X9MfZGWgoRhTluEkhnJXkqKFN+LCAahYcIbnIV8gNQN3o86928QyPusLVffpbh/5eCey76LuBgAAAAlwSFlzAAALEwAACxMBAJqcGAAAADx0RVh0U29mdHdhcmUAQ3JlYXRlZCB3aXRoIHRoZSBXb2xmcmFtIExhbmd1YWdlIDogd3d3LndvbGZyYW0uY29tXKKmhQAAACF0RVh0Q3JlYXRpb24gVGltZQAyMDIwOjA3OjAyIDIxOjA2OjU3PrPOEwAAAMNJREFUKJHtUqsNhEAUHC44FAYUCYKECigAOqAFBApJC1SykhpI6IAK8BtINrACgWBOcLc5BTl34kbN5P3mvTyLJL7E49uCfw0AwL4OV1U1z/O6rmEYjuPoeV6SJOAdhBBt25IsikIpRdIGMAzDsiymdxAEURQZ2fd90zQAtNau6768SSmnaTJJjuMYvm2bUsr3fQC2/V7k2lhZll3XnTzP8+M4SF7dra7rOI6zLDtlmqZCiJs5UspPue+71pqk9cN//QSepr2usJDDwwAAAABJRU5ErkJggg==\"></div>"
      ],
      "text/plain": [
       "-Pi"
      ]
     },
     "execution_count": 120,
     "metadata": {
      "text/html": [],
      "text/plain": []
     },
     "output_type": "execute_result"
    }
   ],
   "source": [
    "F[1,1]"
   ]
  },
  {
   "cell_type": "code",
   "execution_count": 123,
   "metadata": {},
   "outputs": [
    {
     "data": {
      "text/html": [
       "<div><pre style=\"&#102;&#111;&#110;&#116;&#45;&#102;&#97;&#109;&#105;&#108;&#121;&#58;&#32;&#34;&#67;&#111;&#117;&#114;&#105;&#101;&#114;&#32;&#78;&#101;&#119;&#34;&#44;&#67;&#111;&#117;&#114;&#105;&#101;&#114;&#44;&#109;&#111;&#110;&#111;&#115;&#112;&#97;&#99;&#101;&#59;\">&#75;&#105;&#108;&#108;&#91;&#123;&#50;&#44;&#32;&#48;&#44;&#32;&#49;&#125;&#44;&#32;&#123;&#48;&#44;&#32;&#49;&#44;&#32;&#49;&#125;&#44;&#32;&#123;&#50;&#44;&#32;&#45;&#51;&#44;&#32;&#45;&#49;&#125;&#44;&#32;&#100;&#93;</pre></div>"
      ],
      "text/plain": [
       "Kill[{2, 0, 1}, {0, 1, 1}, {2, -3, -1}, d]"
      ]
     },
     "execution_count": 123,
     "metadata": {
      "text/html": [],
      "text/plain": []
     },
     "output_type": "execute_result"
    }
   ],
   "source": [
    "Kill[a,b,c,d]"
   ]
  },
  {
   "cell_type": "code",
   "execution_count": 124,
   "metadata": {},
   "outputs": [
    {
     "data": {
      "text/html": [
       "<style>\n",
       "\t\t\t\t\t\t\t\t\t\t\t\t\t.grid-container {\n",
       "\t\t\t\t\t\t\t\t\t\t\t\t\t\tdisplay: inline-grid;\n",
       "\t\t\t\t\t\t\t\t\t\t\t\t\t\tgrid-template-columns: auto;\n",
       "\t\t\t\t\t\t\t\t\t\t\t\t\t}\n",
       "\t\t\t\t\t\t\t\t\t\t\t\t</style>\n",
       "\n",
       "\t\t\t\t\t\t\t\t\t\t\t\t<div><div class=\"grid-container\"><div class=\"grid-item\"><pre style=\"&#102;&#111;&#110;&#116;&#45;&#102;&#97;&#109;&#105;&#108;&#121;&#58;&#32;&#34;&#67;&#111;&#117;&#114;&#105;&#101;&#114;&#32;&#78;&#101;&#119;&#34;&#44;&#67;&#111;&#117;&#114;&#105;&#101;&#114;&#44;&#109;&#111;&#110;&#111;&#115;&#112;&#97;&#99;&#101;&#59;\">&#123;&#50;&#44;&#32;&#49;&#44;&#32;&#48;&#44;&#32;&#51;&#125;</pre></div><div class=\"grid-item\"><pre style=\"&#102;&#111;&#110;&#116;&#45;&#102;&#97;&#109;&#105;&#108;&#121;&#58;&#32;&#34;&#67;&#111;&#117;&#114;&#105;&#101;&#114;&#32;&#78;&#101;&#119;&#34;&#44;&#67;&#111;&#117;&#114;&#105;&#101;&#114;&#44;&#109;&#111;&#110;&#111;&#115;&#112;&#97;&#99;&#101;&#59;\">&#123;&#45;&#49;&#44;&#32;&#48;&#44;&#32;&#50;&#44;&#32;&#49;&#125;</pre></div><div class=\"grid-item\"><pre style=\"&#102;&#111;&#110;&#116;&#45;&#102;&#97;&#109;&#105;&#108;&#121;&#58;&#32;&#34;&#67;&#111;&#117;&#114;&#105;&#101;&#114;&#32;&#78;&#101;&#119;&#34;&#44;&#67;&#111;&#117;&#114;&#105;&#101;&#114;&#44;&#109;&#111;&#110;&#111;&#115;&#112;&#97;&#99;&#101;&#59;\">&#123;&#50;&#44;&#32;&#51;&#44;&#32;&#45;&#55;&#44;&#32;&#51;&#125;</pre></div><div class=\"grid-item\"><pre style=\"&#102;&#111;&#110;&#116;&#45;&#102;&#97;&#109;&#105;&#108;&#121;&#58;&#32;&#34;&#67;&#111;&#117;&#114;&#105;&#101;&#114;&#32;&#78;&#101;&#119;&#34;&#44;&#67;&#111;&#117;&#114;&#105;&#101;&#114;&#44;&#109;&#111;&#110;&#111;&#115;&#112;&#97;&#99;&#101;&#59;\">&#123;&#51;&#44;&#32;&#45;&#49;&#44;&#32;&#53;&#44;&#32;&#50;&#125;</pre></div><div class=\"grid-item\"><pre style=\"&#102;&#111;&#110;&#116;&#45;&#102;&#97;&#109;&#105;&#108;&#121;&#58;&#32;&#34;&#67;&#111;&#117;&#114;&#105;&#101;&#114;&#32;&#78;&#101;&#119;&#34;&#44;&#67;&#111;&#117;&#114;&#105;&#101;&#114;&#44;&#109;&#111;&#110;&#111;&#115;&#112;&#97;&#99;&#101;&#59;\">&#123;&#45;&#52;&#44;&#32;&#54;&#44;&#32;&#45;&#49;&#51;&#44;&#32;&#52;&#125;</pre></div></div></div>"
      ],
      "text/plain": [
       "{2, 1, 0, 3}\n",
       "{-1, 0, 2, 1}\n",
       "{2, 3, -7, 3}\n",
       "{3, -1, 5, 2}\n",
       "{-4, 6, -13, 4}"
      ]
     },
     "execution_count": 124,
     "metadata": {
      "text/html": [],
      "text/plain": []
     },
     "output_type": "execute_result"
    }
   ],
   "source": [
    "a1={2,1,0,3}\n",
    "a2={-1,0,2,1}\n",
    "a3={2,3,-7,3}\n",
    "a4={3,-1,5,2}\n",
    "a5={-4,6,-13,4}"
   ]
  },
  {
   "cell_type": "code",
   "execution_count": 129,
   "metadata": {},
   "outputs": [
    {
     "data": {
      "text/html": [
       "<div><img alt=\"Output\" src=\"data:image/png;base64,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\"></div>"
      ],
      "text/plain": [
       "{{k1 -> 0, k2 -> 0, k3 -> 0}}"
      ]
     },
     "execution_count": 129,
     "metadata": {
      "text/html": [],
      "text/plain": []
     },
     "output_type": "execute_result"
    }
   ],
   "source": [
    "Solve[{k1*a1 + k2 *a2 + k3*a3 == 0}, {k1, k2, k3}]"
   ]
  },
  {
   "cell_type": "code",
   "execution_count": 138,
   "metadata": {},
   "outputs": [
    {
     "ename": "Equations may not give solutions for all \"solve\" variables.",
     "evalue": "Equations may not give solutions for all \"solve\" variables.",
     "output_type": "error",
     "traceback": [
      "\u001b[0;31mEquations may not give solutions for all \"solve\" variables.: Equations may not give solutions for all \"solve\" variables.\u001b[0m"
     ]
    },
    {
     "data": {
      "text/html": [
       "<div><img alt=\"Output\" src=\"data:image/png;base64,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\"></div>"
      ],
      "text/plain": [
       "        -4 k1                   k1\n",
       "{{k2 -> -----, k3 -> -k1, k5 -> --}}\n",
       "          3                     3"
      ]
     },
     "execution_count": 138,
     "metadata": {
      "text/html": [],
      "text/plain": []
     },
     "output_type": "execute_result"
    }
   ],
   "source": [
    "Solve[{k1*a1 + k2 *a2 + k3*a3 + k5*a5 == 0}, {k1, k2, k3, k5}]"
   ]
  },
  {
   "cell_type": "code",
   "execution_count": 141,
   "metadata": {},
   "outputs": [
    {
     "data": {
      "text/html": [
       "<div><pre style=\"&#102;&#111;&#110;&#116;&#45;&#102;&#97;&#109;&#105;&#108;&#121;&#58;&#32;&#34;&#67;&#111;&#117;&#114;&#105;&#101;&#114;&#32;&#78;&#101;&#119;&#34;&#44;&#67;&#111;&#117;&#114;&#105;&#101;&#114;&#44;&#109;&#111;&#110;&#111;&#115;&#112;&#97;&#99;&#101;&#59;\">&#123;&#48;&#44;&#32;&#48;&#44;&#32;&#48;&#44;&#32;&#48;&#125;</pre></div>"
      ],
      "text/plain": [
       "{0, 0, 0, 0}"
      ]
     },
     "execution_count": 141,
     "metadata": {
      "text/html": [],
      "text/plain": []
     },
     "output_type": "execute_result"
    }
   ],
   "source": [
    "-3*a1+4*a2+3*a3-a5"
   ]
  },
  {
   "cell_type": "code",
   "execution_count": 147,
   "metadata": {},
   "outputs": [
    {
     "data": {
      "text/html": [
       "<div><pre style=\"&#102;&#111;&#110;&#116;&#45;&#102;&#97;&#109;&#105;&#108;&#121;&#58;&#32;&#34;&#67;&#111;&#117;&#114;&#105;&#101;&#114;&#32;&#78;&#101;&#119;&#34;&#44;&#67;&#111;&#117;&#114;&#105;&#101;&#114;&#44;&#109;&#111;&#110;&#111;&#115;&#112;&#97;&#99;&#101;&#59;\">&#49;&#50;&#54;</pre></div>"
      ],
      "text/plain": [
       "126"
      ]
     },
     "execution_count": 147,
     "metadata": {
      "text/html": [],
      "text/plain": []
     },
     "output_type": "execute_result"
    }
   ],
   "source": [
    "Binomial[9,4]"
   ]
  },
  {
   "cell_type": "code",
   "execution_count": 152,
   "metadata": {},
   "outputs": [
    {
     "data": {
      "text/html": [
       "<div><pre style=\"&#102;&#111;&#110;&#116;&#45;&#102;&#97;&#109;&#105;&#108;&#121;&#58;&#32;&#34;&#67;&#111;&#117;&#114;&#105;&#101;&#114;&#32;&#78;&#101;&#119;&#34;&#44;&#67;&#111;&#117;&#114;&#105;&#101;&#114;&#44;&#109;&#111;&#110;&#111;&#115;&#112;&#97;&#99;&#101;&#59;\">&#55;&#48;</pre></div>"
      ],
      "text/plain": [
       "70"
      ]
     },
     "execution_count": 152,
     "metadata": {
      "text/html": [],
      "text/plain": []
     },
     "output_type": "execute_result"
    }
   ],
   "source": [
    "Binomial[8,4]"
   ]
  },
  {
   "cell_type": "code",
   "execution_count": 148,
   "metadata": {},
   "outputs": [
    {
     "data": {
      "text/html": [
       "<div><pre style=\"&#102;&#111;&#110;&#116;&#45;&#102;&#97;&#109;&#105;&#108;&#121;&#58;&#32;&#34;&#67;&#111;&#117;&#114;&#105;&#101;&#114;&#32;&#78;&#101;&#119;&#34;&#44;&#67;&#111;&#117;&#114;&#105;&#101;&#114;&#44;&#109;&#111;&#110;&#111;&#115;&#112;&#97;&#99;&#101;&#59;\">&#50;&#50;&#54;&#48;</pre></div>"
      ],
      "text/plain": [
       "2260"
      ]
     },
     "execution_count": 148,
     "metadata": {
      "text/html": [],
      "text/plain": []
     },
     "output_type": "execute_result"
    }
   ],
   "source": [
    "2380-120"
   ]
  },
  {
   "cell_type": "code",
   "execution_count": 2,
   "metadata": {},
   "outputs": [
    {
     "data": {
      "text/html": [
       "<style>\n",
       "\t\t\t\t\t\t\t\t\t\t\t\t\t.grid-container {\n",
       "\t\t\t\t\t\t\t\t\t\t\t\t\t\tdisplay: inline-grid;\n",
       "\t\t\t\t\t\t\t\t\t\t\t\t\t\tgrid-template-columns: auto;\n",
       "\t\t\t\t\t\t\t\t\t\t\t\t\t}\n",
       "\t\t\t\t\t\t\t\t\t\t\t\t</style>\n",
       "\n",
       "\t\t\t\t\t\t\t\t\t\t\t\t<div><div class=\"grid-container\"><div class=\"grid-item\"><img alt=\"Output\" src=\"data:image/png;base64,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\"></div><div class=\"grid-item\"><img alt=\"Output\" src=\"data:image/png;base64,iVBORw0KGgoAAAANSUhEUgAAALAAAAAiCAIAAABwe8RBAAAAhXpUWHRSYXcgcHJvZmlsZSB0eXBlIGV4aWYAAHjaVYvBDcMwDAP/mqIjyLJM2uMYiQNkg45fuu0n9yApgbT1vi97felp2dgxABc5csRU6P6juNciDXn+X9MfZGWgoRhTluEkhnJXkqKFN+LCAahYcIbnIV8gNQN3o86928QyPusLVffpbh/5eCey76LuBgAAAAlwSFlzAAALEwAACxMBAJqcGAAAADx0RVh0U29mdHdhcmUAQ3JlYXRlZCB3aXRoIHRoZSBXb2xmcmFtIExhbmd1YWdlIDogd3d3LndvbGZyYW0uY29tXKKmhQAAACF0RVh0Q3JlYXRpb24gVGltZQAyMDIwOjA3OjA0IDIxOjMyOjU1FWEy/wAAB1BJREFUeJztm29IU98fx69TV3c6bdlUopabS6ScxIgVNguUJAsrbabzgS1ZrbIiKmkJRUy0IG8UPuhBqVTYNBJJWAn6IGjQSMqkNmQ2/6S5pasN/+wf2+7vwb4/t+/upnfOu3vh6+vR3XvnnvMafDj3nMNdFAzDwBpr/B8S3gIAAACdnZ18Hzo6OvA28qempqa0tBRvi0gQg7cAAADA0NAQDMNSqdTzcefOnfj6+NHa2vr48WM6nY63SCQgREGYTCYOh1NUVIS3SAC+fft2/fp1mUzW1NSEt0skIEpBqNVqoVC4bt26o0ePlpSU4G30D/Pz86WlpfX19QwGA2+XCBFgDRFsmYnd8jMjIyM9PT0vL8/lcpWVlT158gSjgULlzJkz2dnZ586dw1skgsA+3Llzp6Kioq+vD/43wXIsKC0tzc3NjcBAy9LS0gIAwO3btyEIqqqqotFoEAT9+fMHb6/QaG5uPnnyZFtbG8rcO0N0d3eDINjW1pafn+9bMcFyjNi9e/fCwkIEBloWMplcWVk5NjY2ODg4Pj7ucDgGBwcdDgfeXqFRVVXV0dHx7t27iYkJNLl3hqivr1er1cgSC5avFiMjIwKBYHx8HIbhHz9+MJnMa9euYTfcylAoFGlpaXhbrJznz5/39PSgyb0zhMvlIpPJyBILlq8WSUlJCQkJmZmZdDo9IyNjz549MpkMu+H+m5DJZJfLhSbH/2AqISGhubn579+/KpVqdnZWLpdTKJSVdXXp0iWlUrm6eh4OHz48OjqKRc9EA/+C8LB+/fr09PS4uLhwOnn79q3/E/E/g8ViefPmjUgkunDhQjj9EOIcYo3wmZqaksvlGo0mISEhnH5WMkMMDAwIBAIajcZkMmUy2fz8fDgGq8vHjx95PF58fPzBgwd//fqFt84/tLa2cjgcCoWya9euV69eYTEEm81ub28XiURh9uMtCIvFEhMTYMJA5l1dXSwWq6en59mzZ0+fPu3s7Fx6DK1W++jRozBFUSKXy2tqanp7e/V6fXV1NRHEWlpazp8/LxaL+/v7q6ure3t7I28VExNjsVhQ5Yv7jaKiIrfbjdyZBMvNZrNSqTx+/HhJScmy2x6pVApB0PLbo/BgsVgvXrzwXL9+/dqzhMZdLDMzs7a2NqRbVmwFQdC+ffuQ+cjIiEQiQZPHAAAwMzNz48YNPp8fFRXlWyvB8qGhIYlEolareTzezMwMclOq0+l+/vzpmxQUFNy6dYtEIl25csWvsVKp/PDhA7J4c3Nz+Xz+0oWPJDo62nORlpbmcDjMZvPGjRtxFHO73cPDw/v371+iDXqrgYEBs9m8+HHr1q1sNhuNBpPJpFKpN2/erKur853vkXkMAABWq3VqaurEiRN+vQTLi4uLDx061NfXFxsb++DBA+Qjw2Qy+f1CAABgGDYYDEhXzzsQaH6VXq8HQXDDhg1oGo+OjsbFxflWA0ZiS1uRSKTk5OSRkZElekBvZTAYpqenFz+GtCmLj4/XaDQul8tvAeCfL84VhYWFAWchZA6CoFwuh2FYo9FwudycnJxlp7KmpqYwzx9NJhMIgps2bbLb7cHasFisioqKubk5o9HI5XKFQiHWYmisLl++vHnz5i9fvsAwrNPpamtrAz6Cw7Sy2WxWq/XevXt79+61Wq02m833W4PBcOrUKeRdyNy7qNyxY8fk5CSyspC5VCqtrKyk0+nFxcU5OTkk0jJbFa1WOz4+3tjYiL6ckcTFxWVlZRmNRq1Wu0Qzm82WkpKSmpoKgiAEQViLobFqaGgoLCzk8XiJiYlZWVkulyvgoWGYVnw+HwRBqVSqUqlAEExNTfX9VqVSFRQUIO8KkC+WhkwmGx4eRhZRwNxsNuv1+pBKOHzGxsZoNJrD4Vi62cLCgsFgiIwSjNrKbrdPTEw4nc7IWPnR3t6uUCjQ5Cs8qUxMTPSrwXBQqVTHjh3btm0bh8O5f/9+wDZjY2Pl5eVCoTA2Nnbp3igUSkpKSmTE0FuRyeQtW7YsrnkJC/4nlTAMNzQ05OXl1dXVff78WSwWMxiMsrIyv2ZqtVokEp09e5ZQYpG3whr8CyIqKqq7u9tznZ2dDUFQwDX/kSNHIuuFSizyVliDf0F4mJ2d/f79+8uXL41GY3l5Od46XggrhhHegiCRSE6nE9kiWL66yOXyixcvOp3OxsbG5ORkrIdDD2HFQsLlcvmdLgbLvYtKNpsd8GWCYPnqIpFI7Hb7+/fvHz58ePfuXayHQw9hxUJCqVRu374dTe4tCIFA0N/fL5FIPn365NsiWL7qkEikAwcOiMVihUKB6UChQlgxNHR1dQmFQgaD4XfIHSwH/Damc3NzZrMZuWENloePTqfLz8//+vWr2+3+/fs3l8s9ffo0FgOFCmHFQsJoNAY8RQ2W+xdE5LFarVevXk1KSqJSqdHR0fn5+dPT03hLwTCBxTAlCibMv78nJyepVGpiYiLeIv4QVgwLCFQQaxABorxkuwZBWCuINf7F/wCsrTm2dCSlvQAAAABJRU5ErkJggg==\"></div></div></div>"
      ],
      "text/plain": [
       "     1            11          16\n",
       "----------- + ---------- + ---------\n",
       "          2   9 (-1 + x)   9 (2 + x)\n",
       "3 (-1 + x)\n",
       "       5       4\n",
       "{{a -> -, b -> -, c -> -1}}\n",
       "       3       3"
      ]
     },
     "execution_count": 2,
     "metadata": {
      "text/html": [],
      "text/plain": []
     },
     "output_type": "execute_result"
    }
   ],
   "source": [
    "Apart[(3*x^2-2*x)/(x^3-3*x+2),x]\n",
    "Solve[{a+b==3,a-2*b+c==-2,-2*a+b-2*c==0},{a,b,c}]"
   ]
  },
  {
   "cell_type": "code",
   "execution_count": 4,
   "metadata": {},
   "outputs": [
    {
     "data": {
      "text/html": [
       "<div><img alt=\"Output\" src=\"data:image/png;base64,iVBORw0KGgoAAAANSUhEUgAAAEYAAAARCAIAAADvx02cAAAAhXpUWHRSYXcgcHJvZmlsZSB0eXBlIGV4aWYAAHjaVYvBDcMwDAP/mqIjyLJM2uMYiQNkg45fuu0n9yApgbT1vi97felp2dgxABc5csRU6P6juNciDXn+X9MfZGWgoRhTluEkhnJXkqKFN+LCAahYcIbnIV8gNQN3o86928QyPusLVffpbh/5eCey76LuBgAAAAlwSFlzAAALEwAACxMBAJqcGAAAADx0RVh0U29mdHdhcmUAQ3JlYXRlZCB3aXRoIHRoZSBXb2xmcmFtIExhbmd1YWdlIDogd3d3LndvbGZyYW0uY29tXKKmhQAAACF0RVh0Q3JlYXRpb24gVGltZQAyMDIwOjA3OjA0IDIxOjMzOjQ1tMZk2wAAAslJREFUSIndlj9IMmEcx707ESmOBEGXAwkhAhFE4RaNBpeWsBZnhXBRC3RxaGkQAoUEoTyEwCEoUaggJzkaLEQqdZCIFOrVQqXz0MUhfJ53OOm1PH3NhN7e73S/P/f5Pb+7h9/zIBBCwQ8Xy7I4jguFQs5Ev3c1X1S5XDYYDBaLRaVS0TTd9cKfLADAy8sLhDASiWxsbHBO4bd+5a8KQRAAgMfjuby8pCiKc6ICgeDq6mp1dVWhUJAkGY/Hx0Cn02mTyaRQKNRqtc/nm+Sq/6apqamFhQWCIE5OTrquVqulVCoDgcD19fXW1haGYYVC4bN/f3l5eWdnJ5/P7+/voyh6eHg4+U3Gp1qtxrIshLBYLJIkyTkFEMJOp/OWRBBEJBL5ShmVShUIBHo9AIClpaXt7W3OtNvt6+vrn2IOIqRSKZIkV1ZW1Gp1NBrlou/GQ7PZFIlE6XR6jE6azebFxYXdbpfL5dVq9UM0mUyKRKJsNptIJHAcf3h44IXQND0oNITQaDReX1/fzHct2Ww2vV4PABijpVAoxJ0Mfr+fl+B0OjUazezsLEVRgyDBYDCTyQyKjkKAvS3t7e1JJJLb29v+pJubG7pH9/f3vKxOp3N+fk4QhNfr7Y/W63UMw+bm5njf5Uo4HI7d3d1BJYYT3tQ9ag8ODtxudzwen5+f758q1Wr1V48ajQbv8EFRdHFxcW1t7ezsrD+6ubmp0+men59jsdigEizLcg+8JYYT/ghCGA6HxWLx0dERwzAMw3AzZHSVSiWj0ZjL5QAAtVpNq9VardYPOaenp9PT08VikaIoiUTy+PjIixqy8UYkQAgFT09PCIL0NqlUKj/VUrvddrlcUqkUx3EMw4xGY71e701gGEYmk4VCIc40m80Gg4EXdXx8fHd31+8fnQAhRODkrq2VSgXH8ZmZmUkBx9MkW/pH9LNv4rz6D1v6DRMpD730ua7rAAAAAElFTkSuQmCC\"></div>"
      ],
      "text/plain": [
       "           3\n",
       "2 - 3 x + x"
      ]
     },
     "execution_count": 4,
     "metadata": {
      "text/html": [],
      "text/plain": []
     },
     "output_type": "execute_result"
    }
   ],
   "source": [
    "Expand[(x-1)^2*(x+2)]"
   ]
  },
  {
   "cell_type": "code",
   "execution_count": null,
   "metadata": {},
   "outputs": [],
   "source": []
  }
 ],
 "metadata": {
  "kernelspec": {
   "display_name": "Wolfram Language 12",
   "language": "Wolfram Language",
   "name": "wolframlanguage12"
  },
  "language_info": {
   "codemirror_mode": "mathematica",
   "file_extension": ".m",
   "mimetype": "application/vnd.wolfram.m",
   "name": "Wolfram Language",
   "pygments_lexer": "mathematica",
   "version": "12.0"
  }
 },
 "nbformat": 4,
 "nbformat_minor": 4
}
