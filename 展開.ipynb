{
 "cells": [
  {
   "cell_type": "code",
   "execution_count": 18,
   "metadata": {},
   "outputs": [
    {
     "data": {
      "text/html": [
       "<style>\n",
       "\t\t\t\t\t\t\t\t\t\t\t\t\t.grid-container {\n",
       "\t\t\t\t\t\t\t\t\t\t\t\t\t\tdisplay: inline-grid;\n",
       "\t\t\t\t\t\t\t\t\t\t\t\t\t\tgrid-template-columns: auto;\n",
       "\t\t\t\t\t\t\t\t\t\t\t\t\t}\n",
       "\t\t\t\t\t\t\t\t\t\t\t\t</style>\n",
       "\n",
       "\t\t\t\t\t\t\t\t\t\t\t\t<div><div class=\"grid-container\"><div class=\"grid-item\"><img alt=\"Output\" src=\"data:image/png;base64,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\"></div><div class=\"grid-item\"><img alt=\"Output\" src=\"data:image/png;base64,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\"></div></div></div>"
      ],
      "text/plain": [
       "(1 - a t) (1 - b t) (1 + (1 + p) t) (1 + t (-1 + p - x))\n",
       "(1 - (-a + p) t) (1 - (-b + p) t) (1 - t x)"
      ]
     },
     "execution_count": 18,
     "metadata": {
      "text/html": [],
      "text/plain": []
     },
     "output_type": "execute_result"
    }
   ],
   "source": [
    "A=(1+(p+1)*t)*(1+(p-1-x)*t)*(1-a*t)*(1-b*t)\n",
    "B=(1-x*t)*(1-(p-a)*t)*(1-(p-b)*t)"
   ]
  },
  {
   "cell_type": "code",
   "execution_count": 20,
   "metadata": {
    "scrolled": true
   },
   "outputs": [
    {
     "data": {
      "text/html": [
       "<div><img alt=\"Output\" src=\"data:image/png;base64,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\"></div>"
      ],
      "text/plain": [
       "                            2                              2\n",
       "1 + t (-a - b + 2 p - x) + t  (-1 + a b - 2 a p - 2 b p + p  - x + a x + b x - p x) + \n",
       " \n",
       "     3                       2      2\n",
       ">   t  (a + b + 2 a b p - a p  - b p  + a x + b x - a b x + a p x + b p x) + \n",
       " \n",
       "     4                2\n",
       ">   t  (-(a b) + a b p  - a b x - a b p x)"
      ]
     },
     "execution_count": 20,
     "metadata": {
      "text/html": [],
      "text/plain": []
     },
     "output_type": "execute_result"
    }
   ],
   "source": [
    "Collect[Expand[A],t]"
   ]
  },
  {
   "cell_type": "code",
   "execution_count": 21,
   "metadata": {},
   "outputs": [
    {
     "data": {
      "text/html": [
       "<div><img alt=\"Output\" src=\"data:image/png;base64,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\"></div>"
      ],
      "text/plain": [
       "                           2                     2\n",
       "1 + t (a + b - 2 p - x) + t  (a b - a p - b p + p  - a x - b x + 2 p x) + \n",
       " \n",
       "     3                              2\n",
       ">   t  (-(a b x) + a p x + b p x - p  x)"
      ]
     },
     "execution_count": 21,
     "metadata": {
      "text/html": [],
      "text/plain": []
     },
     "output_type": "execute_result"
    }
   ],
   "source": [
    "Collect[Expand[B],t]"
   ]
  },
  {
   "cell_type": "code",
   "execution_count": null,
   "metadata": {},
   "outputs": [],
   "source": []
  }
 ],
 "metadata": {
  "kernelspec": {
   "display_name": "Wolfram Language 12",
   "language": "Wolfram Language",
   "name": "wolframlanguage12"
  },
  "language_info": {
   "codemirror_mode": "mathematica",
   "file_extension": ".m",
   "mimetype": "application/vnd.wolfram.m",
   "name": "Wolfram Language",
   "pygments_lexer": "mathematica",
   "version": "12.0"
  }
 },
 "nbformat": 4,
 "nbformat_minor": 4
}
